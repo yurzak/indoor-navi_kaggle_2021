{
 "cells": [
  {
   "cell_type": "code",
   "execution_count": 1,
   "id": "bed5ac1f",
   "metadata": {
    "tags": []
   },
   "outputs": [
    {
     "data": {
      "text/html": [
       "        <script type=\"text/javascript\">\n",
       "        window.PlotlyConfig = {MathJaxConfig: 'local'};\n",
       "        if (window.MathJax) {MathJax.Hub.Config({SVG: {font: \"STIX-Web\"}});}\n",
       "        if (typeof require !== 'undefined') {\n",
       "        require.undef(\"plotly\");\n",
       "        requirejs.config({\n",
       "            paths: {\n",
       "                'plotly': ['https://cdn.plot.ly/plotly-latest.min']\n",
       "            }\n",
       "        });\n",
       "        require(['plotly'], function(Plotly) {\n",
       "            window._Plotly = Plotly;\n",
       "        });\n",
       "        }\n",
       "        </script>\n",
       "        "
      ]
     },
     "metadata": {},
     "output_type": "display_data"
    }
   ],
   "source": [
    "import numpy as np\n",
    "import pandas as pd\n",
    "\n",
    "import pickle\n",
    "import os\n",
    "from pathlib import Path\n",
    "import glob\n",
    "import json\n",
    "from tqdm.notebook import tqdm\n",
    "\n",
    "import seaborn as sns\n",
    "import matplotlib\n",
    "import matplotlib.pyplot as plt\n",
    "import plotly\n",
    "import plotly.graph_objs as go\n",
    "from PIL import Image\n",
    "#%matplotlib inline\n",
    "plotly.offline.init_notebook_mode(connected=True)\n",
    "\n",
    "sns.set_style('darkgrid')\n",
    "\n",
    "from scipy.interpolate import interp1d\n",
    "\n",
    "from xyz10.io_f_mod import read_data_file\n",
    "from xyz10.visualize_f_mod import visualize_trajectory\n",
    "from xyz10.compute_f_mod import compute_step_positions, compute_step_positions_mod, split_ts_seq\n",
    "from xyz10.compute_f_mod import compute_steps, compute_headings, compute_stride_length, compute_step_heading, compute_rel_positions\n",
    "from xyz10.compute_f_mod import correct_positions,  correct_positions_mod"
   ]
  },
  {
   "cell_type": "markdown",
   "id": "2ed6d6d0",
   "metadata": {},
   "source": [
    "Downsample Rotation, Magnetic, and (to be calculated) Relative Steps (x,y) into WiFi timestamps   "
   ]
  },
  {
   "cell_type": "markdown",
   "id": "e1aeed00",
   "metadata": {},
   "source": [
    "> Setting bssid list"
   ]
  },
  {
   "cell_type": "code",
   "execution_count": 2,
   "id": "f2a32799",
   "metadata": {
    "tags": []
   },
   "outputs": [],
   "source": [
    "test_bssid = pickle.load(open(\"./data_out/test_bssid_ranks.pkl\", \"rb\"))\n",
    "train_bssid = pickle.load(open(\"./data_out/train_24IDs_standardF_bssid_ranks.pkl\", \"rb\"))\n",
    "\n",
    "bssid = {}\n",
    "for site in test_bssid[\"count\"]:\n",
    "    _test_bssid = test_bssid[\"count\"][site].bssid\n",
    "    _train_bssid = train_bssid[\"count\"][site].bssid\n",
    "    _mix_bssid = pd.concat([_test_bssid,  _train_bssid]).unique()\n",
    "    \n",
    "    _list = _mix_bssid.tolist()\n",
    "    \n",
    "    bssid[site] = _list"
   ]
  },
  {
   "cell_type": "markdown",
   "id": "7f71eb21",
   "metadata": {},
   "source": [
    "> Interpolated STEPS (snap to steps; where steps 0.5s/wifi 0.5-1s dt = expected error is 0.5step=0.25m): Convert/Append/Save each trace per site to DataFrame: Features=BSSID/RSSI + DELAYS + F + M + R + rx + ry + TRACEID + rel time  \n",
    "> Targets=XY (BSSID not in trace gets min-RSSI and max-DELAY per site) "
   ]
  },
  {
   "cell_type": "code",
   "execution_count": 6,
   "id": "4a81a41b",
   "metadata": {},
   "outputs": [],
   "source": [
    "wifi_data_train = pickle.load(open(\"./data_out/train_24IDs_standardF_wifi.pkl\", \"rb\"))"
   ]
  },
  {
   "cell_type": "code",
   "execution_count": 7,
   "id": "3cdcf4ee",
   "metadata": {},
   "outputs": [],
   "source": [
    "accel_data = pickle.load(open(\"./data_out/train_24IDs_standardF_motion.pkl\", \"rb\"))\n",
    "\n",
    "rotate_data = pickle.load(open(\"./data_out/train_24IDs_standardF_rotate.pkl\", \"rb\"))\n",
    "magnetic_data = pickle.load(open(\"./data_out/train_24IDs_standardF_magnetic.pkl\", \"rb\"))\n",
    "\n",
    "steps_data = pickle.load(open(\"./data_out/train_24IDs_standardF_steps.pkl\", \"rb\"))"
   ]
  },
  {
   "cell_type": "code",
   "execution_count": 7,
   "id": "3bfb9391",
   "metadata": {
    "tags": []
   },
   "outputs": [
    {
     "name": "stdout",
     "output_type": "stream",
     "text": [
      "Processing #1: Site-5da1389e4db8ce0c98bd0547 with 514 traces and 1041 bssids\n"
     ]
    },
    {
     "data": {
      "application/vnd.jupyter.widget-view+json": {
       "model_id": "902e8629a38d4c00bfa2aa4fc81a0a89",
       "version_major": 2,
       "version_minor": 0
      },
      "text/plain": [
       "  0%|          | 0/514 [00:00<?, ?it/s]"
      ]
     },
     "metadata": {},
     "output_type": "display_data"
    }
   ],
   "source": [
    "num_s = 0\n",
    "for site_id in [\"5da1389e4db8ce0c98bd0547\"]:#tqdm(bssid.keys()): # over sites\n",
    "    num_s += 1\n",
    "    print(f\"Processing #{num_s}: Site-{site_id} with {len(steps_data[site_id])} traces and {len(bssid[site_id])} bssids\")\n",
    "    site_trace_record_wifi = []\n",
    "\n",
    "    col_names = []\n",
    "    for feature_bssid in bssid[site_id]:  # create features-columns list\n",
    "        col_names.append(feature_bssid)\n",
    "        col_names.append(feature_bssid+\"_D\")\n",
    "\n",
    "    for trace_id in tqdm(steps_data[site_id]):  # over traces\n",
    "\n",
    "        wifi_record = wifi_data_train[site_id][trace_id][1].copy()\n",
    "        steps_record = steps_data[site_id][trace_id].copy()\n",
    "\n",
    "        accel_record = accel_data[site_id][trace_id][1]\n",
    "        rotate_record = rotate_data[site_id][trace_id][1]\n",
    "        magnetic_record = magnetic_data[site_id][trace_id][1]       \n",
    "\n",
    "        trace_record_wifi = np.zeros((steps_record[1].shape[0], len(col_names)))\n",
    "\n",
    "        for col_id, _ in enumerate(col_names):\n",
    "            if col_id%2 == 0:\n",
    "                trace_record_wifi[:, col_id] = int(train_bssid[\"min_rssi\"][site_id])\n",
    "            else:\n",
    "                trace_record_wifi[:, col_id] = int(train_bssid[\"max_delay\"][site_id])\n",
    "\n",
    "        trace_record_wifi = pd.DataFrame(trace_record_wifi, columns=col_names)\n",
    "\n",
    "        # time, absolute x/y positions of steps, floor number\n",
    "        trace_record_wifi[[\"time\", \"x\", \"y\"]] = steps_record[1][[\"time\", \"x\", \"y\"]].copy()\n",
    "        trace_record_wifi[\"f\"] = steps_record[0].FloorName[0]\n",
    "        timestamps = trace_record_wifi.time.to_numpy()\n",
    "        # magnetic field intensity\n",
    "        magnetic_intensity = np.sqrt(np.square(magnetic_record.x_axis.to_numpy()) + np.square(magnetic_record.y_axis.to_numpy()) + np.square(magnetic_record.z_axis.to_numpy()))\n",
    "        trace_record_wifi[\"m\"] = interp1d(magnetic_record.time.to_numpy(), magnetic_intensity, kind=\"linear\", fill_value=\"extrapolate\", copy=False, assume_sorted=True)(timestamps)\n",
    "        # z_axis rotation angle (i.e. inplane direction)\n",
    "        trace_record_wifi[\"r\"] = interp1d(rotate_record.time.to_numpy(), rotate_record.z_axis.to_numpy(), kind=\"linear\", fill_value=\"extrapolate\", copy=False, assume_sorted=True)(timestamps)\n",
    "        # relative x/y steps positions\n",
    "        step_timestamps, step_indexs, step_acce_max_mins = compute_steps(accel_record[[\"time\", \"x_axis\", \"y_axis\", \"z_axis\"]].to_numpy())\n",
    "        rel_step_positions = pd.DataFrame(compute_rel_positions(compute_stride_length(step_acce_max_mins),\n",
    "                                                                compute_step_heading(step_timestamps,\n",
    "                                                                                     compute_headings(rotate_record[[\"time\", \"x_axis\", \"y_axis\", \"z_axis\"]].to_numpy()))), \n",
    "                                          columns=[\"time\", \"x\", \"y\"])\n",
    "        # recalculate relative steps for a given timestamps(cumsum->interpolate->differences)\n",
    "        _rt = np.insert(rel_step_positions.time.to_numpy(), 0, 0.0)\n",
    "        rx_cum = interp1d(_rt, np.insert(rel_step_positions.x.to_numpy(), 0, 0.0).cumsum(), kind=\"linear\", fill_value=\"extrapolate\", copy=False, assume_sorted=True)(timestamps)\n",
    "        ry_cum = interp1d(_rt, np.insert(rel_step_positions.y.to_numpy(), 0, 0.0).cumsum(), kind=\"linear\", fill_value=\"extrapolate\", copy=False, assume_sorted=True)(timestamps)\n",
    "        trace_record_wifi[\"rx\"] = np.diff(rx_cum, prepend=0.0) \n",
    "        trace_record_wifi[\"ry\"] = np.diff(ry_cum, prepend=0.0) \n",
    "            \n",
    "        # trace id\n",
    "        trace_record_wifi[\"trace\"] = trace_id\n",
    "        # wifi rssi and delays\n",
    "        # Take wifi data the nearest to each waypoint\n",
    "        for j, t0 in enumerate(trace_record_wifi.time):  # over times in trace/for each waypoint\n",
    "\n",
    "            wifi_record[\"time0\"] = wifi_record.time - t0\n",
    "            wifi_record[\"time0\"] = wifi_record.time0.apply(abs)\n",
    "\n",
    "            wifi_min = wifi_record[wifi_record.time0 == wifi_record.time0.min()]\n",
    "            wifi_min_bssid_list = wifi_min.bssid.tolist()\n",
    "            wifi_min_delay_list = [col+\"_D\" for col in wifi_min_bssid_list]\n",
    "\n",
    "            trace_record_wifi.loc[j, wifi_min_bssid_list] = wifi_min.rssi.to_numpy()\n",
    "            trace_record_wifi.loc[j, wifi_min_delay_list] = wifi_min.delay.to_numpy().astype(int)    \n",
    "\n",
    "        site_trace_record_wifi.append(trace_record_wifi)\n",
    "        #break  # only fist trace\n",
    "\n",
    "    site_trace_record_wifi = pd.concat(site_trace_record_wifi, ignore_index=True)\n",
    "        \n",
    "    # saving model for a given site_id\n",
    "    with open(f\"./data_out/full24/{site_id}_10k_mix-counts.pkl\", \"wb\") as f:\n",
    "        pickle.dump(site_trace_record_wifi, f)\n",
    "    #break  # only first site"
   ]
  },
  {
   "cell_type": "code",
   "execution_count": null,
   "id": "9faa683e",
   "metadata": {},
   "outputs": [],
   "source": []
  },
  {
   "cell_type": "markdown",
   "id": "350f2e38",
   "metadata": {},
   "source": [
    "Convert Train data into sequences of 5-10-20 records (for LSTM)"
   ]
  },
  {
   "cell_type": "code",
   "execution_count": 8,
   "id": "fefaab25",
   "metadata": {
    "collapsed": true,
    "jupyter": {
     "outputs_hidden": true
    },
    "tags": []
   },
   "outputs": [
    {
     "data": {
      "application/vnd.jupyter.widget-view+json": {
       "model_id": "325c68ec5d1b47c09f90ebe76268f654",
       "version_major": 2,
       "version_minor": 0
      },
      "text/plain": [
       "  0%|          | 0/24 [00:00<?, ?it/s]"
      ]
     },
     "metadata": {},
     "output_type": "display_data"
    },
    {
     "name": "stdout",
     "output_type": "stream",
     "text": [
      "Processing #1: Site-5d27075f03f801723c2e360f\n"
     ]
    },
    {
     "data": {
      "application/vnd.jupyter.widget-view+json": {
       "model_id": "45c99616998b485ba7b70dc6b9db1360",
       "version_major": 2,
       "version_minor": 0
      },
      "text/plain": [
       "  0%|          | 0/1141 [00:00<?, ?it/s]"
      ]
     },
     "metadata": {},
     "output_type": "display_data"
    },
    {
     "name": "stdout",
     "output_type": "stream",
     "text": [
      "Data converted: 97.0%\n",
      "Processing #2: Site-5dc8cea7659e181adb076a3f\n"
     ]
    },
    {
     "data": {
      "application/vnd.jupyter.widget-view+json": {
       "model_id": "59ab29bc03c14d5b9ddf3378bc1d93f9",
       "version_major": 2,
       "version_minor": 0
      },
      "text/plain": [
       "  0%|          | 0/745 [00:00<?, ?it/s]"
      ]
     },
     "metadata": {},
     "output_type": "display_data"
    },
    {
     "name": "stdout",
     "output_type": "stream",
     "text": [
      "Data converted: 97.5%\n",
      "Processing #3: Site-5dbc1d84c1eb61796cf7c010\n"
     ]
    },
    {
     "data": {
      "application/vnd.jupyter.widget-view+json": {
       "model_id": "a76c611ed42047ec8faaeec5dcda7acc",
       "version_major": 2,
       "version_minor": 0
      },
      "text/plain": [
       "  0%|          | 0/793 [00:00<?, ?it/s]"
      ]
     },
     "metadata": {},
     "output_type": "display_data"
    },
    {
     "name": "stdout",
     "output_type": "stream",
     "text": [
      "Data converted: 97.4%\n",
      "Processing #4: Site-5da138b74db8ce0c98bd4774\n"
     ]
    },
    {
     "data": {
      "application/vnd.jupyter.widget-view+json": {
       "model_id": "250d05ad137a46e5831dad8f0ddd17f4",
       "version_major": 2,
       "version_minor": 0
      },
      "text/plain": [
       "  0%|          | 0/748 [00:00<?, ?it/s]"
      ]
     },
     "metadata": {},
     "output_type": "display_data"
    },
    {
     "name": "stdout",
     "output_type": "stream",
     "text": [
      "Data converted: 97.6%\n",
      "Processing #5: Site-5d2709c303f801723c3299ee\n"
     ]
    },
    {
     "data": {
      "application/vnd.jupyter.widget-view+json": {
       "model_id": "8ee114d66e1249118010afaf6bf3464f",
       "version_major": 2,
       "version_minor": 0
      },
      "text/plain": [
       "  0%|          | 0/664 [00:00<?, ?it/s]"
      ]
     },
     "metadata": {},
     "output_type": "display_data"
    },
    {
     "name": "stdout",
     "output_type": "stream",
     "text": [
      "Data converted: 96.1%\n",
      "Processing #6: Site-5da958dd46f8266d0737457b\n"
     ]
    },
    {
     "data": {
      "application/vnd.jupyter.widget-view+json": {
       "model_id": "b5ea6b4f802d4efb9ba58dc450448fcb",
       "version_major": 2,
       "version_minor": 0
      },
      "text/plain": [
       "  0%|          | 0/552 [00:00<?, ?it/s]"
      ]
     },
     "metadata": {},
     "output_type": "display_data"
    },
    {
     "name": "stdout",
     "output_type": "stream",
     "text": [
      "Data converted: 97.6%\n",
      "Processing #7: Site-5d2709bb03f801723c32852c\n"
     ]
    },
    {
     "data": {
      "application/vnd.jupyter.widget-view+json": {
       "model_id": "026d0c0939c74928a9ab288951324b0f",
       "version_major": 2,
       "version_minor": 0
      },
      "text/plain": [
       "  0%|          | 0/264 [00:00<?, ?it/s]"
      ]
     },
     "metadata": {},
     "output_type": "display_data"
    },
    {
     "name": "stdout",
     "output_type": "stream",
     "text": [
      "Data converted: 98.8%\n",
      "Processing #8: Site-5d27096c03f801723c31e5e0\n"
     ]
    },
    {
     "data": {
      "application/vnd.jupyter.widget-view+json": {
       "model_id": "93dabdccbeda46c1a9d2f31241c456ad",
       "version_major": 2,
       "version_minor": 0
      },
      "text/plain": [
       "  0%|          | 0/351 [00:00<?, ?it/s]"
      ]
     },
     "metadata": {},
     "output_type": "display_data"
    },
    {
     "name": "stdout",
     "output_type": "stream",
     "text": [
      "Data converted: 96.6%\n",
      "Processing #9: Site-5a0546857ecc773753327266\n"
     ]
    },
    {
     "data": {
      "application/vnd.jupyter.widget-view+json": {
       "model_id": "0b35dbcb269a4f61b31904d632869fab",
       "version_major": 2,
       "version_minor": 0
      },
      "text/plain": [
       "  0%|          | 0/514 [00:00<?, ?it/s]"
      ]
     },
     "metadata": {},
     "output_type": "display_data"
    },
    {
     "name": "stdout",
     "output_type": "stream",
     "text": [
      "Data converted: 96.2%\n",
      "Processing #10: Site-5c3c44b80379370013e0fd2b\n"
     ]
    },
    {
     "data": {
      "application/vnd.jupyter.widget-view+json": {
       "model_id": "2bb69cd08f244a71b97e81afef365310",
       "version_major": 2,
       "version_minor": 0
      },
      "text/plain": [
       "  0%|          | 0/385 [00:00<?, ?it/s]"
      ]
     },
     "metadata": {},
     "output_type": "display_data"
    },
    {
     "name": "stdout",
     "output_type": "stream",
     "text": [
      "Data converted: 97.3%\n",
      "Processing #11: Site-5d27097f03f801723c320d97\n"
     ]
    },
    {
     "data": {
      "application/vnd.jupyter.widget-view+json": {
       "model_id": "5d1ac9988b8249ef8ee4f480d5a8efa9",
       "version_major": 2,
       "version_minor": 0
      },
      "text/plain": [
       "  0%|          | 0/404 [00:00<?, ?it/s]"
      ]
     },
     "metadata": {},
     "output_type": "display_data"
    },
    {
     "name": "stdout",
     "output_type": "stream",
     "text": [
      "Data converted: 97.6%\n",
      "Processing #12: Site-5da1382d4db8ce0c98bbe92e\n"
     ]
    },
    {
     "data": {
      "application/vnd.jupyter.widget-view+json": {
       "model_id": "70d42ed5bbdb42899de270a76e6c8d57",
       "version_major": 2,
       "version_minor": 0
      },
      "text/plain": [
       "  0%|          | 0/338 [00:00<?, ?it/s]"
      ]
     },
     "metadata": {},
     "output_type": "display_data"
    },
    {
     "name": "stdout",
     "output_type": "stream",
     "text": [
      "Data converted: 97.7%\n",
      "Processing #13: Site-5d2709b303f801723c327472\n"
     ]
    },
    {
     "data": {
      "application/vnd.jupyter.widget-view+json": {
       "model_id": "c0c8b4b8c20f4da3a767d1ca947ac830",
       "version_major": 2,
       "version_minor": 0
      },
      "text/plain": [
       "  0%|          | 0/639 [00:00<?, ?it/s]"
      ]
     },
     "metadata": {},
     "output_type": "display_data"
    },
    {
     "name": "stdout",
     "output_type": "stream",
     "text": [
      "Data converted: 96.1%\n",
      "Processing #14: Site-5d2709d403f801723c32bd39\n"
     ]
    },
    {
     "data": {
      "application/vnd.jupyter.widget-view+json": {
       "model_id": "40e61978101d4e7bb9492eea11615b76",
       "version_major": 2,
       "version_minor": 0
      },
      "text/plain": [
       "  0%|          | 0/361 [00:00<?, ?it/s]"
      ]
     },
     "metadata": {},
     "output_type": "display_data"
    },
    {
     "name": "stdout",
     "output_type": "stream",
     "text": [
      "Data converted: 97.0%\n",
      "Processing #15: Site-5da138764db8ce0c98bcaa46\n"
     ]
    },
    {
     "data": {
      "application/vnd.jupyter.widget-view+json": {
       "model_id": "bd199e6acbfd4729adccb0415315368c",
       "version_major": 2,
       "version_minor": 0
      },
      "text/plain": [
       "  0%|          | 0/513 [00:00<?, ?it/s]"
      ]
     },
     "metadata": {},
     "output_type": "display_data"
    },
    {
     "name": "stdout",
     "output_type": "stream",
     "text": [
      "Data converted: 96.4%\n",
      "Processing #16: Site-5da1383b4db8ce0c98bc11ab\n"
     ]
    },
    {
     "data": {
      "application/vnd.jupyter.widget-view+json": {
       "model_id": "99fec33aa54a405389d89fead1f95b54",
       "version_major": 2,
       "version_minor": 0
      },
      "text/plain": [
       "  0%|          | 0/239 [00:00<?, ?it/s]"
      ]
     },
     "metadata": {},
     "output_type": "display_data"
    },
    {
     "name": "stdout",
     "output_type": "stream",
     "text": [
      "Data converted: 98.6%\n",
      "Processing #17: Site-5d2709e003f801723c32d896\n"
     ]
    },
    {
     "data": {
      "application/vnd.jupyter.widget-view+json": {
       "model_id": "72e43df4165d4eee8b581e3094fe3b34",
       "version_major": 2,
       "version_minor": 0
      },
      "text/plain": [
       "  0%|          | 0/343 [00:00<?, ?it/s]"
      ]
     },
     "metadata": {},
     "output_type": "display_data"
    },
    {
     "name": "stdout",
     "output_type": "stream",
     "text": [
      "Data converted: 97.7%\n",
      "Processing #18: Site-5da138754db8ce0c98bca82f\n"
     ]
    },
    {
     "data": {
      "application/vnd.jupyter.widget-view+json": {
       "model_id": "6ef7eda23ea844af9129d560e0c35759",
       "version_major": 2,
       "version_minor": 0
      },
      "text/plain": [
       "  0%|          | 0/205 [00:00<?, ?it/s]"
      ]
     },
     "metadata": {},
     "output_type": "display_data"
    },
    {
     "name": "stdout",
     "output_type": "stream",
     "text": [
      "Data converted: 97.2%\n",
      "Processing #19: Site-5da1389e4db8ce0c98bd0547\n"
     ]
    },
    {
     "data": {
      "application/vnd.jupyter.widget-view+json": {
       "model_id": "a6a9e100279146a5829f5f83c06251a6",
       "version_major": 2,
       "version_minor": 0
      },
      "text/plain": [
       "  0%|          | 0/514 [00:00<?, ?it/s]"
      ]
     },
     "metadata": {},
     "output_type": "display_data"
    },
    {
     "name": "stdout",
     "output_type": "stream",
     "text": [
      "Data converted: 94.4%\n",
      "Processing #20: Site-5da138314db8ce0c98bbf3a0\n"
     ]
    },
    {
     "data": {
      "application/vnd.jupyter.widget-view+json": {
       "model_id": "7fc38451c81346329f9078516905b1ac",
       "version_major": 2,
       "version_minor": 0
      },
      "text/plain": [
       "  0%|          | 0/428 [00:00<?, ?it/s]"
      ]
     },
     "metadata": {},
     "output_type": "display_data"
    },
    {
     "name": "stdout",
     "output_type": "stream",
     "text": [
      "Data converted: 93.5%\n",
      "Processing #21: Site-5d2709a003f801723c3251bf\n"
     ]
    },
    {
     "data": {
      "application/vnd.jupyter.widget-view+json": {
       "model_id": "ed31aa797b3549ddbc4064d04eef92ce",
       "version_major": 2,
       "version_minor": 0
      },
      "text/plain": [
       "  0%|          | 0/310 [00:00<?, ?it/s]"
      ]
     },
     "metadata": {},
     "output_type": "display_data"
    },
    {
     "name": "stdout",
     "output_type": "stream",
     "text": [
      "Data converted: 93.4%\n",
      "Processing #22: Site-5d27099f03f801723c32511d\n"
     ]
    },
    {
     "data": {
      "application/vnd.jupyter.widget-view+json": {
       "model_id": "88bb25494b574d438ed26ba34565316f",
       "version_major": 2,
       "version_minor": 0
      },
      "text/plain": [
       "  0%|          | 0/131 [00:00<?, ?it/s]"
      ]
     },
     "metadata": {},
     "output_type": "display_data"
    },
    {
     "name": "stdout",
     "output_type": "stream",
     "text": [
      "Data converted: 97.3%\n",
      "Processing #23: Site-5da138364db8ce0c98bc00f1\n"
     ]
    },
    {
     "data": {
      "application/vnd.jupyter.widget-view+json": {
       "model_id": "8379cff99ae44efa8a82bbbab845c27e",
       "version_major": 2,
       "version_minor": 0
      },
      "text/plain": [
       "  0%|          | 0/82 [00:00<?, ?it/s]"
      ]
     },
     "metadata": {},
     "output_type": "display_data"
    },
    {
     "name": "stdout",
     "output_type": "stream",
     "text": [
      "Data converted: 97.2%\n",
      "Processing #24: Site-5da138274db8ce0c98bbd3d2\n"
     ]
    },
    {
     "data": {
      "application/vnd.jupyter.widget-view+json": {
       "model_id": "29f0c12de0ac4bca8ac1e5fe8c02b3e8",
       "version_major": 2,
       "version_minor": 0
      },
      "text/plain": [
       "  0%|          | 0/213 [00:00<?, ?it/s]"
      ]
     },
     "metadata": {},
     "output_type": "display_data"
    },
    {
     "name": "stdout",
     "output_type": "stream",
     "text": [
      "Data converted: 92.7%\n"
     ]
    }
   ],
   "source": [
    "site_ids = {\"5d27075f03f801723c2e360f\": (73141, 14063), \"5dc8cea7659e181adb076a3f\": (57849, 9733), \"5dbc1d84c1eb61796cf7c010\": (61727, 9043), \"5da138b74db8ce0c98bd4774\": (56668, 7075),\n",
    "            \"5d2709c303f801723c3299ee\": (33368, 11667), \"5da958dd46f8266d0737457b\": (47796, 7003), \"5d2709bb03f801723c32852c\": (44009, 4909), \"5d27096c03f801723c31e5e0\": (19337, 9933),\n",
    "            \"5a0546857ecc773753327266\": (26532, 6799), \"5c3c44b80379370013e0fd2b\": (29359, 6131), \"5d27097f03f801723c320d97\": (35121, 4985), \"5da1382d4db8ce0c98bbe92e\": (28975, 5729),\n",
    "            \"5d2709b303f801723c327472\": (32449, 3831), \"5d2709d403f801723c32bd39\": (23545, 4283), \"5da138764db8ce0c98bcaa46\": (27771, 3781), \"5da1383b4db8ce0c98bc11ab\": (34396, 3055),\n",
    "            \"5d2709e003f801723c32d896\": (29752, 2623), \"5da138754db8ce0c98bca82f\": (13795, 3259), \"5da1389e4db8ce0c98bd0547\": (17795, 2047), \"5da138314db8ce0c98bbf3a0\": (13122, 2429),\n",
    "            \"5d2709a003f801723c3251bf\": (9345, 2509), \"5d27099f03f801723c32511d\": (9700, 1855), \"5da138364db8ce0c98bc00f1\": (5555, 1649), \"5da138274db8ce0c98bbd3d2\": (6338, 985)}\n",
    "#site_ids = [\"5da1389e4db8ce0c98bd0547\"]\n",
    "\n",
    "len_seq = 5  # number ot time stamps per sequence, with ~2/second, e.g. len5/10/20 = \"2.5/5/10sec duration\n",
    "\n",
    "num_s = 0\n",
    "for site_id in tqdm(site_ids): # over sites\n",
    "    num_s += 1\n",
    "    print(f\"Processing #{num_s}: Site-{site_id}\")\n",
    "    record = pickle.load(open(f\"./data_out/full24/{site_id}_10k_mix-counts.pkl\", \"rb\"))\n",
    "    \n",
    "    main_dfs = []\n",
    "    gr = record.groupby([\"trace\"])\n",
    "    for group in tqdm(gr.groups):  # loop over traces\n",
    "        trace_dfs = []   #list of sequences/DataFrames\n",
    "\n",
    "        _group = gr.get_group(group).copy()\n",
    "        _ = _group.pop(\"time\")\n",
    "        _ = _group.pop(\"trace\")\n",
    "        _len = _group.shape[0]\n",
    "        n_seq = _len//len_seq\n",
    "        \n",
    "        # loop over every sequence for a given trace (skip redundant data)\n",
    "        for i in range(n_seq):\n",
    "            post_rec = _group[len_seq*i:len_seq*(i+1)].copy().reset_index(drop=True)\n",
    "            post_rec.loc[0, [\"rx\", \"ry\"]] = 0.0\n",
    "            post_rec[\"rx_cum\"] = post_rec[\"rx\"].cumsum()\n",
    "            post_rec[\"ry_cum\"] = post_rec[\"ry\"].cumsum()\n",
    "\n",
    "            trace_dfs.append(post_rec)\n",
    "\n",
    "        if len(trace_dfs)>0:  # some sequences are available\n",
    "            main_dfs.append(pd.concat(trace_dfs).reset_index(drop=True)) # cobine list of dataframes into single dataframe\n",
    "\n",
    "        #break\n",
    "\n",
    "    main_dfs = pd.concat(main_dfs).reset_index(drop=True) if len(main_dfs)>0 else None\n",
    "    print(f\"Data converted: {round(100*len(main_dfs)/len(record), 1)}%\")\n",
    "    # saving model for a given site_id\n",
    "    with open(f\"./data_out/full24/seq{len_seq}/{site_id}_10k_mix-counts.pkl\", \"wb\") as f:\n",
    "        pickle.dump(main_dfs, f)\n",
    "    "
   ]
  },
  {
   "cell_type": "code",
   "execution_count": null,
   "id": "e38a58d2",
   "metadata": {},
   "outputs": [],
   "source": []
  },
  {
   "cell_type": "markdown",
   "id": "8c485423",
   "metadata": {},
   "source": [
    "***\n",
    "Convert Test Data into RSSI/DELAY DataFrame for Inference Phase\n",
    "***"
   ]
  },
  {
   "cell_type": "code",
   "execution_count": 3,
   "id": "ad5da818",
   "metadata": {},
   "outputs": [],
   "source": [
    "train_bssid = pickle.load(open(\"./data_out/train_24IDs_standardF_bssid_ranks.pkl\", \"rb\"))\n",
    "test_data = pickle.load(open(\"./data_out/test_data.pkl\", \"rb\"))"
   ]
  },
  {
   "cell_type": "markdown",
   "id": "55f2174c",
   "metadata": {},
   "source": [
    "Wifi-based timesteps"
   ]
  },
  {
   "cell_type": "code",
   "execution_count": 12,
   "id": "812a8834",
   "metadata": {
    "tags": []
   },
   "outputs": [
    {
     "data": {
      "application/vnd.jupyter.widget-view+json": {
       "model_id": "4467c4d16fa8418d91aa2fa6139ab192",
       "version_major": 2,
       "version_minor": 0
      },
      "text/plain": [
       "  0%|          | 0/24 [00:00<?, ?it/s]"
      ]
     },
     "metadata": {},
     "output_type": "display_data"
    },
    {
     "name": "stdout",
     "output_type": "stream",
     "text": [
      "Processing #1: Site-5da1389e4db8ce0c98bd0547 with 13 traces and 1041 bssids\n",
      "Processing #2: Site-5da138b74db8ce0c98bd4774 with 29 traces and 3546 bssids\n",
      "Processing #3: Site-5da138764db8ce0c98bcaa46 with 36 traces and 1949 bssids\n",
      "Processing #4: Site-5dbc1d84c1eb61796cf7c010 with 50 traces and 4544 bssids\n",
      "Processing #5: Site-5da1383b4db8ce0c98bc11ab with 26 traces and 1554 bssids\n",
      "Processing #6: Site-5d2709a003f801723c3251bf with 20 traces and 1269 bssids\n",
      "Processing #7: Site-5a0546857ecc773753327266 with 29 traces and 3433 bssids\n",
      "Processing #8: Site-5da138274db8ce0c98bbd3d2 with 8 traces and 498 bssids\n",
      "Processing #9: Site-5d2709b303f801723c327472 with 31 traces and 1934 bssids\n",
      "Processing #10: Site-5da958dd46f8266d0737457b with 51 traces and 3531 bssids\n",
      "Processing #11: Site-5d2709bb03f801723c32852c with 34 traces and 2492 bssids\n",
      "Processing #12: Site-5d2709d403f801723c32bd39 with 51 traces and 2308 bssids\n",
      "Processing #13: Site-5dc8cea7659e181adb076a3f with 35 traces and 4923 bssids\n",
      "Processing #14: Site-5d27096c03f801723c31e5e0 with 60 traces and 5469 bssids\n",
      "Processing #15: Site-5d2709c303f801723c3299ee with 31 traces and 5873 bssids\n",
      "Processing #16: Site-5da138314db8ce0c98bbf3a0 with 17 traces and 1223 bssids\n",
      "Processing #17: Site-5da1382d4db8ce0c98bbe92e with 11 traces and 2920 bssids\n",
      "Processing #18: Site-5d27075f03f801723c2e360f with 5 traces and 7033 bssids\n",
      "Processing #19: Site-5da138754db8ce0c98bca82f with 23 traces and 1792 bssids\n",
      "Processing #20: Site-5d2709e003f801723c32d896 with 31 traces and 1355 bssids\n",
      "Processing #21: Site-5d27097f03f801723c320d97 with 17 traces and 2514 bssids\n",
      "Processing #22: Site-5da138364db8ce0c98bc00f1 with 10 traces and 844 bssids\n",
      "Processing #23: Site-5c3c44b80379370013e0fd2b with 3 traces and 3064 bssids\n",
      "Processing #24: Site-5d27099f03f801723c32511d with 5 traces and 928 bssids\n"
     ]
    }
   ],
   "source": [
    "parsed_test_data = {}\n",
    "num_s = 0\n",
    "\n",
    "for site_id in tqdm(bssid.keys()):  # over sites\n",
    "    num_s += 1\n",
    "    #print(f\"Processing #{num_s}: Site-{site_id} with {len(test_data[site_id])} traces and {len(bssid[site_id])} bssids\")\n",
    "    \n",
    "    parsed_test_data[site_id] = {}\n",
    "    \n",
    "    col_names = []\n",
    "    for feature_bssid in bssid[site_id]:  # create features-columns list\n",
    "        col_names.append(feature_bssid)\n",
    "        col_names.append(feature_bssid+\"_D\")\n",
    "    \n",
    "    for trace_id in tqdm(test_data[site_id]):  # over traces\n",
    "        \n",
    "        wifi_record = test_data[site_id][trace_id].wifi.copy()\n",
    "        \n",
    "        accel_record = test_data[site_id][trace_id].acce\n",
    "        rotate_record = test_data[site_id][trace_id].rotate\n",
    "        magnetic_record = test_data[site_id][trace_id].magn  \n",
    "        \n",
    "        timestamps = wifi_record.time.unique().tolist()\n",
    "        trace_record_wifi = np.zeros((len(timestamps), len(col_names)))\n",
    "\n",
    "        for col_id, _ in enumerate(col_names):\n",
    "            if col_id%2 == 0:\n",
    "                trace_record_wifi[:, col_id] = int(train_bssid[\"min_rssi\"][site_id])\n",
    "            else:\n",
    "                trace_record_wifi[:, col_id] = int(train_bssid[\"max_delay\"][site_id])\n",
    "\n",
    "        trace_record_wifi = pd.DataFrame(trace_record_wifi, columns=col_names)\n",
    "        \n",
    "        trace_record_wifi[\"time\"] = timestamps\n",
    "        trace_record_wifi[\"trace\"] = trace_id\n",
    "        timestamps = trace_record_wifi.time.to_numpy()\n",
    "\n",
    "        # magnetic field intensity\n",
    "        magnetic_intensity = np.sqrt(np.square(magnetic_record.x_axis.to_numpy()) + np.square(magnetic_record.y_axis.to_numpy()) + np.square(magnetic_record.z_axis.to_numpy()))\n",
    "        trace_record_wifi[\"m\"] = interp1d(magnetic_record.time.to_numpy(), magnetic_intensity, kind=\"linear\", fill_value=\"extrapolate\", copy=False, assume_sorted=True)(timestamps)\n",
    "        # z_axis rotation angle (i.e. inplane direction)\n",
    "        trace_record_wifi[\"r\"] = interp1d(rotate_record.time.to_numpy(), rotate_record.z_axis.to_numpy(), kind=\"linear\", fill_value=\"extrapolate\", copy=False, assume_sorted=True)(timestamps)\n",
    "        # relative x/y steps positions\n",
    "        step_timestamps, step_indexs, step_acce_max_mins = compute_steps(accel_record[[\"time\", \"x_axis\", \"y_axis\", \"z_axis\"]].to_numpy())\n",
    "        rel_step_positions = pd.DataFrame(compute_rel_positions(compute_stride_length(step_acce_max_mins),\n",
    "                                                                compute_step_heading(step_timestamps,\n",
    "                                                                                     compute_headings(rotate_record[[\"time\", \"x_axis\", \"y_axis\", \"z_axis\"]].to_numpy()))), \n",
    "                                          columns=[\"time\", \"x\", \"y\"])\n",
    "        # recalculate relative steps for a given timestamps(cumsum->interpolate->differences)\n",
    "        _rt = np.insert(rel_step_positions.time.to_numpy(), 0, 0.0)\n",
    "        rx_cum = interp1d(_rt, np.insert(rel_step_positions.x.to_numpy(), 0, 0.0).cumsum(), kind=\"linear\", fill_value=\"extrapolate\", copy=False, assume_sorted=True)(timestamps)\n",
    "        ry_cum = interp1d(_rt, np.insert(rel_step_positions.y.to_numpy(), 0, 0.0).cumsum(), kind=\"linear\", fill_value=\"extrapolate\", copy=False, assume_sorted=True)(timestamps)\n",
    "        trace_record_wifi[\"rx\"] = np.diff(rx_cum, prepend=0.0) \n",
    "        trace_record_wifi[\"ry\"] = np.diff(ry_cum, prepend=0.0)\n",
    "        trace_record_wifi[\"rx_cum\"] = rx_cum\n",
    "        trace_record_wifi[\"ry_cum\"] = ry_cum\n",
    "        trace_record_wifi.loc[0, [\"rx\", \"ry\", \"rx_cum\", \"ry_cum\"]] = 0.\n",
    "                   \n",
    "        # Take wifi data the nearest to each waypoint\n",
    "        for j, t0 in enumerate(trace_record_wifi.time):  # over times in trace/for each waypoint\n",
    "\n",
    "            wifi_min = wifi_record[wifi_record.time == t0]\n",
    "            wifi_min_bssid_list = wifi_min.bssid.tolist()\n",
    "            wifi_min_delay_list = [col+\"_D\" for col in wifi_min_bssid_list]\n",
    "            \n",
    "            trace_record_wifi.loc[j, wifi_min_bssid_list] = wifi_min.rssi.to_numpy()\n",
    "            trace_record_wifi.loc[j, wifi_min_delay_list] = wifi_min.delay.to_numpy().astype(int)\n",
    "\n",
    "        parsed_test_data[site_id][trace_id] = trace_record_wifi\n",
    "   \n",
    "        #break  # only fist trace\n",
    "\n",
    "    #break  # only first site"
   ]
  },
  {
   "cell_type": "code",
   "execution_count": 13,
   "id": "508508b3",
   "metadata": {},
   "outputs": [],
   "source": [
    "with open(f\"./data_out/full24/test-10k_mix-counts.pkl\", \"wb\") as f:\n",
    "    pickle.dump(parsed_test_data, f)"
   ]
  },
  {
   "cell_type": "code",
   "execution_count": null,
   "id": "a6ab6686",
   "metadata": {},
   "outputs": [],
   "source": []
  },
  {
   "cell_type": "markdown",
   "id": "87c0393d",
   "metadata": {},
   "source": [
    "0.55sec-based timesteps"
   ]
  },
  {
   "cell_type": "code",
   "execution_count": 4,
   "id": "31b7c167",
   "metadata": {
    "tags": []
   },
   "outputs": [
    {
     "data": {
      "application/vnd.jupyter.widget-view+json": {
       "model_id": "e021f327c35749449bb7c5c3ee75bb08",
       "version_major": 2,
       "version_minor": 0
      },
      "text/plain": [
       "  0%|          | 0/24 [00:00<?, ?it/s]"
      ]
     },
     "metadata": {},
     "output_type": "display_data"
    },
    {
     "data": {
      "application/vnd.jupyter.widget-view+json": {
       "model_id": "90d5984afd0b4b96b9123381a775a6ad",
       "version_major": 2,
       "version_minor": 0
      },
      "text/plain": [
       "  0%|          | 0/13 [00:00<?, ?it/s]"
      ]
     },
     "metadata": {},
     "output_type": "display_data"
    },
    {
     "data": {
      "application/vnd.jupyter.widget-view+json": {
       "model_id": "5dab99b466d245a48962e627c857111d",
       "version_major": 2,
       "version_minor": 0
      },
      "text/plain": [
       "  0%|          | 0/29 [00:00<?, ?it/s]"
      ]
     },
     "metadata": {},
     "output_type": "display_data"
    },
    {
     "data": {
      "application/vnd.jupyter.widget-view+json": {
       "model_id": "353bf3fb2539427fa191b550c3fd5b46",
       "version_major": 2,
       "version_minor": 0
      },
      "text/plain": [
       "  0%|          | 0/36 [00:00<?, ?it/s]"
      ]
     },
     "metadata": {},
     "output_type": "display_data"
    },
    {
     "data": {
      "application/vnd.jupyter.widget-view+json": {
       "model_id": "81ca07ae1a1d4dffa7def0ac4e2f389e",
       "version_major": 2,
       "version_minor": 0
      },
      "text/plain": [
       "  0%|          | 0/50 [00:00<?, ?it/s]"
      ]
     },
     "metadata": {},
     "output_type": "display_data"
    },
    {
     "data": {
      "application/vnd.jupyter.widget-view+json": {
       "model_id": "8de45cd9a1484ade85646a1277a0c9ee",
       "version_major": 2,
       "version_minor": 0
      },
      "text/plain": [
       "  0%|          | 0/26 [00:00<?, ?it/s]"
      ]
     },
     "metadata": {},
     "output_type": "display_data"
    },
    {
     "data": {
      "application/vnd.jupyter.widget-view+json": {
       "model_id": "818881bbae994ff3b68198b238c29c3b",
       "version_major": 2,
       "version_minor": 0
      },
      "text/plain": [
       "  0%|          | 0/20 [00:00<?, ?it/s]"
      ]
     },
     "metadata": {},
     "output_type": "display_data"
    },
    {
     "data": {
      "application/vnd.jupyter.widget-view+json": {
       "model_id": "c2269cceb19f4ed18e1c9148f86dd020",
       "version_major": 2,
       "version_minor": 0
      },
      "text/plain": [
       "  0%|          | 0/29 [00:00<?, ?it/s]"
      ]
     },
     "metadata": {},
     "output_type": "display_data"
    },
    {
     "data": {
      "application/vnd.jupyter.widget-view+json": {
       "model_id": "3a7707ca1a9a45d3ba3992b5722400f6",
       "version_major": 2,
       "version_minor": 0
      },
      "text/plain": [
       "  0%|          | 0/8 [00:00<?, ?it/s]"
      ]
     },
     "metadata": {},
     "output_type": "display_data"
    },
    {
     "data": {
      "application/vnd.jupyter.widget-view+json": {
       "model_id": "7508f331ed2443c29bf089bb67cdabcb",
       "version_major": 2,
       "version_minor": 0
      },
      "text/plain": [
       "  0%|          | 0/31 [00:00<?, ?it/s]"
      ]
     },
     "metadata": {},
     "output_type": "display_data"
    },
    {
     "data": {
      "application/vnd.jupyter.widget-view+json": {
       "model_id": "797ac22dca2747ca9752d82b845e61f7",
       "version_major": 2,
       "version_minor": 0
      },
      "text/plain": [
       "  0%|          | 0/51 [00:00<?, ?it/s]"
      ]
     },
     "metadata": {},
     "output_type": "display_data"
    },
    {
     "data": {
      "application/vnd.jupyter.widget-view+json": {
       "model_id": "84c7c853f8be42feb29029e5deb8b560",
       "version_major": 2,
       "version_minor": 0
      },
      "text/plain": [
       "  0%|          | 0/34 [00:00<?, ?it/s]"
      ]
     },
     "metadata": {},
     "output_type": "display_data"
    },
    {
     "data": {
      "application/vnd.jupyter.widget-view+json": {
       "model_id": "2ba3e224552c46b283934b07bfbc666e",
       "version_major": 2,
       "version_minor": 0
      },
      "text/plain": [
       "  0%|          | 0/51 [00:00<?, ?it/s]"
      ]
     },
     "metadata": {},
     "output_type": "display_data"
    },
    {
     "data": {
      "application/vnd.jupyter.widget-view+json": {
       "model_id": "3916395c967c42ab88d5155679a64032",
       "version_major": 2,
       "version_minor": 0
      },
      "text/plain": [
       "  0%|          | 0/35 [00:00<?, ?it/s]"
      ]
     },
     "metadata": {},
     "output_type": "display_data"
    },
    {
     "data": {
      "application/vnd.jupyter.widget-view+json": {
       "model_id": "acac1d0988864427a17a80b7d9427961",
       "version_major": 2,
       "version_minor": 0
      },
      "text/plain": [
       "  0%|          | 0/60 [00:00<?, ?it/s]"
      ]
     },
     "metadata": {},
     "output_type": "display_data"
    },
    {
     "data": {
      "application/vnd.jupyter.widget-view+json": {
       "model_id": "b93cfabd4e07417293c7712f7a5d2e01",
       "version_major": 2,
       "version_minor": 0
      },
      "text/plain": [
       "  0%|          | 0/31 [00:00<?, ?it/s]"
      ]
     },
     "metadata": {},
     "output_type": "display_data"
    },
    {
     "data": {
      "application/vnd.jupyter.widget-view+json": {
       "model_id": "502740b4538b4248a48dffff2be8eade",
       "version_major": 2,
       "version_minor": 0
      },
      "text/plain": [
       "  0%|          | 0/17 [00:00<?, ?it/s]"
      ]
     },
     "metadata": {},
     "output_type": "display_data"
    },
    {
     "data": {
      "application/vnd.jupyter.widget-view+json": {
       "model_id": "9181d8fafaef45c49f25b7573630e270",
       "version_major": 2,
       "version_minor": 0
      },
      "text/plain": [
       "  0%|          | 0/11 [00:00<?, ?it/s]"
      ]
     },
     "metadata": {},
     "output_type": "display_data"
    },
    {
     "data": {
      "application/vnd.jupyter.widget-view+json": {
       "model_id": "11f6837d90304a8dbb3c280d9308f0ae",
       "version_major": 2,
       "version_minor": 0
      },
      "text/plain": [
       "  0%|          | 0/5 [00:00<?, ?it/s]"
      ]
     },
     "metadata": {},
     "output_type": "display_data"
    },
    {
     "data": {
      "application/vnd.jupyter.widget-view+json": {
       "model_id": "e83546e68af14da1a2f36730bb0662cf",
       "version_major": 2,
       "version_minor": 0
      },
      "text/plain": [
       "  0%|          | 0/23 [00:00<?, ?it/s]"
      ]
     },
     "metadata": {},
     "output_type": "display_data"
    },
    {
     "data": {
      "application/vnd.jupyter.widget-view+json": {
       "model_id": "4883ed280dcb4198ab186d3c34a480b3",
       "version_major": 2,
       "version_minor": 0
      },
      "text/plain": [
       "  0%|          | 0/31 [00:00<?, ?it/s]"
      ]
     },
     "metadata": {},
     "output_type": "display_data"
    },
    {
     "data": {
      "application/vnd.jupyter.widget-view+json": {
       "model_id": "89dd9075365840dc95c67184801cc7f6",
       "version_major": 2,
       "version_minor": 0
      },
      "text/plain": [
       "  0%|          | 0/17 [00:00<?, ?it/s]"
      ]
     },
     "metadata": {},
     "output_type": "display_data"
    },
    {
     "data": {
      "application/vnd.jupyter.widget-view+json": {
       "model_id": "d82230a1a0b04166914a06368202d150",
       "version_major": 2,
       "version_minor": 0
      },
      "text/plain": [
       "  0%|          | 0/10 [00:00<?, ?it/s]"
      ]
     },
     "metadata": {},
     "output_type": "display_data"
    },
    {
     "data": {
      "application/vnd.jupyter.widget-view+json": {
       "model_id": "0efd303680b94649911bd28596b5c048",
       "version_major": 2,
       "version_minor": 0
      },
      "text/plain": [
       "  0%|          | 0/3 [00:00<?, ?it/s]"
      ]
     },
     "metadata": {},
     "output_type": "display_data"
    },
    {
     "data": {
      "application/vnd.jupyter.widget-view+json": {
       "model_id": "72957976078f42cf9bcfd709574f535d",
       "version_major": 2,
       "version_minor": 0
      },
      "text/plain": [
       "  0%|          | 0/5 [00:00<?, ?it/s]"
      ]
     },
     "metadata": {},
     "output_type": "display_data"
    }
   ],
   "source": [
    "parsed_test_data = {}\n",
    "num_s = 0\n",
    "dt = 550 # in milisceonds\n",
    "\n",
    "for site_id in tqdm(bssid.keys()):  # over sites\n",
    "    num_s += 1\n",
    "    #print(f\"Processing #{num_s}: Site-{site_id} with {len(test_data[site_id])} traces and {len(bssid[site_id])} bssids\")\n",
    "    \n",
    "    parsed_test_data[site_id] = {}\n",
    "    \n",
    "    col_names = []\n",
    "    for feature_bssid in bssid[site_id]:  # create features-columns list\n",
    "        col_names.append(feature_bssid)\n",
    "        col_names.append(feature_bssid+\"_D\")\n",
    "    \n",
    "    for trace_id in tqdm(test_data[site_id]):  # over traces\n",
    "        \n",
    "        wifi_record = test_data[site_id][trace_id].wifi.copy()\n",
    "        \n",
    "        accel_record = test_data[site_id][trace_id].acce\n",
    "        rotate_record = test_data[site_id][trace_id].rotate\n",
    "        magnetic_record = test_data[site_id][trace_id].magn  \n",
    "        \n",
    "        timestamps = wifi_record.time.unique().tolist()\n",
    "        timestamps = np.linspace(timestamps[0], timestamps[-1], int(1+(timestamps[-1]-timestamps[0])/dt)).tolist()\n",
    "        \n",
    "        trace_record_wifi = np.zeros((len(timestamps), len(col_names)))\n",
    "\n",
    "        for col_id, _ in enumerate(col_names):\n",
    "            if col_id%2 == 0:\n",
    "                trace_record_wifi[:, col_id] = int(train_bssid[\"min_rssi\"][site_id])\n",
    "            else:\n",
    "                trace_record_wifi[:, col_id] = int(train_bssid[\"max_delay\"][site_id])\n",
    "\n",
    "        trace_record_wifi = pd.DataFrame(trace_record_wifi, columns=col_names)\n",
    "        \n",
    "        trace_record_wifi[\"time\"] = timestamps\n",
    "        trace_record_wifi[\"trace\"] = trace_id\n",
    "        timestamps = trace_record_wifi.time.to_numpy()\n",
    "\n",
    "        # magnetic field intensity\n",
    "        magnetic_intensity = np.sqrt(np.square(magnetic_record.x_axis.to_numpy()) + np.square(magnetic_record.y_axis.to_numpy()) + np.square(magnetic_record.z_axis.to_numpy()))\n",
    "        trace_record_wifi[\"m\"] = interp1d(magnetic_record.time.to_numpy(), magnetic_intensity, kind=\"linear\", fill_value=\"extrapolate\", copy=False, assume_sorted=True)(timestamps)\n",
    "        # z_axis rotation angle (i.e. inplane direction)\n",
    "        trace_record_wifi[\"r\"] = interp1d(rotate_record.time.to_numpy(), rotate_record.z_axis.to_numpy(), kind=\"linear\", fill_value=\"extrapolate\", copy=False, assume_sorted=True)(timestamps)\n",
    "        # relative x/y steps positions\n",
    "        step_timestamps, step_indexs, step_acce_max_mins = compute_steps(accel_record[[\"time\", \"x_axis\", \"y_axis\", \"z_axis\"]].to_numpy())\n",
    "        rel_step_positions = pd.DataFrame(compute_rel_positions(compute_stride_length(step_acce_max_mins),\n",
    "                                                                compute_step_heading(step_timestamps,\n",
    "                                                                                     compute_headings(rotate_record[[\"time\", \"x_axis\", \"y_axis\", \"z_axis\"]].to_numpy()))), \n",
    "                                          columns=[\"time\", \"x\", \"y\"])\n",
    "        # recalculate relative steps for a given timestamps(cumsum->interpolate->differences)\n",
    "        \n",
    "        _rt = np.insert(rel_step_positions.time.to_numpy(), 0, 0.0)\n",
    "        rx_cum = interp1d(_rt, np.insert(rel_step_positions.x.to_numpy(), 0, 0.0).cumsum(), kind=\"linear\", fill_value=\"extrapolate\", copy=False, assume_sorted=True)(timestamps)\n",
    "        ry_cum = interp1d(_rt, np.insert(rel_step_positions.y.to_numpy(), 0, 0.0).cumsum(), kind=\"linear\", fill_value=\"extrapolate\", copy=False, assume_sorted=True)(timestamps)\n",
    "        trace_record_wifi[\"rx\"] = np.diff(rx_cum, prepend=0.0) \n",
    "        trace_record_wifi[\"ry\"] = np.diff(ry_cum, prepend=0.0)\n",
    "        trace_record_wifi[\"rx_cum\"] = rx_cum\n",
    "        trace_record_wifi[\"ry_cum\"] = ry_cum\n",
    "        trace_record_wifi.loc[0, [\"rx\", \"ry\", \"rx_cum\", \"ry_cum\"]] = 0.\n",
    "                   \n",
    "        # Take wifi data the nearest to each waypoint\n",
    "        for j, t0 in enumerate(trace_record_wifi.time):  # over times in trace/for each waypoint\n",
    "            \n",
    "            deltas = (wifi_record.time - t0).abs()\n",
    "            tmin = deltas.min()\n",
    "            \n",
    "            wifi_min = wifi_record[deltas == tmin]\n",
    "            wifi_min_bssid_list = wifi_min.bssid.tolist()\n",
    "            wifi_min_delay_list = [col+\"_D\" for col in wifi_min_bssid_list]\n",
    "            \n",
    "            trace_record_wifi.loc[j, wifi_min_bssid_list] = wifi_min.rssi.to_numpy()\n",
    "            \n",
    "# >>>> delays should be adjusted for the time difference  (closest delay may become larger than time_delay_limit for models)\n",
    "            trace_record_wifi.loc[j, wifi_min_delay_list] = wifi_min.delay.to_numpy().astype(int)\n",
    "## >>>>>>>>>>>>>>>>>>>>>>>>>>>>>>>>>>>>>>>>>>>>>>>>>>>>>>>\n",
    "\n",
    "        parsed_test_data[site_id][trace_id] = trace_record_wifi\n",
    "   \n",
    "        #break  # only fist trace\n",
    "\n",
    "    #break  # only first site"
   ]
  },
  {
   "cell_type": "code",
   "execution_count": 5,
   "id": "ca18a3f0",
   "metadata": {},
   "outputs": [],
   "source": [
    "with open(f\"./data_out/full24/test-10k_mix-counts_t550.pkl\", \"wb\") as f:\n",
    "    pickle.dump(parsed_test_data, f)"
   ]
  }
 ],
 "metadata": {
  "kernelspec": {
   "display_name": "Python 3",
   "language": "python",
   "name": "python3"
  },
  "language_info": {
   "codemirror_mode": {
    "name": "ipython",
    "version": 3
   },
   "file_extension": ".py",
   "mimetype": "text/x-python",
   "name": "python",
   "nbconvert_exporter": "python",
   "pygments_lexer": "ipython3",
   "version": "3.8.3"
  }
 },
 "nbformat": 4,
 "nbformat_minor": 5
}
