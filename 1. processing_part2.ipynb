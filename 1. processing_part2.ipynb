{
 "cells": [
  {
   "cell_type": "code",
   "execution_count": 1,
   "id": "5654639f",
   "metadata": {
    "tags": []
   },
   "outputs": [
    {
     "data": {
      "text/html": [
       "        <script type=\"text/javascript\">\n",
       "        window.PlotlyConfig = {MathJaxConfig: 'local'};\n",
       "        if (window.MathJax) {MathJax.Hub.Config({SVG: {font: \"STIX-Web\"}});}\n",
       "        if (typeof require !== 'undefined') {\n",
       "        require.undef(\"plotly\");\n",
       "        requirejs.config({\n",
       "            paths: {\n",
       "                'plotly': ['https://cdn.plot.ly/plotly-latest.min']\n",
       "            }\n",
       "        });\n",
       "        require(['plotly'], function(Plotly) {\n",
       "            window._Plotly = Plotly;\n",
       "        });\n",
       "        }\n",
       "        </script>\n",
       "        "
      ]
     },
     "metadata": {},
     "output_type": "display_data"
    }
   ],
   "source": [
    "import numpy as np\n",
    "import pandas as pd\n",
    "\n",
    "import pickle\n",
    "import os\n",
    "from pathlib import Path\n",
    "import glob\n",
    "import json\n",
    "from tqdm.notebook import tqdm\n",
    "\n",
    "import seaborn as sns\n",
    "import matplotlib\n",
    "import matplotlib.pyplot as plt\n",
    "import plotly\n",
    "import plotly.graph_objs as go\n",
    "from PIL import Image\n",
    "#%matplotlib inline\n",
    "plotly.offline.init_notebook_mode(connected=True)\n",
    "\n",
    "sns.set_style('darkgrid')\n",
    "\n",
    "from scipy.interpolate import interp1d\n",
    "\n",
    "from xyz10.io_f_mod import read_data_file\n",
    "from xyz10.visualize_f_mod import visualize_trajectory\n",
    "from xyz10.compute_f_mod import compute_step_positions, compute_step_positions_mod, split_ts_seq\n",
    "from xyz10.compute_f_mod import compute_steps, compute_headings, compute_stride_length, compute_step_heading, compute_rel_positions\n",
    "from xyz10.compute_f_mod import correct_positions,  correct_positions_mod"
   ]
  },
  {
   "cell_type": "markdown",
   "id": "6cc1655d",
   "metadata": {},
   "source": [
    "Downsample Rotation, Magnetic, and (to be calculated) Relative Steps (x,y) into WiFi timestamps   "
   ]
  },
  {
   "cell_type": "markdown",
   "id": "0900328e",
   "metadata": {},
   "source": [
    "> Setting bssid list"
   ]
  },
  {
   "cell_type": "code",
   "execution_count": 2,
   "id": "7880f262",
   "metadata": {
    "tags": []
   },
   "outputs": [],
   "source": [
    "test_bssid = pickle.load(open(\"./data_out/test_bssid_ranks.pkl\", \"rb\"))\n",
    "train_bssid = pickle.load(open(\"./data_out/train_24IDs_standardF_bssid_ranks.pkl\", \"rb\"))\n",
    "\n",
    "bssid = {}\n",
    "for site in test_bssid[\"count\"]:\n",
    "    _test_bssid = test_bssid[\"count\"][site].bssid\n",
    "    _train_bssid = train_bssid[\"count\"][site].bssid\n",
    "    _mix_bssid = pd.concat([_test_bssid,  _train_bssid]).unique()\n",
    "    \n",
    "    _list = _mix_bssid.tolist()\n",
    "    \n",
    "    bssid[site] = _list"
   ]
  },
  {
   "cell_type": "markdown",
   "id": "acbc9b70",
   "metadata": {},
   "source": [
    "> Interpolated STEPS (snap to steps; where steps 0.5s/wifi 0.5-1s dt = expected error is 0.5step=0.25m): Convert/Append/Save each trace per site to DataFrame: Features=BSSID/RSSI + DELAYS + F + M + R + rx + ry + TRACEID + rel time  \n",
    "> Targets=XY (BSSID not in trace gets min-RSSI and max-DELAY per site) "
   ]
  },
  {
   "cell_type": "code",
   "execution_count": 3,
   "id": "7e8a3cc9",
   "metadata": {},
   "outputs": [],
   "source": [
    "wifi_data_train = pickle.load(open(\"./data_out/train_24IDs_standardF_wifi.pkl\", \"rb\"))"
   ]
  },
  {
   "cell_type": "code",
   "execution_count": 4,
   "id": "411d8056",
   "metadata": {},
   "outputs": [],
   "source": [
    "accel_data = pickle.load(open(\"./data_out/train_24IDs_standardF_motion.pkl\", \"rb\"))\n",
    "\n",
    "rotate_data = pickle.load(open(\"./data_out/train_24IDs_standardF_rotate.pkl\", \"rb\"))\n",
    "magnetic_data = pickle.load(open(\"./data_out/train_24IDs_standardF_magnetic.pkl\", \"rb\"))\n",
    "\n",
    "steps_data = pickle.load(open(\"./data_out/train_24IDs_standardF_steps.pkl\", \"rb\"))"
   ]
  },
  {
   "cell_type": "code",
   "execution_count": 7,
   "id": "ad0392ba",
   "metadata": {
    "tags": []
   },
   "outputs": [
    {
     "name": "stdout",
     "output_type": "stream",
     "text": [
      "Processing #1: Site-5da1389e4db8ce0c98bd0547 with 514 traces and 1041 bssids\n"
     ]
    },
    {
     "data": {
      "application/vnd.jupyter.widget-view+json": {
       "model_id": "902e8629a38d4c00bfa2aa4fc81a0a89",
       "version_major": 2,
       "version_minor": 0
      },
      "text/plain": [
       "  0%|          | 0/514 [00:00<?, ?it/s]"
      ]
     },
     "metadata": {},
     "output_type": "display_data"
    }
   ],
   "source": [
    "num_s = 0\n",
    "for site_id in [\"5da1389e4db8ce0c98bd0547\"]:#tqdm(bssid.keys()): # over sites\n",
    "    num_s += 1\n",
    "    print(f\"Processing #{num_s}: Site-{site_id} with {len(steps_data[site_id])} traces and {len(bssid[site_id])} bssids\")\n",
    "    site_trace_record_wifi = []\n",
    "\n",
    "    col_names = []\n",
    "    for feature_bssid in bssid[site_id]:  # create features-columns list\n",
    "        col_names.append(feature_bssid)\n",
    "        col_names.append(feature_bssid+\"_D\")\n",
    "\n",
    "    for trace_id in tqdm(steps_data[site_id]):  # over traces\n",
    "\n",
    "        wifi_record = wifi_data_train[site_id][trace_id][1].copy()\n",
    "        steps_record = steps_data[site_id][trace_id].copy()\n",
    "\n",
    "        accel_record = accel_data[site_id][trace_id][1]\n",
    "        rotate_record = rotate_data[site_id][trace_id][1]\n",
    "        magnetic_record = magnetic_data[site_id][trace_id][1]       \n",
    "\n",
    "        trace_record_wifi = np.zeros((steps_record[1].shape[0], len(col_names)))\n",
    "\n",
    "        for col_id, _ in enumerate(col_names):\n",
    "            if col_id%2 == 0:\n",
    "                trace_record_wifi[:, col_id] = int(train_bssid[\"min_rssi\"][site_id])\n",
    "            else:\n",
    "                trace_record_wifi[:, col_id] = int(train_bssid[\"max_delay\"][site_id])\n",
    "\n",
    "        trace_record_wifi = pd.DataFrame(trace_record_wifi, columns=col_names)\n",
    "\n",
    "        # time, absolute x/y positions of steps, floor number\n",
    "        trace_record_wifi[[\"time\", \"x\", \"y\"]] = steps_record[1][[\"time\", \"x\", \"y\"]].copy()\n",
    "        trace_record_wifi[\"f\"] = steps_record[0].FloorName[0]\n",
    "        timestamps = trace_record_wifi.time.to_numpy()\n",
    "        # magnetic field intensity\n",
    "        magnetic_intensity = np.sqrt(np.square(magnetic_record.x_axis.to_numpy()) + np.square(magnetic_record.y_axis.to_numpy()) + np.square(magnetic_record.z_axis.to_numpy()))\n",
    "        trace_record_wifi[\"m\"] = interp1d(magnetic_record.time.to_numpy(), magnetic_intensity, kind=\"linear\", fill_value=\"extrapolate\", copy=False, assume_sorted=True)(timestamps)\n",
    "        # z_axis rotation angle (i.e. inplane direction)\n",
    "        trace_record_wifi[\"r\"] = interp1d(rotate_record.time.to_numpy(), rotate_record.z_axis.to_numpy(), kind=\"linear\", fill_value=\"extrapolate\", copy=False, assume_sorted=True)(timestamps)\n",
    "        # relative x/y steps positions\n",
    "        step_timestamps, step_indexs, step_acce_max_mins = compute_steps(accel_record[[\"time\", \"x_axis\", \"y_axis\", \"z_axis\"]].to_numpy())\n",
    "        rel_step_positions = pd.DataFrame(compute_rel_positions(compute_stride_length(step_acce_max_mins),\n",
    "                                                                compute_step_heading(step_timestamps,\n",
    "                                                                                     compute_headings(rotate_record[[\"time\", \"x_axis\", \"y_axis\", \"z_axis\"]].to_numpy()))), \n",
    "                                          columns=[\"time\", \"x\", \"y\"])\n",
    "        # recalculate relative steps for a given timestamps(cumsum->interpolate->differences)\n",
    "        _rt = np.insert(rel_step_positions.time.to_numpy(), 0, 0.0)\n",
    "        rx_cum = interp1d(_rt, np.insert(rel_step_positions.x.to_numpy(), 0, 0.0).cumsum(), kind=\"linear\", fill_value=\"extrapolate\", copy=False, assume_sorted=True)(timestamps)\n",
    "        ry_cum = interp1d(_rt, np.insert(rel_step_positions.y.to_numpy(), 0, 0.0).cumsum(), kind=\"linear\", fill_value=\"extrapolate\", copy=False, assume_sorted=True)(timestamps)\n",
    "        trace_record_wifi[\"rx\"] = np.diff(rx_cum, prepend=0.0) \n",
    "        trace_record_wifi[\"ry\"] = np.diff(ry_cum, prepend=0.0) \n",
    "            \n",
    "        # trace id\n",
    "        trace_record_wifi[\"trace\"] = trace_id\n",
    "        # wifi rssi and delays\n",
    "        # Take wifi data the nearest to each waypoint\n",
    "        for j, t0 in enumerate(trace_record_wifi.time):  # over times in trace/for each waypoint\n",
    "\n",
    "            wifi_record[\"time0\"] = wifi_record.time - t0\n",
    "            wifi_record[\"time0\"] = wifi_record.time0.apply(abs)\n",
    "\n",
    "            wifi_min = wifi_record[wifi_record.time0 == wifi_record.time0.min()]\n",
    "            wifi_min_bssid_list = wifi_min.bssid.tolist()\n",
    "            wifi_min_delay_list = [col+\"_D\" for col in wifi_min_bssid_list]\n",
    "\n",
    "            trace_record_wifi.loc[j, wifi_min_bssid_list] = wifi_min.rssi.to_numpy()\n",
    "            trace_record_wifi.loc[j, wifi_min_delay_list] = wifi_min.delay.to_numpy().astype(int)    \n",
    "\n",
    "        site_trace_record_wifi.append(trace_record_wifi)\n",
    "        #break  # only fist trace\n",
    "\n",
    "    site_trace_record_wifi = pd.concat(site_trace_record_wifi, ignore_index=True)\n",
    "        \n",
    "    # saving model for a given site_id\n",
    "    with open(f\"./data_out/full24/{site_id}_10k_mix-counts.pkl\", \"wb\") as f:\n",
    "        pickle.dump(site_trace_record_wifi, f)\n",
    "    #break  # only first site"
   ]
  },
  {
   "cell_type": "code",
   "execution_count": null,
   "id": "1709ebb7",
   "metadata": {},
   "outputs": [],
   "source": []
  },
  {
   "cell_type": "markdown",
   "id": "9ae2064d",
   "metadata": {},
   "source": [
    "Convert Train data into sequences of 2-5-10-15-20 records (for LSTM)"
   ]
  },
  {
   "cell_type": "code",
   "execution_count": 2,
   "id": "fddb5947",
   "metadata": {
    "tags": []
   },
   "outputs": [
    {
     "data": {
      "application/vnd.jupyter.widget-view+json": {
       "model_id": "b25cd69f9e5f461da6b2b2664518e67a",
       "version_major": 2,
       "version_minor": 0
      },
      "text/plain": [
       "  0%|          | 0/24 [00:00<?, ?it/s]"
      ]
     },
     "metadata": {},
     "output_type": "display_data"
    },
    {
     "name": "stdout",
     "output_type": "stream",
     "text": [
      "Processing #1: Site-5d27075f03f801723c2e360f\n"
     ]
    },
    {
     "data": {
      "application/vnd.jupyter.widget-view+json": {
       "model_id": "54e1e17bc89547759efd5e41c02438d0",
       "version_major": 2,
       "version_minor": 0
      },
      "text/plain": [
       "  0%|          | 0/1141 [00:00<?, ?it/s]"
      ]
     },
     "metadata": {},
     "output_type": "display_data"
    },
    {
     "name": "stdout",
     "output_type": "stream",
     "text": [
      "Data converted: 85.2%\n",
      "Processing #2: Site-5dc8cea7659e181adb076a3f\n"
     ]
    },
    {
     "data": {
      "application/vnd.jupyter.widget-view+json": {
       "model_id": "28cef00ae4b74681b4488e4ea7c57c0c",
       "version_major": 2,
       "version_minor": 0
      },
      "text/plain": [
       "  0%|          | 0/745 [00:00<?, ?it/s]"
      ]
     },
     "metadata": {},
     "output_type": "display_data"
    },
    {
     "name": "stdout",
     "output_type": "stream",
     "text": [
      "Data converted: 87.9%\n",
      "Processing #3: Site-5dbc1d84c1eb61796cf7c010\n"
     ]
    },
    {
     "data": {
      "application/vnd.jupyter.widget-view+json": {
       "model_id": "590f7ae7fa4b45dfaaf10a55bce93ab3",
       "version_major": 2,
       "version_minor": 0
      },
      "text/plain": [
       "  0%|          | 0/793 [00:00<?, ?it/s]"
      ]
     },
     "metadata": {},
     "output_type": "display_data"
    },
    {
     "name": "stdout",
     "output_type": "stream",
     "text": [
      "Data converted: 88.1%\n",
      "Processing #4: Site-5da138b74db8ce0c98bd4774\n"
     ]
    },
    {
     "data": {
      "application/vnd.jupyter.widget-view+json": {
       "model_id": "a93902a78a674f3d926af3d4ae8d0e73",
       "version_major": 2,
       "version_minor": 0
      },
      "text/plain": [
       "  0%|          | 0/748 [00:00<?, ?it/s]"
      ]
     },
     "metadata": {},
     "output_type": "display_data"
    },
    {
     "name": "stdout",
     "output_type": "stream",
     "text": [
      "Data converted: 87.5%\n",
      "Processing #5: Site-5d2709c303f801723c3299ee\n"
     ]
    },
    {
     "data": {
      "application/vnd.jupyter.widget-view+json": {
       "model_id": "3959bbfe51fa448bb911e9bc35ba83bd",
       "version_major": 2,
       "version_minor": 0
      },
      "text/plain": [
       "  0%|          | 0/664 [00:00<?, ?it/s]"
      ]
     },
     "metadata": {},
     "output_type": "display_data"
    },
    {
     "name": "stdout",
     "output_type": "stream",
     "text": [
      "Data converted: 80.9%\n",
      "Processing #6: Site-5da958dd46f8266d0737457b\n"
     ]
    },
    {
     "data": {
      "application/vnd.jupyter.widget-view+json": {
       "model_id": "59518cdc6d87497c9b7618e1b60489bc",
       "version_major": 2,
       "version_minor": 0
      },
      "text/plain": [
       "  0%|          | 0/552 [00:00<?, ?it/s]"
      ]
     },
     "metadata": {},
     "output_type": "display_data"
    },
    {
     "name": "stdout",
     "output_type": "stream",
     "text": [
      "Data converted: 89.3%\n",
      "Processing #7: Site-5d2709bb03f801723c32852c\n"
     ]
    },
    {
     "data": {
      "application/vnd.jupyter.widget-view+json": {
       "model_id": "eba2362004d147afa11823f30e411cea",
       "version_major": 2,
       "version_minor": 0
      },
      "text/plain": [
       "  0%|          | 0/264 [00:00<?, ?it/s]"
      ]
     },
     "metadata": {},
     "output_type": "display_data"
    },
    {
     "name": "stdout",
     "output_type": "stream",
     "text": [
      "Data converted: 94.0%\n",
      "Processing #8: Site-5d27096c03f801723c31e5e0\n"
     ]
    },
    {
     "data": {
      "application/vnd.jupyter.widget-view+json": {
       "model_id": "57cd4ae86afc475da776ac3ed968d3b9",
       "version_major": 2,
       "version_minor": 0
      },
      "text/plain": [
       "  0%|          | 0/351 [00:00<?, ?it/s]"
      ]
     },
     "metadata": {},
     "output_type": "display_data"
    },
    {
     "name": "stdout",
     "output_type": "stream",
     "text": [
      "Data converted: 82.4%\n",
      "Processing #9: Site-5a0546857ecc773753327266\n"
     ]
    },
    {
     "data": {
      "application/vnd.jupyter.widget-view+json": {
       "model_id": "23a78edfbd8b4f8898da0fe541a0571e",
       "version_major": 2,
       "version_minor": 0
      },
      "text/plain": [
       "  0%|          | 0/514 [00:00<?, ?it/s]"
      ]
     },
     "metadata": {},
     "output_type": "display_data"
    },
    {
     "name": "stdout",
     "output_type": "stream",
     "text": [
      "Data converted: 80.9%\n",
      "Processing #10: Site-5c3c44b80379370013e0fd2b\n"
     ]
    },
    {
     "data": {
      "application/vnd.jupyter.widget-view+json": {
       "model_id": "69dea09ad2ae473d867ee9c2eb39dd0c",
       "version_major": 2,
       "version_minor": 0
      },
      "text/plain": [
       "  0%|          | 0/385 [00:00<?, ?it/s]"
      ]
     },
     "metadata": {},
     "output_type": "display_data"
    },
    {
     "name": "stdout",
     "output_type": "stream",
     "text": [
      "Data converted: 87.6%\n",
      "Processing #11: Site-5d27097f03f801723c320d97\n"
     ]
    },
    {
     "data": {
      "application/vnd.jupyter.widget-view+json": {
       "model_id": "ceb4fcbb99254603ba6d6c355a45d20c",
       "version_major": 2,
       "version_minor": 0
      },
      "text/plain": [
       "  0%|          | 0/404 [00:00<?, ?it/s]"
      ]
     },
     "metadata": {},
     "output_type": "display_data"
    },
    {
     "name": "stdout",
     "output_type": "stream",
     "text": [
      "Data converted: 89.2%\n",
      "Processing #12: Site-5da1382d4db8ce0c98bbe92e\n"
     ]
    },
    {
     "data": {
      "application/vnd.jupyter.widget-view+json": {
       "model_id": "76d68a8bc1884345b5e9aaba962b1a92",
       "version_major": 2,
       "version_minor": 0
      },
      "text/plain": [
       "  0%|          | 0/338 [00:00<?, ?it/s]"
      ]
     },
     "metadata": {},
     "output_type": "display_data"
    },
    {
     "name": "stdout",
     "output_type": "stream",
     "text": [
      "Data converted: 89.1%\n",
      "Processing #13: Site-5d2709b303f801723c327472\n"
     ]
    },
    {
     "data": {
      "application/vnd.jupyter.widget-view+json": {
       "model_id": "9ddd26ee885044ba939aa9b88bf7e1cb",
       "version_major": 2,
       "version_minor": 0
      },
      "text/plain": [
       "  0%|          | 0/639 [00:00<?, ?it/s]"
      ]
     },
     "metadata": {},
     "output_type": "display_data"
    },
    {
     "name": "stdout",
     "output_type": "stream",
     "text": [
      "Data converted: 80.9%\n",
      "Processing #14: Site-5d2709d403f801723c32bd39\n"
     ]
    },
    {
     "data": {
      "application/vnd.jupyter.widget-view+json": {
       "model_id": "4e1e67ed49664964ab4b593fcc1e974c",
       "version_major": 2,
       "version_minor": 0
      },
      "text/plain": [
       "  0%|          | 0/361 [00:00<?, ?it/s]"
      ]
     },
     "metadata": {},
     "output_type": "display_data"
    },
    {
     "name": "stdout",
     "output_type": "stream",
     "text": [
      "Data converted: 85.2%\n",
      "Processing #15: Site-5da138764db8ce0c98bcaa46\n"
     ]
    },
    {
     "data": {
      "application/vnd.jupyter.widget-view+json": {
       "model_id": "d322ec5569aa4916b448af6590d9de9a",
       "version_major": 2,
       "version_minor": 0
      },
      "text/plain": [
       "  0%|          | 0/513 [00:00<?, ?it/s]"
      ]
     },
     "metadata": {},
     "output_type": "display_data"
    },
    {
     "name": "stdout",
     "output_type": "stream",
     "text": [
      "Data converted: 83.0%\n",
      "Processing #16: Site-5da1383b4db8ce0c98bc11ab\n"
     ]
    },
    {
     "data": {
      "application/vnd.jupyter.widget-view+json": {
       "model_id": "e169726461f54555942935fdb3b5526a",
       "version_major": 2,
       "version_minor": 0
      },
      "text/plain": [
       "  0%|          | 0/239 [00:00<?, ?it/s]"
      ]
     },
     "metadata": {},
     "output_type": "display_data"
    },
    {
     "name": "stdout",
     "output_type": "stream",
     "text": [
      "Data converted: 93.2%\n",
      "Processing #17: Site-5d2709e003f801723c32d896\n"
     ]
    },
    {
     "data": {
      "application/vnd.jupyter.widget-view+json": {
       "model_id": "430ba62ac95e4c10b5f946d2da87fd8b",
       "version_major": 2,
       "version_minor": 0
      },
      "text/plain": [
       "  0%|          | 0/343 [00:00<?, ?it/s]"
      ]
     },
     "metadata": {},
     "output_type": "display_data"
    },
    {
     "name": "stdout",
     "output_type": "stream",
     "text": [
      "Data converted: 88.5%\n",
      "Processing #18: Site-5da138754db8ce0c98bca82f\n"
     ]
    },
    {
     "data": {
      "application/vnd.jupyter.widget-view+json": {
       "model_id": "c724e982b2a94de4bae91e448b556274",
       "version_major": 2,
       "version_minor": 0
      },
      "text/plain": [
       "  0%|          | 0/205 [00:00<?, ?it/s]"
      ]
     },
     "metadata": {},
     "output_type": "display_data"
    },
    {
     "name": "stdout",
     "output_type": "stream",
     "text": [
      "Data converted: 85.5%\n",
      "Processing #19: Site-5da1389e4db8ce0c98bd0547\n"
     ]
    },
    {
     "data": {
      "application/vnd.jupyter.widget-view+json": {
       "model_id": "8bf5252c680f402b9ea1cb4aee001a77",
       "version_major": 2,
       "version_minor": 0
      },
      "text/plain": [
       "  0%|          | 0/514 [00:00<?, ?it/s]"
      ]
     },
     "metadata": {},
     "output_type": "display_data"
    },
    {
     "name": "stdout",
     "output_type": "stream",
     "text": [
      "Data converted: 74.2%\n",
      "Processing #20: Site-5da138314db8ce0c98bbf3a0\n"
     ]
    },
    {
     "data": {
      "application/vnd.jupyter.widget-view+json": {
       "model_id": "fd25df53ee1f44f8ad8841b1bfb4e651",
       "version_major": 2,
       "version_minor": 0
      },
      "text/plain": [
       "  0%|          | 0/428 [00:00<?, ?it/s]"
      ]
     },
     "metadata": {},
     "output_type": "display_data"
    },
    {
     "name": "stdout",
     "output_type": "stream",
     "text": [
      "Data converted: 70.3%\n",
      "Processing #21: Site-5d2709a003f801723c3251bf\n"
     ]
    },
    {
     "data": {
      "application/vnd.jupyter.widget-view+json": {
       "model_id": "c98e6f868405419388f0d8ffbe5fb1f4",
       "version_major": 2,
       "version_minor": 0
      },
      "text/plain": [
       "  0%|          | 0/310 [00:00<?, ?it/s]"
      ]
     },
     "metadata": {},
     "output_type": "display_data"
    },
    {
     "name": "stdout",
     "output_type": "stream",
     "text": [
      "Data converted: 65.5%\n",
      "Processing #22: Site-5d27099f03f801723c32511d\n"
     ]
    },
    {
     "data": {
      "application/vnd.jupyter.widget-view+json": {
       "model_id": "ec107cebf8fd4c2ea3b2b81d8bea6ac4",
       "version_major": 2,
       "version_minor": 0
      },
      "text/plain": [
       "  0%|          | 0/131 [00:00<?, ?it/s]"
      ]
     },
     "metadata": {},
     "output_type": "display_data"
    },
    {
     "name": "stdout",
     "output_type": "stream",
     "text": [
      "Data converted: 87.2%\n",
      "Processing #23: Site-5da138364db8ce0c98bc00f1\n"
     ]
    },
    {
     "data": {
      "application/vnd.jupyter.widget-view+json": {
       "model_id": "059041eeedb14fec9c976aabd1948e1a",
       "version_major": 2,
       "version_minor": 0
      },
      "text/plain": [
       "  0%|          | 0/82 [00:00<?, ?it/s]"
      ]
     },
     "metadata": {},
     "output_type": "display_data"
    },
    {
     "name": "stdout",
     "output_type": "stream",
     "text": [
      "Data converted: 85.7%\n",
      "Processing #24: Site-5da138274db8ce0c98bbd3d2\n"
     ]
    },
    {
     "data": {
      "application/vnd.jupyter.widget-view+json": {
       "model_id": "fdaa46a25fd646ea947212edb1a79c49",
       "version_major": 2,
       "version_minor": 0
      },
      "text/plain": [
       "  0%|          | 0/213 [00:00<?, ?it/s]"
      ]
     },
     "metadata": {},
     "output_type": "display_data"
    },
    {
     "name": "stdout",
     "output_type": "stream",
     "text": [
      "Data converted: 67.2%\n"
     ]
    }
   ],
   "source": [
    "site_ids = [\"5d27075f03f801723c2e360f\", \"5dc8cea7659e181adb076a3f\", \"5dbc1d84c1eb61796cf7c010\", \"5da138b74db8ce0c98bd4774\",\n",
    "            \"5d2709c303f801723c3299ee\", \"5da958dd46f8266d0737457b\", \"5d2709bb03f801723c32852c\", \"5d27096c03f801723c31e5e0\",\n",
    "            \"5a0546857ecc773753327266\", \"5c3c44b80379370013e0fd2b\", \"5d27097f03f801723c320d97\", \"5da1382d4db8ce0c98bbe92e\",\n",
    "            \"5d2709b303f801723c327472\", \"5d2709d403f801723c32bd39\", \"5da138764db8ce0c98bcaa46\", \"5da1383b4db8ce0c98bc11ab\",\n",
    "            \"5d2709e003f801723c32d896\", \"5da138754db8ce0c98bca82f\", \"5da1389e4db8ce0c98bd0547\", \"5da138314db8ce0c98bbf3a0\",\n",
    "            \"5d2709a003f801723c3251bf\", \"5d27099f03f801723c32511d\", \"5da138364db8ce0c98bc00f1\", \"5da138274db8ce0c98bbd3d2\"]\n",
    "#site_ids = [\"5da1389e4db8ce0c98bd0547\"]\n",
    "\n",
    "len_seq = 20  # number ot time stamps per sequence, with ~2/second, e.g. len5/10/20 = \"2.5/5/10sec duration\n",
    "\n",
    "num_s = 0\n",
    "for site_id in tqdm(site_ids): # over sites\n",
    "    num_s += 1\n",
    "    print(f\"Processing #{num_s}: Site-{site_id}\")\n",
    "    record = pickle.load(open(f\"./data_out/full24/{site_id}_10k_mix-counts.pkl\", \"rb\"))\n",
    "    \n",
    "    main_dfs = []\n",
    "    gr = record.groupby([\"trace\"])\n",
    "    for group in tqdm(gr.groups):  # loop over traces\n",
    "        trace_dfs = []   #list of sequences/DataFrames\n",
    "\n",
    "        _group = gr.get_group(group).copy()\n",
    "        #_ = _group.pop(\"time\")\n",
    "        #_ = _group.pop(\"trace\")\n",
    "        _len = _group.shape[0]\n",
    "        n_seq = _len//len_seq\n",
    "        \n",
    "        # loop over every sequence for a given trace (skip redundant data)\n",
    "        for i in range(n_seq):\n",
    "            post_rec = _group[len_seq*i:len_seq*(i+1)].copy().reset_index(drop=True)\n",
    "            post_rec.loc[0, [\"rx\", \"ry\"]] = 0.0\n",
    "            post_rec[\"rx_cum\"] = post_rec[\"rx\"].cumsum()\n",
    "            post_rec[\"ry_cum\"] = post_rec[\"ry\"].cumsum()\n",
    "\n",
    "            trace_dfs.append(post_rec)\n",
    "\n",
    "        if len(trace_dfs)>0:  # some sequences are available\n",
    "            main_dfs.append(pd.concat(trace_dfs).reset_index(drop=True)) # cobine list of dataframes into single dataframe\n",
    "\n",
    "        #break\n",
    "\n",
    "    main_dfs = pd.concat(main_dfs).reset_index(drop=True) if len(main_dfs)>0 else None\n",
    "    print(f\"Data converted: {round(100*len(main_dfs)/len(record), 1)}%\")\n",
    "    # saving model for a given site_id\n",
    "    with open(f\"./data_out/full24/seq{len_seq}/{site_id}_10k_mix-counts.pkl\", \"wb\") as f:\n",
    "        pickle.dump(main_dfs, f)\n",
    "    "
   ]
  },
  {
   "cell_type": "code",
   "execution_count": null,
   "id": "9af860bb",
   "metadata": {},
   "outputs": [],
   "source": []
  },
  {
   "cell_type": "markdown",
   "id": "90da7400",
   "metadata": {},
   "source": [
    "Create Train data with ranked BSSID/RSSI/Delay (for DNNv2 -> LSTMv2 + LSTMv3)"
   ]
  },
  {
   "cell_type": "code",
   "execution_count": 2,
   "id": "90e619af",
   "metadata": {},
   "outputs": [],
   "source": [
    "wifi_data_train = pickle.load(open(\"./data_out/train_24IDs_standardF_wifi.pkl\", \"rb\"))"
   ]
  },
  {
   "cell_type": "code",
   "execution_count": 3,
   "id": "9981e8cd",
   "metadata": {},
   "outputs": [],
   "source": [
    "rotate_data = pickle.load(open(\"./data_out/train_24IDs_standardF_rotate.pkl\", \"rb\"))\n",
    "magnetic_data = pickle.load(open(\"./data_out/train_24IDs_standardF_magnetic.pkl\", \"rb\"))\n",
    "\n",
    "steps_data = pickle.load(open(\"./data_out/train_24IDs_standardF_steps.pkl\", \"rb\"))"
   ]
  },
  {
   "cell_type": "code",
   "execution_count": 18,
   "id": "907d4f3d",
   "metadata": {
    "collapsed": true,
    "jupyter": {
     "outputs_hidden": true
    },
    "tags": []
   },
   "outputs": [
    {
     "data": {
      "application/vnd.jupyter.widget-view+json": {
       "model_id": "e208e1ab76794af1b926358eadda3fae",
       "version_major": 2,
       "version_minor": 0
      },
      "text/plain": [
       "  0%|          | 0/24 [00:00<?, ?it/s]"
      ]
     },
     "metadata": {},
     "output_type": "display_data"
    },
    {
     "name": "stdout",
     "output_type": "stream",
     "text": [
      "Processing #1: Site-5da1389e4db8ce0c98bd0547 with 514 traces and 424 bssids\n"
     ]
    },
    {
     "data": {
      "application/vnd.jupyter.widget-view+json": {
       "model_id": "aa6c1b458fcf434fbe37732dc5de0589",
       "version_major": 2,
       "version_minor": 0
      },
      "text/plain": [
       "  0%|          | 0/514 [00:00<?, ?it/s]"
      ]
     },
     "metadata": {},
     "output_type": "display_data"
    },
    {
     "name": "stdout",
     "output_type": "stream",
     "text": [
      "Processing #2: Site-5da138b74db8ce0c98bd4774 with 748 traces and 2358 bssids\n"
     ]
    },
    {
     "data": {
      "application/vnd.jupyter.widget-view+json": {
       "model_id": "15deacaf64f742e5b88468e35fe912f9",
       "version_major": 2,
       "version_minor": 0
      },
      "text/plain": [
       "  0%|          | 0/748 [00:00<?, ?it/s]"
      ]
     },
     "metadata": {},
     "output_type": "display_data"
    },
    {
     "name": "stdout",
     "output_type": "stream",
     "text": [
      "Processing #3: Site-5da138764db8ce0c98bcaa46 with 513 traces and 1218 bssids\n"
     ]
    },
    {
     "data": {
      "application/vnd.jupyter.widget-view+json": {
       "model_id": "af31a91210954106a4963ad4eee36e41",
       "version_major": 2,
       "version_minor": 0
      },
      "text/plain": [
       "  0%|          | 0/513 [00:00<?, ?it/s]"
      ]
     },
     "metadata": {},
     "output_type": "display_data"
    },
    {
     "name": "stdout",
     "output_type": "stream",
     "text": [
      "Processing #4: Site-5dbc1d84c1eb61796cf7c010 with 793 traces and 3594 bssids\n"
     ]
    },
    {
     "data": {
      "application/vnd.jupyter.widget-view+json": {
       "model_id": "817fc0bca41d4b1cba01c45d890ad3d4",
       "version_major": 2,
       "version_minor": 0
      },
      "text/plain": [
       "  0%|          | 0/793 [00:00<?, ?it/s]"
      ]
     },
     "metadata": {},
     "output_type": "display_data"
    },
    {
     "name": "stdout",
     "output_type": "stream",
     "text": [
      "Processing #5: Site-5da1383b4db8ce0c98bc11ab with 239 traces and 1087 bssids\n"
     ]
    },
    {
     "data": {
      "application/vnd.jupyter.widget-view+json": {
       "model_id": "ccc831ce8b024d7ab8ed91cdb4d199ce",
       "version_major": 2,
       "version_minor": 0
      },
      "text/plain": [
       "  0%|          | 0/239 [00:00<?, ?it/s]"
      ]
     },
     "metadata": {},
     "output_type": "display_data"
    },
    {
     "name": "stdout",
     "output_type": "stream",
     "text": [
      "Processing #6: Site-5d2709a003f801723c3251bf with 310 traces and 868 bssids\n"
     ]
    },
    {
     "data": {
      "application/vnd.jupyter.widget-view+json": {
       "model_id": "7fede084f2a243d5803f8dd72a1dca8c",
       "version_major": 2,
       "version_minor": 0
      },
      "text/plain": [
       "  0%|          | 0/310 [00:00<?, ?it/s]"
      ]
     },
     "metadata": {},
     "output_type": "display_data"
    },
    {
     "name": "stdout",
     "output_type": "stream",
     "text": [
      "Processing #7: Site-5a0546857ecc773753327266 with 514 traces and 2399 bssids\n"
     ]
    },
    {
     "data": {
      "application/vnd.jupyter.widget-view+json": {
       "model_id": "fc4fcd7e321c4ee1b5144cc2aed9d8da",
       "version_major": 2,
       "version_minor": 0
      },
      "text/plain": [
       "  0%|          | 0/514 [00:00<?, ?it/s]"
      ]
     },
     "metadata": {},
     "output_type": "display_data"
    },
    {
     "name": "stdout",
     "output_type": "stream",
     "text": [
      "Processing #8: Site-5da138274db8ce0c98bbd3d2 with 213 traces and 290 bssids\n"
     ]
    },
    {
     "data": {
      "application/vnd.jupyter.widget-view+json": {
       "model_id": "d8e74c32172d4eae93515c599fe5ac43",
       "version_major": 2,
       "version_minor": 0
      },
      "text/plain": [
       "  0%|          | 0/213 [00:00<?, ?it/s]"
      ]
     },
     "metadata": {},
     "output_type": "display_data"
    },
    {
     "name": "stdout",
     "output_type": "stream",
     "text": [
      "Processing #9: Site-5d2709b303f801723c327472 with 639 traces and 1146 bssids\n"
     ]
    },
    {
     "data": {
      "application/vnd.jupyter.widget-view+json": {
       "model_id": "fa61bb9f9c7f4fd29e508ef8a0ab0d18",
       "version_major": 2,
       "version_minor": 0
      },
      "text/plain": [
       "  0%|          | 0/639 [00:00<?, ?it/s]"
      ]
     },
     "metadata": {},
     "output_type": "display_data"
    },
    {
     "name": "stdout",
     "output_type": "stream",
     "text": [
      "Processing #10: Site-5da958dd46f8266d0737457b with 552 traces and 2863 bssids\n"
     ]
    },
    {
     "data": {
      "application/vnd.jupyter.widget-view+json": {
       "model_id": "a052b95272bb4a4787b0d22c7093e497",
       "version_major": 2,
       "version_minor": 0
      },
      "text/plain": [
       "  0%|          | 0/552 [00:00<?, ?it/s]"
      ]
     },
     "metadata": {},
     "output_type": "display_data"
    },
    {
     "name": "stdout",
     "output_type": "stream",
     "text": [
      "Processing #11: Site-5d2709bb03f801723c32852c with 264 traces and 1516 bssids\n"
     ]
    },
    {
     "data": {
      "application/vnd.jupyter.widget-view+json": {
       "model_id": "2429d4e2dce447cfbe87d587d580172e",
       "version_major": 2,
       "version_minor": 0
      },
      "text/plain": [
       "  0%|          | 0/264 [00:00<?, ?it/s]"
      ]
     },
     "metadata": {},
     "output_type": "display_data"
    },
    {
     "name": "stdout",
     "output_type": "stream",
     "text": [
      "Processing #12: Site-5d2709d403f801723c32bd39 with 361 traces and 1603 bssids\n"
     ]
    },
    {
     "data": {
      "application/vnd.jupyter.widget-view+json": {
       "model_id": "f18d51c02b4149a8ae8022cf138322aa",
       "version_major": 2,
       "version_minor": 0
      },
      "text/plain": [
       "  0%|          | 0/361 [00:00<?, ?it/s]"
      ]
     },
     "metadata": {},
     "output_type": "display_data"
    },
    {
     "name": "stdout",
     "output_type": "stream",
     "text": [
      "Processing #13: Site-5dc8cea7659e181adb076a3f with 745 traces and 2464 bssids\n"
     ]
    },
    {
     "data": {
      "application/vnd.jupyter.widget-view+json": {
       "model_id": "457ad04c4377497b86450b975cae9967",
       "version_major": 2,
       "version_minor": 0
      },
      "text/plain": [
       "  0%|          | 0/745 [00:00<?, ?it/s]"
      ]
     },
     "metadata": {},
     "output_type": "display_data"
    },
    {
     "name": "stdout",
     "output_type": "stream",
     "text": [
      "Processing #14: Site-5d27096c03f801723c31e5e0 with 351 traces and 1033 bssids\n"
     ]
    },
    {
     "data": {
      "application/vnd.jupyter.widget-view+json": {
       "model_id": "2f9f84e7a38b48cab2393ca6fa671a28",
       "version_major": 2,
       "version_minor": 0
      },
      "text/plain": [
       "  0%|          | 0/351 [00:00<?, ?it/s]"
      ]
     },
     "metadata": {},
     "output_type": "display_data"
    },
    {
     "name": "stdout",
     "output_type": "stream",
     "text": [
      "Processing #15: Site-5d2709c303f801723c3299ee with 664 traces and 4325 bssids\n"
     ]
    },
    {
     "data": {
      "application/vnd.jupyter.widget-view+json": {
       "model_id": "530814c0efc34384b3fff66f698bb3f0",
       "version_major": 2,
       "version_minor": 0
      },
      "text/plain": [
       "  0%|          | 0/664 [00:00<?, ?it/s]"
      ]
     },
     "metadata": {},
     "output_type": "display_data"
    },
    {
     "name": "stdout",
     "output_type": "stream",
     "text": [
      "Processing #16: Site-5da138314db8ce0c98bbf3a0 with 428 traces and 898 bssids\n"
     ]
    },
    {
     "data": {
      "application/vnd.jupyter.widget-view+json": {
       "model_id": "45c974235c2e460b8b8de686cdbe48c4",
       "version_major": 2,
       "version_minor": 0
      },
      "text/plain": [
       "  0%|          | 0/428 [00:00<?, ?it/s]"
      ]
     },
     "metadata": {},
     "output_type": "display_data"
    },
    {
     "name": "stdout",
     "output_type": "stream",
     "text": [
      "Processing #17: Site-5da1382d4db8ce0c98bbe92e with 338 traces and 1781 bssids\n"
     ]
    },
    {
     "data": {
      "application/vnd.jupyter.widget-view+json": {
       "model_id": "8e516595bd8d4b6e9eea6d661faa3072",
       "version_major": 2,
       "version_minor": 0
      },
      "text/plain": [
       "  0%|          | 0/338 [00:00<?, ?it/s]"
      ]
     },
     "metadata": {},
     "output_type": "display_data"
    },
    {
     "name": "stdout",
     "output_type": "stream",
     "text": [
      "Processing #18: Site-5d27075f03f801723c2e360f with 1141 traces and 1234 bssids\n"
     ]
    },
    {
     "data": {
      "application/vnd.jupyter.widget-view+json": {
       "model_id": "96d34720514046c4b836fb859eebb8e3",
       "version_major": 2,
       "version_minor": 0
      },
      "text/plain": [
       "  0%|          | 0/1141 [00:00<?, ?it/s]"
      ]
     },
     "metadata": {},
     "output_type": "display_data"
    },
    {
     "name": "stdout",
     "output_type": "stream",
     "text": [
      "Processing #19: Site-5da138754db8ce0c98bca82f with 205 traces and 1091 bssids\n"
     ]
    },
    {
     "data": {
      "application/vnd.jupyter.widget-view+json": {
       "model_id": "74d996c74980439d853f01a8163c0b61",
       "version_major": 2,
       "version_minor": 0
      },
      "text/plain": [
       "  0%|          | 0/205 [00:00<?, ?it/s]"
      ]
     },
     "metadata": {},
     "output_type": "display_data"
    },
    {
     "name": "stdout",
     "output_type": "stream",
     "text": [
      "Processing #20: Site-5d2709e003f801723c32d896 with 343 traces and 954 bssids\n"
     ]
    },
    {
     "data": {
      "application/vnd.jupyter.widget-view+json": {
       "model_id": "ca78f095af5b4c588dfcb4c55d4204dd",
       "version_major": 2,
       "version_minor": 0
      },
      "text/plain": [
       "  0%|          | 0/343 [00:00<?, ?it/s]"
      ]
     },
     "metadata": {},
     "output_type": "display_data"
    },
    {
     "name": "stdout",
     "output_type": "stream",
     "text": [
      "Processing #21: Site-5d27097f03f801723c320d97 with 404 traces and 1114 bssids\n"
     ]
    },
    {
     "data": {
      "application/vnd.jupyter.widget-view+json": {
       "model_id": "c55e164f99a2426d8092694a58990788",
       "version_major": 2,
       "version_minor": 0
      },
      "text/plain": [
       "  0%|          | 0/404 [00:00<?, ?it/s]"
      ]
     },
     "metadata": {},
     "output_type": "display_data"
    },
    {
     "name": "stdout",
     "output_type": "stream",
     "text": [
      "Processing #22: Site-5da138364db8ce0c98bc00f1 with 82 traces and 500 bssids\n"
     ]
    },
    {
     "data": {
      "application/vnd.jupyter.widget-view+json": {
       "model_id": "615c6c7eb27b4881a539487a6e852f78",
       "version_major": 2,
       "version_minor": 0
      },
      "text/plain": [
       "  0%|          | 0/82 [00:00<?, ?it/s]"
      ]
     },
     "metadata": {},
     "output_type": "display_data"
    },
    {
     "name": "stdout",
     "output_type": "stream",
     "text": [
      "Processing #23: Site-5c3c44b80379370013e0fd2b with 385 traces and 1070 bssids\n"
     ]
    },
    {
     "data": {
      "application/vnd.jupyter.widget-view+json": {
       "model_id": "8be922a5370c4d1e9e8b622d643f6e39",
       "version_major": 2,
       "version_minor": 0
      },
      "text/plain": [
       "  0%|          | 0/385 [00:00<?, ?it/s]"
      ]
     },
     "metadata": {},
     "output_type": "display_data"
    },
    {
     "name": "stdout",
     "output_type": "stream",
     "text": [
      "Processing #24: Site-5d27099f03f801723c32511d with 131 traces and 554 bssids\n"
     ]
    },
    {
     "data": {
      "application/vnd.jupyter.widget-view+json": {
       "model_id": "4277fa0a3aa24c74a1e719fd81e77157",
       "version_major": 2,
       "version_minor": 0
      },
      "text/plain": [
       "  0%|          | 0/131 [00:00<?, ?it/s]"
      ]
     },
     "metadata": {},
     "output_type": "display_data"
    }
   ],
   "source": [
    "# create list of intersectional train/test bssids\n",
    "train_bssid = pickle.load(open(\"./data_out/train_24IDs_standardF_bssid_ranks.pkl\", \"rb\"))\n",
    "test_bssid = pickle.load(open(\"./data_out/test_bssid_ranks.pkl\", \"rb\"))\n",
    "\n",
    "bssid = {}\n",
    "for site_id in test_bssid[\"count\"]:\n",
    "    _train_bssid = train_bssid[\"count\"][site_id].bssid.tolist()\n",
    "    _test_bssid = test_bssid[\"count\"][site_id].bssid.tolist()\n",
    "    _mix = list(set(_train_bssid) & set(_test_bssid))   \n",
    "    bssid[site_id] = _mix\n",
    "\n",
    "num_bssid = 100\n",
    "tlim = 3000  # in miliseconds. If 0= no timelimit\n",
    "col_names = [[f\"bssid_{i}\", f\"rssi_{i}\", f\"d_{i}\"] for i in range(num_bssid)] \n",
    "col_names = [item for sublist in col_names for item in sublist]\n",
    "\n",
    "num_s = 0\n",
    "for site_id in tqdm(bssid.keys()): # over sites\n",
    "    num_s += 1\n",
    "    print(f\"Processing #{num_s}: Site-{site_id} with {len(steps_data[site_id])} traces and {len(bssid[site_id])} bssids\")\n",
    "    \n",
    "    site_trace_record_wifi = []\n",
    "    for trace_id in tqdm(wifi_data_train[site_id].keys()):  # over traces\n",
    "\n",
    "        wifi_record = wifi_data_train[site_id][trace_id][1].copy()  # bssid vs rssi/delays\n",
    "        steps_record = steps_data[site_id][trace_id].copy()  # x,y\n",
    "        rotate_record = rotate_data[site_id][trace_id][1]  # r\n",
    "        magnetic_record = magnetic_data[site_id][trace_id][1] # m      \n",
    "\n",
    "        # initialize dataframe for a given trace\n",
    "        timestamps = wifi_record.time.unique()\n",
    "        if len(timestamps) < 1: continue  # no wifi data in file\n",
    "            \n",
    "        trace_record_wifi = pd.DataFrame(columns=col_names).astype(int)\n",
    "        trace_record_wifi[\"time\"] = timestamps\n",
    "####### Combine rssi/delays vs BSSIDs   ################################### \n",
    "        wifi_record[\"rank\"] = wifi_record.rssi*(1 if tlim > 1 else wifi_record.delay)   # or np.log10(wifi_record.delay)\n",
    "        for i_t, t in enumerate(timestamps):  # over times in trace/for each wifi record\n",
    "            \n",
    "            if tlim > 1:\n",
    "                wifi_record_t = wifi_record[(wifi_record.time == t) & (wifi_record.delay < tlim)].sort_values(by=\"rank\", ascending=False, ignore_index=True)   # bssid/rssi/delay\n",
    "            else:\n",
    "                wifi_record_t = wifi_record[wifi_record.time == t].sort_values(by=\"rank\", ascending=False, ignore_index=True)   # bssid/rssi/delay\n",
    "            num_bssid_t = len(wifi_record_t)\n",
    "            \n",
    "            if num_bssid > num_bssid_t: # generate random bssid names and fill with extreme values\n",
    "                dummy_bssid = np.arange(num_bssid-num_bssid_t).astype(str)\n",
    "                wifi_record_dummy = pd.DataFrame({\"bssid\": dummy_bssid, \n",
    "                                                  \"rssi\": train_bssid[\"min_rssi\"][site_id], \n",
    "                                                  \"delay\": tlim if tlim > 1 else train_bssid[\"max_delay\"][site_id], \n",
    "                                                  \"rank\": train_bssid[\"min_rssi\"][site_id]*(1 if tlim > 1 else train_bssid[\"max_delay\"][site_id])})\n",
    "                wifi_record_t = pd.concat([wifi_record_t, wifi_record_dummy], ignore_index=True)\n",
    "             \n",
    "            # fill with wifi data\n",
    "            for i_rank in range(num_bssid):\n",
    "                trace_record_wifi.loc[i_t, f\"bssid_{i_rank}\"] = wifi_record_t.bssid[i_rank]\n",
    "                trace_record_wifi.loc[i_t, f\"rssi_{i_rank}\"] = wifi_record_t.rssi[i_rank]\n",
    "                trace_record_wifi.loc[i_t, f\"d_{i_rank}\"] = wifi_record_t.delay[i_rank]\n",
    "############################################################################################          \n",
    "\n",
    "        # absolute x/y positions of steps, floor number\n",
    "        trace_record_wifi[\"f\"] = steps_record[0].FloorName[0]\n",
    "        trace_record_wifi[\"x\"] = interp1d(steps_record[1].time.to_numpy(), steps_record[1].x.to_numpy(), kind=\"linear\", fill_value=\"extrapolate\", copy=False, assume_sorted=True)(timestamps)\n",
    "        trace_record_wifi[\"y\"] = interp1d(steps_record[1].time.to_numpy(), steps_record[1].y.to_numpy(), kind=\"linear\", fill_value=\"extrapolate\", copy=False, assume_sorted=True)(timestamps)\n",
    "        # magnetic field intensity\n",
    "        magnetic_intensity = np.sqrt(np.square(magnetic_record.x_axis.to_numpy()) + np.square(magnetic_record.y_axis.to_numpy()) + np.square(magnetic_record.z_axis.to_numpy()))\n",
    "        trace_record_wifi[\"m\"] = interp1d(magnetic_record.time.to_numpy(), magnetic_intensity, kind=\"linear\", fill_value=\"extrapolate\", copy=False, assume_sorted=True)(timestamps)\n",
    "        # z_axis rotation angle (i.e. inplane direction)\n",
    "        trace_record_wifi[\"r\"] = interp1d(rotate_record.time.to_numpy(), rotate_record.z_axis.to_numpy(), kind=\"linear\", fill_value=\"extrapolate\", copy=False, assume_sorted=True)(timestamps)\n",
    "        # trace_id\n",
    "        trace_record_wifi[\"trace\"] = trace_id\n",
    "        \n",
    "        site_trace_record_wifi.append(trace_record_wifi)\n",
    "        #break  # only fist trace\n",
    "\n",
    "    site_trace_record_wifi = pd.concat(site_trace_record_wifi, ignore_index=True)\n",
    "        \n",
    "    # saving model for a given site_id\n",
    "    with open(f\"./data_out/wifi24/{site_id}_interBSSID_limit{int(tlim/1000)}s.pkl\", \"wb\") as f:\n",
    "        pickle.dump(site_trace_record_wifi, f)\n",
    "    #break  # only first site"
   ]
  },
  {
   "cell_type": "markdown",
   "id": "828dce06",
   "metadata": {},
   "source": [
    "Convert Train data with ordered BSSID/RSSI/Delay into BSSID-RANK-sequences (LSTMv2)"
   ]
  },
  {
   "cell_type": "code",
   "execution_count": 71,
   "id": "582a0f64",
   "metadata": {
    "collapsed": true,
    "jupyter": {
     "outputs_hidden": true
    },
    "tags": []
   },
   "outputs": [
    {
     "data": {
      "application/vnd.jupyter.widget-view+json": {
       "model_id": "fff24af4ad804126bf78d913e6813f4d",
       "version_major": 2,
       "version_minor": 0
      },
      "text/plain": [
       "  0%|          | 0/24 [00:00<?, ?it/s]"
      ]
     },
     "metadata": {},
     "output_type": "display_data"
    },
    {
     "name": "stdout",
     "output_type": "stream",
     "text": [
      "Processing #1: Site-5d27075f03f801723c2e360f\n"
     ]
    },
    {
     "data": {
      "application/vnd.jupyter.widget-view+json": {
       "model_id": "072a1e8b65f04a1da600f80ad46a9174",
       "version_major": 2,
       "version_minor": 0
      },
      "text/plain": [
       "0it [00:00, ?it/s]"
      ]
     },
     "metadata": {},
     "output_type": "display_data"
    },
    {
     "name": "stdout",
     "output_type": "stream",
     "text": [
      "Processing #2: Site-5dc8cea7659e181adb076a3f\n"
     ]
    },
    {
     "data": {
      "application/vnd.jupyter.widget-view+json": {
       "model_id": "ba150a150cf54258bba37b62bbc87f5c",
       "version_major": 2,
       "version_minor": 0
      },
      "text/plain": [
       "0it [00:00, ?it/s]"
      ]
     },
     "metadata": {},
     "output_type": "display_data"
    },
    {
     "name": "stdout",
     "output_type": "stream",
     "text": [
      "Processing #3: Site-5dbc1d84c1eb61796cf7c010\n"
     ]
    },
    {
     "data": {
      "application/vnd.jupyter.widget-view+json": {
       "model_id": "27750f3ff1f94fcbab0b5a9c8b5dcd2f",
       "version_major": 2,
       "version_minor": 0
      },
      "text/plain": [
       "0it [00:00, ?it/s]"
      ]
     },
     "metadata": {},
     "output_type": "display_data"
    },
    {
     "name": "stdout",
     "output_type": "stream",
     "text": [
      "Processing #4: Site-5da138b74db8ce0c98bd4774\n"
     ]
    },
    {
     "data": {
      "application/vnd.jupyter.widget-view+json": {
       "model_id": "02a396d7f18347a7985ba7be438a5462",
       "version_major": 2,
       "version_minor": 0
      },
      "text/plain": [
       "0it [00:00, ?it/s]"
      ]
     },
     "metadata": {},
     "output_type": "display_data"
    },
    {
     "name": "stdout",
     "output_type": "stream",
     "text": [
      "Processing #5: Site-5d2709c303f801723c3299ee\n"
     ]
    },
    {
     "data": {
      "application/vnd.jupyter.widget-view+json": {
       "model_id": "594e35132a1d4e1f97cda055227124de",
       "version_major": 2,
       "version_minor": 0
      },
      "text/plain": [
       "0it [00:00, ?it/s]"
      ]
     },
     "metadata": {},
     "output_type": "display_data"
    },
    {
     "name": "stdout",
     "output_type": "stream",
     "text": [
      "Processing #6: Site-5da958dd46f8266d0737457b\n"
     ]
    },
    {
     "data": {
      "application/vnd.jupyter.widget-view+json": {
       "model_id": "0db99ba6756f4ce7ae5edbf873436e78",
       "version_major": 2,
       "version_minor": 0
      },
      "text/plain": [
       "0it [00:00, ?it/s]"
      ]
     },
     "metadata": {},
     "output_type": "display_data"
    },
    {
     "name": "stdout",
     "output_type": "stream",
     "text": [
      "Processing #7: Site-5d2709bb03f801723c32852c\n"
     ]
    },
    {
     "data": {
      "application/vnd.jupyter.widget-view+json": {
       "model_id": "dddc5577aa31477785878b8be2930b18",
       "version_major": 2,
       "version_minor": 0
      },
      "text/plain": [
       "0it [00:00, ?it/s]"
      ]
     },
     "metadata": {},
     "output_type": "display_data"
    },
    {
     "name": "stdout",
     "output_type": "stream",
     "text": [
      "Processing #8: Site-5d27096c03f801723c31e5e0\n"
     ]
    },
    {
     "data": {
      "application/vnd.jupyter.widget-view+json": {
       "model_id": "30c02f481e614715a022a675b10551cb",
       "version_major": 2,
       "version_minor": 0
      },
      "text/plain": [
       "0it [00:00, ?it/s]"
      ]
     },
     "metadata": {},
     "output_type": "display_data"
    },
    {
     "name": "stdout",
     "output_type": "stream",
     "text": [
      "Processing #9: Site-5a0546857ecc773753327266\n"
     ]
    },
    {
     "data": {
      "application/vnd.jupyter.widget-view+json": {
       "model_id": "4d9856b833b9437483829dfdf57b640a",
       "version_major": 2,
       "version_minor": 0
      },
      "text/plain": [
       "0it [00:00, ?it/s]"
      ]
     },
     "metadata": {},
     "output_type": "display_data"
    },
    {
     "name": "stdout",
     "output_type": "stream",
     "text": [
      "Processing #10: Site-5c3c44b80379370013e0fd2b\n"
     ]
    },
    {
     "data": {
      "application/vnd.jupyter.widget-view+json": {
       "model_id": "33e446ddd947406f9fd64cb6a87cf58d",
       "version_major": 2,
       "version_minor": 0
      },
      "text/plain": [
       "0it [00:00, ?it/s]"
      ]
     },
     "metadata": {},
     "output_type": "display_data"
    },
    {
     "name": "stdout",
     "output_type": "stream",
     "text": [
      "Processing #11: Site-5d27097f03f801723c320d97\n"
     ]
    },
    {
     "data": {
      "application/vnd.jupyter.widget-view+json": {
       "model_id": "d0206aabfeb046a4adac37428921fdc2",
       "version_major": 2,
       "version_minor": 0
      },
      "text/plain": [
       "0it [00:00, ?it/s]"
      ]
     },
     "metadata": {},
     "output_type": "display_data"
    },
    {
     "name": "stdout",
     "output_type": "stream",
     "text": [
      "Processing #12: Site-5da1382d4db8ce0c98bbe92e\n"
     ]
    },
    {
     "data": {
      "application/vnd.jupyter.widget-view+json": {
       "model_id": "9e2f195f31fa4c7e89b866925a5b2076",
       "version_major": 2,
       "version_minor": 0
      },
      "text/plain": [
       "0it [00:00, ?it/s]"
      ]
     },
     "metadata": {},
     "output_type": "display_data"
    },
    {
     "name": "stdout",
     "output_type": "stream",
     "text": [
      "Processing #13: Site-5d2709b303f801723c327472\n"
     ]
    },
    {
     "data": {
      "application/vnd.jupyter.widget-view+json": {
       "model_id": "7d802271eab24182bdad809b55874926",
       "version_major": 2,
       "version_minor": 0
      },
      "text/plain": [
       "0it [00:00, ?it/s]"
      ]
     },
     "metadata": {},
     "output_type": "display_data"
    },
    {
     "name": "stdout",
     "output_type": "stream",
     "text": [
      "Processing #14: Site-5d2709d403f801723c32bd39\n"
     ]
    },
    {
     "data": {
      "application/vnd.jupyter.widget-view+json": {
       "model_id": "f1d2566a59c6474ea5ec2ecf70d6febf",
       "version_major": 2,
       "version_minor": 0
      },
      "text/plain": [
       "0it [00:00, ?it/s]"
      ]
     },
     "metadata": {},
     "output_type": "display_data"
    },
    {
     "name": "stdout",
     "output_type": "stream",
     "text": [
      "Processing #15: Site-5da138764db8ce0c98bcaa46\n"
     ]
    },
    {
     "data": {
      "application/vnd.jupyter.widget-view+json": {
       "model_id": "c63a1608d2244ce4827922c3ba55508c",
       "version_major": 2,
       "version_minor": 0
      },
      "text/plain": [
       "0it [00:00, ?it/s]"
      ]
     },
     "metadata": {},
     "output_type": "display_data"
    },
    {
     "name": "stdout",
     "output_type": "stream",
     "text": [
      "Processing #16: Site-5da1383b4db8ce0c98bc11ab\n"
     ]
    },
    {
     "data": {
      "application/vnd.jupyter.widget-view+json": {
       "model_id": "dac136bdb0044e20b0b0bb3dae8991d7",
       "version_major": 2,
       "version_minor": 0
      },
      "text/plain": [
       "0it [00:00, ?it/s]"
      ]
     },
     "metadata": {},
     "output_type": "display_data"
    },
    {
     "name": "stdout",
     "output_type": "stream",
     "text": [
      "Processing #17: Site-5d2709e003f801723c32d896\n"
     ]
    },
    {
     "data": {
      "application/vnd.jupyter.widget-view+json": {
       "model_id": "5fb8caa4120243ddbddd7e508f3b10ec",
       "version_major": 2,
       "version_minor": 0
      },
      "text/plain": [
       "0it [00:00, ?it/s]"
      ]
     },
     "metadata": {},
     "output_type": "display_data"
    },
    {
     "name": "stdout",
     "output_type": "stream",
     "text": [
      "Processing #18: Site-5da138754db8ce0c98bca82f\n"
     ]
    },
    {
     "data": {
      "application/vnd.jupyter.widget-view+json": {
       "model_id": "31f5be1205354217bdbf6f8fb7060c1a",
       "version_major": 2,
       "version_minor": 0
      },
      "text/plain": [
       "0it [00:00, ?it/s]"
      ]
     },
     "metadata": {},
     "output_type": "display_data"
    },
    {
     "name": "stdout",
     "output_type": "stream",
     "text": [
      "Processing #19: Site-5da1389e4db8ce0c98bd0547\n"
     ]
    },
    {
     "data": {
      "application/vnd.jupyter.widget-view+json": {
       "model_id": "e72ec977425f45e7b7d4fa2aa9e5f94a",
       "version_major": 2,
       "version_minor": 0
      },
      "text/plain": [
       "0it [00:00, ?it/s]"
      ]
     },
     "metadata": {},
     "output_type": "display_data"
    },
    {
     "name": "stdout",
     "output_type": "stream",
     "text": [
      "Processing #20: Site-5da138314db8ce0c98bbf3a0\n"
     ]
    },
    {
     "data": {
      "application/vnd.jupyter.widget-view+json": {
       "model_id": "bc68288c02a44c5788e44fd7efe50d55",
       "version_major": 2,
       "version_minor": 0
      },
      "text/plain": [
       "0it [00:00, ?it/s]"
      ]
     },
     "metadata": {},
     "output_type": "display_data"
    },
    {
     "name": "stdout",
     "output_type": "stream",
     "text": [
      "Processing #21: Site-5d2709a003f801723c3251bf\n"
     ]
    },
    {
     "data": {
      "application/vnd.jupyter.widget-view+json": {
       "model_id": "963068f1d6f24d03875cb93986188cca",
       "version_major": 2,
       "version_minor": 0
      },
      "text/plain": [
       "0it [00:00, ?it/s]"
      ]
     },
     "metadata": {},
     "output_type": "display_data"
    },
    {
     "name": "stdout",
     "output_type": "stream",
     "text": [
      "Processing #22: Site-5d27099f03f801723c32511d\n"
     ]
    },
    {
     "data": {
      "application/vnd.jupyter.widget-view+json": {
       "model_id": "7caeaab1db0c4b80821175ce70685a4d",
       "version_major": 2,
       "version_minor": 0
      },
      "text/plain": [
       "0it [00:00, ?it/s]"
      ]
     },
     "metadata": {},
     "output_type": "display_data"
    },
    {
     "name": "stdout",
     "output_type": "stream",
     "text": [
      "Processing #23: Site-5da138364db8ce0c98bc00f1\n"
     ]
    },
    {
     "data": {
      "application/vnd.jupyter.widget-view+json": {
       "model_id": "f4ea6c803d74435894c1b284228cfc95",
       "version_major": 2,
       "version_minor": 0
      },
      "text/plain": [
       "0it [00:00, ?it/s]"
      ]
     },
     "metadata": {},
     "output_type": "display_data"
    },
    {
     "name": "stdout",
     "output_type": "stream",
     "text": [
      "Processing #24: Site-5da138274db8ce0c98bbd3d2\n"
     ]
    },
    {
     "data": {
      "application/vnd.jupyter.widget-view+json": {
       "model_id": "fee57c6f9b5b46a491dd4cc0b50cc580",
       "version_major": 2,
       "version_minor": 0
      },
      "text/plain": [
       "0it [00:00, ?it/s]"
      ]
     },
     "metadata": {},
     "output_type": "display_data"
    }
   ],
   "source": [
    "site_ids = [\"5d27075f03f801723c2e360f\", \"5dc8cea7659e181adb076a3f\", \"5dbc1d84c1eb61796cf7c010\", \"5da138b74db8ce0c98bd4774\",\n",
    "            \"5d2709c303f801723c3299ee\", \"5da958dd46f8266d0737457b\", \"5d2709bb03f801723c32852c\", \"5d27096c03f801723c31e5e0\",\n",
    "            \"5a0546857ecc773753327266\", \"5c3c44b80379370013e0fd2b\", \"5d27097f03f801723c320d97\", \"5da1382d4db8ce0c98bbe92e\",\n",
    "            \"5d2709b303f801723c327472\", \"5d2709d403f801723c32bd39\", \"5da138764db8ce0c98bcaa46\", \"5da1383b4db8ce0c98bc11ab\",\n",
    "            \"5d2709e003f801723c32d896\", \"5da138754db8ce0c98bca82f\", \"5da1389e4db8ce0c98bd0547\", \"5da138314db8ce0c98bbf3a0\",\n",
    "            \"5d2709a003f801723c3251bf\", \"5d27099f03f801723c32511d\", \"5da138364db8ce0c98bc00f1\", \"5da138274db8ce0c98bbd3d2\"]\n",
    "#site_ids = [\"5da1389e4db8ce0c98bd0547\"]\n",
    "\n",
    "len_seq = 100  # max 100\n",
    "\n",
    "num_s = 0\n",
    "for site_id in tqdm(site_ids): # over sites\n",
    "    num_s += 1\n",
    "    print(f\"Processing #{num_s}: Site-{site_id}\")\n",
    "    record = pickle.load(open(f\"./data_out/wifi24/{site_id}_interBSSID_limit3s.pkl\", \"rb\"))\n",
    "    \n",
    "    main_dfs = []\n",
    "    for irec, rec in tqdm(record.iterrows()):\n",
    "        seq = pd.DataFrame({\"bssid\": rec[bssid_cols].tolist()[:len_seq], \n",
    "                            \"rssi\": rec[rssi_cols].tolist()[:len_seq], \n",
    "                            \"f\": rec[\"f\"], \n",
    "                            \"x\": rec[\"x\"], \n",
    "                            \"y\": rec[\"y\"], \n",
    "                            \"m\": rec[\"m\"], \n",
    "                            \"r\": rec[\"r\"], \n",
    "                            \"time\": rec[\"time\"],  \n",
    "                            \"trace\": rec[\"trace\"]})\n",
    "\n",
    "        main_dfs.append(seq)\n",
    "        #break\n",
    "\n",
    "    main_dfs = pd.concat(main_dfs).reset_index(drop=True) if len(main_dfs)>0 else None\n",
    "\n",
    "    # saving model for a given site_id\n",
    "    with open(f\"./data_out/wifi24/seq/{site_id}_interBSSID_limit3s_s{len_seq}.pkl\", \"wb\") as f:\n",
    "        pickle.dump(main_dfs, f)\n",
    "    #break\n",
    "    "
   ]
  },
  {
   "cell_type": "markdown",
   "id": "90d65acf",
   "metadata": {},
   "source": [
    "***\n",
    "Convert Test Data into RSSI/DELAY DataFrame for Inference Phase (DNN+LSTMv1)\n",
    "***"
   ]
  },
  {
   "cell_type": "code",
   "execution_count": 3,
   "id": "fd82e0ad",
   "metadata": {},
   "outputs": [],
   "source": [
    "train_bssid = pickle.load(open(\"./data_out/train_24IDs_standardF_bssid_ranks.pkl\", \"rb\"))\n",
    "test_data = pickle.load(open(\"./data_out/test_data.pkl\", \"rb\"))"
   ]
  },
  {
   "cell_type": "markdown",
   "id": "5e77829d",
   "metadata": {},
   "source": [
    "Wifi-based timesteps"
   ]
  },
  {
   "cell_type": "code",
   "execution_count": 12,
   "id": "3abaf006",
   "metadata": {
    "tags": []
   },
   "outputs": [
    {
     "data": {
      "application/vnd.jupyter.widget-view+json": {
       "model_id": "4467c4d16fa8418d91aa2fa6139ab192",
       "version_major": 2,
       "version_minor": 0
      },
      "text/plain": [
       "  0%|          | 0/24 [00:00<?, ?it/s]"
      ]
     },
     "metadata": {},
     "output_type": "display_data"
    },
    {
     "name": "stdout",
     "output_type": "stream",
     "text": [
      "Processing #1: Site-5da1389e4db8ce0c98bd0547 with 13 traces and 1041 bssids\n",
      "Processing #2: Site-5da138b74db8ce0c98bd4774 with 29 traces and 3546 bssids\n",
      "Processing #3: Site-5da138764db8ce0c98bcaa46 with 36 traces and 1949 bssids\n",
      "Processing #4: Site-5dbc1d84c1eb61796cf7c010 with 50 traces and 4544 bssids\n",
      "Processing #5: Site-5da1383b4db8ce0c98bc11ab with 26 traces and 1554 bssids\n",
      "Processing #6: Site-5d2709a003f801723c3251bf with 20 traces and 1269 bssids\n",
      "Processing #7: Site-5a0546857ecc773753327266 with 29 traces and 3433 bssids\n",
      "Processing #8: Site-5da138274db8ce0c98bbd3d2 with 8 traces and 498 bssids\n",
      "Processing #9: Site-5d2709b303f801723c327472 with 31 traces and 1934 bssids\n",
      "Processing #10: Site-5da958dd46f8266d0737457b with 51 traces and 3531 bssids\n",
      "Processing #11: Site-5d2709bb03f801723c32852c with 34 traces and 2492 bssids\n",
      "Processing #12: Site-5d2709d403f801723c32bd39 with 51 traces and 2308 bssids\n",
      "Processing #13: Site-5dc8cea7659e181adb076a3f with 35 traces and 4923 bssids\n",
      "Processing #14: Site-5d27096c03f801723c31e5e0 with 60 traces and 5469 bssids\n",
      "Processing #15: Site-5d2709c303f801723c3299ee with 31 traces and 5873 bssids\n",
      "Processing #16: Site-5da138314db8ce0c98bbf3a0 with 17 traces and 1223 bssids\n",
      "Processing #17: Site-5da1382d4db8ce0c98bbe92e with 11 traces and 2920 bssids\n",
      "Processing #18: Site-5d27075f03f801723c2e360f with 5 traces and 7033 bssids\n",
      "Processing #19: Site-5da138754db8ce0c98bca82f with 23 traces and 1792 bssids\n",
      "Processing #20: Site-5d2709e003f801723c32d896 with 31 traces and 1355 bssids\n",
      "Processing #21: Site-5d27097f03f801723c320d97 with 17 traces and 2514 bssids\n",
      "Processing #22: Site-5da138364db8ce0c98bc00f1 with 10 traces and 844 bssids\n",
      "Processing #23: Site-5c3c44b80379370013e0fd2b with 3 traces and 3064 bssids\n",
      "Processing #24: Site-5d27099f03f801723c32511d with 5 traces and 928 bssids\n"
     ]
    }
   ],
   "source": [
    "parsed_test_data = {}\n",
    "num_s = 0\n",
    "\n",
    "for site_id in tqdm(bssid.keys()):  # over sites\n",
    "    num_s += 1\n",
    "    #print(f\"Processing #{num_s}: Site-{site_id} with {len(test_data[site_id])} traces and {len(bssid[site_id])} bssids\")\n",
    "    \n",
    "    parsed_test_data[site_id] = {}\n",
    "    \n",
    "    col_names = []\n",
    "    for feature_bssid in bssid[site_id]:  # create features-columns list\n",
    "        col_names.append(feature_bssid)\n",
    "        col_names.append(feature_bssid+\"_D\")\n",
    "    \n",
    "    for trace_id in tqdm(test_data[site_id]):  # over traces\n",
    "        \n",
    "        wifi_record = test_data[site_id][trace_id].wifi.copy()\n",
    "        \n",
    "        accel_record = test_data[site_id][trace_id].acce\n",
    "        rotate_record = test_data[site_id][trace_id].rotate\n",
    "        magnetic_record = test_data[site_id][trace_id].magn  \n",
    "        \n",
    "        timestamps = wifi_record.time.unique().tolist()\n",
    "        trace_record_wifi = np.zeros((len(timestamps), len(col_names)))\n",
    "\n",
    "        for col_id, _ in enumerate(col_names):\n",
    "            if col_id%2 == 0:\n",
    "                trace_record_wifi[:, col_id] = int(train_bssid[\"min_rssi\"][site_id])\n",
    "            else:\n",
    "                trace_record_wifi[:, col_id] = int(train_bssid[\"max_delay\"][site_id])\n",
    "\n",
    "        trace_record_wifi = pd.DataFrame(trace_record_wifi, columns=col_names)\n",
    "        \n",
    "        trace_record_wifi[\"time\"] = timestamps\n",
    "        trace_record_wifi[\"trace\"] = trace_id\n",
    "        timestamps = trace_record_wifi.time.to_numpy()\n",
    "\n",
    "        # magnetic field intensity\n",
    "        magnetic_intensity = np.sqrt(np.square(magnetic_record.x_axis.to_numpy()) + np.square(magnetic_record.y_axis.to_numpy()) + np.square(magnetic_record.z_axis.to_numpy()))\n",
    "        trace_record_wifi[\"m\"] = interp1d(magnetic_record.time.to_numpy(), magnetic_intensity, kind=\"linear\", fill_value=\"extrapolate\", copy=False, assume_sorted=True)(timestamps)\n",
    "        # z_axis rotation angle (i.e. inplane direction)\n",
    "        trace_record_wifi[\"r\"] = interp1d(rotate_record.time.to_numpy(), rotate_record.z_axis.to_numpy(), kind=\"linear\", fill_value=\"extrapolate\", copy=False, assume_sorted=True)(timestamps)\n",
    "        # relative x/y steps positions\n",
    "        step_timestamps, step_indexs, step_acce_max_mins = compute_steps(accel_record[[\"time\", \"x_axis\", \"y_axis\", \"z_axis\"]].to_numpy())\n",
    "        rel_step_positions = pd.DataFrame(compute_rel_positions(compute_stride_length(step_acce_max_mins),\n",
    "                                                                compute_step_heading(step_timestamps,\n",
    "                                                                                     compute_headings(rotate_record[[\"time\", \"x_axis\", \"y_axis\", \"z_axis\"]].to_numpy()))), \n",
    "                                          columns=[\"time\", \"x\", \"y\"])\n",
    "        # recalculate relative steps for a given timestamps(cumsum->interpolate->differences)\n",
    "        _rt = np.insert(rel_step_positions.time.to_numpy(), 0, 0.0)\n",
    "        rx_cum = interp1d(_rt, np.insert(rel_step_positions.x.to_numpy(), 0, 0.0).cumsum(), kind=\"linear\", fill_value=\"extrapolate\", copy=False, assume_sorted=True)(timestamps)\n",
    "        ry_cum = interp1d(_rt, np.insert(rel_step_positions.y.to_numpy(), 0, 0.0).cumsum(), kind=\"linear\", fill_value=\"extrapolate\", copy=False, assume_sorted=True)(timestamps)\n",
    "        trace_record_wifi[\"rx\"] = np.diff(rx_cum, prepend=0.0) \n",
    "        trace_record_wifi[\"ry\"] = np.diff(ry_cum, prepend=0.0)\n",
    "        trace_record_wifi[\"rx_cum\"] = rx_cum\n",
    "        trace_record_wifi[\"ry_cum\"] = ry_cum\n",
    "        trace_record_wifi.loc[0, [\"rx\", \"ry\", \"rx_cum\", \"ry_cum\"]] = 0.\n",
    "                   \n",
    "        # Take wifi data the nearest to each waypoint\n",
    "        for j, t0 in enumerate(trace_record_wifi.time):  # over times in trace/for each waypoint\n",
    "\n",
    "            wifi_min = wifi_record[wifi_record.time == t0]\n",
    "            wifi_min_bssid_list = wifi_min.bssid.tolist()\n",
    "            wifi_min_delay_list = [col+\"_D\" for col in wifi_min_bssid_list]\n",
    "            \n",
    "            trace_record_wifi.loc[j, wifi_min_bssid_list] = wifi_min.rssi.to_numpy()\n",
    "            trace_record_wifi.loc[j, wifi_min_delay_list] = wifi_min.delay.to_numpy().astype(int)\n",
    "\n",
    "        parsed_test_data[site_id][trace_id] = trace_record_wifi\n",
    "   \n",
    "        #break  # only fist trace\n",
    "\n",
    "    #break  # only first site"
   ]
  },
  {
   "cell_type": "code",
   "execution_count": 13,
   "id": "6eb93402",
   "metadata": {},
   "outputs": [],
   "source": [
    "with open(f\"./data_out/full24/test-10k_mix-counts.pkl\", \"wb\") as f:\n",
    "    pickle.dump(parsed_test_data, f)"
   ]
  },
  {
   "cell_type": "code",
   "execution_count": null,
   "id": "0ec2c2b1",
   "metadata": {},
   "outputs": [],
   "source": []
  },
  {
   "cell_type": "markdown",
   "id": "113c71a5",
   "metadata": {},
   "source": [
    "0.55sec-based timesteps (DNN+LSTMv1)"
   ]
  },
  {
   "cell_type": "code",
   "execution_count": 4,
   "id": "c26afb8a",
   "metadata": {
    "tags": []
   },
   "outputs": [
    {
     "data": {
      "application/vnd.jupyter.widget-view+json": {
       "model_id": "e021f327c35749449bb7c5c3ee75bb08",
       "version_major": 2,
       "version_minor": 0
      },
      "text/plain": [
       "  0%|          | 0/24 [00:00<?, ?it/s]"
      ]
     },
     "metadata": {},
     "output_type": "display_data"
    },
    {
     "data": {
      "application/vnd.jupyter.widget-view+json": {
       "model_id": "90d5984afd0b4b96b9123381a775a6ad",
       "version_major": 2,
       "version_minor": 0
      },
      "text/plain": [
       "  0%|          | 0/13 [00:00<?, ?it/s]"
      ]
     },
     "metadata": {},
     "output_type": "display_data"
    },
    {
     "data": {
      "application/vnd.jupyter.widget-view+json": {
       "model_id": "5dab99b466d245a48962e627c857111d",
       "version_major": 2,
       "version_minor": 0
      },
      "text/plain": [
       "  0%|          | 0/29 [00:00<?, ?it/s]"
      ]
     },
     "metadata": {},
     "output_type": "display_data"
    },
    {
     "data": {
      "application/vnd.jupyter.widget-view+json": {
       "model_id": "353bf3fb2539427fa191b550c3fd5b46",
       "version_major": 2,
       "version_minor": 0
      },
      "text/plain": [
       "  0%|          | 0/36 [00:00<?, ?it/s]"
      ]
     },
     "metadata": {},
     "output_type": "display_data"
    },
    {
     "data": {
      "application/vnd.jupyter.widget-view+json": {
       "model_id": "81ca07ae1a1d4dffa7def0ac4e2f389e",
       "version_major": 2,
       "version_minor": 0
      },
      "text/plain": [
       "  0%|          | 0/50 [00:00<?, ?it/s]"
      ]
     },
     "metadata": {},
     "output_type": "display_data"
    },
    {
     "data": {
      "application/vnd.jupyter.widget-view+json": {
       "model_id": "8de45cd9a1484ade85646a1277a0c9ee",
       "version_major": 2,
       "version_minor": 0
      },
      "text/plain": [
       "  0%|          | 0/26 [00:00<?, ?it/s]"
      ]
     },
     "metadata": {},
     "output_type": "display_data"
    },
    {
     "data": {
      "application/vnd.jupyter.widget-view+json": {
       "model_id": "818881bbae994ff3b68198b238c29c3b",
       "version_major": 2,
       "version_minor": 0
      },
      "text/plain": [
       "  0%|          | 0/20 [00:00<?, ?it/s]"
      ]
     },
     "metadata": {},
     "output_type": "display_data"
    },
    {
     "data": {
      "application/vnd.jupyter.widget-view+json": {
       "model_id": "c2269cceb19f4ed18e1c9148f86dd020",
       "version_major": 2,
       "version_minor": 0
      },
      "text/plain": [
       "  0%|          | 0/29 [00:00<?, ?it/s]"
      ]
     },
     "metadata": {},
     "output_type": "display_data"
    },
    {
     "data": {
      "application/vnd.jupyter.widget-view+json": {
       "model_id": "3a7707ca1a9a45d3ba3992b5722400f6",
       "version_major": 2,
       "version_minor": 0
      },
      "text/plain": [
       "  0%|          | 0/8 [00:00<?, ?it/s]"
      ]
     },
     "metadata": {},
     "output_type": "display_data"
    },
    {
     "data": {
      "application/vnd.jupyter.widget-view+json": {
       "model_id": "7508f331ed2443c29bf089bb67cdabcb",
       "version_major": 2,
       "version_minor": 0
      },
      "text/plain": [
       "  0%|          | 0/31 [00:00<?, ?it/s]"
      ]
     },
     "metadata": {},
     "output_type": "display_data"
    },
    {
     "data": {
      "application/vnd.jupyter.widget-view+json": {
       "model_id": "797ac22dca2747ca9752d82b845e61f7",
       "version_major": 2,
       "version_minor": 0
      },
      "text/plain": [
       "  0%|          | 0/51 [00:00<?, ?it/s]"
      ]
     },
     "metadata": {},
     "output_type": "display_data"
    },
    {
     "data": {
      "application/vnd.jupyter.widget-view+json": {
       "model_id": "84c7c853f8be42feb29029e5deb8b560",
       "version_major": 2,
       "version_minor": 0
      },
      "text/plain": [
       "  0%|          | 0/34 [00:00<?, ?it/s]"
      ]
     },
     "metadata": {},
     "output_type": "display_data"
    },
    {
     "data": {
      "application/vnd.jupyter.widget-view+json": {
       "model_id": "2ba3e224552c46b283934b07bfbc666e",
       "version_major": 2,
       "version_minor": 0
      },
      "text/plain": [
       "  0%|          | 0/51 [00:00<?, ?it/s]"
      ]
     },
     "metadata": {},
     "output_type": "display_data"
    },
    {
     "data": {
      "application/vnd.jupyter.widget-view+json": {
       "model_id": "3916395c967c42ab88d5155679a64032",
       "version_major": 2,
       "version_minor": 0
      },
      "text/plain": [
       "  0%|          | 0/35 [00:00<?, ?it/s]"
      ]
     },
     "metadata": {},
     "output_type": "display_data"
    },
    {
     "data": {
      "application/vnd.jupyter.widget-view+json": {
       "model_id": "acac1d0988864427a17a80b7d9427961",
       "version_major": 2,
       "version_minor": 0
      },
      "text/plain": [
       "  0%|          | 0/60 [00:00<?, ?it/s]"
      ]
     },
     "metadata": {},
     "output_type": "display_data"
    },
    {
     "data": {
      "application/vnd.jupyter.widget-view+json": {
       "model_id": "b93cfabd4e07417293c7712f7a5d2e01",
       "version_major": 2,
       "version_minor": 0
      },
      "text/plain": [
       "  0%|          | 0/31 [00:00<?, ?it/s]"
      ]
     },
     "metadata": {},
     "output_type": "display_data"
    },
    {
     "data": {
      "application/vnd.jupyter.widget-view+json": {
       "model_id": "502740b4538b4248a48dffff2be8eade",
       "version_major": 2,
       "version_minor": 0
      },
      "text/plain": [
       "  0%|          | 0/17 [00:00<?, ?it/s]"
      ]
     },
     "metadata": {},
     "output_type": "display_data"
    },
    {
     "data": {
      "application/vnd.jupyter.widget-view+json": {
       "model_id": "9181d8fafaef45c49f25b7573630e270",
       "version_major": 2,
       "version_minor": 0
      },
      "text/plain": [
       "  0%|          | 0/11 [00:00<?, ?it/s]"
      ]
     },
     "metadata": {},
     "output_type": "display_data"
    },
    {
     "data": {
      "application/vnd.jupyter.widget-view+json": {
       "model_id": "11f6837d90304a8dbb3c280d9308f0ae",
       "version_major": 2,
       "version_minor": 0
      },
      "text/plain": [
       "  0%|          | 0/5 [00:00<?, ?it/s]"
      ]
     },
     "metadata": {},
     "output_type": "display_data"
    },
    {
     "data": {
      "application/vnd.jupyter.widget-view+json": {
       "model_id": "e83546e68af14da1a2f36730bb0662cf",
       "version_major": 2,
       "version_minor": 0
      },
      "text/plain": [
       "  0%|          | 0/23 [00:00<?, ?it/s]"
      ]
     },
     "metadata": {},
     "output_type": "display_data"
    },
    {
     "data": {
      "application/vnd.jupyter.widget-view+json": {
       "model_id": "4883ed280dcb4198ab186d3c34a480b3",
       "version_major": 2,
       "version_minor": 0
      },
      "text/plain": [
       "  0%|          | 0/31 [00:00<?, ?it/s]"
      ]
     },
     "metadata": {},
     "output_type": "display_data"
    },
    {
     "data": {
      "application/vnd.jupyter.widget-view+json": {
       "model_id": "89dd9075365840dc95c67184801cc7f6",
       "version_major": 2,
       "version_minor": 0
      },
      "text/plain": [
       "  0%|          | 0/17 [00:00<?, ?it/s]"
      ]
     },
     "metadata": {},
     "output_type": "display_data"
    },
    {
     "data": {
      "application/vnd.jupyter.widget-view+json": {
       "model_id": "d82230a1a0b04166914a06368202d150",
       "version_major": 2,
       "version_minor": 0
      },
      "text/plain": [
       "  0%|          | 0/10 [00:00<?, ?it/s]"
      ]
     },
     "metadata": {},
     "output_type": "display_data"
    },
    {
     "data": {
      "application/vnd.jupyter.widget-view+json": {
       "model_id": "0efd303680b94649911bd28596b5c048",
       "version_major": 2,
       "version_minor": 0
      },
      "text/plain": [
       "  0%|          | 0/3 [00:00<?, ?it/s]"
      ]
     },
     "metadata": {},
     "output_type": "display_data"
    },
    {
     "data": {
      "application/vnd.jupyter.widget-view+json": {
       "model_id": "72957976078f42cf9bcfd709574f535d",
       "version_major": 2,
       "version_minor": 0
      },
      "text/plain": [
       "  0%|          | 0/5 [00:00<?, ?it/s]"
      ]
     },
     "metadata": {},
     "output_type": "display_data"
    }
   ],
   "source": [
    "parsed_test_data = {}\n",
    "num_s = 0\n",
    "dt = 550 # in milisceonds\n",
    "\n",
    "for site_id in tqdm(bssid.keys()):  # over sites\n",
    "    num_s += 1\n",
    "    #print(f\"Processing #{num_s}: Site-{site_id} with {len(test_data[site_id])} traces and {len(bssid[site_id])} bssids\")\n",
    "    \n",
    "    parsed_test_data[site_id] = {}\n",
    "    \n",
    "    col_names = []\n",
    "    for feature_bssid in bssid[site_id]:  # create features-columns list\n",
    "        col_names.append(feature_bssid)\n",
    "        col_names.append(feature_bssid+\"_D\")\n",
    "    \n",
    "    for trace_id in tqdm(test_data[site_id]):  # over traces\n",
    "        \n",
    "        wifi_record = test_data[site_id][trace_id].wifi.copy()\n",
    "        \n",
    "        accel_record = test_data[site_id][trace_id].acce\n",
    "        rotate_record = test_data[site_id][trace_id].rotate\n",
    "        magnetic_record = test_data[site_id][trace_id].magn  \n",
    "        \n",
    "        timestamps = wifi_record.time.unique().tolist()\n",
    "        timestamps = np.linspace(timestamps[0], timestamps[-1], int(1+(timestamps[-1]-timestamps[0])/dt)).tolist()\n",
    "        \n",
    "        trace_record_wifi = np.zeros((len(timestamps), len(col_names)))\n",
    "\n",
    "        for col_id, _ in enumerate(col_names):\n",
    "            if col_id%2 == 0:\n",
    "                trace_record_wifi[:, col_id] = int(train_bssid[\"min_rssi\"][site_id])\n",
    "            else:\n",
    "                trace_record_wifi[:, col_id] = int(train_bssid[\"max_delay\"][site_id])\n",
    "\n",
    "        trace_record_wifi = pd.DataFrame(trace_record_wifi, columns=col_names)\n",
    "        \n",
    "        trace_record_wifi[\"time\"] = timestamps\n",
    "        trace_record_wifi[\"trace\"] = trace_id\n",
    "        timestamps = trace_record_wifi.time.to_numpy()\n",
    "\n",
    "        # magnetic field intensity\n",
    "        magnetic_intensity = np.sqrt(np.square(magnetic_record.x_axis.to_numpy()) + np.square(magnetic_record.y_axis.to_numpy()) + np.square(magnetic_record.z_axis.to_numpy()))\n",
    "        trace_record_wifi[\"m\"] = interp1d(magnetic_record.time.to_numpy(), magnetic_intensity, kind=\"linear\", fill_value=\"extrapolate\", copy=False, assume_sorted=True)(timestamps)\n",
    "        # z_axis rotation angle (i.e. inplane direction)\n",
    "        trace_record_wifi[\"r\"] = interp1d(rotate_record.time.to_numpy(), rotate_record.z_axis.to_numpy(), kind=\"linear\", fill_value=\"extrapolate\", copy=False, assume_sorted=True)(timestamps)\n",
    "        # relative x/y steps positions\n",
    "        step_timestamps, step_indexs, step_acce_max_mins = compute_steps(accel_record[[\"time\", \"x_axis\", \"y_axis\", \"z_axis\"]].to_numpy())\n",
    "        rel_step_positions = pd.DataFrame(compute_rel_positions(compute_stride_length(step_acce_max_mins),\n",
    "                                                                compute_step_heading(step_timestamps,\n",
    "                                                                                     compute_headings(rotate_record[[\"time\", \"x_axis\", \"y_axis\", \"z_axis\"]].to_numpy()))), \n",
    "                                          columns=[\"time\", \"x\", \"y\"])\n",
    "        # recalculate relative steps for a given timestamps(cumsum->interpolate->differences)\n",
    "        \n",
    "        _rt = np.insert(rel_step_positions.time.to_numpy(), 0, 0.0)\n",
    "        rx_cum = interp1d(_rt, np.insert(rel_step_positions.x.to_numpy(), 0, 0.0).cumsum(), kind=\"linear\", fill_value=\"extrapolate\", copy=False, assume_sorted=True)(timestamps)\n",
    "        ry_cum = interp1d(_rt, np.insert(rel_step_positions.y.to_numpy(), 0, 0.0).cumsum(), kind=\"linear\", fill_value=\"extrapolate\", copy=False, assume_sorted=True)(timestamps)\n",
    "        trace_record_wifi[\"rx\"] = np.diff(rx_cum, prepend=0.0) \n",
    "        trace_record_wifi[\"ry\"] = np.diff(ry_cum, prepend=0.0)\n",
    "        trace_record_wifi[\"rx_cum\"] = rx_cum\n",
    "        trace_record_wifi[\"ry_cum\"] = ry_cum\n",
    "        trace_record_wifi.loc[0, [\"rx\", \"ry\", \"rx_cum\", \"ry_cum\"]] = 0.\n",
    "                   \n",
    "        # Take wifi data the nearest to each waypoint\n",
    "        for j, t0 in enumerate(trace_record_wifi.time):  # over times in trace/for each waypoint\n",
    "            \n",
    "            deltas = (wifi_record.time - t0).abs()\n",
    "            tmin = deltas.min()\n",
    "            \n",
    "            wifi_min = wifi_record[deltas == tmin]\n",
    "            wifi_min_bssid_list = wifi_min.bssid.tolist()\n",
    "            wifi_min_delay_list = [col+\"_D\" for col in wifi_min_bssid_list]\n",
    "            \n",
    "            trace_record_wifi.loc[j, wifi_min_bssid_list] = wifi_min.rssi.to_numpy()\n",
    "            \n",
    "# >>>> delays should be adjusted for the time difference  (closest delay may become larger than time_delay_limit for models)\n",
    "            trace_record_wifi.loc[j, wifi_min_delay_list] = wifi_min.delay.to_numpy().astype(int)\n",
    "## >>>>>>>>>>>>>>>>>>>>>>>>>>>>>>>>>>>>>>>>>>>>>>>>>>>>>>>\n",
    "\n",
    "        parsed_test_data[site_id][trace_id] = trace_record_wifi\n",
    "   \n",
    "        #break  # only fist trace\n",
    "\n",
    "    #break  # only first site"
   ]
  },
  {
   "cell_type": "code",
   "execution_count": 5,
   "id": "2559fd73",
   "metadata": {},
   "outputs": [],
   "source": [
    "with open(f\"./data_out/full24/test-10k_mix-counts_t550.pkl\", \"wb\") as f:\n",
    "    pickle.dump(parsed_test_data, f)"
   ]
  }
 ],
 "metadata": {
  "kernelspec": {
   "display_name": "Python 3",
   "language": "python",
   "name": "python3"
  },
  "language_info": {
   "codemirror_mode": {
    "name": "ipython",
    "version": 3
   },
   "file_extension": ".py",
   "mimetype": "text/x-python",
   "name": "python",
   "nbconvert_exporter": "python",
   "pygments_lexer": "ipython3",
   "version": "3.8.3"
  }
 },
 "nbformat": 4,
 "nbformat_minor": 5
}
