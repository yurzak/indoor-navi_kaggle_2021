{
 "cells": [
  {
   "cell_type": "code",
   "execution_count": 1,
   "id": "5c1a725b",
   "metadata": {
    "tags": []
   },
   "outputs": [
    {
     "data": {
      "text/html": [
       "        <script type=\"text/javascript\">\n",
       "        window.PlotlyConfig = {MathJaxConfig: 'local'};\n",
       "        if (window.MathJax) {MathJax.Hub.Config({SVG: {font: \"STIX-Web\"}});}\n",
       "        if (typeof require !== 'undefined') {\n",
       "        require.undef(\"plotly\");\n",
       "        requirejs.config({\n",
       "            paths: {\n",
       "                'plotly': ['https://cdn.plot.ly/plotly-latest.min']\n",
       "            }\n",
       "        });\n",
       "        require(['plotly'], function(Plotly) {\n",
       "            window._Plotly = Plotly;\n",
       "        });\n",
       "        }\n",
       "        </script>\n",
       "        "
      ]
     },
     "metadata": {},
     "output_type": "display_data"
    }
   ],
   "source": [
    "import numpy as np\n",
    "import pandas as pd\n",
    "\n",
    "import pickle\n",
    "import os\n",
    "from pathlib import Path\n",
    "import glob\n",
    "import json\n",
    "from tqdm.notebook import tqdm\n",
    "\n",
    "import seaborn as sns\n",
    "import matplotlib\n",
    "import matplotlib.pyplot as plt\n",
    "import plotly\n",
    "import plotly.graph_objs as go\n",
    "from PIL import Image\n",
    "#%matplotlib inline\n",
    "plotly.offline.init_notebook_mode(connected=True)\n",
    "\n",
    "sns.set_style('darkgrid')\n",
    "\n",
    "from xyz10.io_f_mod import read_data_file\n",
    "from xyz10.visualize_f_mod import visualize_trajectory"
   ]
  },
  {
   "cell_type": "markdown",
   "id": "f7f80428",
   "metadata": {},
   "source": [
    "Create list of unique test siteIDs and parse Test Data into dict of dict"
   ]
  },
  {
   "cell_type": "code",
   "execution_count": 26,
   "id": "82c47c25",
   "metadata": {
    "tags": []
   },
   "outputs": [
    {
     "name": "stderr",
     "output_type": "stream",
     "text": [
      "100%|████████████████████████████████████████████████████████████████████████████████| 626/626 [02:30<00:00,  4.16it/s]\n"
     ]
    }
   ],
   "source": [
    "test_data = {}\n",
    "test_data_paths = glob.glob('./data_in/test/*')\n",
    "\n",
    "for i, file_name in enumerate(test_data_paths):\n",
    "    test_data_paths[i] = file_name.replace(\"\\\\\",\"/\")\n",
    "test_data_paths\n",
    "\n",
    "for file_name in tqdm(test_data_paths):\n",
    "    _split = file_name.split(\"/\")\n",
    "    _trace = _split[-1].replace(\".txt\", \"\")\n",
    "\n",
    "    try:\n",
    "        _data = read_data_file(file_name, False)\n",
    "        if _data is None: \n",
    "            print(\"Empty data\", file_name)\n",
    "\n",
    "        else:\n",
    "            _siteID = _data.header.SiteID.values[0]\n",
    "\n",
    "            if _siteID in test_data.keys():\n",
    "                test_data[_siteID][_trace] = _data\n",
    "            else:\n",
    "                test_data[_siteID] = {}\n",
    "                test_data[_siteID][_trace] = _data\n",
    "    except:\n",
    "        print(\"exception\", file_name)\n",
    "    #break"
   ]
  },
  {
   "cell_type": "code",
   "execution_count": 28,
   "id": "f7eed9f3",
   "metadata": {
    "tags": []
   },
   "outputs": [],
   "source": [
    "siteIDs = test_data.keys()\n",
    "siteIDs_df = pd.DataFrame(siteIDs)\n",
    "siteIDs_df.to_csv(\"./data_out/unique_test_siteIDs.csv\")"
   ]
  },
  {
   "cell_type": "code",
   "execution_count": 30,
   "id": "2eed1dda",
   "metadata": {
    "tags": []
   },
   "outputs": [],
   "source": [
    "with open(\"./data_out/test_data.pkl\", \"wb\") as f:\n",
    "    pickle.dump(test_data, f)"
   ]
  },
  {
   "cell_type": "markdown",
   "id": "3bfd820d",
   "metadata": {},
   "source": [
    "Create Dict of SIteIds with list of unique BSSID (Wifi) in test data"
   ]
  },
  {
   "cell_type": "code",
   "execution_count": null,
   "id": "4be07de0",
   "metadata": {},
   "outputs": [],
   "source": [
    "test_data = pickle.load(open(\"./data_out/test_data.pkl\", \"rb\"))"
   ]
  },
  {
   "cell_type": "code",
   "execution_count": 68,
   "id": "abd809d6",
   "metadata": {
    "tags": []
   },
   "outputs": [
    {
     "data": {
      "text/plain": [
       "24"
      ]
     },
     "execution_count": 68,
     "metadata": {},
     "output_type": "execute_result"
    }
   ],
   "source": [
    "test_bssid = {}\n",
    "\n",
    "for site in test_data.keys():  # loop over siteIds\n",
    "    \n",
    "    for i, trace in enumerate(test_data[site].keys()): # loop over traces on site\n",
    "        bssid = list(pd.Series(test_data[site][trace].wifi.loc[:, \"bssid\"]).unique())\n",
    "        if i==0:\n",
    "            test_bssid[site] = bssid\n",
    "        else:\n",
    "            test_bssid[site] += bssid\n",
    "    test_bssid[site] = list(pd.Series(test_bssid[site]).unique())\n",
    "    #break\n",
    "    \n",
    "with open(\"./data_out/unique_test_bssid.pkl\", \"wb\") as f:\n",
    "    pickle.dump(test_bssid, f)\n",
    "test_bssid = pickle.load(open(\"./data_out/unique_test_bssid.pkl\", \"rb\"))\n",
    "len(test_bssid)"
   ]
  },
  {
   "cell_type": "markdown",
   "id": "482bb04d",
   "metadata": {
    "tags": []
   },
   "source": [
    "Process Train Data"
   ]
  },
  {
   "cell_type": "markdown",
   "id": "dd0a4564",
   "metadata": {
    "tags": []
   },
   "source": [
    "For 24/All test sites with Standard/All floor numbers"
   ]
  },
  {
   "cell_type": "code",
   "execution_count": 2,
   "id": "050fe78c",
   "metadata": {},
   "outputs": [],
   "source": [
    "siteIDs_df = pd.read_csv(\"./data_out/unique_test_siteIDs.csv\", index_col=0)\n",
    "train_data_paths = glob.glob('./data_in/train/*/*/*')\n",
    "\n",
    "for i, file_name in enumerate(train_data_paths):\n",
    "    train_data_paths[i] = file_name.replace(\"\\\\\",\"/\")\n",
    "\n",
    "test_siteIDs = pd.read_csv(\"./data_out/unique_test_siteIDs.csv\", index_col=0)\n",
    "test_siteIDs = test_siteIDs[\"0\"].tolist()\n",
    "\n",
    "motion_data = {}\n",
    "rotate_data ={}\n",
    "gyro_data = {}\n",
    "magnetic_data = {}\n",
    "wifi_data = {}\n",
    "ibeacon_data = {}\n",
    "waypoints_data = {}\n",
    "\n",
    "for site in test_siteIDs:  # todo add option for all sites\n",
    "    motion_data[site] = {}\n",
    "    rotate_data[site] = {}\n",
    "    gyro_data[site] = {}\n",
    "    magnetic_data[site] = {}\n",
    "    wifi_data[site] = {}\n",
    "    ibeacon_data[site] = {}\n",
    "    waypoints_data[site] = {}\n",
    "    \n",
    "floor_convert = {'1F': 0, '2F': 1, '3F': 2, '4F': 3, '5F': 4,\n",
    "                 '6F': 5, '7F': 6, '8F': 7, '9F': 8, '10F': 9,\n",
    "                 'B': -1, 'B1': -1, 'B2': -2, 'B3': -3, 'B4': -4,\n",
    "                 'F1': 0, 'F2': 1, 'F3': 2, 'F4': 3, 'F5': 4,\n",
    "                 'F6': 5, 'F7': 6, 'F8': 7, 'F9': 8, 'F10': 9,\n",
    "                 }\n",
    "\n",
    "floor_convert_full = {'1F': 0, '2F': 1, '3F': 2, '4F': 3, '5F': 4,\n",
    "                      '6F': 5, '7F': 6, '8F': 7, '9F': 8, '10F': 9,\n",
    "                      'B': -1, 'B1': -1, 'B2': -2, 'B3': -3, 'B4': -4,\n",
    "                      'BF': -1, 'BM': -1,\n",
    "                      'F1': 0, 'F2': 1, 'F3': 2, 'F4': 3, 'F5': 4,\n",
    "                      'F6': 5, 'F7': 6, 'F8': 7, 'F9': 8, 'F10': 9,\n",
    "                      'L1': 0, 'L2': 1, 'L3': 2, 'L4': 3, 'L5': 4,\n",
    "                      'L6': 5, 'L7': 6, 'L8': 7, 'L9': 8, 'L10': 9,\n",
    "                      'L11': 10,\n",
    "                      'G': 0, 'LG1': 0, 'LG2': 1, 'LM': 0, 'M': 0,\n",
    "                      'P1': 0, 'P2': 1, }\n",
    "\n",
    "#floor_convert = floor_convert_full  # use in case all IDs should be used"
   ]
  },
  {
   "cell_type": "code",
   "execution_count": 3,
   "id": "2cb22ca8",
   "metadata": {
    "tags": []
   },
   "outputs": [
    {
     "name": "stderr",
     "output_type": "stream",
     "text": [
      "  2%|█▏                                                                            | 419/26925 [00:42<19:59, 22.09it/s]"
     ]
    },
    {
     "name": "stdout",
     "output_type": "stream",
     "text": [
      "./data_in/train/5a0546857ecc773753327266/F3/5d8f0954b6e29d0006fb8c0d.txt\n",
      "./data_in/train/5a0546857ecc773753327266/F3/5d8f0955b6e29d0006fb8c0f.txt\n"
     ]
    },
    {
     "name": "stderr",
     "output_type": "stream",
     "text": [
      " 62%|███████████████████████████████████████████████▏                            | 16733/26925 [03:00<04:01, 42.19it/s]"
     ]
    },
    {
     "name": "stdout",
     "output_type": "stream",
     "text": [
      "./data_in/train/5d27075f03f801723c2e360f/F2/5de0a58bbbb32e0006603c93.txt\n",
      "./data_in/train/5d27075f03f801723c2e360f/F2/5de0cd4fbbb32e0006603cdb.txt\n"
     ]
    },
    {
     "name": "stderr",
     "output_type": "stream",
     "text": [
      " 76%|██████████████████████████████████████████████████████████                  | 20554/26925 [09:11<06:29, 16.34it/s]"
     ]
    },
    {
     "name": "stdout",
     "output_type": "stream",
     "text": [
      "./data_in/train/5d2709d403f801723c32bd39/2F/5dc77d571cda370006030ef7.txt\n"
     ]
    },
    {
     "name": "stderr",
     "output_type": "stream",
     "text": [
      " 77%|██████████████████████████████████████████████████████████▏                 | 20601/26925 [09:15<11:42,  9.00it/s]"
     ]
    },
    {
     "name": "stdout",
     "output_type": "stream",
     "text": [
      "./data_in/train/5d2709d403f801723c32bd39/2F/5dcd15b723759900063d5524.txt\n"
     ]
    },
    {
     "name": "stderr",
     "output_type": "stream",
     "text": [
      " 88%|██████████████████████████████████████████████████████████████████▉         | 23694/26925 [14:26<03:03, 17.64it/s]"
     ]
    },
    {
     "name": "stdout",
     "output_type": "stream",
     "text": [
      "./data_in/train/5da1389e4db8ce0c98bd0547/B2/5dc54bd81cda37000602fca4.txt\n",
      "./data_in/train/5da1389e4db8ce0c98bd0547/B2/5dc54bd921dceb0006114b4b.txt\n"
     ]
    },
    {
     "name": "stderr",
     "output_type": "stream",
     "text": [
      " 88%|██████████████████████████████████████████████████████████████████▉         | 23705/26925 [14:26<02:42, 19.80it/s]"
     ]
    },
    {
     "name": "stdout",
     "output_type": "stream",
     "text": [
      "./data_in/train/5da1389e4db8ce0c98bd0547/B2/5dc6530e1cda37000603043b.txt\n",
      "./data_in/train/5da1389e4db8ce0c98bd0547/B2/5dc653101cda37000603043f.txt\n"
     ]
    },
    {
     "name": "stderr",
     "output_type": "stream",
     "text": [
      " 88%|███████████████████████████████████████████████████████████████████▏        | 23809/26925 [14:34<02:50, 18.24it/s]"
     ]
    },
    {
     "name": "stdout",
     "output_type": "stream",
     "text": [
      "./data_in/train/5da1389e4db8ce0c98bd0547/F3/5dc63f2817ffdd0006f111d7.txt\n"
     ]
    },
    {
     "name": "stderr",
     "output_type": "stream",
     "text": [
      " 88%|███████████████████████████████████████████████████████████████████▏        | 23825/26925 [14:35<03:25, 15.12it/s]"
     ]
    },
    {
     "name": "stdout",
     "output_type": "stream",
     "text": [
      "./data_in/train/5da1389e4db8ce0c98bd0547/F3/5dc6479d1cda370006030330.txt\n"
     ]
    },
    {
     "name": "stderr",
     "output_type": "stream",
     "text": [
      " 89%|███████████████████████████████████████████████████████████████████▎        | 23847/26925 [14:37<02:48, 18.22it/s]"
     ]
    },
    {
     "name": "stdout",
     "output_type": "stream",
     "text": [
      "./data_in/train/5da1389e4db8ce0c98bd0547/F3/5dc647af17ffdd0006f112bb.txt\n"
     ]
    },
    {
     "name": "stderr",
     "output_type": "stream",
     "text": [
      " 89%|███████████████████████████████████████████████████████████████████▎        | 23866/26925 [14:37<02:10, 23.35it/s]"
     ]
    },
    {
     "name": "stdout",
     "output_type": "stream",
     "text": [
      "./data_in/train/5da1389e4db8ce0c98bd0547/F3/5dc682f41cda3700060308e2.txt\n",
      "./data_in/train/5da1389e4db8ce0c98bd0547/F3/5dc682f91cda3700060308e8.txt\n"
     ]
    },
    {
     "name": "stderr",
     "output_type": "stream",
     "text": [
      " 89%|███████████████████████████████████████████████████████████████████▉        | 24067/26925 [14:48<01:38, 28.93it/s]"
     ]
    },
    {
     "name": "stdout",
     "output_type": "stream",
     "text": [
      "./data_in/train/5da1389e4db8ce0c98bd0547/F4/5dc698691cda370006030a77.txt\n",
      "./data_in/train/5da1389e4db8ce0c98bd0547/F4/5dc6986f1cda370006030a7b.txt\n",
      "./data_in/train/5da1389e4db8ce0c98bd0547/F4/5dc6987017ffdd0006f11974.txt\n"
     ]
    },
    {
     "name": "stderr",
     "output_type": "stream",
     "text": [
      " 95%|████████████████████████████████████████████████████████████████████████    | 25544/26925 [18:05<02:08, 10.72it/s]"
     ]
    },
    {
     "name": "stdout",
     "output_type": "stream",
     "text": [
      "./data_in/train/5dbc1d84c1eb61796cf7c010/F2/5dd37f0444333f00067aa24d.txt\n"
     ]
    },
    {
     "name": "stderr",
     "output_type": "stream",
     "text": [
      " 95%|████████████████████████████████████████████████████████████████████████▏   | 25595/26925 [18:10<02:17,  9.64it/s]"
     ]
    },
    {
     "name": "stdout",
     "output_type": "stream",
     "text": [
      "./data_in/train/5dbc1d84c1eb61796cf7c010/F3/5dd3902827889b0006b76ae2.txt\n"
     ]
    },
    {
     "name": "stderr",
     "output_type": "stream",
     "text": [
      " 98%|██████████████████████████████████████████████████████████████████████████▎ | 26345/26925 [19:43<01:02,  9.25it/s]"
     ]
    },
    {
     "name": "stdout",
     "output_type": "stream",
     "text": [
      "./data_in/train/5dc8cea7659e181adb076a3f/F1/5dcf7852878f3300066c6d5e.txt\n"
     ]
    },
    {
     "name": "stderr",
     "output_type": "stream",
     "text": [
      " 98%|██████████████████████████████████████████████████████████████████████████▌ | 26420/26925 [19:50<00:43, 11.71it/s]"
     ]
    },
    {
     "name": "stdout",
     "output_type": "stream",
     "text": [
      "./data_in/train/5dc8cea7659e181adb076a3f/F2/5dcfafc494e4900006125908.txt\n"
     ]
    },
    {
     "name": "stderr",
     "output_type": "stream",
     "text": [
      " 98%|██████████████████████████████████████████████████████████████████████████▋ | 26463/26925 [19:54<00:45, 10.09it/s]"
     ]
    },
    {
     "name": "stdout",
     "output_type": "stream",
     "text": [
      "./data_in/train/5dc8cea7659e181adb076a3f/F2/5dcfb01594e490000612593c.txt\n"
     ]
    },
    {
     "name": "stderr",
     "output_type": "stream",
     "text": [
      " 98%|██████████████████████████████████████████████████████████████████████████▋ | 26466/26925 [19:55<01:12,  6.34it/s]"
     ]
    },
    {
     "name": "stdout",
     "output_type": "stream",
     "text": [
      "./data_in/train/5dc8cea7659e181adb076a3f/F2/5dcfb02594e4900006125943.txt\n"
     ]
    },
    {
     "name": "stderr",
     "output_type": "stream",
     "text": [
      " 99%|███████████████████████████████████████████████████████████████████████████ | 26583/26925 [20:09<00:48,  7.12it/s]"
     ]
    },
    {
     "name": "stdout",
     "output_type": "stream",
     "text": [
      "./data_in/train/5dc8cea7659e181adb076a3f/F3/5dccee18c04f060006e6e2e6.txt\n"
     ]
    },
    {
     "name": "stderr",
     "output_type": "stream",
     "text": [
      "100%|████████████████████████████████████████████████████████████████████████████| 26925/26925 [20:50<00:00, 21.53it/s]"
     ]
    },
    {
     "name": "stdout",
     "output_type": "stream",
     "text": [
      "Number of records: 10877\n"
     ]
    },
    {
     "name": "stderr",
     "output_type": "stream",
     "text": [
      "\n"
     ]
    }
   ],
   "source": [
    "trace_num = 0\n",
    "for file_name in tqdm(train_data_paths):  # 21 min = 10877 files output\n",
    "    _split = file_name.split(\"/\")\n",
    "    _siteID = _split[-3]\n",
    "    _floor = _split[-2]\n",
    "    _trace = _split[-1].replace(\".txt\", \"\")\n",
    "\n",
    "    if _floor in floor_convert.keys() and _siteID in motion_data.keys():\n",
    "        _data = read_data_file(file_name, True)\n",
    "        if _data is None:\n",
    "            print(file_name)\n",
    "        else:\n",
    "            trace_num += 1\n",
    "            if len(_data.wifi) == 0: print(file_name)\n",
    "            motion_data[_siteID][_trace] = [_data.header, _data.acce]\n",
    "            rotate_data[_siteID][_trace] = [_data.header, _data.rotate]\n",
    "            gyro_data[_siteID][_trace] = [_data.header, _data.gyro]\n",
    "            magnetic_data[_siteID][_trace] = [_data.header, _data.magn]\n",
    "            wifi_data[_siteID][_trace] = [_data.header, _data.wifi]\n",
    "            ibeacon_data[_siteID][_trace] = [_data.header, _data.ibeacon]\n",
    "            waypoints_data[_siteID][_trace] = [_data.header, _data.waypoint]\n",
    "print(\"Number of records:\", trace_num)"
   ]
  },
  {
   "cell_type": "markdown",
   "id": "f7ff2843",
   "metadata": {},
   "source": [
    "Saving each data type per file"
   ]
  },
  {
   "cell_type": "code",
   "execution_count": 40,
   "id": "3be2d6a8",
   "metadata": {
    "tags": []
   },
   "outputs": [],
   "source": [
    "save_all_sites = False\n",
    "\n",
    "if save_all_sites:\n",
    "    with open(\"./data_out/train_AllIDs_AllF_motion.pkl\", \"wb\") as f:\n",
    "        pickle.dump(motion_data, f)\n",
    "    with open(\"./data_out/train_AllIDs_AllF_rotate.pkl\", \"wb\") as f:\n",
    "        pickle.dump(rotate_data, f)\n",
    "    with open(\"./data_out/train_AllIDs_AllF_gyro.pkl\", \"wb\") as f:\n",
    "        pickle.dump(gyro_data, f)\n",
    "    with open(\"./data_out/train_AllIDs_AllF_magnetic.pkl\", \"wb\") as f:\n",
    "        pickle.dump(magnetic_data, f)\n",
    "    with open(\"./data_out/train_AllIDs_AllF_wifi.pkl\", \"wb\") as f:\n",
    "        pickle.dump(wifi_data, f)\n",
    "    with open(\"./data_out/train_AllIDs_AllF_ibeacon.pkl\", \"wb\") as f:\n",
    "        pickle.dump(ibeacon_data, f)\n",
    "    with open(\"./data_out/train_AllIDs_AllF_waypoints.pkl\", \"wb\") as f:\n",
    "        pickle.dump(waypoints_data, f)\n",
    "else:\n",
    "    with open(\"./data_out/train_24IDs_standardF_motion.pkl\", \"wb\") as f:\n",
    "        pickle.dump(motion_data, f)\n",
    "    with open(\"./data_out/train_24IDs_standardF_rotate.pkl\", \"wb\") as f:\n",
    "        pickle.dump(rotate_data, f)\n",
    "    with open(\"./data_out/train_24IDs_standardF_gyro.pkl\", \"wb\") as f:\n",
    "        pickle.dump(gyro_data, f)\n",
    "    with open(\"./data_out/train_24IDs_standardF_magnetic.pkl\", \"wb\") as f:\n",
    "        pickle.dump(magnetic_data, f)\n",
    "    with open(\"./data_out/train_24IDs_standardF_wifi.pkl\", \"wb\") as f:\n",
    "        pickle.dump(wifi_data, f)\n",
    "    with open(\"./data_out/train_24IDs_standardF_ibeacon.pkl\", \"wb\") as f:\n",
    "        pickle.dump(ibeacon_data, f)\n",
    "    with open(\"./data_out/train_24IDs_standardF_waypoints.pkl\", \"wb\") as f:\n",
    "        pickle.dump(waypoints_data, f)"
   ]
  },
  {
   "cell_type": "markdown",
   "id": "cac6cef1",
   "metadata": {},
   "source": [
    "INTERPOLATE WAYPOINTS into STEPS"
   ]
  },
  {
   "cell_type": "code",
   "execution_count": 30,
   "id": "0a7179d1",
   "metadata": {
    "tags": []
   },
   "outputs": [],
   "source": [
    "motion_data = pickle.load(open(\"./data_out/train_24IDs_standardF_motion.pkl\", \"rb\"))\n",
    "rotate_data = pickle.load(open(\"./data_out/train_24IDs_standardF_rotate.pkl\", \"rb\"))\n",
    "waypoints_data = pickle.load(open(\"./data_out/train_24IDs_standardF_waypoints.pkl\", \"rb\"))"
   ]
  },
  {
   "cell_type": "code",
   "execution_count": 38,
   "id": "495395dd",
   "metadata": {},
   "outputs": [
    {
     "name": "stderr",
     "output_type": "stream",
     "text": [
      "  0%|                                                                                          | 0/514 [00:00<?, ?it/s]"
     ]
    },
    {
     "name": "stdout",
     "output_type": "stream",
     "text": [
      "Processing Site-5da1389e4db8ce0c98bd0547 with 514 traces\n"
     ]
    },
    {
     "name": "stderr",
     "output_type": "stream",
     "text": [
      "100%|████████████████████████████████████████████████████████████████████████████████| 514/514 [01:23<00:00,  6.18it/s]\n",
      "  0%|                                                                                          | 0/748 [00:00<?, ?it/s]"
     ]
    },
    {
     "name": "stdout",
     "output_type": "stream",
     "text": [
      "Processing Site-5da138b74db8ce0c98bd4774 with 748 traces\n"
     ]
    },
    {
     "name": "stderr",
     "output_type": "stream",
     "text": [
      "100%|████████████████████████████████████████████████████████████████████████████████| 748/748 [03:47<00:00,  3.29it/s]\n",
      "  0%|                                                                                          | 0/513 [00:00<?, ?it/s]"
     ]
    },
    {
     "name": "stdout",
     "output_type": "stream",
     "text": [
      "Processing Site-5da138764db8ce0c98bcaa46 with 513 traces\n"
     ]
    },
    {
     "name": "stderr",
     "output_type": "stream",
     "text": [
      "100%|████████████████████████████████████████████████████████████████████████████████| 513/513 [01:58<00:00,  4.34it/s]\n",
      "  0%|                                                                                  | 1/793 [00:00<02:49,  4.66it/s]"
     ]
    },
    {
     "name": "stdout",
     "output_type": "stream",
     "text": [
      "Processing Site-5dbc1d84c1eb61796cf7c010 with 793 traces\n"
     ]
    },
    {
     "name": "stderr",
     "output_type": "stream",
     "text": [
      "100%|████████████████████████████████████████████████████████████████████████████████| 793/793 [03:56<00:00,  3.35it/s]\n",
      "  0%|                                                                                          | 0/239 [00:00<?, ?it/s]"
     ]
    },
    {
     "name": "stdout",
     "output_type": "stream",
     "text": [
      "Processing Site-5da1383b4db8ce0c98bc11ab with 239 traces\n"
     ]
    },
    {
     "name": "stderr",
     "output_type": "stream",
     "text": [
      "100%|████████████████████████████████████████████████████████████████████████████████| 239/239 [02:43<00:00,  1.46it/s]\n",
      "  0%|▎                                                                                 | 1/310 [00:00<00:34,  8.87it/s]"
     ]
    },
    {
     "name": "stdout",
     "output_type": "stream",
     "text": [
      "Processing Site-5d2709a003f801723c3251bf with 310 traces\n"
     ]
    },
    {
     "name": "stderr",
     "output_type": "stream",
     "text": [
      "100%|████████████████████████████████████████████████████████████████████████████████| 310/310 [00:50<00:00,  6.12it/s]\n",
      "  0%|                                                                                          | 0/514 [00:00<?, ?it/s]"
     ]
    },
    {
     "name": "stdout",
     "output_type": "stream",
     "text": [
      "Processing Site-5a0546857ecc773753327266 with 514 traces\n"
     ]
    },
    {
     "name": "stderr",
     "output_type": "stream",
     "text": [
      "100%|████████████████████████████████████████████████████████████████████████████████| 514/514 [02:08<00:00,  3.99it/s]\n",
      "  0%|                                                                                          | 0/213 [00:00<?, ?it/s]"
     ]
    },
    {
     "name": "stdout",
     "output_type": "stream",
     "text": [
      "Processing Site-5da138274db8ce0c98bbd3d2 with 213 traces\n"
     ]
    },
    {
     "name": "stderr",
     "output_type": "stream",
     "text": [
      "100%|████████████████████████████████████████████████████████████████████████████████| 213/213 [00:33<00:00,  6.42it/s]\n",
      "  0%|                                                                                          | 0/639 [00:00<?, ?it/s]"
     ]
    },
    {
     "name": "stdout",
     "output_type": "stream",
     "text": [
      "Processing Site-5d2709b303f801723c327472 with 639 traces\n"
     ]
    },
    {
     "name": "stderr",
     "output_type": "stream",
     "text": [
      "100%|████████████████████████████████████████████████████████████████████████████████| 639/639 [03:17<00:00,  3.23it/s]\n",
      "  0%|                                                                                          | 0/552 [00:00<?, ?it/s]"
     ]
    },
    {
     "name": "stdout",
     "output_type": "stream",
     "text": [
      "Processing Site-5da958dd46f8266d0737457b with 552 traces\n"
     ]
    },
    {
     "name": "stderr",
     "output_type": "stream",
     "text": [
      "100%|████████████████████████████████████████████████████████████████████████████████| 552/552 [03:23<00:00,  2.71it/s]\n",
      "  0%|                                                                                          | 0/264 [00:00<?, ?it/s]"
     ]
    },
    {
     "name": "stdout",
     "output_type": "stream",
     "text": [
      "Processing Site-5d2709bb03f801723c32852c with 264 traces\n"
     ]
    },
    {
     "name": "stderr",
     "output_type": "stream",
     "text": [
      "100%|████████████████████████████████████████████████████████████████████████████████| 264/264 [03:37<00:00,  1.21it/s]\n",
      "  0%|                                                                                          | 0/361 [00:00<?, ?it/s]"
     ]
    },
    {
     "name": "stdout",
     "output_type": "stream",
     "text": [
      "Processing Site-5d2709d403f801723c32bd39 with 361 traces\n"
     ]
    },
    {
     "name": "stderr",
     "output_type": "stream",
     "text": [
      "100%|████████████████████████████████████████████████████████████████████████████████| 361/361 [02:11<00:00,  2.75it/s]\n",
      "  0%|                                                                                          | 0/745 [00:00<?, ?it/s]"
     ]
    },
    {
     "name": "stdout",
     "output_type": "stream",
     "text": [
      "Processing Site-5dc8cea7659e181adb076a3f with 745 traces\n"
     ]
    },
    {
     "name": "stderr",
     "output_type": "stream",
     "text": [
      "100%|████████████████████████████████████████████████████████████████████████████████| 745/745 [03:43<00:00,  3.33it/s]\n",
      "  0%|                                                                                          | 0/351 [00:00<?, ?it/s]"
     ]
    },
    {
     "name": "stdout",
     "output_type": "stream",
     "text": [
      "Processing Site-5d27096c03f801723c31e5e0 with 351 traces\n"
     ]
    },
    {
     "name": "stderr",
     "output_type": "stream",
     "text": [
      "100%|████████████████████████████████████████████████████████████████████████████████| 351/351 [01:54<00:00,  3.05it/s]\n",
      "  0%|                                                                                          | 0/664 [00:00<?, ?it/s]"
     ]
    },
    {
     "name": "stdout",
     "output_type": "stream",
     "text": [
      "Processing Site-5d2709c303f801723c3299ee with 664 traces\n"
     ]
    },
    {
     "name": "stderr",
     "output_type": "stream",
     "text": [
      "100%|████████████████████████████████████████████████████████████████████████████████| 664/664 [02:16<00:00,  4.87it/s]\n",
      "  0%|                                                                                          | 0/428 [00:00<?, ?it/s]"
     ]
    },
    {
     "name": "stdout",
     "output_type": "stream",
     "text": [
      "Processing Site-5da138314db8ce0c98bbf3a0 with 428 traces\n"
     ]
    },
    {
     "name": "stderr",
     "output_type": "stream",
     "text": [
      "100%|████████████████████████████████████████████████████████████████████████████████| 428/428 [01:56<00:00,  3.68it/s]\n",
      "  0%|                                                                                          | 0/338 [00:00<?, ?it/s]"
     ]
    },
    {
     "name": "stdout",
     "output_type": "stream",
     "text": [
      "Processing Site-5da1382d4db8ce0c98bbe92e with 338 traces\n"
     ]
    },
    {
     "name": "stderr",
     "output_type": "stream",
     "text": [
      "100%|████████████████████████████████████████████████████████████████████████████████| 338/338 [02:14<00:00,  2.51it/s]\n",
      "  0%|                                                                                         | 0/1141 [00:00<?, ?it/s]"
     ]
    },
    {
     "name": "stdout",
     "output_type": "stream",
     "text": [
      "Processing Site-5d27075f03f801723c2e360f with 1141 traces\n"
     ]
    },
    {
     "name": "stderr",
     "output_type": "stream",
     "text": [
      "100%|██████████████████████████████████████████████████████████████████████████████| 1141/1141 [06:11<00:00,  3.07it/s]\n",
      "  0%|                                                                                          | 0/205 [00:00<?, ?it/s]"
     ]
    },
    {
     "name": "stdout",
     "output_type": "stream",
     "text": [
      "Processing Site-5da138754db8ce0c98bca82f with 205 traces\n"
     ]
    },
    {
     "name": "stderr",
     "output_type": "stream",
     "text": [
      "100%|████████████████████████████████████████████████████████████████████████████████| 205/205 [01:27<00:00,  2.33it/s]\n",
      "  0%|                                                                                          | 0/343 [00:00<?, ?it/s]"
     ]
    },
    {
     "name": "stdout",
     "output_type": "stream",
     "text": [
      "Processing Site-5d2709e003f801723c32d896 with 343 traces\n"
     ]
    },
    {
     "name": "stderr",
     "output_type": "stream",
     "text": [
      "100%|████████████████████████████████████████████████████████████████████████████████| 343/343 [02:22<00:00,  2.41it/s]\n",
      "  0%|                                                                                          | 0/404 [00:00<?, ?it/s]"
     ]
    },
    {
     "name": "stdout",
     "output_type": "stream",
     "text": [
      "Processing Site-5d27097f03f801723c320d97 with 404 traces\n"
     ]
    },
    {
     "name": "stderr",
     "output_type": "stream",
     "text": [
      "100%|████████████████████████████████████████████████████████████████████████████████| 404/404 [02:19<00:00,  2.89it/s]\n",
      "  0%|                                                                                           | 0/82 [00:00<?, ?it/s]"
     ]
    },
    {
     "name": "stdout",
     "output_type": "stream",
     "text": [
      "Processing Site-5da138364db8ce0c98bc00f1 with 82 traces\n"
     ]
    },
    {
     "name": "stderr",
     "output_type": "stream",
     "text": [
      "100%|██████████████████████████████████████████████████████████████████████████████████| 82/82 [00:34<00:00,  2.35it/s]\n",
      "  0%|                                                                                          | 0/385 [00:00<?, ?it/s]"
     ]
    },
    {
     "name": "stdout",
     "output_type": "stream",
     "text": [
      "Processing Site-5c3c44b80379370013e0fd2b with 385 traces\n"
     ]
    },
    {
     "name": "stderr",
     "output_type": "stream",
     "text": [
      "100%|████████████████████████████████████████████████████████████████████████████████| 385/385 [02:12<00:00,  2.90it/s]\n",
      "  0%|                                                                                          | 0/131 [00:00<?, ?it/s]"
     ]
    },
    {
     "name": "stdout",
     "output_type": "stream",
     "text": [
      "Processing Site-5d27099f03f801723c32511d with 131 traces\n"
     ]
    },
    {
     "name": "stderr",
     "output_type": "stream",
     "text": [
      "100%|████████████████████████████████████████████████████████████████████████████████| 131/131 [00:56<00:00,  2.30it/s]\n"
     ]
    }
   ],
   "source": [
    "from xyz10.compute_f_mod import compute_step_positions\n",
    "\n",
    "steps_data = {}\n",
    "\n",
    "for site_id in motion_data.keys():  # over sites\n",
    "    print(f\"Processing Site-{site_id} with {len(waypoints_data[site_id])} traces\")\n",
    "    steps_data[site_id] = {}\n",
    "    \n",
    "    for trace_id in tqdm(waypoints_data[site_id]):  # over traces\n",
    "        \n",
    "        header = waypoints_data[site_id][trace_id][0]\n",
    "        \n",
    "        waypoint = waypoints_data[site_id][trace_id][1]\n",
    "        motion = motion_data[site_id][trace_id][1]\n",
    "        rotate = rotate_data[site_id][trace_id][1]\n",
    "               \n",
    "        step_positions = pd.DataFrame(compute_step_positions(motion[[\"time\", \"x_axis\", \"y_axis\", \"z_axis\"]].to_numpy(), \n",
    "                                                             rotate[[\"time\", \"x_axis\", \"y_axis\", \"z_axis\"]].to_numpy(), \n",
    "                                                             waypoint[[\"time\", \"x\", \"y\"]].to_numpy()), columns=[\"time\", \"x\", \"y\"])\n",
    "        \n",
    "        steps_data[site_id][trace_id] = [header, step_positions]\n",
    "        \n",
    "    #break  # only first siteID"
   ]
  },
  {
   "cell_type": "code",
   "execution_count": 39,
   "id": "06e16a46",
   "metadata": {},
   "outputs": [],
   "source": [
    "with open(\"./data_out/train_24IDs_standardF_steps.pkl\", \"wb\") as f:\n",
    "    pickle.dump(steps_data, f)"
   ]
  },
  {
   "cell_type": "markdown",
   "id": "4b19963c",
   "metadata": {},
   "source": [
    "PRE-PROCESSING\n",
    "- Create list of the the most representative (original/noninterpolated) BSSID with minimum value of RSSI(-1 to be still less) and maximum value of DELAY(+1 to be still more) per site (for dummy values of absent bssid)   "
   ]
  },
  {
   "cell_type": "markdown",
   "id": "d6f750af",
   "metadata": {
    "tags": []
   },
   "source": [
    "TEST DATA\n",
    "\n",
    "   > 1) max counts/occurence per site\n",
    "   \n",
    "   > 2) max RSSI per site\n",
    "   \n",
    "   > 3) max abs(mean(1/RSSI))*counts per site"
   ]
  },
  {
   "cell_type": "code",
   "execution_count": 497,
   "id": "d274b867",
   "metadata": {},
   "outputs": [],
   "source": [
    "test_data = pickle.load(open(\"./data_out/test_data.pkl\", \"rb\"))\n",
    "test_bssid = pickle.load(open(\"./data_out/unique_test_bssid.pkl\", \"rb\"))"
   ]
  },
  {
   "cell_type": "code",
   "execution_count": 498,
   "id": "c1acf8ca",
   "metadata": {},
   "outputs": [
    {
     "name": "stderr",
     "output_type": "stream",
     "text": [
      "100%|██████████████████████████████████████████████████████████████████████████████████| 24/24 [00:04<00:00,  5.91it/s]\n"
     ]
    }
   ],
   "source": [
    "test_bssid_min_rssi = {}\n",
    "test_bssid_max_delay = {}\n",
    "\n",
    "test_bssid_max_rssi_rank = {}\n",
    "test_bssid_max_count_rank = {}\n",
    "test_bssid_max_weight_rank = {}\n",
    "\n",
    "for site in tqdm(test_data.keys()):\n",
    "    \n",
    "    bssids = test_bssid[site]\n",
    "    site_data = test_data[site]\n",
    "    site_wifi = []\n",
    "    \n",
    "    for trace in site_data.keys():\n",
    "        wifi = site_data[trace].wifi\n",
    "        wifi[\"rssi_inv\"] = 1/wifi.rssi\n",
    "        site_wifi.append(wifi)\n",
    "\n",
    "    site_wifi = pd.concat(site_wifi, ignore_index=True)\n",
    "    \n",
    "    test_bssid_min_rssi[site] = site_wifi.rssi.min() - 1\n",
    "    test_bssid_max_delay[site] = site_wifi.delay.max() + 1\n",
    "    \n",
    "    # variosu ranking section\n",
    "    gr = site_wifi.groupby([\"bssid\"])\n",
    "    \n",
    "    max_rssi = gr.rssi.max().reset_index().sort_values(\"rssi\", ascending=False).reset_index().drop(\"index\", axis = 1)\n",
    "    max_count = gr.time.count().reset_index().rename(columns={\"time\": \"count\"}).sort_values(\"count\", ascending=False).reset_index().drop(\"index\", axis = 1)\n",
    "        \n",
    "    max_weight = gr.rssi_inv.mean().reset_index()\n",
    "    max_weight[\"weight\"] = abs(max_weight[\"rssi_inv\"]*gr.rssi_inv.count().reset_index()[\"rssi_inv\"])\n",
    "    max_weight = max_weight.sort_values(\"weight\", ascending=False).reset_index().drop(\"index\", axis = 1).drop(\"rssi_inv\", axis = 1)\n",
    "    \n",
    "    test_bssid_max_rssi_rank[site] = max_rssi\n",
    "    test_bssid_max_count_rank[site] = max_count\n",
    "    test_bssid_max_weight_rank[site] =  max_weight\n",
    "\n",
    "    #break"
   ]
  },
  {
   "cell_type": "code",
   "execution_count": 499,
   "id": "cf1a44d1",
   "metadata": {},
   "outputs": [],
   "source": [
    "test_bssid_ranks = {\"count\":test_bssid_max_count_rank, \"rssi\":test_bssid_max_rssi_rank, \"weight\": test_bssid_max_weight_rank, \"min_rssi\": test_bssid_min_rssi, \"max_delay\": test_bssid_max_delay}\n",
    "with open(\"./data_out/test_bssid_ranks.pkl\", \"wb\") as f:\n",
    "    pickle.dump(test_bssid_ranks, f)"
   ]
  },
  {
   "cell_type": "markdown",
   "id": "28428de9",
   "metadata": {
    "tags": []
   },
   "source": [
    "TRAIN DATA\n",
    "\n",
    "   > 1) max counts/occurence per site\n",
    "   \n",
    "   > 2) max RSSI per site\n",
    "   \n",
    "   > 3) max abs(mean(1/RSSI))*counts per site"
   ]
  },
  {
   "cell_type": "code",
   "execution_count": 500,
   "id": "c9b1a933",
   "metadata": {},
   "outputs": [],
   "source": [
    "wifi_data_train = pickle.load(open(\"./data_out/train_24IDs_standardF_wifi.pkl\", \"rb\"))"
   ]
  },
  {
   "cell_type": "code",
   "execution_count": 502,
   "id": "8af738fe",
   "metadata": {},
   "outputs": [
    {
     "name": "stderr",
     "output_type": "stream",
     "text": [
      "100%|██████████████████████████████████████████████████████████████████████████████████| 24/24 [01:40<00:00,  4.17s/it]\n"
     ]
    }
   ],
   "source": [
    "train_bssid_min_rssi = {}\n",
    "train_bssid_max_delay = {}\n",
    "\n",
    "train_bssid_max_rssi_rank = {}\n",
    "train_bssid_max_count_rank = {}\n",
    "train_bssid_max_weight_rank = {}\n",
    "\n",
    "for site in tqdm(wifi_data_train.keys()):\n",
    "    \n",
    "    #bssids = train_bssid[site]\n",
    "    site_data = wifi_data_train[site]\n",
    "    site_wifi = []\n",
    "    \n",
    "    for trace in site_data.keys():\n",
    "        wifi = site_data[trace][1]\n",
    "        wifi[\"rssi_inv\"] = 1/wifi.rssi\n",
    "        site_wifi.append(wifi)\n",
    "\n",
    "    site_wifi = pd.concat(site_wifi, ignore_index=True)\n",
    "    \n",
    "    train_bssid_min_rssi[site] = site_wifi.rssi.min() - 1\n",
    "    train_bssid_max_delay[site] = site_wifi.delay.max() + 1\n",
    "    \n",
    "    # variosu ranking section\n",
    "    gr = site_wifi.groupby([\"bssid\"])\n",
    "    \n",
    "    max_rssi = gr.rssi.max().reset_index().sort_values(\"rssi\", ascending=False).reset_index().drop(\"index\", axis = 1)\n",
    "    max_count = gr.time.count().reset_index().rename(columns={\"time\": \"count\"}).sort_values(\"count\", ascending=False).reset_index().drop(\"index\", axis = 1)\n",
    "        \n",
    "    max_weight = gr.rssi_inv.mean().reset_index()\n",
    "    max_weight[\"weight\"] = abs(max_weight[\"rssi_inv\"]*gr.rssi_inv.count().reset_index()[\"rssi_inv\"])\n",
    "    max_weight = max_weight.sort_values(\"weight\", ascending=False).reset_index().drop(\"index\", axis = 1).drop(\"rssi_inv\", axis = 1)\n",
    "    \n",
    "    train_bssid_max_rssi_rank[site] = max_rssi\n",
    "    train_bssid_max_count_rank[site] = max_count\n",
    "    train_bssid_max_weight_rank[site] =  max_weight\n",
    "    #break"
   ]
  },
  {
   "cell_type": "code",
   "execution_count": 503,
   "id": "a7669577",
   "metadata": {},
   "outputs": [],
   "source": [
    "train_bssid_ranks = {\"count\":train_bssid_max_count_rank, \"rssi\":train_bssid_max_rssi_rank, \"weight\": train_bssid_max_weight_rank, \"min_rssi\": train_bssid_min_rssi, \"max_delay\": train_bssid_max_delay}\n",
    "with open(\"./data_out/train_24IDs_standardF_bssid_ranks.pkl\", \"wb\") as f:\n",
    "    pickle.dump(train_bssid_ranks, f)"
   ]
  },
  {
   "cell_type": "markdown",
   "id": "8523a8e6",
   "metadata": {},
   "source": [
    "PROCESSING"
   ]
  },
  {
   "cell_type": "code",
   "execution_count": 9,
   "id": "ef225860",
   "metadata": {
    "tags": []
   },
   "outputs": [
    {
     "name": "stdout",
     "output_type": "stream",
     "text": [
      "Site-5da1389e4db8ce0c98bd0547: test-444, train-1021, mix-1041: => train overlap-98.07877041306436\n",
      "Site-5da138b74db8ce0c98bd4774: test-2369, train-3535, mix-3546: => train overlap-99.68979131415679\n",
      "Site-5da138764db8ce0c98bcaa46: test-1279, train-1888, mix-1949: => train overlap-96.87018984094408\n",
      "Site-5dbc1d84c1eb61796cf7c010: test-3619, train-4519, mix-4544: => train overlap-99.44982394366197\n",
      "Site-5da1383b4db8ce0c98bc11ab: test-1116, train-1525, mix-1554: => train overlap-98.13384813384813\n",
      "Site-5d2709a003f801723c3251bf: test-885, train-1252, mix-1269: => train overlap-98.66036249014972\n",
      "Site-5a0546857ecc773753327266: test-2435, train-3397, mix-3433: => train overlap-98.95135450043693\n",
      "Site-5da138274db8ce0c98bbd3d2: test-298, train-490, mix-498: => train overlap-98.39357429718875\n",
      "Site-5d2709b303f801723c327472: test-1167, train-1913, mix-1934: => train overlap-98.91416752843847\n",
      "Site-5da958dd46f8266d0737457b: test-2895, train-3499, mix-3531: => train overlap-99.09374114981591\n",
      "Site-5d2709bb03f801723c32852c: test-1556, train-2452, mix-2492: => train overlap-98.3948635634029\n",
      "Site-5d2709d403f801723c32bd39: test-1772, train-2139, mix-2308: => train overlap-92.67764298093587\n",
      "Site-5dc8cea7659e181adb076a3f: test-2523, train-4864, mix-4923: => train overlap-98.80154377412147\n",
      "Site-5d27096c03f801723c31e5e0: test-1538, train-4964, mix-5469: => train overlap-90.76613640519291\n",
      "Site-5d2709c303f801723c3299ee: test-4367, train-5831, mix-5873: => train overlap-99.28486293206198\n",
      "Site-5da138314db8ce0c98bbf3a0: test-909, train-1212, mix-1223: => train overlap-99.1005723630417\n",
      "Site-5da1382d4db8ce0c98bbe92e: test-1839, train-2862, mix-2920: => train overlap-98.01369863013699\n",
      "Site-5d27075f03f801723c2e360f: test-1238, train-7029, mix-7033: => train overlap-99.94312526660032\n",
      "Site-5da138754db8ce0c98bca82f: test-1256, train-1627, mix-1792: => train overlap-90.79241071428571\n",
      "Site-5d2709e003f801723c32d896: test-1000, train-1309, mix-1355: => train overlap-96.60516605166052\n",
      "Site-5d27097f03f801723c320d97: test-1138, train-2490, mix-2514: => train overlap-99.0453460620525\n",
      "Site-5da138364db8ce0c98bc00f1: test-522, train-822, mix-844: => train overlap-97.39336492890995\n",
      "Site-5c3c44b80379370013e0fd2b: test-1071, train-3063, mix-3064: => train overlap-99.96736292428199\n",
      "Site-5d27099f03f801723c32511d: test-557, train-925, mix-928: => train overlap-99.67672413793103\n"
     ]
    }
   ],
   "source": [
    "test_bssid = pickle.load(open(\"./data_out/test_bssid_ranks.pkl\", \"rb\"))\n",
    "train_bssid = pickle.load(open(\"./data_out/train_24IDs_standardF_bssid_ranks.pkl\", \"rb\"))\n",
    "\n",
    "fraction_bssid = 10000\n",
    "bssid_modes = [\"count\", \"rssi\", \"weight\"]\n",
    "group_modes = [\"train\", \"test\", \"mix\"]\n",
    "# TODO change here for different modes \n",
    "bssid_mode = bssid_modes[0]\n",
    "group_mode = group_modes[2]\n",
    "\n",
    "bssid = {}\n",
    "for site in test_bssid[bssid_mode]:\n",
    "    if fraction_bssid < 1:\n",
    "        _test_bssid = test_bssid[bssid_mode][site].bssid[:int(fraction_bssid*len(test_bssid[bssid_mode][site]))]\n",
    "        _train_bssid = train_bssid[bssid_mode][site].bssid[:int(fraction_bssid*len(train_bssid[bssid_mode][site]))]\n",
    "    else:\n",
    "        _test_bssid = test_bssid[bssid_mode][site].bssid[:int(fraction_bssid)]\n",
    "        _train_bssid = train_bssid[bssid_mode][site].bssid[:int(fraction_bssid)]\n",
    "    _mix_bssid = pd.concat([_test_bssid,  _train_bssid]).unique()\n",
    "    \n",
    "    # TODO change here for different lists \n",
    "    _list = _mix_bssid.tolist()\n",
    "    print(f\"Site-{site}: test-{len(_test_bssid)}, train-{len(_train_bssid)}, mix-{len(_mix_bssid)}: => train overlap-{100*len(_train_bssid)/len(_mix_bssid)}\")\n",
    "    \n",
    "    bssid[site] = _list\n",
    "    #print(len(_list))\n",
    "    #break"
   ]
  },
  {
   "cell_type": "markdown",
   "id": "f92a1b72",
   "metadata": {},
   "source": [
    "> Compact DATA: Original WAYPOINTS (snap to waypoints): Convert/Append/Save each trace per site to DataFrame: Features=BSSID/RSSI + DELAYS + TRACEID;  Targets=XYF (BSSID not in trace gets min-RSSI and max-DELAY per site) \n",
    "\n",
    "> Full DATA: Interpolated STEPS (snap to steps; where steps 0.5s/wifi 0.5-1s dt = expected error is 0.5step=0.25m): Convert/Append/Save each trace per site to DataFrame: Features=BSSID/RSSI + DELAYS + TRACEID;  Targets=XYF (BSSID not in trace gets min-RSSI and max-DELAY per site) "
   ]
  },
  {
   "cell_type": "code",
   "execution_count": 5,
   "id": "076ba085",
   "metadata": {},
   "outputs": [],
   "source": [
    "wifi_data_train = pickle.load(open(\"./data_out/train_24IDs_standardF_wifi.pkl\", \"rb\"))"
   ]
  },
  {
   "cell_type": "code",
   "execution_count": 67,
   "id": "7604ac46",
   "metadata": {
    "tags": []
   },
   "outputs": [],
   "source": [
    "modes = [\"compact\", \"full\"]\n",
    "mode = modes[1]\n",
    "\n",
    "if mode == \"compact\":\n",
    "    spatial_data = pickle.load(open(\"./data_out/train_24IDs_standardF_waypoints.pkl\", \"rb\"))\n",
    "else:\n",
    "    spatial_data = pickle.load(open(\"./data_out/train_24IDs_standardF_steps.pkl\", \"rb\"))"
   ]
  },
  {
   "cell_type": "code",
   "execution_count": 23,
   "id": "b999bdf4",
   "metadata": {
    "tags": []
   },
   "outputs": [
    {
     "name": "stderr",
     "output_type": "stream",
     "text": [
      "  0%|                                                                                          | 0/514 [00:00<?, ?it/s]"
     ]
    },
    {
     "name": "stdout",
     "output_type": "stream",
     "text": [
      "Processing #1: Site-5da1389e4db8ce0c98bd0547 with 514 traces and 1041 bssids\n"
     ]
    },
    {
     "name": "stderr",
     "output_type": "stream",
     "text": [
      "100%|████████████████████████████████████████████████████████████████████████████████| 514/514 [05:05<00:00,  1.68it/s]\n",
      "  0%|                                                                                          | 0/748 [00:00<?, ?it/s]"
     ]
    },
    {
     "name": "stdout",
     "output_type": "stream",
     "text": [
      "Processing #2: Site-5da138b74db8ce0c98bd4774 with 748 traces and 3546 bssids\n"
     ]
    },
    {
     "name": "stderr",
     "output_type": "stream",
     "text": [
      "100%|████████████████████████████████████████████████████████████████████████████████| 748/748 [50:36<00:00,  4.06s/it]\n",
      "  0%|                                                                                          | 0/513 [00:00<?, ?it/s]"
     ]
    },
    {
     "name": "stdout",
     "output_type": "stream",
     "text": [
      "Processing #3: Site-5da138764db8ce0c98bcaa46 with 513 traces and 1949 bssids\n"
     ]
    },
    {
     "name": "stderr",
     "output_type": "stream",
     "text": [
      "100%|████████████████████████████████████████████████████████████████████████████████| 513/513 [10:42<00:00,  1.25s/it]\n",
      "  0%|                                                                                          | 0/793 [00:00<?, ?it/s]"
     ]
    },
    {
     "name": "stdout",
     "output_type": "stream",
     "text": [
      "Processing #4: Site-5dbc1d84c1eb61796cf7c010 with 793 traces and 4544 bssids\n"
     ]
    },
    {
     "name": "stderr",
     "output_type": "stream",
     "text": [
      "100%|██████████████████████████████████████████████████████████████████████████████| 793/793 [1:09:48<00:00,  5.28s/it]\n",
      "  0%|                                                                                          | 0/239 [00:00<?, ?it/s]"
     ]
    },
    {
     "name": "stdout",
     "output_type": "stream",
     "text": [
      "Processing #5: Site-5da1383b4db8ce0c98bc11ab with 239 traces and 1554 bssids\n"
     ]
    },
    {
     "name": "stderr",
     "output_type": "stream",
     "text": [
      "100%|████████████████████████████████████████████████████████████████████████████████| 239/239 [20:29<00:00,  5.15s/it]\n",
      "  0%|                                                                                          | 0/310 [00:00<?, ?it/s]"
     ]
    },
    {
     "name": "stdout",
     "output_type": "stream",
     "text": [
      "Processing #6: Site-5d2709a003f801723c3251bf with 310 traces and 1269 bssids\n"
     ]
    },
    {
     "name": "stderr",
     "output_type": "stream",
     "text": [
      "100%|████████████████████████████████████████████████████████████████████████████████| 310/310 [04:16<00:00,  1.21it/s]\n",
      "  0%|                                                                                          | 0/514 [00:00<?, ?it/s]"
     ]
    },
    {
     "name": "stdout",
     "output_type": "stream",
     "text": [
      "Processing #7: Site-5a0546857ecc773753327266 with 514 traces and 3433 bssids\n"
     ]
    },
    {
     "name": "stderr",
     "output_type": "stream",
     "text": [
      "100%|████████████████████████████████████████████████████████████████████████████████| 514/514 [33:41<00:00,  3.93s/it]\n",
      "  0%|                                                                                          | 0/213 [00:00<?, ?it/s]"
     ]
    },
    {
     "name": "stdout",
     "output_type": "stream",
     "text": [
      "Processing #8: Site-5da138274db8ce0c98bbd3d2 with 213 traces and 498 bssids\n"
     ]
    },
    {
     "name": "stderr",
     "output_type": "stream",
     "text": [
      "100%|████████████████████████████████████████████████████████████████████████████████| 213/213 [01:20<00:00,  2.65it/s]\n",
      "  0%|                                                                                          | 0/639 [00:00<?, ?it/s]"
     ]
    },
    {
     "name": "stdout",
     "output_type": "stream",
     "text": [
      "Processing #9: Site-5d2709b303f801723c327472 with 639 traces and 1934 bssids\n"
     ]
    },
    {
     "name": "stderr",
     "output_type": "stream",
     "text": [
      "100%|████████████████████████████████████████████████████████████████████████████████| 639/639 [19:22<00:00,  1.82s/it]\n",
      "  0%|                                                                                          | 0/552 [00:00<?, ?it/s]"
     ]
    },
    {
     "name": "stdout",
     "output_type": "stream",
     "text": [
      "Processing #10: Site-5da958dd46f8266d0737457b with 552 traces and 3531 bssids\n"
     ]
    },
    {
     "name": "stderr",
     "output_type": "stream",
     "text": [
      "100%|████████████████████████████████████████████████████████████████████████████████| 552/552 [48:41<00:00,  5.29s/it]\n",
      "  0%|                                                                                          | 0/264 [00:00<?, ?it/s]"
     ]
    },
    {
     "name": "stdout",
     "output_type": "stream",
     "text": [
      "Processing #11: Site-5d2709bb03f801723c32852c with 264 traces and 2492 bssids\n"
     ]
    },
    {
     "name": "stderr",
     "output_type": "stream",
     "text": [
      "100%|████████████████████████████████████████████████████████████████████████████████| 264/264 [29:16<00:00,  6.65s/it]\n",
      "  0%|                                                                                          | 0/361 [00:00<?, ?it/s]"
     ]
    },
    {
     "name": "stdout",
     "output_type": "stream",
     "text": [
      "Processing #12: Site-5d2709d403f801723c32bd39 with 361 traces and 2308 bssids\n"
     ]
    },
    {
     "name": "stderr",
     "output_type": "stream",
     "text": [
      "100%|████████████████████████████████████████████████████████████████████████████████| 361/361 [09:28<00:00,  1.58s/it]\n",
      "  0%|                                                                                          | 0/745 [00:00<?, ?it/s]"
     ]
    },
    {
     "name": "stdout",
     "output_type": "stream",
     "text": [
      "Processing #13: Site-5dc8cea7659e181adb076a3f with 745 traces and 4923 bssids\n"
     ]
    },
    {
     "name": "stderr",
     "output_type": "stream",
     "text": [
      "100%|████████████████████████████████████████████████████████████████████████████████| 745/745 [31:34<00:00,  2.54s/it]\n",
      "  0%|                                                                                          | 0/351 [00:00<?, ?it/s]"
     ]
    },
    {
     "name": "stdout",
     "output_type": "stream",
     "text": [
      "Processing #14: Site-5d27096c03f801723c31e5e0 with 351 traces and 5469 bssids\n"
     ]
    },
    {
     "name": "stderr",
     "output_type": "stream",
     "text": [
      "100%|████████████████████████████████████████████████████████████████████████████████| 351/351 [09:35<00:00,  1.64s/it]\n",
      "  0%|                                                                                          | 0/664 [00:00<?, ?it/s]"
     ]
    },
    {
     "name": "stdout",
     "output_type": "stream",
     "text": [
      "Processing #15: Site-5d2709c303f801723c3299ee with 664 traces and 5873 bssids\n"
     ]
    },
    {
     "name": "stderr",
     "output_type": "stream",
     "text": [
      "100%|████████████████████████████████████████████████████████████████████████████████| 664/664 [34:14<00:00,  3.09s/it]\n",
      "  0%|                                                                                          | 0/428 [00:00<?, ?it/s]"
     ]
    },
    {
     "name": "stdout",
     "output_type": "stream",
     "text": [
      "Processing #16: Site-5da138314db8ce0c98bbf3a0 with 428 traces and 1223 bssids\n"
     ]
    },
    {
     "name": "stderr",
     "output_type": "stream",
     "text": [
      "100%|████████████████████████████████████████████████████████████████████████████████| 428/428 [09:52<00:00,  1.38s/it]\n",
      "  0%|                                                                                          | 0/338 [00:00<?, ?it/s]"
     ]
    },
    {
     "name": "stdout",
     "output_type": "stream",
     "text": [
      "Processing #17: Site-5da1382d4db8ce0c98bbe92e with 338 traces and 2920 bssids\n"
     ]
    },
    {
     "name": "stderr",
     "output_type": "stream",
     "text": [
      "100%|████████████████████████████████████████████████████████████████████████████████| 338/338 [42:40<00:00,  7.57s/it]\n",
      "  0%|                                                                                         | 0/1141 [00:00<?, ?it/s]"
     ]
    },
    {
     "name": "stdout",
     "output_type": "stream",
     "text": [
      "Processing #18: Site-5d27075f03f801723c2e360f with 1141 traces and 7033 bssids\n"
     ]
    },
    {
     "name": "stderr",
     "output_type": "stream",
     "text": [
      "100%|████████████████████████████████████████████████████████████████████████████| 1141/1141 [1:20:39<00:00,  4.24s/it]\n",
      "  0%|                                                                                          | 0/205 [00:00<?, ?it/s]"
     ]
    },
    {
     "name": "stdout",
     "output_type": "stream",
     "text": [
      "Processing #19: Site-5da138754db8ce0c98bca82f with 205 traces and 1792 bssids\n"
     ]
    },
    {
     "name": "stderr",
     "output_type": "stream",
     "text": [
      "100%|████████████████████████████████████████████████████████████████████████████████| 205/205 [05:41<00:00,  1.67s/it]\n",
      "  0%|▏                                                                                 | 1/343 [00:00<01:09,  4.91it/s]"
     ]
    },
    {
     "name": "stdout",
     "output_type": "stream",
     "text": [
      "Processing #20: Site-5d2709e003f801723c32d896 with 343 traces and 1355 bssids\n"
     ]
    },
    {
     "name": "stderr",
     "output_type": "stream",
     "text": [
      "100%|████████████████████████████████████████████████████████████████████████████████| 343/343 [10:53<00:00,  1.90s/it]\n",
      "  0%|                                                                                          | 0/404 [00:00<?, ?it/s]"
     ]
    },
    {
     "name": "stdout",
     "output_type": "stream",
     "text": [
      "Processing #21: Site-5d27097f03f801723c320d97 with 404 traces and 2514 bssids\n"
     ]
    },
    {
     "name": "stderr",
     "output_type": "stream",
     "text": [
      "100%|████████████████████████████████████████████████████████████████████████████████| 404/404 [16:13<00:00,  2.41s/it]\n",
      "  0%|                                                                                           | 0/82 [00:00<?, ?it/s]"
     ]
    },
    {
     "name": "stdout",
     "output_type": "stream",
     "text": [
      "Processing #22: Site-5da138364db8ce0c98bc00f1 with 82 traces and 844 bssids\n"
     ]
    },
    {
     "name": "stderr",
     "output_type": "stream",
     "text": [
      "100%|██████████████████████████████████████████████████████████████████████████████████| 82/82 [02:05<00:00,  1.53s/it]\n",
      "  0%|                                                                                          | 0/385 [00:00<?, ?it/s]"
     ]
    },
    {
     "name": "stdout",
     "output_type": "stream",
     "text": [
      "Processing #23: Site-5c3c44b80379370013e0fd2b with 385 traces and 3064 bssids\n"
     ]
    },
    {
     "name": "stderr",
     "output_type": "stream",
     "text": [
      "100%|████████████████████████████████████████████████████████████████████████████████| 385/385 [33:00<00:00,  5.14s/it]\n",
      "  0%|                                                                                          | 0/131 [00:00<?, ?it/s]"
     ]
    },
    {
     "name": "stdout",
     "output_type": "stream",
     "text": [
      "Processing #24: Site-5d27099f03f801723c32511d with 131 traces and 928 bssids\n"
     ]
    },
    {
     "name": "stderr",
     "output_type": "stream",
     "text": [
      "100%|████████████████████████████████████████████████████████████████████████████████| 131/131 [05:37<00:00,  2.58s/it]\n"
     ]
    }
   ],
   "source": [
    "combined_data = {}\n",
    "num_s = 0\n",
    "\n",
    "for site_id in bssid.keys():  # over sites\n",
    "    \n",
    "    num_s += 1\n",
    "    if True: #site_id != \"5da138b74db8ce0c98bd4774\":\n",
    "        print(f\"Processing #{num_s}: Site-{site_id} with {len(spatial_data[site_id])} traces and {len(bssid[site_id])} bssids\")\n",
    "        site_trace_record_wifi = []\n",
    "\n",
    "        col_names = []\n",
    "        for feature_bssid in bssid[site_id]:  # create features-columns list\n",
    "            col_names.append(feature_bssid)\n",
    "            col_names.append(feature_bssid+\"_D\")\n",
    "\n",
    "        for trace_id in tqdm(spatial_data[site_id]):  # over traces\n",
    "            \n",
    "            wifi_record = wifi_data_train[site_id][trace_id][1].copy(deep=True)\n",
    "            trace_record = spatial_data[site_id][trace_id].copy(deep=True)\n",
    "            \n",
    "            trace_record_wifi = np.zeros((trace_record[1].shape[0], len(col_names)))\n",
    "            \n",
    "            for col_id, _ in enumerate(col_names):\n",
    "                if col_id%2 == 0:\n",
    "                    trace_record_wifi[:, col_id] = int(train_bssid[\"min_rssi\"][site_id])\n",
    "                else:\n",
    "                    trace_record_wifi[:, col_id] = int(train_bssid[\"max_delay\"][site_id])\n",
    "            \n",
    "            trace_record_wifi = pd.DataFrame(trace_record_wifi, columns=col_names)\n",
    "\n",
    "            trace_record_wifi[[\"time\", \"x\", \"y\"]] = trace_record[1][[\"time\", \"x\", \"y\"]].copy(deep=True)\n",
    "            trace_record_wifi[\"f\"] = trace_record[0].FloorName[0]\n",
    "            trace_record_wifi[\"trace\"] = trace_id\n",
    "\n",
    "            # Take wifi data the nearest to each waypoint\n",
    "            for j, t0 in enumerate(trace_record_wifi.time):  # over times in trace/for each waypoint\n",
    "\n",
    "                wifi_record[\"time0\"] = wifi_record.time - t0\n",
    "                wifi_record[\"time0\"] = wifi_record.time0.apply(abs)\n",
    "\n",
    "                wifi_min = wifi_record[wifi_record.time0 == wifi_record.time0.min()]\n",
    "                wifi_min_bssid_list = wifi_min.bssid.tolist()\n",
    "                wifi_min_delay_list = [col+\"_D\" for col in wifi_min_bssid_list]\n",
    "\n",
    "                trace_record_wifi.loc[j, wifi_min_bssid_list] = wifi_min.rssi.to_numpy()\n",
    "                trace_record_wifi.loc[j, wifi_min_delay_list] = wifi_min.delay.to_numpy().astype(int)\n",
    "\n",
    "                #break  # only first feature-bssid         \n",
    "\n",
    "            site_trace_record_wifi.append(trace_record_wifi)\n",
    "\n",
    "            #break  # only fist trace\n",
    "\n",
    "        site_trace_record_wifi = pd.concat(site_trace_record_wifi, ignore_index=True)\n",
    "        #combined_data[site_id] = site_trace_record_wifi\n",
    "        \n",
    "    # saving model for a given site_id\n",
    "    fr = str(fraction_bssid).replace(\".\",\"\")\n",
    "    with open(f\"./data_out/{mode}24/{site_id}_mode-{bssid_mode}_fraction-{fr}_{group_mode}-bssid.pkl\", \"wb\") as f:\n",
    "        pickle.dump(site_trace_record_wifi, f)\n",
    "    #break  # only first site"
   ]
  },
  {
   "cell_type": "markdown",
   "id": "70672cf6",
   "metadata": {},
   "source": [
    "***\n",
    "Convert Test Data into RSSI/DELAY DataFrame for Inference Phase\n",
    "***"
   ]
  },
  {
   "cell_type": "code",
   "execution_count": 10,
   "id": "d5544a28",
   "metadata": {},
   "outputs": [],
   "source": [
    "train_bssid = pickle.load(open(\"./data_out/train_24IDs_standardF_bssid_ranks.pkl\", \"rb\"))\n",
    "test_data = pickle.load(open(\"./data_out/test_data.pkl\", \"rb\"))"
   ]
  },
  {
   "cell_type": "code",
   "execution_count": 15,
   "id": "946dd84e",
   "metadata": {
    "collapsed": true,
    "jupyter": {
     "outputs_hidden": true
    },
    "tags": []
   },
   "outputs": [
    {
     "name": "stdout",
     "output_type": "stream",
     "text": [
      "Processing #1: Site-5da1382d4db8ce0c98bbe92e with 11 traces and 2920 bssids\n",
      "    time                                      ssid  \\\n",
      "0   1911  383a6185d30aa442d718b5209ecd4eb49cb73c54   \n",
      "1   1911  3f2c15f34befeab48e04a706071dd12f20bcbf75   \n",
      "2   1911  8b11efe31eeb88209290065632b99739c4a57f11   \n",
      "3   1911  372308ce2a04b1ca088d269fec6966c697b02619   \n",
      "4   1911  5ec944cb0e043327906acce8d1b61f6e32d8db1c   \n",
      "5   1911  7123b8a309997c3fc78a7897089a478e1efc33c7   \n",
      "6   1911  da39a3ee5e6b4b0d3255bfef95601890afd80709   \n",
      "7   1911  0fa36db77af713808449ff54868815dc26f88e45   \n",
      "8   1911  da39a3ee5e6b4b0d3255bfef95601890afd80709   \n",
      "9   1911  d17bb082e04f08a5f47e5f92f26b8d0ba2b800de   \n",
      "10  1911  e5ac03a98be38ed977dd6073a8c34a59606c2309   \n",
      "11  1911  0b72e3ecd8f9071d311fd78bc78b4696fbbd35e5   \n",
      "12  1911  da39a3ee5e6b4b0d3255bfef95601890afd80709   \n",
      "13  1911  8e34926eb2a2a0663b2e03ac3c4cccf31ecc1965   \n",
      "14  1911  5ec944cb0e043327906acce8d1b61f6e32d8db1c   \n",
      "15  1911  da39a3ee5e6b4b0d3255bfef95601890afd80709   \n",
      "16  1911  da39a3ee5e6b4b0d3255bfef95601890afd80709   \n",
      "17  1911  0fa36db77af713808449ff54868815dc26f88e45   \n",
      "18  1911  b1d1fcff9e11e902572c14f4cb35457afd025596   \n",
      "19  1911  da39a3ee5e6b4b0d3255bfef95601890afd80709   \n",
      "20  1911  5ec944cb0e043327906acce8d1b61f6e32d8db1c   \n",
      "21  1911  d17bb082e04f08a5f47e5f92f26b8d0ba2b800de   \n",
      "22  1911  0fa36db77af713808449ff54868815dc26f88e45   \n",
      "23  1911  da39a3ee5e6b4b0d3255bfef95601890afd80709   \n",
      "24  1911  0fa36db77af713808449ff54868815dc26f88e45   \n",
      "25  1911  da39a3ee5e6b4b0d3255bfef95601890afd80709   \n",
      "26  1911  5ec944cb0e043327906acce8d1b61f6e32d8db1c   \n",
      "27  1911  0fa36db77af713808449ff54868815dc26f88e45   \n",
      "28  1911  5ec944cb0e043327906acce8d1b61f6e32d8db1c   \n",
      "29  1911  5ac23d20bcce7b4518ebaa098b6034f7e85e5fc3   \n",
      "30  1911  da39a3ee5e6b4b0d3255bfef95601890afd80709   \n",
      "31  1911  0b72e3ecd8f9071d311fd78bc78b4696fbbd35e5   \n",
      "32  1911  da39a3ee5e6b4b0d3255bfef95601890afd80709   \n",
      "33  1911  0b72e3ecd8f9071d311fd78bc78b4696fbbd35e5   \n",
      "34  1911  da39a3ee5e6b4b0d3255bfef95601890afd80709   \n",
      "35  1911  0b72e3ecd8f9071d311fd78bc78b4696fbbd35e5   \n",
      "36  1911  5ec944cb0e043327906acce8d1b61f6e32d8db1c   \n",
      "37  1911  597a9f9a511f4b6bcf47e684c34d31dc537dcb55   \n",
      "38  1911  da39a3ee5e6b4b0d3255bfef95601890afd80709   \n",
      "39  1911  4c08229a506af77c768d6639b28c093daa7524d7   \n",
      "40  1911  0b72e3ecd8f9071d311fd78bc78b4696fbbd35e5   \n",
      "\n",
      "                                       bssid  rssi  is5G  delay  \n",
      "0   6fda41b51e6f55375fe5e8754f2bdbdd064686e8 -64.0     0   1823  \n",
      "1   83cb96ce13be23a36a67008c2c01007cc69e3f15 -67.0     0  25168  \n",
      "2   c8c7344794549cbc1d31d86fcd0da0e6a907a8a2 -67.0     0   1203  \n",
      "3   e4ef2fa211079ed4b3902c70f84c6d93cc192b30 -76.0     0   1519  \n",
      "4   aee99173454f318e965db97288d328b046cbe770 -76.0     0   1632  \n",
      "5   b2d25f9600fd0808148824e1fe60943187be302f -77.0     0   1590  \n",
      "6   2152a505d9ec2789786d8facd9a83ed23ca11760 -77.0     0   1630  \n",
      "7   57880ed6036ff7070ad1d13006780bec65829186 -78.0     0  29032  \n",
      "8   1bd7a48558873cb4db54482477d9c602b179c651 -79.0     0  25820  \n",
      "9   0ef970150b669951b4ee467234ef16bc8fe84ad9 -79.0     0  16430  \n",
      "10  97d8eeeaadc98ea615bb9001866a24c495537c63 -80.0     0  16420  \n",
      "11  e2dbdaad6a215ca96790c141137f27e9f3f70241 -83.0     0   1286  \n",
      "12  eb30c579efc3fc36ccd2f86aabbacadd4affc535 -84.0     0   1283  \n",
      "13  b4172b29db8744f9a82b44c18c7363db7de0f842 -84.0     0  27398  \n",
      "14  fb0d38228a3eefd2dd07aaa47c37b91b582447e9 -85.0     0   1284  \n",
      "15  873122eb1e56a9f7eb69cac12f8cce647d5b32a8 -85.0     0   1843  \n",
      "16  095cf20cb8fd01c1e75c8648d4d1edbbea41b9ca -85.0     0   1282  \n",
      "17  fef4d47cc0513cf42286a5a4ab947cb8cfc0e5e2 -86.0     0  29612  \n",
      "18  7de9bbe1abbde379d2803c4503bf0b36403ed20a -86.0     1  15359  \n",
      "19  9e308e3a1828f8a13c5842ae9a88fc2756dbab0f -86.0     1  25001  \n",
      "20  0c424525f56f17014875dedc4fd0a7d6499ceb85 -87.0     0   1845  \n",
      "21  bc19a412694ec305f271721b3dacb4884bb2fda6 -87.0     1  15350  \n",
      "22  72643aaf1b4499124462d947a738aaf5b86a80c8 -87.0     1  25002  \n",
      "23  f33378c1c0b340a2bdd8c2fe51fc55ecf1671f7c -87.0     0  29609  \n",
      "24  2cee40332c25fdb1537c2ed82f9fce1e583640ca -87.0     1    130  \n",
      "25  476da5b3c350760cccf830c3ef84e433534f8a3d -88.0     1  25001  \n",
      "26  d166271362a4dacb52c9ae795f13a3a9192d612a -88.0     1  15402  \n",
      "27  59fcf279bdbcab1448805c30f1246a4e2a88fa6c -88.0     1    615  \n",
      "28  dcc4874b820f8962e6732fb52f30afdb7a6a178f -88.0     1    615  \n",
      "29  ee8eddc4c3265c4076407164655211c85c9a11c2 -88.0     0   1242  \n",
      "30  bd9680cb31bf1b534acb9e989c8b9fb604a22e1e -88.0     1  15399  \n",
      "31  a2e40b9acb6d0842497c141d97e1baaf106224be -89.0     0  25808  \n",
      "32  1ebadbae75ade98cea05d43a421e60c3c95607a8 -89.0     1  15401  \n",
      "33  3f2461d54f653717db4728deeb54c1a7a7b7bd29 -89.0     1    616  \n",
      "34  b6d47755a83dc069a5933de78765cf9517dd00c7 -89.0     1    615  \n",
      "35  91afd916b337e9db04e5b5b1366c750aa7bdb79f -90.0     1  15582  \n",
      "36  b295032acf5d6b5c4318e197ebc9a4f1a1a05322 -90.0     1  15581  \n",
      "37  dcf3e50d81ea8d81f11c6df92efa609e24fd570e -90.0     0  25790  \n",
      "38  259b4c4b0ae21662f149a90333b5d415bdb2bdbc -90.0     1    615  \n",
      "39  c6ee11e271e4a8c37fcbe162d443add390501e17 -91.0     0   1511  \n",
      "40  79f9a5845c4c9f0c1d5ef11e02e840865b934091 -92.0     1  15402  \n",
      "________________________________________\n",
      "    time                                      ssid  \\\n",
      "41  3827  8b11efe31eeb88209290065632b99739c4a57f11   \n",
      "42  3827  383a6185d30aa442d718b5209ecd4eb49cb73c54   \n",
      "43  3827  8e34926eb2a2a0663b2e03ac3c4cccf31ecc1965   \n",
      "44  3827  da39a3ee5e6b4b0d3255bfef95601890afd80709   \n",
      "45  3827  372308ce2a04b1ca088d269fec6966c697b02619   \n",
      "46  3827  5ec944cb0e043327906acce8d1b61f6e32d8db1c   \n",
      "47  3827  7123b8a309997c3fc78a7897089a478e1efc33c7   \n",
      "48  3827  da39a3ee5e6b4b0d3255bfef95601890afd80709   \n",
      "49  3827  d17bb082e04f08a5f47e5f92f26b8d0ba2b800de   \n",
      "50  3827  5ac23d20bcce7b4518ebaa098b6034f7e85e5fc3   \n",
      "51  3827  da39a3ee5e6b4b0d3255bfef95601890afd80709   \n",
      "52  3827  da39a3ee5e6b4b0d3255bfef95601890afd80709   \n",
      "53  3827  e5ac03a98be38ed977dd6073a8c34a59606c2309   \n",
      "54  3827  0b72e3ecd8f9071d311fd78bc78b4696fbbd35e5   \n",
      "55  3827  0fa36db77af713808449ff54868815dc26f88e45   \n",
      "56  3827  5ec944cb0e043327906acce8d1b61f6e32d8db1c   \n",
      "57  3827  0b72e3ecd8f9071d311fd78bc78b4696fbbd35e5   \n",
      "58  3827  da39a3ee5e6b4b0d3255bfef95601890afd80709   \n",
      "59  3827  5ec944cb0e043327906acce8d1b61f6e32d8db1c   \n",
      "60  3827  da39a3ee5e6b4b0d3255bfef95601890afd80709   \n",
      "61  3827  b1d1fcff9e11e902572c14f4cb35457afd025596   \n",
      "62  3827  da39a3ee5e6b4b0d3255bfef95601890afd80709   \n",
      "63  3827  da39a3ee5e6b4b0d3255bfef95601890afd80709   \n",
      "64  3827  3f2c15f34befeab48e04a706071dd12f20bcbf75   \n",
      "65  3827  0b72e3ecd8f9071d311fd78bc78b4696fbbd35e5   \n",
      "66  3827  d17bb082e04f08a5f47e5f92f26b8d0ba2b800de   \n",
      "67  3827  0fa36db77af713808449ff54868815dc26f88e45   \n",
      "68  3827  0fa36db77af713808449ff54868815dc26f88e45   \n",
      "69  3827  0fa36db77af713808449ff54868815dc26f88e45   \n",
      "70  3827  da39a3ee5e6b4b0d3255bfef95601890afd80709   \n",
      "71  3827  5ec944cb0e043327906acce8d1b61f6e32d8db1c   \n",
      "72  3827  0fa36db77af713808449ff54868815dc26f88e45   \n",
      "73  3827  5ec944cb0e043327906acce8d1b61f6e32d8db1c   \n",
      "74  3827  da39a3ee5e6b4b0d3255bfef95601890afd80709   \n",
      "75  3827  da39a3ee5e6b4b0d3255bfef95601890afd80709   \n",
      "76  3827  da39a3ee5e6b4b0d3255bfef95601890afd80709   \n",
      "77  3827  0b72e3ecd8f9071d311fd78bc78b4696fbbd35e5   \n",
      "78  3827  da39a3ee5e6b4b0d3255bfef95601890afd80709   \n",
      "79  3827  0b72e3ecd8f9071d311fd78bc78b4696fbbd35e5   \n",
      "80  3827  5ec944cb0e043327906acce8d1b61f6e32d8db1c   \n",
      "81  3827  597a9f9a511f4b6bcf47e684c34d31dc537dcb55   \n",
      "82  3827  da39a3ee5e6b4b0d3255bfef95601890afd80709   \n",
      "83  3827  5ec944cb0e043327906acce8d1b61f6e32d8db1c   \n",
      "84  3827  4c08229a506af77c768d6639b28c093daa7524d7   \n",
      "85  3827  0b72e3ecd8f9071d311fd78bc78b4696fbbd35e5   \n",
      "\n",
      "                                       bssid  rssi  is5G  delay  \n",
      "41  c8c7344794549cbc1d31d86fcd0da0e6a907a8a2 -67.0     0   3119  \n",
      "42  6fda41b51e6f55375fe5e8754f2bdbdd064686e8 -72.0     0   1873  \n",
      "43  b4172b29db8744f9a82b44c18c7363db7de0f842 -72.0     0   1563  \n",
      "44  2152a505d9ec2789786d8facd9a83ed23ca11760 -73.0     0   1702  \n",
      "45  e4ef2fa211079ed4b3902c70f84c6d93cc192b30 -76.0     0   3435  \n",
      "46  aee99173454f318e965db97288d328b046cbe770 -76.0     0   3548  \n",
      "47  b2d25f9600fd0808148824e1fe60943187be302f -79.0     0   1606  \n",
      "48  1bd7a48558873cb4db54482477d9c602b179c651 -79.0     0  27736  \n",
      "49  0ef970150b669951b4ee467234ef16bc8fe84ad9 -79.0     0  18346  \n",
      "50  ee8eddc4c3265c4076407164655211c85c9a11c2 -79.0     0   1317  \n",
      "51  19b9c8ea8ef7d65da7a0a09c345ab04a270f98a2 -79.0     0   1757  \n",
      "52  74d8d612882e1862353eb63db6afdacc61f4075d -79.0     0   1756  \n",
      "53  97d8eeeaadc98ea615bb9001866a24c495537c63 -80.0     0  18336  \n",
      "54  0c1d0e78754bec27b6e8a76e03814dcb86a53b06 -81.0     0   1760  \n",
      "55  d1c4f53ed5a68027f9dda82e822bb85e387cb88a -81.0     0   1760  \n",
      "56  450c1174a580472b87646ce300b8b1e660ada2ae -81.0     0   1758  \n",
      "57  e2dbdaad6a215ca96790c141137f27e9f3f70241 -83.0     0   3202  \n",
      "58  eb30c579efc3fc36ccd2f86aabbacadd4affc535 -84.0     0   3199  \n",
      "59  fb0d38228a3eefd2dd07aaa47c37b91b582447e9 -85.0     0   3200  \n",
      "60  095cf20cb8fd01c1e75c8648d4d1edbbea41b9ca -85.0     0   3198  \n",
      "61  7de9bbe1abbde379d2803c4503bf0b36403ed20a -86.0     1  17275  \n",
      "62  9e308e3a1828f8a13c5842ae9a88fc2756dbab0f -86.0     1  26917  \n",
      "63  f33378c1c0b340a2bdd8c2fe51fc55ecf1671f7c -86.0     0   1836  \n",
      "64  83cb96ce13be23a36a67008c2c01007cc69e3f15 -87.0     0   1257  \n",
      "65  a2e40b9acb6d0842497c141d97e1baaf106224be -87.0     0   1841  \n",
      "66  bc19a412694ec305f271721b3dacb4884bb2fda6 -87.0     1  17266  \n",
      "67  72643aaf1b4499124462d947a738aaf5b86a80c8 -87.0     1  26918  \n",
      "68  2cee40332c25fdb1537c2ed82f9fce1e583640ca -87.0     1   2046  \n",
      "69  fef4d47cc0513cf42286a5a4ab947cb8cfc0e5e2 -88.0     0   1840  \n",
      "70  476da5b3c350760cccf830c3ef84e433534f8a3d -88.0     1  26917  \n",
      "71  d166271362a4dacb52c9ae795f13a3a9192d612a -88.0     1  17318  \n",
      "72  59fcf279bdbcab1448805c30f1246a4e2a88fa6c -88.0     1   2531  \n",
      "73  dcc4874b820f8962e6732fb52f30afdb7a6a178f -88.0     1   2531  \n",
      "74  bd9680cb31bf1b534acb9e989c8b9fb604a22e1e -88.0     1  17315  \n",
      "75  873122eb1e56a9f7eb69cac12f8cce647d5b32a8 -89.0     0   1837  \n",
      "76  1ebadbae75ade98cea05d43a421e60c3c95607a8 -89.0     1  17317  \n",
      "77  3f2461d54f653717db4728deeb54c1a7a7b7bd29 -89.0     1   2532  \n",
      "78  b6d47755a83dc069a5933de78765cf9517dd00c7 -89.0     1   2531  \n",
      "79  91afd916b337e9db04e5b5b1366c750aa7bdb79f -90.0     1  17498  \n",
      "80  b295032acf5d6b5c4318e197ebc9a4f1a1a05322 -90.0     1  17497  \n",
      "81  dcf3e50d81ea8d81f11c6df92efa609e24fd570e -90.0     0  27706  \n",
      "82  259b4c4b0ae21662f149a90333b5d415bdb2bdbc -90.0     1   2531  \n",
      "83  0c424525f56f17014875dedc4fd0a7d6499ceb85 -91.0     0   1837  \n",
      "84  c6ee11e271e4a8c37fcbe162d443add390501e17 -91.0     0   3427  \n",
      "85  79f9a5845c4c9f0c1d5ef11e02e840865b934091 -92.0     1  17318  \n",
      "________________________________________\n",
      "     time                                      ssid  \\\n",
      "86   5753  383a6185d30aa442d718b5209ecd4eb49cb73c54   \n",
      "87   5753  8b11efe31eeb88209290065632b99739c4a57f11   \n",
      "88   5753  8e34926eb2a2a0663b2e03ac3c4cccf31ecc1965   \n",
      "89   5753  372308ce2a04b1ca088d269fec6966c697b02619   \n",
      "90   5753  da39a3ee5e6b4b0d3255bfef95601890afd80709   \n",
      "91   5753  da39a3ee5e6b4b0d3255bfef95601890afd80709   \n",
      "92   5753  5ac23d20bcce7b4518ebaa098b6034f7e85e5fc3   \n",
      "93   5753  da39a3ee5e6b4b0d3255bfef95601890afd80709   \n",
      "94   5753  0fa36db77af713808449ff54868815dc26f88e45   \n",
      "95   5753  e5ac03a98be38ed977dd6073a8c34a59606c2309   \n",
      "96   5753  5ec944cb0e043327906acce8d1b61f6e32d8db1c   \n",
      "97   5753  0b72e3ecd8f9071d311fd78bc78b4696fbbd35e5   \n",
      "98   5753  0fa36db77af713808449ff54868815dc26f88e45   \n",
      "99   5753  0fa36db77af713808449ff54868815dc26f88e45   \n",
      "100  5753  0b72e3ecd8f9071d311fd78bc78b4696fbbd35e5   \n",
      "101  5753  0b72e3ecd8f9071d311fd78bc78b4696fbbd35e5   \n",
      "102  5753  da39a3ee5e6b4b0d3255bfef95601890afd80709   \n",
      "103  5753  da39a3ee5e6b4b0d3255bfef95601890afd80709   \n",
      "104  5753  0b72e3ecd8f9071d311fd78bc78b4696fbbd35e5   \n",
      "105  5753  5ec944cb0e043327906acce8d1b61f6e32d8db1c   \n",
      "106  5753  5ec944cb0e043327906acce8d1b61f6e32d8db1c   \n",
      "107  5753  da39a3ee5e6b4b0d3255bfef95601890afd80709   \n",
      "108  5753  7123b8a309997c3fc78a7897089a478e1efc33c7   \n",
      "109  5753  b1d1fcff9e11e902572c14f4cb35457afd025596   \n",
      "110  5753  da39a3ee5e6b4b0d3255bfef95601890afd80709   \n",
      "111  5753  da39a3ee5e6b4b0d3255bfef95601890afd80709   \n",
      "112  5753  5ec944cb0e043327906acce8d1b61f6e32d8db1c   \n",
      "113  5753  3f2c15f34befeab48e04a706071dd12f20bcbf75   \n",
      "114  5753  0b72e3ecd8f9071d311fd78bc78b4696fbbd35e5   \n",
      "115  5753  d17bb082e04f08a5f47e5f92f26b8d0ba2b800de   \n",
      "116  5753  0fa36db77af713808449ff54868815dc26f88e45   \n",
      "117  5753  0fa36db77af713808449ff54868815dc26f88e45   \n",
      "118  5753  0fa36db77af713808449ff54868815dc26f88e45   \n",
      "119  5753  da39a3ee5e6b4b0d3255bfef95601890afd80709   \n",
      "120  5753  5ec944cb0e043327906acce8d1b61f6e32d8db1c   \n",
      "121  5753  0fa36db77af713808449ff54868815dc26f88e45   \n",
      "122  5753  5ec944cb0e043327906acce8d1b61f6e32d8db1c   \n",
      "123  5753  da39a3ee5e6b4b0d3255bfef95601890afd80709   \n",
      "124  5753  da39a3ee5e6b4b0d3255bfef95601890afd80709   \n",
      "125  5753  da39a3ee5e6b4b0d3255bfef95601890afd80709   \n",
      "126  5753  0b72e3ecd8f9071d311fd78bc78b4696fbbd35e5   \n",
      "127  5753  da39a3ee5e6b4b0d3255bfef95601890afd80709   \n",
      "128  5753  0b72e3ecd8f9071d311fd78bc78b4696fbbd35e5   \n",
      "129  5753  5ec944cb0e043327906acce8d1b61f6e32d8db1c   \n",
      "130  5753  597a9f9a511f4b6bcf47e684c34d31dc537dcb55   \n",
      "131  5753  da39a3ee5e6b4b0d3255bfef95601890afd80709   \n",
      "132  5753  5ec944cb0e043327906acce8d1b61f6e32d8db1c   \n",
      "133  5753  4c08229a506af77c768d6639b28c093daa7524d7   \n",
      "134  5753  d17bb082e04f08a5f47e5f92f26b8d0ba2b800de   \n",
      "135  5753  0b72e3ecd8f9071d311fd78bc78b4696fbbd35e5   \n",
      "\n",
      "                                        bssid  rssi  is5G  delay  \n",
      "86   6fda41b51e6f55375fe5e8754f2bdbdd064686e8 -64.0     0   1844  \n",
      "87   c8c7344794549cbc1d31d86fcd0da0e6a907a8a2 -67.0     0   5045  \n",
      "88   b4172b29db8744f9a82b44c18c7363db7de0f842 -67.0     0   1544  \n",
      "89   e4ef2fa211079ed4b3902c70f84c6d93cc192b30 -76.0     0   5361  \n",
      "90   1bd7a48558873cb4db54482477d9c602b179c651 -79.0     0  29662  \n",
      "91   2152a505d9ec2789786d8facd9a83ed23ca11760 -79.0     0   1683  \n",
      "92   ee8eddc4c3265c4076407164655211c85c9a11c2 -79.0     0   3243  \n",
      "93   74d8d612882e1862353eb63db6afdacc61f4075d -79.0     0   3682  \n",
      "94   9eee160370e4f91793a5bb2e7d9ebe7ab2fb0d4d -79.0     0   1664  \n",
      "95   97d8eeeaadc98ea615bb9001866a24c495537c63 -80.0     0  20262  \n",
      "96   aee99173454f318e965db97288d328b046cbe770 -81.0     0   1685  \n",
      "97   0c1d0e78754bec27b6e8a76e03814dcb86a53b06 -81.0     0   3686  \n",
      "98   d1c4f53ed5a68027f9dda82e822bb85e387cb88a -81.0     0   3686  \n",
      "99   de33538717402e0af21be1d3daf313bf45110878 -81.0     0   1686  \n",
      "100  877572b4f619e85b4bf2ab6ca4a92bfe00154895 -81.0     0   1665  \n",
      "101  e2dbdaad6a215ca96790c141137f27e9f3f70241 -83.0     0   5128  \n",
      "102  eb30c579efc3fc36ccd2f86aabbacadd4affc535 -84.0     0   5125  \n",
      "103  19b9c8ea8ef7d65da7a0a09c345ab04a270f98a2 -84.0     0   1738  \n",
      "104  a23c41782a597c0df798ea73397722597d6aeb42 -84.0     0   1687  \n",
      "105  c775bdd340ccacd6833eeced28da8d0f02d0df55 -84.0     0   1662  \n",
      "106  fb0d38228a3eefd2dd07aaa47c37b91b582447e9 -85.0     0   5126  \n",
      "107  095cf20cb8fd01c1e75c8648d4d1edbbea41b9ca -85.0     0   5124  \n",
      "108  b2d25f9600fd0808148824e1fe60943187be302f -86.0     0   1615  \n",
      "109  7de9bbe1abbde379d2803c4503bf0b36403ed20a -86.0     1  19201  \n",
      "110  9e308e3a1828f8a13c5842ae9a88fc2756dbab0f -86.0     1  28843  \n",
      "111  f33378c1c0b340a2bdd8c2fe51fc55ecf1671f7c -86.0     0   3762  \n",
      "112  450c1174a580472b87646ce300b8b1e660ada2ae -86.0     0   1738  \n",
      "113  83cb96ce13be23a36a67008c2c01007cc69e3f15 -87.0     0   3183  \n",
      "114  a2e40b9acb6d0842497c141d97e1baaf106224be -87.0     0   3767  \n",
      "115  bc19a412694ec305f271721b3dacb4884bb2fda6 -87.0     1  19192  \n",
      "116  72643aaf1b4499124462d947a738aaf5b86a80c8 -87.0     1  28844  \n",
      "117  2cee40332c25fdb1537c2ed82f9fce1e583640ca -87.0     1   3972  \n",
      "118  fef4d47cc0513cf42286a5a4ab947cb8cfc0e5e2 -88.0     0   3766  \n",
      "119  476da5b3c350760cccf830c3ef84e433534f8a3d -88.0     1  28843  \n",
      "120  d166271362a4dacb52c9ae795f13a3a9192d612a -88.0     1  19244  \n",
      "121  59fcf279bdbcab1448805c30f1246a4e2a88fa6c -88.0     1   4457  \n",
      "122  dcc4874b820f8962e6732fb52f30afdb7a6a178f -88.0     1   4457  \n",
      "123  bd9680cb31bf1b534acb9e989c8b9fb604a22e1e -88.0     1  19241  \n",
      "124  873122eb1e56a9f7eb69cac12f8cce647d5b32a8 -89.0     0   3763  \n",
      "125  1ebadbae75ade98cea05d43a421e60c3c95607a8 -89.0     1  19243  \n",
      "126  3f2461d54f653717db4728deeb54c1a7a7b7bd29 -89.0     1   4458  \n",
      "127  b6d47755a83dc069a5933de78765cf9517dd00c7 -89.0     1   4457  \n",
      "128  91afd916b337e9db04e5b5b1366c750aa7bdb79f -90.0     1  19424  \n",
      "129  b295032acf5d6b5c4318e197ebc9a4f1a1a05322 -90.0     1  19423  \n",
      "130  dcf3e50d81ea8d81f11c6df92efa609e24fd570e -90.0     0  29632  \n",
      "131  259b4c4b0ae21662f149a90333b5d415bdb2bdbc -90.0     1   4457  \n",
      "132  0c424525f56f17014875dedc4fd0a7d6499ceb85 -91.0     0   3763  \n",
      "133  c6ee11e271e4a8c37fcbe162d443add390501e17 -91.0     0   5353  \n",
      "134  0ef970150b669951b4ee467234ef16bc8fe84ad9 -92.0     0   1856  \n",
      "135  79f9a5845c4c9f0c1d5ef11e02e840865b934091 -92.0     1  19244  \n",
      "________________________________________\n",
      "     time                                      ssid  \\\n",
      "136  7639  8e34926eb2a2a0663b2e03ac3c4cccf31ecc1965   \n",
      "137  7639  8b11efe31eeb88209290065632b99739c4a57f11   \n",
      "138  7639  da39a3ee5e6b4b0d3255bfef95601890afd80709   \n",
      "139  7639  0fa36db77af713808449ff54868815dc26f88e45   \n",
      "140  7639  e5ac03a98be38ed977dd6073a8c34a59606c2309   \n",
      "141  7639  383a6185d30aa442d718b5209ecd4eb49cb73c54   \n",
      "142  7639  0b72e3ecd8f9071d311fd78bc78b4696fbbd35e5   \n",
      "143  7639  0fa36db77af713808449ff54868815dc26f88e45   \n",
      "144  7639  5ec944cb0e043327906acce8d1b61f6e32d8db1c   \n",
      "145  7639  5ec944cb0e043327906acce8d1b61f6e32d8db1c   \n",
      "146  7639  0fa36db77af713808449ff54868815dc26f88e45   \n",
      "147  7639  0fa36db77af713808449ff54868815dc26f88e45   \n",
      "148  7639  0b72e3ecd8f9071d311fd78bc78b4696fbbd35e5   \n",
      "149  7639  da39a3ee5e6b4b0d3255bfef95601890afd80709   \n",
      "150  7639  da39a3ee5e6b4b0d3255bfef95601890afd80709   \n",
      "151  7639  0b72e3ecd8f9071d311fd78bc78b4696fbbd35e5   \n",
      "152  7639  0b72e3ecd8f9071d311fd78bc78b4696fbbd35e5   \n",
      "153  7639  da39a3ee5e6b4b0d3255bfef95601890afd80709   \n",
      "154  7639  da39a3ee5e6b4b0d3255bfef95601890afd80709   \n",
      "155  7639  3f2c15f34befeab48e04a706071dd12f20bcbf75   \n",
      "156  7639  da39a3ee5e6b4b0d3255bfef95601890afd80709   \n",
      "157  7639  5ec944cb0e043327906acce8d1b61f6e32d8db1c   \n",
      "158  7639  0b72e3ecd8f9071d311fd78bc78b4696fbbd35e5   \n",
      "159  7639  5ec944cb0e043327906acce8d1b61f6e32d8db1c   \n",
      "160  7639  2f5387ee410d3ad37f40351ca9d884922ca1cd26   \n",
      "161  7639  372308ce2a04b1ca088d269fec6966c697b02619   \n",
      "162  7639  da39a3ee5e6b4b0d3255bfef95601890afd80709   \n",
      "163  7639  cdf872cfa92f139c94b2bf8413ca699d31731133   \n",
      "164  7639  7123b8a309997c3fc78a7897089a478e1efc33c7   \n",
      "165  7639  b1d1fcff9e11e902572c14f4cb35457afd025596   \n",
      "166  7639  da39a3ee5e6b4b0d3255bfef95601890afd80709   \n",
      "167  7639  0fa36db77af713808449ff54868815dc26f88e45   \n",
      "168  7639  5ec944cb0e043327906acce8d1b61f6e32d8db1c   \n",
      "169  7639  0b72e3ecd8f9071d311fd78bc78b4696fbbd35e5   \n",
      "170  7639  d17bb082e04f08a5f47e5f92f26b8d0ba2b800de   \n",
      "171  7639  0b72e3ecd8f9071d311fd78bc78b4696fbbd35e5   \n",
      "172  7639  0fa36db77af713808449ff54868815dc26f88e45   \n",
      "173  7639  0fa36db77af713808449ff54868815dc26f88e45   \n",
      "174  7639  da39a3ee5e6b4b0d3255bfef95601890afd80709   \n",
      "175  7639  5ec944cb0e043327906acce8d1b61f6e32d8db1c   \n",
      "176  7639  5ac23d20bcce7b4518ebaa098b6034f7e85e5fc3   \n",
      "177  7639  da39a3ee5e6b4b0d3255bfef95601890afd80709   \n",
      "178  7639  0b72e3ecd8f9071d311fd78bc78b4696fbbd35e5   \n",
      "179  7639  5ec944cb0e043327906acce8d1b61f6e32d8db1c   \n",
      "180  7639  da39a3ee5e6b4b0d3255bfef95601890afd80709   \n",
      "181  7639  0fa36db77af713808449ff54868815dc26f88e45   \n",
      "182  7639  5ec944cb0e043327906acce8d1b61f6e32d8db1c   \n",
      "183  7639  da39a3ee5e6b4b0d3255bfef95601890afd80709   \n",
      "184  7639  4c08229a506af77c768d6639b28c093daa7524d7   \n",
      "185  7639  d17bb082e04f08a5f47e5f92f26b8d0ba2b800de   \n",
      "\n",
      "                                        bssid  rssi  is5G  delay  \n",
      "136  b4172b29db8744f9a82b44c18c7363db7de0f842 -64.0     0   1484  \n",
      "137  c8c7344794549cbc1d31d86fcd0da0e6a907a8a2 -75.0     0   1212  \n",
      "138  2152a505d9ec2789786d8facd9a83ed23ca11760 -79.0     0   3569  \n",
      "139  9eee160370e4f91793a5bb2e7d9ebe7ab2fb0d4d -79.0     0   3550  \n",
      "140  97d8eeeaadc98ea615bb9001866a24c495537c63 -80.0     0  22148  \n",
      "141  6fda41b51e6f55375fe5e8754f2bdbdd064686e8 -81.0     0   1845  \n",
      "142  3f2461d54f653717db4728deeb54c1a7a7b7bd29 -81.0     1    580  \n",
      "143  59fcf279bdbcab1448805c30f1246a4e2a88fa6c -81.0     1    579  \n",
      "144  dcc4874b820f8962e6732fb52f30afdb7a6a178f -81.0     1    579  \n",
      "145  aee99173454f318e965db97288d328b046cbe770 -81.0     0   3571  \n",
      "146  d1c4f53ed5a68027f9dda82e822bb85e387cb88a -81.0     0   1680  \n",
      "147  de33538717402e0af21be1d3daf313bf45110878 -81.0     0   3572  \n",
      "148  877572b4f619e85b4bf2ab6ca4a92bfe00154895 -81.0     0   3551  \n",
      "149  b6d47755a83dc069a5933de78765cf9517dd00c7 -82.0     1    600  \n",
      "150  259b4c4b0ae21662f149a90333b5d415bdb2bdbc -82.0     1    599  \n",
      "151  e2dbdaad6a215ca96790c141137f27e9f3f70241 -83.0     0   1275  \n",
      "152  0c1d0e78754bec27b6e8a76e03814dcb86a53b06 -83.0     0   1681  \n",
      "153  19b9c8ea8ef7d65da7a0a09c345ab04a270f98a2 -83.0     0   1678  \n",
      "154  74d8d612882e1862353eb63db6afdacc61f4075d -83.0     0   1677  \n",
      "155  83cb96ce13be23a36a67008c2c01007cc69e3f15 -84.0     0   1178  \n",
      "156  eb30c579efc3fc36ccd2f86aabbacadd4affc535 -84.0     0   1257  \n",
      "157  450c1174a580472b87646ce300b8b1e660ada2ae -84.0     0   1679  \n",
      "158  a23c41782a597c0df798ea73397722597d6aeb42 -84.0     0   3573  \n",
      "159  c775bdd340ccacd6833eeced28da8d0f02d0df55 -84.0     0   3548  \n",
      "160  79ae85aea19fe634f6440c5b8dfd5aea16fe4e08 -84.0     0   1332  \n",
      "161  e4ef2fa211079ed4b3902c70f84c6d93cc192b30 -85.0     0   1540  \n",
      "162  095cf20cb8fd01c1e75c8648d4d1edbbea41b9ca -85.0     0   1256  \n",
      "163  74c4223b84ce4be9e73f0159a7cdc1b984bf7ec4 -85.0     0   1348  \n",
      "164  b2d25f9600fd0808148824e1fe60943187be302f -86.0     0   3501  \n",
      "165  7de9bbe1abbde379d2803c4503bf0b36403ed20a -86.0     1  21087  \n",
      "166  f33378c1c0b340a2bdd8c2fe51fc55ecf1671f7c -86.0     0   5648  \n",
      "167  57880ed6036ff7070ad1d13006780bec65829186 -86.0     0   1270  \n",
      "168  fb0d38228a3eefd2dd07aaa47c37b91b582447e9 -87.0     0   1264  \n",
      "169  a2e40b9acb6d0842497c141d97e1baaf106224be -87.0     0   5653  \n",
      "170  bc19a412694ec305f271721b3dacb4884bb2fda6 -87.0     1  21078  \n",
      "171  79f9a5845c4c9f0c1d5ef11e02e840865b934091 -87.0     1    855  \n",
      "172  2cee40332c25fdb1537c2ed82f9fce1e583640ca -87.0     1   5858  \n",
      "173  fef4d47cc0513cf42286a5a4ab947cb8cfc0e5e2 -88.0     0   5652  \n",
      "174  1ebadbae75ade98cea05d43a421e60c3c95607a8 -88.0     1    854  \n",
      "175  d166271362a4dacb52c9ae795f13a3a9192d612a -88.0     1    854  \n",
      "176  ee8eddc4c3265c4076407164655211c85c9a11c2 -88.0     0   1240  \n",
      "177  873122eb1e56a9f7eb69cac12f8cce647d5b32a8 -89.0     0   5649  \n",
      "178  91afd916b337e9db04e5b5b1366c750aa7bdb79f -89.0     1   1034  \n",
      "179  b295032acf5d6b5c4318e197ebc9a4f1a1a05322 -90.0     1  21309  \n",
      "180  476da5b3c350760cccf830c3ef84e433534f8a3d -90.0     1   1033  \n",
      "181  b75183a411d0e02cf5299bd2d9663f83376b83be -90.0     1    854  \n",
      "182  0c424525f56f17014875dedc4fd0a7d6499ceb85 -91.0     0   5649  \n",
      "183  bd9680cb31bf1b534acb9e989c8b9fb604a22e1e -91.0     1    853  \n",
      "184  c6ee11e271e4a8c37fcbe162d443add390501e17 -91.0     0   7239  \n",
      "185  0ef970150b669951b4ee467234ef16bc8fe84ad9 -92.0     0   1800  \n",
      "________________________________________\n",
      "     time                                      ssid  \\\n",
      "186  9538  8e34926eb2a2a0663b2e03ac3c4cccf31ecc1965   \n",
      "187  9538  da39a3ee5e6b4b0d3255bfef95601890afd80709   \n",
      "188  9538  0fa36db77af713808449ff54868815dc26f88e45   \n",
      "189  9538  da39a3ee5e6b4b0d3255bfef95601890afd80709   \n",
      "190  9538  8b11efe31eeb88209290065632b99739c4a57f11   \n",
      "191  9538  da39a3ee5e6b4b0d3255bfef95601890afd80709   \n",
      "192  9538  372308ce2a04b1ca088d269fec6966c697b02619   \n",
      "193  9538  5ec944cb0e043327906acce8d1b61f6e32d8db1c   \n",
      "194  9538  da39a3ee5e6b4b0d3255bfef95601890afd80709   \n",
      "195  9538  0b72e3ecd8f9071d311fd78bc78b4696fbbd35e5   \n",
      "196  9538  0fa36db77af713808449ff54868815dc26f88e45   \n",
      "197  9538  383a6185d30aa442d718b5209ecd4eb49cb73c54   \n",
      "198  9538  0b72e3ecd8f9071d311fd78bc78b4696fbbd35e5   \n",
      "199  9538  0fa36db77af713808449ff54868815dc26f88e45   \n",
      "200  9538  5ec944cb0e043327906acce8d1b61f6e32d8db1c   \n",
      "201  9538  5ec944cb0e043327906acce8d1b61f6e32d8db1c   \n",
      "202  9538  0fa36db77af713808449ff54868815dc26f88e45   \n",
      "203  9538  0b72e3ecd8f9071d311fd78bc78b4696fbbd35e5   \n",
      "204  9538  da39a3ee5e6b4b0d3255bfef95601890afd80709   \n",
      "205  9538  da39a3ee5e6b4b0d3255bfef95601890afd80709   \n",
      "206  9538  d17bb082e04f08a5f47e5f92f26b8d0ba2b800de   \n",
      "207  9538  0b72e3ecd8f9071d311fd78bc78b4696fbbd35e5   \n",
      "208  9538  2f5387ee410d3ad37f40351ca9d884922ca1cd26   \n",
      "209  9538  3f2c15f34befeab48e04a706071dd12f20bcbf75   \n",
      "210  9538  da39a3ee5e6b4b0d3255bfef95601890afd80709   \n",
      "211  9538  0b72e3ecd8f9071d311fd78bc78b4696fbbd35e5   \n",
      "212  9538  5ec944cb0e043327906acce8d1b61f6e32d8db1c   \n",
      "213  9538  da39a3ee5e6b4b0d3255bfef95601890afd80709   \n",
      "214  9538  cdf872cfa92f139c94b2bf8413ca699d31731133   \n",
      "215  9538  7123b8a309997c3fc78a7897089a478e1efc33c7   \n",
      "216  9538  b1d1fcff9e11e902572c14f4cb35457afd025596   \n",
      "217  9538  da39a3ee5e6b4b0d3255bfef95601890afd80709   \n",
      "218  9538  0fa36db77af713808449ff54868815dc26f88e45   \n",
      "219  9538  2b50e9ea1ae33ac95fbe03bc6d6b3bfa81ecc826   \n",
      "220  9538  0b72e3ecd8f9071d311fd78bc78b4696fbbd35e5   \n",
      "221  9538  5ec944cb0e043327906acce8d1b61f6e32d8db1c   \n",
      "222  9538  5ec944cb0e043327906acce8d1b61f6e32d8db1c   \n",
      "223  9538  0b72e3ecd8f9071d311fd78bc78b4696fbbd35e5   \n",
      "224  9538  d17bb082e04f08a5f47e5f92f26b8d0ba2b800de   \n",
      "225  9538  0b72e3ecd8f9071d311fd78bc78b4696fbbd35e5   \n",
      "226  9538  e5ac03a98be38ed977dd6073a8c34a59606c2309   \n",
      "227  9538  0fa36db77af713808449ff54868815dc26f88e45   \n",
      "228  9538  0b72e3ecd8f9071d311fd78bc78b4696fbbd35e5   \n",
      "229  9538  da39a3ee5e6b4b0d3255bfef95601890afd80709   \n",
      "230  9538  0fa36db77af713808449ff54868815dc26f88e45   \n",
      "231  9538  da39a3ee5e6b4b0d3255bfef95601890afd80709   \n",
      "232  9538  5ec944cb0e043327906acce8d1b61f6e32d8db1c   \n",
      "233  9538  5ac23d20bcce7b4518ebaa098b6034f7e85e5fc3   \n",
      "234  9538  da39a3ee5e6b4b0d3255bfef95601890afd80709   \n",
      "235  9538  da39a3ee5e6b4b0d3255bfef95601890afd80709   \n",
      "236  9538  0b72e3ecd8f9071d311fd78bc78b4696fbbd35e5   \n",
      "237  9538  5ec944cb0e043327906acce8d1b61f6e32d8db1c   \n",
      "238  9538  da39a3ee5e6b4b0d3255bfef95601890afd80709   \n",
      "239  9538  0fa36db77af713808449ff54868815dc26f88e45   \n",
      "240  9538  5ec944cb0e043327906acce8d1b61f6e32d8db1c   \n",
      "241  9538  da39a3ee5e6b4b0d3255bfef95601890afd80709   \n",
      "242  9538  4c08229a506af77c768d6639b28c093daa7524d7   \n",
      "\n",
      "                                        bssid  rssi  is5G  delay  \n",
      "186  b4172b29db8744f9a82b44c18c7363db7de0f842 -64.0     0   1518  \n",
      "187  2152a505d9ec2789786d8facd9a83ed23ca11760 -74.0     0   1679  \n",
      "188  d1c4f53ed5a68027f9dda82e822bb85e387cb88a -74.0     0   1736  \n",
      "189  74d8d612882e1862353eb63db6afdacc61f4075d -74.0     0   1733  \n",
      "190  c8c7344794549cbc1d31d86fcd0da0e6a907a8a2 -75.0     0   3111  \n",
      "191  927bbaabb59044005dade9de79a24354a228cc57 -75.0     0   1680  \n",
      "192  e4ef2fa211079ed4b3902c70f84c6d93cc192b30 -76.0     0   1510  \n",
      "193  450c1174a580472b87646ce300b8b1e660ada2ae -76.0     0   1735  \n",
      "194  19b9c8ea8ef7d65da7a0a09c345ab04a270f98a2 -76.0     0   1734  \n",
      "195  0c1d0e78754bec27b6e8a76e03814dcb86a53b06 -77.0     0   1737  \n",
      "196  9eee160370e4f91793a5bb2e7d9ebe7ab2fb0d4d -79.0     0   5449  \n",
      "197  6fda41b51e6f55375fe5e8754f2bdbdd064686e8 -81.0     0   3744  \n",
      "198  3f2461d54f653717db4728deeb54c1a7a7b7bd29 -81.0     1   2479  \n",
      "199  59fcf279bdbcab1448805c30f1246a4e2a88fa6c -81.0     1   2478  \n",
      "200  dcc4874b820f8962e6732fb52f30afdb7a6a178f -81.0     1   2478  \n",
      "201  aee99173454f318e965db97288d328b046cbe770 -81.0     0   5470  \n",
      "202  de33538717402e0af21be1d3daf313bf45110878 -81.0     0   5471  \n",
      "203  877572b4f619e85b4bf2ab6ca4a92bfe00154895 -81.0     0   5450  \n",
      "204  b6d47755a83dc069a5933de78765cf9517dd00c7 -82.0     1   2499  \n",
      "205  259b4c4b0ae21662f149a90333b5d415bdb2bdbc -82.0     1   2498  \n",
      "206  0ef970150b669951b4ee467234ef16bc8fe84ad9 -83.0     0   1855  \n",
      "207  e2dbdaad6a215ca96790c141137f27e9f3f70241 -83.0     0   3174  \n",
      "208  79ae85aea19fe634f6440c5b8dfd5aea16fe4e08 -83.0     0   1324  \n",
      "209  83cb96ce13be23a36a67008c2c01007cc69e3f15 -84.0     0   3077  \n",
      "210  eb30c579efc3fc36ccd2f86aabbacadd4affc535 -84.0     0   3156  \n",
      "211  a23c41782a597c0df798ea73397722597d6aeb42 -84.0     0   5472  \n",
      "212  c775bdd340ccacd6833eeced28da8d0f02d0df55 -84.0     0   5447  \n",
      "213  095cf20cb8fd01c1e75c8648d4d1edbbea41b9ca -85.0     0   3155  \n",
      "214  74c4223b84ce4be9e73f0159a7cdc1b984bf7ec4 -85.0     0   3247  \n",
      "215  b2d25f9600fd0808148824e1fe60943187be302f -86.0     0   5400  \n",
      "216  7de9bbe1abbde379d2803c4503bf0b36403ed20a -86.0     1  22986  \n",
      "217  f33378c1c0b340a2bdd8c2fe51fc55ecf1671f7c -86.0     0   7547  \n",
      "218  57880ed6036ff7070ad1d13006780bec65829186 -86.0     0   3168  \n",
      "219  492fdeeb4a9ee216fa710b1615abfd6740448d02 -86.0     0   1536  \n",
      "220  5046c60d9493bd5a31a650223623ff331b5414b2 -86.0     1     77  \n",
      "221  d3443299f930925f300a2d493b60bc435d88bae4 -86.0     1     76  \n",
      "222  fb0d38228a3eefd2dd07aaa47c37b91b582447e9 -87.0     0   3162  \n",
      "223  a2e40b9acb6d0842497c141d97e1baaf106224be -87.0     0   7551  \n",
      "224  bc19a412694ec305f271721b3dacb4884bb2fda6 -87.0     1  22976  \n",
      "225  79f9a5845c4c9f0c1d5ef11e02e840865b934091 -87.0     1   2753  \n",
      "226  97d8eeeaadc98ea615bb9001866a24c495537c63 -87.0     0   1840  \n",
      "227  2cee40332c25fdb1537c2ed82f9fce1e583640ca -87.0     1     77  \n",
      "228  af80ae5f9da470c855d6a99a4f11d53d1a08ccff -87.0     0   1276  \n",
      "229  957fd0f7d069479b3bba667b752cd43e4f8b47dd -87.0     1     77  \n",
      "230  fef4d47cc0513cf42286a5a4ab947cb8cfc0e5e2 -88.0     0   7551  \n",
      "231  1ebadbae75ade98cea05d43a421e60c3c95607a8 -88.0     1   2753  \n",
      "232  d166271362a4dacb52c9ae795f13a3a9192d612a -88.0     1   2753  \n",
      "233  ee8eddc4c3265c4076407164655211c85c9a11c2 -88.0     0   3139  \n",
      "234  ecd301f39fc4034ff98eadf779ee0cdd40d72456 -88.0     1     77  \n",
      "235  873122eb1e56a9f7eb69cac12f8cce647d5b32a8 -89.0     0   7548  \n",
      "236  91afd916b337e9db04e5b5b1366c750aa7bdb79f -89.0     1   2933  \n",
      "237  b295032acf5d6b5c4318e197ebc9a4f1a1a05322 -90.0     1  23208  \n",
      "238  476da5b3c350760cccf830c3ef84e433534f8a3d -90.0     1   2932  \n",
      "239  b75183a411d0e02cf5299bd2d9663f83376b83be -90.0     1   2753  \n",
      "240  0c424525f56f17014875dedc4fd0a7d6499ceb85 -91.0     0   7548  \n",
      "241  bd9680cb31bf1b534acb9e989c8b9fb604a22e1e -91.0     1   2752  \n",
      "242  c6ee11e271e4a8c37fcbe162d443add390501e17 -91.0     0   9138  \n",
      "________________________________________\n",
      "      time                                      ssid  \\\n",
      "243  11434  8e34926eb2a2a0663b2e03ac3c4cccf31ecc1965   \n",
      "244  11434  8b11efe31eeb88209290065632b99739c4a57f11   \n",
      "245  11434  383a6185d30aa442d718b5209ecd4eb49cb73c54   \n",
      "246  11434  da39a3ee5e6b4b0d3255bfef95601890afd80709   \n",
      "247  11434  da39a3ee5e6b4b0d3255bfef95601890afd80709   \n",
      "248  11434  372308ce2a04b1ca088d269fec6966c697b02619   \n",
      "249  11434  0b72e3ecd8f9071d311fd78bc78b4696fbbd35e5   \n",
      "250  11434  0fa36db77af713808449ff54868815dc26f88e45   \n",
      "251  11434  5ec944cb0e043327906acce8d1b61f6e32d8db1c   \n",
      "252  11434  0fa36db77af713808449ff54868815dc26f88e45   \n",
      "253  11434  0fa36db77af713808449ff54868815dc26f88e45   \n",
      "254  11434  0b72e3ecd8f9071d311fd78bc78b4696fbbd35e5   \n",
      "255  11434  7123b8a309997c3fc78a7897089a478e1efc33c7   \n",
      "256  11434  d17bb082e04f08a5f47e5f92f26b8d0ba2b800de   \n",
      "257  11434  5ec944cb0e043327906acce8d1b61f6e32d8db1c   \n",
      "258  11434  da39a3ee5e6b4b0d3255bfef95601890afd80709   \n",
      "259  11434  da39a3ee5e6b4b0d3255bfef95601890afd80709   \n",
      "260  11434  0b72e3ecd8f9071d311fd78bc78b4696fbbd35e5   \n",
      "261  11434  0b72e3ecd8f9071d311fd78bc78b4696fbbd35e5   \n",
      "262  11434  0fa36db77af713808449ff54868815dc26f88e45   \n",
      "263  11434  da39a3ee5e6b4b0d3255bfef95601890afd80709   \n",
      "264  11434  2f5387ee410d3ad37f40351ca9d884922ca1cd26   \n",
      "265  11434  3f2c15f34befeab48e04a706071dd12f20bcbf75   \n",
      "266  11434  da39a3ee5e6b4b0d3255bfef95601890afd80709   \n",
      "267  11434  0b72e3ecd8f9071d311fd78bc78b4696fbbd35e5   \n",
      "268  11434  da39a3ee5e6b4b0d3255bfef95601890afd80709   \n",
      "269  11434  da39a3ee5e6b4b0d3255bfef95601890afd80709   \n",
      "270  11434  0b72e3ecd8f9071d311fd78bc78b4696fbbd35e5   \n",
      "271  11434  5ec944cb0e043327906acce8d1b61f6e32d8db1c   \n",
      "272  11434  da39a3ee5e6b4b0d3255bfef95601890afd80709   \n",
      "273  11434  cdf872cfa92f139c94b2bf8413ca699d31731133   \n",
      "274  11434  b1d1fcff9e11e902572c14f4cb35457afd025596   \n",
      "275  11434  da39a3ee5e6b4b0d3255bfef95601890afd80709   \n",
      "276  11434  5ec944cb0e043327906acce8d1b61f6e32d8db1c   \n",
      "277  11434  da39a3ee5e6b4b0d3255bfef95601890afd80709   \n",
      "278  11434  5ec944cb0e043327906acce8d1b61f6e32d8db1c   \n",
      "279  11434  0fa36db77af713808449ff54868815dc26f88e45   \n",
      "280  11434  0fa36db77af713808449ff54868815dc26f88e45   \n",
      "281  11434  2b50e9ea1ae33ac95fbe03bc6d6b3bfa81ecc826   \n",
      "282  11434  0b72e3ecd8f9071d311fd78bc78b4696fbbd35e5   \n",
      "283  11434  5ec944cb0e043327906acce8d1b61f6e32d8db1c   \n",
      "284  11434  5ec944cb0e043327906acce8d1b61f6e32d8db1c   \n",
      "285  11434  0b72e3ecd8f9071d311fd78bc78b4696fbbd35e5   \n",
      "286  11434  d17bb082e04f08a5f47e5f92f26b8d0ba2b800de   \n",
      "287  11434  e5ac03a98be38ed977dd6073a8c34a59606c2309   \n",
      "288  11434  0fa36db77af713808449ff54868815dc26f88e45   \n",
      "289  11434  0b72e3ecd8f9071d311fd78bc78b4696fbbd35e5   \n",
      "290  11434  da39a3ee5e6b4b0d3255bfef95601890afd80709   \n",
      "291  11434  0fa36db77af713808449ff54868815dc26f88e45   \n",
      "292  11434  5ac23d20bcce7b4518ebaa098b6034f7e85e5fc3   \n",
      "293  11434  da39a3ee5e6b4b0d3255bfef95601890afd80709   \n",
      "294  11434  da39a3ee5e6b4b0d3255bfef95601890afd80709   \n",
      "295  11434  0b72e3ecd8f9071d311fd78bc78b4696fbbd35e5   \n",
      "296  11434  5ec944cb0e043327906acce8d1b61f6e32d8db1c   \n",
      "297  11434  da39a3ee5e6b4b0d3255bfef95601890afd80709   \n",
      "298  11434  5ec944cb0e043327906acce8d1b61f6e32d8db1c   \n",
      "299  11434  4c08229a506af77c768d6639b28c093daa7524d7   \n",
      "\n",
      "                                        bssid  rssi  is5G  delay  \n",
      "243  b4172b29db8744f9a82b44c18c7363db7de0f842 -64.0     0   3414  \n",
      "244  c8c7344794549cbc1d31d86fcd0da0e6a907a8a2 -69.0     0   1222  \n",
      "245  6fda41b51e6f55375fe5e8754f2bdbdd064686e8 -70.0     0   1788  \n",
      "246  2152a505d9ec2789786d8facd9a83ed23ca11760 -74.0     0   3575  \n",
      "247  927bbaabb59044005dade9de79a24354a228cc57 -75.0     0   3576  \n",
      "248  e4ef2fa211079ed4b3902c70f84c6d93cc192b30 -76.0     0   1547  \n",
      "249  0c1d0e78754bec27b6e8a76e03814dcb86a53b06 -77.0     0   3633  \n",
      "250  9eee160370e4f91793a5bb2e7d9ebe7ab2fb0d4d -79.0     0   7345  \n",
      "251  aee99173454f318e965db97288d328b046cbe770 -81.0     0   7366  \n",
      "252  d1c4f53ed5a68027f9dda82e822bb85e387cb88a -81.0     0   1687  \n",
      "253  de33538717402e0af21be1d3daf313bf45110878 -81.0     0   7367  \n",
      "254  877572b4f619e85b4bf2ab6ca4a92bfe00154895 -81.0     0   7346  \n",
      "255  b2d25f9600fd0808148824e1fe60943187be302f -82.0     0   1582  \n",
      "256  0ef970150b669951b4ee467234ef16bc8fe84ad9 -82.0     0   1847  \n",
      "257  dcc4874b820f8962e6732fb52f30afdb7a6a178f -82.0     1    616  \n",
      "258  19b9c8ea8ef7d65da7a0a09c345ab04a270f98a2 -82.0     0   1684  \n",
      "259  74d8d612882e1862353eb63db6afdacc61f4075d -82.0     0   1683  \n",
      "260  e2dbdaad6a215ca96790c141137f27e9f3f70241 -83.0     0   5070  \n",
      "261  3f2461d54f653717db4728deeb54c1a7a7b7bd29 -83.0     1    616  \n",
      "262  59fcf279bdbcab1448805c30f1246a4e2a88fa6c -83.0     1    616  \n",
      "263  b6d47755a83dc069a5933de78765cf9517dd00c7 -83.0     1    615  \n",
      "264  79ae85aea19fe634f6440c5b8dfd5aea16fe4e08 -83.0     0   3220  \n",
      "265  83cb96ce13be23a36a67008c2c01007cc69e3f15 -84.0     0   4973  \n",
      "266  eb30c579efc3fc36ccd2f86aabbacadd4affc535 -84.0     0   5052  \n",
      "267  79f9a5845c4c9f0c1d5ef11e02e840865b934091 -84.0     1    861  \n",
      "268  1ebadbae75ade98cea05d43a421e60c3c95607a8 -84.0     1    860  \n",
      "269  259b4c4b0ae21662f149a90333b5d415bdb2bdbc -84.0     1    615  \n",
      "270  a23c41782a597c0df798ea73397722597d6aeb42 -84.0     0   7368  \n",
      "271  c775bdd340ccacd6833eeced28da8d0f02d0df55 -84.0     0   7343  \n",
      "272  095cf20cb8fd01c1e75c8648d4d1edbbea41b9ca -85.0     0   5051  \n",
      "273  74c4223b84ce4be9e73f0159a7cdc1b984bf7ec4 -85.0     0   5143  \n",
      "274  7de9bbe1abbde379d2803c4503bf0b36403ed20a -86.0     1  24882  \n",
      "275  f33378c1c0b340a2bdd8c2fe51fc55ecf1671f7c -86.0     0   9443  \n",
      "276  d166271362a4dacb52c9ae795f13a3a9192d612a -86.0     1    860  \n",
      "277  bd9680cb31bf1b534acb9e989c8b9fb604a22e1e -86.0     1    859  \n",
      "278  450c1174a580472b87646ce300b8b1e660ada2ae -86.0     0   1685  \n",
      "279  57880ed6036ff7070ad1d13006780bec65829186 -86.0     0   5065  \n",
      "280  b75183a411d0e02cf5299bd2d9663f83376b83be -86.0     1    860  \n",
      "281  492fdeeb4a9ee216fa710b1615abfd6740448d02 -86.0     0   3433  \n",
      "282  5046c60d9493bd5a31a650223623ff331b5414b2 -86.0     1   1974  \n",
      "283  d3443299f930925f300a2d493b60bc435d88bae4 -86.0     1   1973  \n",
      "284  fb0d38228a3eefd2dd07aaa47c37b91b582447e9 -87.0     0   5059  \n",
      "285  a2e40b9acb6d0842497c141d97e1baaf106224be -87.0     0   9448  \n",
      "286  bc19a412694ec305f271721b3dacb4884bb2fda6 -87.0     1  24873  \n",
      "287  97d8eeeaadc98ea615bb9001866a24c495537c63 -87.0     0   3737  \n",
      "288  2cee40332c25fdb1537c2ed82f9fce1e583640ca -87.0     1   1974  \n",
      "289  af80ae5f9da470c855d6a99a4f11d53d1a08ccff -87.0     0   3172  \n",
      "290  957fd0f7d069479b3bba667b752cd43e4f8b47dd -87.0     1   1973  \n",
      "291  fef4d47cc0513cf42286a5a4ab947cb8cfc0e5e2 -88.0     0   9447  \n",
      "292  ee8eddc4c3265c4076407164655211c85c9a11c2 -88.0     0   5035  \n",
      "293  ecd301f39fc4034ff98eadf779ee0cdd40d72456 -88.0     1   1973  \n",
      "294  873122eb1e56a9f7eb69cac12f8cce647d5b32a8 -89.0     0   9444  \n",
      "295  91afd916b337e9db04e5b5b1366c750aa7bdb79f -89.0     1   4829  \n",
      "296  b295032acf5d6b5c4318e197ebc9a4f1a1a05322 -90.0     1  25104  \n",
      "297  476da5b3c350760cccf830c3ef84e433534f8a3d -90.0     1   4828  \n",
      "298  0c424525f56f17014875dedc4fd0a7d6499ceb85 -91.0     0   9444  \n",
      "299  c6ee11e271e4a8c37fcbe162d443add390501e17 -91.0     0  11034  \n",
      "________________________________________\n",
      "      time                                      ssid  \\\n",
      "300  13415  8b11efe31eeb88209290065632b99739c4a57f11   \n",
      "301  13415  383a6185d30aa442d718b5209ecd4eb49cb73c54   \n",
      "302  13415  da39a3ee5e6b4b0d3255bfef95601890afd80709   \n",
      "303  13415  da39a3ee5e6b4b0d3255bfef95601890afd80709   \n",
      "304  13415  8e34926eb2a2a0663b2e03ac3c4cccf31ecc1965   \n",
      "305  13415  0b72e3ecd8f9071d311fd78bc78b4696fbbd35e5   \n",
      "306  13415  372308ce2a04b1ca088d269fec6966c697b02619   \n",
      "307  13415  d17bb082e04f08a5f47e5f92f26b8d0ba2b800de   \n",
      "308  13415  0fa36db77af713808449ff54868815dc26f88e45   \n",
      "309  13415  5ec944cb0e043327906acce8d1b61f6e32d8db1c   \n",
      "310  13415  0fa36db77af713808449ff54868815dc26f88e45   \n",
      "311  13415  0fa36db77af713808449ff54868815dc26f88e45   \n",
      "312  13415  0b72e3ecd8f9071d311fd78bc78b4696fbbd35e5   \n",
      "313  13415  7123b8a309997c3fc78a7897089a478e1efc33c7   \n",
      "314  13415  da39a3ee5e6b4b0d3255bfef95601890afd80709   \n",
      "315  13415  da39a3ee5e6b4b0d3255bfef95601890afd80709   \n",
      "316  13415  cdf872cfa92f139c94b2bf8413ca699d31731133   \n",
      "317  13415  0b72e3ecd8f9071d311fd78bc78b4696fbbd35e5   \n",
      "318  13415  2f5387ee410d3ad37f40351ca9d884922ca1cd26   \n",
      "319  13415  3f2c15f34befeab48e04a706071dd12f20bcbf75   \n",
      "320  13415  da39a3ee5e6b4b0d3255bfef95601890afd80709   \n",
      "321  13415  da39a3ee5e6b4b0d3255bfef95601890afd80709   \n",
      "322  13415  0fa36db77af713808449ff54868815dc26f88e45   \n",
      "323  13415  0b72e3ecd8f9071d311fd78bc78b4696fbbd35e5   \n",
      "324  13415  5ec944cb0e043327906acce8d1b61f6e32d8db1c   \n",
      "325  13415  5ec944cb0e043327906acce8d1b61f6e32d8db1c   \n",
      "326  13415  da39a3ee5e6b4b0d3255bfef95601890afd80709   \n",
      "327  13415  da39a3ee5e6b4b0d3255bfef95601890afd80709   \n",
      "328  13415  da39a3ee5e6b4b0d3255bfef95601890afd80709   \n",
      "329  13415  0b72e3ecd8f9071d311fd78bc78b4696fbbd35e5   \n",
      "330  13415  b1d1fcff9e11e902572c14f4cb35457afd025596   \n",
      "331  13415  da39a3ee5e6b4b0d3255bfef95601890afd80709   \n",
      "332  13415  5ec944cb0e043327906acce8d1b61f6e32d8db1c   \n",
      "333  13415  da39a3ee5e6b4b0d3255bfef95601890afd80709   \n",
      "334  13415  5ec944cb0e043327906acce8d1b61f6e32d8db1c   \n",
      "335  13415  0fa36db77af713808449ff54868815dc26f88e45   \n",
      "336  13415  0fa36db77af713808449ff54868815dc26f88e45   \n",
      "337  13415  2b50e9ea1ae33ac95fbe03bc6d6b3bfa81ecc826   \n",
      "338  13415  a1f0bb156ddd7847ab43afe98b39bc1cca4cac23   \n",
      "339  13415  5ec944cb0e043327906acce8d1b61f6e32d8db1c   \n",
      "340  13415  0b72e3ecd8f9071d311fd78bc78b4696fbbd35e5   \n",
      "341  13415  d17bb082e04f08a5f47e5f92f26b8d0ba2b800de   \n",
      "342  13415  da39a3ee5e6b4b0d3255bfef95601890afd80709   \n",
      "343  13415  e5ac03a98be38ed977dd6073a8c34a59606c2309   \n",
      "344  13415  0b72e3ecd8f9071d311fd78bc78b4696fbbd35e5   \n",
      "345  13415  0fa36db77af713808449ff54868815dc26f88e45   \n",
      "346  13415  0b72e3ecd8f9071d311fd78bc78b4696fbbd35e5   \n",
      "347  13415  0fa36db77af713808449ff54868815dc26f88e45   \n",
      "348  13415  5ec944cb0e043327906acce8d1b61f6e32d8db1c   \n",
      "349  13415  da39a3ee5e6b4b0d3255bfef95601890afd80709   \n",
      "350  13415  5ac23d20bcce7b4518ebaa098b6034f7e85e5fc3   \n",
      "351  13415  da39a3ee5e6b4b0d3255bfef95601890afd80709   \n",
      "352  13415  0b72e3ecd8f9071d311fd78bc78b4696fbbd35e5   \n",
      "353  13415  5ec944cb0e043327906acce8d1b61f6e32d8db1c   \n",
      "354  13415  da39a3ee5e6b4b0d3255bfef95601890afd80709   \n",
      "355  13415  0b72e3ecd8f9071d311fd78bc78b4696fbbd35e5   \n",
      "356  13415  5ec944cb0e043327906acce8d1b61f6e32d8db1c   \n",
      "357  13415  4c08229a506af77c768d6639b28c093daa7524d7   \n",
      "\n",
      "                                        bssid  rssi  is5G  delay  \n",
      "300  c8c7344794549cbc1d31d86fcd0da0e6a907a8a2 -68.0     0   1293  \n",
      "301  6fda41b51e6f55375fe5e8754f2bdbdd064686e8 -69.0     0   1907  \n",
      "302  2152a505d9ec2789786d8facd9a83ed23ca11760 -74.0     0   5556  \n",
      "303  927bbaabb59044005dade9de79a24354a228cc57 -75.0     0   5557  \n",
      "304  b4172b29db8744f9a82b44c18c7363db7de0f842 -77.0     0   1628  \n",
      "305  0c1d0e78754bec27b6e8a76e03814dcb86a53b06 -77.0     0   5614  \n",
      "306  e4ef2fa211079ed4b3902c70f84c6d93cc192b30 -78.0     0   1580  \n",
      "307  0ef970150b669951b4ee467234ef16bc8fe84ad9 -78.0     0   1903  \n",
      "308  9eee160370e4f91793a5bb2e7d9ebe7ab2fb0d4d -79.0     0   9326  \n",
      "309  aee99173454f318e965db97288d328b046cbe770 -81.0     0   9347  \n",
      "310  d1c4f53ed5a68027f9dda82e822bb85e387cb88a -81.0     0   3668  \n",
      "311  de33538717402e0af21be1d3daf313bf45110878 -81.0     0   9348  \n",
      "312  877572b4f619e85b4bf2ab6ca4a92bfe00154895 -81.0     0   9327  \n",
      "313  b2d25f9600fd0808148824e1fe60943187be302f -82.0     0   1661  \n",
      "314  19b9c8ea8ef7d65da7a0a09c345ab04a270f98a2 -82.0     0   3665  \n",
      "315  74d8d612882e1862353eb63db6afdacc61f4075d -82.0     0   3664  \n",
      "316  74c4223b84ce4be9e73f0159a7cdc1b984bf7ec4 -82.0     0   1406  \n",
      "317  e2dbdaad6a215ca96790c141137f27e9f3f70241 -83.0     0   7051  \n",
      "318  79ae85aea19fe634f6440c5b8dfd5aea16fe4e08 -83.0     0   5201  \n",
      "319  83cb96ce13be23a36a67008c2c01007cc69e3f15 -84.0     0   6954  \n",
      "320  eb30c579efc3fc36ccd2f86aabbacadd4affc535 -84.0     0   7033  \n",
      "321  1ebadbae75ade98cea05d43a421e60c3c95607a8 -84.0     1   2841  \n",
      "322  2cee40332c25fdb1537c2ed82f9fce1e583640ca -84.0     1    166  \n",
      "323  a23c41782a597c0df798ea73397722597d6aeb42 -84.0     0   9349  \n",
      "324  c775bdd340ccacd6833eeced28da8d0f02d0df55 -84.0     0   9324  \n",
      "325  d3443299f930925f300a2d493b60bc435d88bae4 -84.0     1    165  \n",
      "326  ecd301f39fc4034ff98eadf779ee0cdd40d72456 -84.0     1    165  \n",
      "327  957fd0f7d069479b3bba667b752cd43e4f8b47dd -84.0     1    165  \n",
      "328  095cf20cb8fd01c1e75c8648d4d1edbbea41b9ca -85.0     0   7032  \n",
      "329  5046c60d9493bd5a31a650223623ff331b5414b2 -85.0     1    166  \n",
      "330  7de9bbe1abbde379d2803c4503bf0b36403ed20a -86.0     1  26863  \n",
      "331  f33378c1c0b340a2bdd8c2fe51fc55ecf1671f7c -86.0     0  11424  \n",
      "332  d166271362a4dacb52c9ae795f13a3a9192d612a -86.0     1   2841  \n",
      "333  bd9680cb31bf1b534acb9e989c8b9fb604a22e1e -86.0     1   2840  \n",
      "334  450c1174a580472b87646ce300b8b1e660ada2ae -86.0     0   3666  \n",
      "335  57880ed6036ff7070ad1d13006780bec65829186 -86.0     0   7046  \n",
      "336  b75183a411d0e02cf5299bd2d9663f83376b83be -86.0     1   2841  \n",
      "337  492fdeeb4a9ee216fa710b1615abfd6740448d02 -86.0     0   5414  \n",
      "338  f55c4ea0e50cfb152da31670849490bcb6a5af3e -86.0     0   1378  \n",
      "339  fb0d38228a3eefd2dd07aaa47c37b91b582447e9 -87.0     0   7040  \n",
      "340  a2e40b9acb6d0842497c141d97e1baaf106224be -87.0     0  11429  \n",
      "341  bc19a412694ec305f271721b3dacb4884bb2fda6 -87.0     1  26854  \n",
      "342  259b4c4b0ae21662f149a90333b5d415bdb2bdbc -87.0     1    650  \n",
      "343  97d8eeeaadc98ea615bb9001866a24c495537c63 -87.0     0   5718  \n",
      "344  af80ae5f9da470c855d6a99a4f11d53d1a08ccff -87.0     0   5153  \n",
      "345  fef4d47cc0513cf42286a5a4ab947cb8cfc0e5e2 -88.0     0  11428  \n",
      "346  3f2461d54f653717db4728deeb54c1a7a7b7bd29 -88.0     1    652  \n",
      "347  59fcf279bdbcab1448805c30f1246a4e2a88fa6c -88.0     1    652  \n",
      "348  dcc4874b820f8962e6732fb52f30afdb7a6a178f -88.0     1    651  \n",
      "349  b6d47755a83dc069a5933de78765cf9517dd00c7 -88.0     1    651  \n",
      "350  ee8eddc4c3265c4076407164655211c85c9a11c2 -88.0     0   7016  \n",
      "351  873122eb1e56a9f7eb69cac12f8cce647d5b32a8 -89.0     0  11425  \n",
      "352  91afd916b337e9db04e5b5b1366c750aa7bdb79f -89.0     1   6810  \n",
      "353  b295032acf5d6b5c4318e197ebc9a4f1a1a05322 -90.0     1  27085  \n",
      "354  476da5b3c350760cccf830c3ef84e433534f8a3d -90.0     1   6809  \n",
      "355  79f9a5845c4c9f0c1d5ef11e02e840865b934091 -90.0     1    894  \n",
      "356  0c424525f56f17014875dedc4fd0a7d6499ceb85 -91.0     0  11425  \n",
      "357  c6ee11e271e4a8c37fcbe162d443add390501e17 -91.0     0  13015  \n",
      "________________________________________\n",
      "      time                                      ssid  \\\n",
      "358  15296  8b11efe31eeb88209290065632b99739c4a57f11   \n",
      "359  15296  383a6185d30aa442d718b5209ecd4eb49cb73c54   \n",
      "360  15296  da39a3ee5e6b4b0d3255bfef95601890afd80709   \n",
      "361  15296  372308ce2a04b1ca088d269fec6966c697b02619   \n",
      "362  15296  da39a3ee5e6b4b0d3255bfef95601890afd80709   \n",
      "363  15296  3f2c15f34befeab48e04a706071dd12f20bcbf75   \n",
      "364  15296  8e34926eb2a2a0663b2e03ac3c4cccf31ecc1965   \n",
      "365  15296  0b72e3ecd8f9071d311fd78bc78b4696fbbd35e5   \n",
      "366  15296  0fa36db77af713808449ff54868815dc26f88e45   \n",
      "367  15296  0b72e3ecd8f9071d311fd78bc78b4696fbbd35e5   \n",
      "368  15296  5ec944cb0e043327906acce8d1b61f6e32d8db1c   \n",
      "369  15296  0fa36db77af713808449ff54868815dc26f88e45   \n",
      "370  15296  0fa36db77af713808449ff54868815dc26f88e45   \n",
      "371  15296  0b72e3ecd8f9071d311fd78bc78b4696fbbd35e5   \n",
      "372  15296  7123b8a309997c3fc78a7897089a478e1efc33c7   \n",
      "373  15296  da39a3ee5e6b4b0d3255bfef95601890afd80709   \n",
      "374  15296  da39a3ee5e6b4b0d3255bfef95601890afd80709   \n",
      "375  15296  cdf872cfa92f139c94b2bf8413ca699d31731133   \n",
      "376  15296  0b72e3ecd8f9071d311fd78bc78b4696fbbd35e5   \n",
      "377  15296  2f5387ee410d3ad37f40351ca9d884922ca1cd26   \n",
      "378  15296  da39a3ee5e6b4b0d3255bfef95601890afd80709   \n",
      "379  15296  da39a3ee5e6b4b0d3255bfef95601890afd80709   \n",
      "380  15296  0fa36db77af713808449ff54868815dc26f88e45   \n",
      "381  15296  5ec944cb0e043327906acce8d1b61f6e32d8db1c   \n",
      "382  15296  5ec944cb0e043327906acce8d1b61f6e32d8db1c   \n",
      "383  15296  da39a3ee5e6b4b0d3255bfef95601890afd80709   \n",
      "384  15296  da39a3ee5e6b4b0d3255bfef95601890afd80709   \n",
      "385  15296  da39a3ee5e6b4b0d3255bfef95601890afd80709   \n",
      "386  15296  0b72e3ecd8f9071d311fd78bc78b4696fbbd35e5   \n",
      "387  15296  da39a3ee5e6b4b0d3255bfef95601890afd80709   \n",
      "388  15296  377219ac436198d7f699c7cd165e4a74aa62296d   \n",
      "389  15296  b1d1fcff9e11e902572c14f4cb35457afd025596   \n",
      "390  15296  da39a3ee5e6b4b0d3255bfef95601890afd80709   \n",
      "391  15296  5ec944cb0e043327906acce8d1b61f6e32d8db1c   \n",
      "392  15296  da39a3ee5e6b4b0d3255bfef95601890afd80709   \n",
      "393  15296  5ec944cb0e043327906acce8d1b61f6e32d8db1c   \n",
      "394  15296  0fa36db77af713808449ff54868815dc26f88e45   \n",
      "395  15296  0fa36db77af713808449ff54868815dc26f88e45   \n",
      "396  15296  2b50e9ea1ae33ac95fbe03bc6d6b3bfa81ecc826   \n",
      "397  15296  a1f0bb156ddd7847ab43afe98b39bc1cca4cac23   \n",
      "398  15296  5ec944cb0e043327906acce8d1b61f6e32d8db1c   \n",
      "399  15296  0b72e3ecd8f9071d311fd78bc78b4696fbbd35e5   \n",
      "400  15296  d17bb082e04f08a5f47e5f92f26b8d0ba2b800de   \n",
      "401  15296  da39a3ee5e6b4b0d3255bfef95601890afd80709   \n",
      "402  15296  e5ac03a98be38ed977dd6073a8c34a59606c2309   \n",
      "403  15296  0b72e3ecd8f9071d311fd78bc78b4696fbbd35e5   \n",
      "404  15296  0fa36db77af713808449ff54868815dc26f88e45   \n",
      "405  15296  0b72e3ecd8f9071d311fd78bc78b4696fbbd35e5   \n",
      "406  15296  0fa36db77af713808449ff54868815dc26f88e45   \n",
      "407  15296  5ec944cb0e043327906acce8d1b61f6e32d8db1c   \n",
      "408  15296  da39a3ee5e6b4b0d3255bfef95601890afd80709   \n",
      "409  15296  5ac23d20bcce7b4518ebaa098b6034f7e85e5fc3   \n",
      "410  15296  da39a3ee5e6b4b0d3255bfef95601890afd80709   \n",
      "411  15296  0b72e3ecd8f9071d311fd78bc78b4696fbbd35e5   \n",
      "412  15296  5ec944cb0e043327906acce8d1b61f6e32d8db1c   \n",
      "413  15296  da39a3ee5e6b4b0d3255bfef95601890afd80709   \n",
      "414  15296  0b72e3ecd8f9071d311fd78bc78b4696fbbd35e5   \n",
      "415  15296  d17bb082e04f08a5f47e5f92f26b8d0ba2b800de   \n",
      "416  15296  5ec944cb0e043327906acce8d1b61f6e32d8db1c   \n",
      "417  15296  4c08229a506af77c768d6639b28c093daa7524d7   \n",
      "\n",
      "                                        bssid  rssi  is5G  delay  \n",
      "358  c8c7344794549cbc1d31d86fcd0da0e6a907a8a2 -68.0     0   1190  \n",
      "359  6fda41b51e6f55375fe5e8754f2bdbdd064686e8 -72.0     0   1822  \n",
      "360  2152a505d9ec2789786d8facd9a83ed23ca11760 -74.0     0   7437  \n",
      "361  e4ef2fa211079ed4b3902c70f84c6d93cc192b30 -75.0     0   1518  \n",
      "362  927bbaabb59044005dade9de79a24354a228cc57 -75.0     0   7438  \n",
      "363  83cb96ce13be23a36a67008c2c01007cc69e3f15 -76.0     0   1197  \n",
      "364  b4172b29db8744f9a82b44c18c7363db7de0f842 -77.0     0   3509  \n",
      "365  0c1d0e78754bec27b6e8a76e03814dcb86a53b06 -77.0     0   7495  \n",
      "366  9eee160370e4f91793a5bb2e7d9ebe7ab2fb0d4d -79.0     0  11207  \n",
      "367  a23c41782a597c0df798ea73397722597d6aeb42 -80.0     0   1605  \n",
      "368  aee99173454f318e965db97288d328b046cbe770 -81.0     0  11228  \n",
      "369  d1c4f53ed5a68027f9dda82e822bb85e387cb88a -81.0     0   5549  \n",
      "370  de33538717402e0af21be1d3daf313bf45110878 -81.0     0  11229  \n",
      "371  877572b4f619e85b4bf2ab6ca4a92bfe00154895 -81.0     0  11208  \n",
      "372  b2d25f9600fd0808148824e1fe60943187be302f -82.0     0   3542  \n",
      "373  19b9c8ea8ef7d65da7a0a09c345ab04a270f98a2 -82.0     0   5546  \n",
      "374  74d8d612882e1862353eb63db6afdacc61f4075d -82.0     0   5545  \n",
      "375  74c4223b84ce4be9e73f0159a7cdc1b984bf7ec4 -82.0     0   3287  \n",
      "376  e2dbdaad6a215ca96790c141137f27e9f3f70241 -83.0     0   8932  \n",
      "377  79ae85aea19fe634f6440c5b8dfd5aea16fe4e08 -83.0     0   7082  \n",
      "378  eb30c579efc3fc36ccd2f86aabbacadd4affc535 -84.0     0   8914  \n",
      "379  1ebadbae75ade98cea05d43a421e60c3c95607a8 -84.0     1   4722  \n",
      "380  2cee40332c25fdb1537c2ed82f9fce1e583640ca -84.0     1   2047  \n",
      "381  c775bdd340ccacd6833eeced28da8d0f02d0df55 -84.0     0  11205  \n",
      "382  d3443299f930925f300a2d493b60bc435d88bae4 -84.0     1   2046  \n",
      "383  ecd301f39fc4034ff98eadf779ee0cdd40d72456 -84.0     1   2046  \n",
      "384  957fd0f7d069479b3bba667b752cd43e4f8b47dd -84.0     1   2046  \n",
      "385  095cf20cb8fd01c1e75c8648d4d1edbbea41b9ca -85.0     0   8913  \n",
      "386  5046c60d9493bd5a31a650223623ff331b5414b2 -85.0     1   2047  \n",
      "387  1bd7a48558873cb4db54482477d9c602b179c651 -85.0     0   1829  \n",
      "388  2b2368bbe33e6a439c96b8d05dc3d1cda7bac78e -85.0     0   1111  \n",
      "389  7de9bbe1abbde379d2803c4503bf0b36403ed20a -86.0     1  28744  \n",
      "390  f33378c1c0b340a2bdd8c2fe51fc55ecf1671f7c -86.0     0  13305  \n",
      "391  d166271362a4dacb52c9ae795f13a3a9192d612a -86.0     1   4722  \n",
      "392  bd9680cb31bf1b534acb9e989c8b9fb604a22e1e -86.0     1   4721  \n",
      "393  450c1174a580472b87646ce300b8b1e660ada2ae -86.0     0   5547  \n",
      "394  57880ed6036ff7070ad1d13006780bec65829186 -86.0     0   8927  \n",
      "395  b75183a411d0e02cf5299bd2d9663f83376b83be -86.0     1   4722  \n",
      "396  492fdeeb4a9ee216fa710b1615abfd6740448d02 -86.0     0   7295  \n",
      "397  f55c4ea0e50cfb152da31670849490bcb6a5af3e -86.0     0   3259  \n",
      "398  fb0d38228a3eefd2dd07aaa47c37b91b582447e9 -87.0     0   8921  \n",
      "399  a2e40b9acb6d0842497c141d97e1baaf106224be -87.0     0  13310  \n",
      "400  bc19a412694ec305f271721b3dacb4884bb2fda6 -87.0     1  28735  \n",
      "401  259b4c4b0ae21662f149a90333b5d415bdb2bdbc -87.0     1   2531  \n",
      "402  97d8eeeaadc98ea615bb9001866a24c495537c63 -87.0     0   7599  \n",
      "403  af80ae5f9da470c855d6a99a4f11d53d1a08ccff -87.0     0   7034  \n",
      "404  fef4d47cc0513cf42286a5a4ab947cb8cfc0e5e2 -88.0     0  13309  \n",
      "405  3f2461d54f653717db4728deeb54c1a7a7b7bd29 -88.0     1   2533  \n",
      "406  59fcf279bdbcab1448805c30f1246a4e2a88fa6c -88.0     1   2533  \n",
      "407  dcc4874b820f8962e6732fb52f30afdb7a6a178f -88.0     1   2532  \n",
      "408  b6d47755a83dc069a5933de78765cf9517dd00c7 -88.0     1   2532  \n",
      "409  ee8eddc4c3265c4076407164655211c85c9a11c2 -88.0     0   8897  \n",
      "410  873122eb1e56a9f7eb69cac12f8cce647d5b32a8 -89.0     0  13306  \n",
      "411  91afd916b337e9db04e5b5b1366c750aa7bdb79f -89.0     1   1011  \n",
      "412  b295032acf5d6b5c4318e197ebc9a4f1a1a05322 -89.0     1   1011  \n",
      "413  476da5b3c350760cccf830c3ef84e433534f8a3d -90.0     1   8690  \n",
      "414  79f9a5845c4c9f0c1d5ef11e02e840865b934091 -90.0     1   2775  \n",
      "415  0ef970150b669951b4ee467234ef16bc8fe84ad9 -91.0     0   1791  \n",
      "416  0c424525f56f17014875dedc4fd0a7d6499ceb85 -91.0     0  13306  \n",
      "417  c6ee11e271e4a8c37fcbe162d443add390501e17 -91.0     0  14896  \n",
      "________________________________________\n",
      "      time                                      ssid  \\\n",
      "418  17192  8b11efe31eeb88209290065632b99739c4a57f11   \n",
      "419  17192  383a6185d30aa442d718b5209ecd4eb49cb73c54   \n",
      "420  17192  da39a3ee5e6b4b0d3255bfef95601890afd80709   \n",
      "421  17192  7123b8a309997c3fc78a7897089a478e1efc33c7   \n",
      "422  17192  372308ce2a04b1ca088d269fec6966c697b02619   \n",
      "423  17192  da39a3ee5e6b4b0d3255bfef95601890afd80709   \n",
      "424  17192  3f2c15f34befeab48e04a706071dd12f20bcbf75   \n",
      "425  17192  8e34926eb2a2a0663b2e03ac3c4cccf31ecc1965   \n",
      "426  17192  0fa36db77af713808449ff54868815dc26f88e45   \n",
      "427  17192  0b72e3ecd8f9071d311fd78bc78b4696fbbd35e5   \n",
      "428  17192  5ec944cb0e043327906acce8d1b61f6e32d8db1c   \n",
      "429  17192  0b72e3ecd8f9071d311fd78bc78b4696fbbd35e5   \n",
      "430  17192  0fa36db77af713808449ff54868815dc26f88e45   \n",
      "431  17192  0b72e3ecd8f9071d311fd78bc78b4696fbbd35e5   \n",
      "432  17192  0fa36db77af713808449ff54868815dc26f88e45   \n",
      "433  17192  da39a3ee5e6b4b0d3255bfef95601890afd80709   \n",
      "434  17192  da39a3ee5e6b4b0d3255bfef95601890afd80709   \n",
      "435  17192  cdf872cfa92f139c94b2bf8413ca699d31731133   \n",
      "436  17192  0b72e3ecd8f9071d311fd78bc78b4696fbbd35e5   \n",
      "437  17192  5ec944cb0e043327906acce8d1b61f6e32d8db1c   \n",
      "438  17192  2f5387ee410d3ad37f40351ca9d884922ca1cd26   \n",
      "439  17192  da39a3ee5e6b4b0d3255bfef95601890afd80709   \n",
      "440  17192  da39a3ee5e6b4b0d3255bfef95601890afd80709   \n",
      "441  17192  0fa36db77af713808449ff54868815dc26f88e45   \n",
      "442  17192  5ec944cb0e043327906acce8d1b61f6e32d8db1c   \n",
      "443  17192  5ec944cb0e043327906acce8d1b61f6e32d8db1c   \n",
      "444  17192  da39a3ee5e6b4b0d3255bfef95601890afd80709   \n",
      "445  17192  da39a3ee5e6b4b0d3255bfef95601890afd80709   \n",
      "446  17192  da39a3ee5e6b4b0d3255bfef95601890afd80709   \n",
      "447  17192  0b72e3ecd8f9071d311fd78bc78b4696fbbd35e5   \n",
      "448  17192  da39a3ee5e6b4b0d3255bfef95601890afd80709   \n",
      "449  17192  377219ac436198d7f699c7cd165e4a74aa62296d   \n",
      "450  17192  da39a3ee5e6b4b0d3255bfef95601890afd80709   \n",
      "451  17192  5ec944cb0e043327906acce8d1b61f6e32d8db1c   \n",
      "452  17192  da39a3ee5e6b4b0d3255bfef95601890afd80709   \n",
      "453  17192  0fa36db77af713808449ff54868815dc26f88e45   \n",
      "454  17192  0fa36db77af713808449ff54868815dc26f88e45   \n",
      "455  17192  2b50e9ea1ae33ac95fbe03bc6d6b3bfa81ecc826   \n",
      "456  17192  a1f0bb156ddd7847ab43afe98b39bc1cca4cac23   \n",
      "457  17192  5ec944cb0e043327906acce8d1b61f6e32d8db1c   \n",
      "458  17192  0b72e3ecd8f9071d311fd78bc78b4696fbbd35e5   \n",
      "459  17192  da39a3ee5e6b4b0d3255bfef95601890afd80709   \n",
      "460  17192  e5ac03a98be38ed977dd6073a8c34a59606c2309   \n",
      "461  17192  0b72e3ecd8f9071d311fd78bc78b4696fbbd35e5   \n",
      "462  17192  0fa36db77af713808449ff54868815dc26f88e45   \n",
      "463  17192  0b72e3ecd8f9071d311fd78bc78b4696fbbd35e5   \n",
      "464  17192  0fa36db77af713808449ff54868815dc26f88e45   \n",
      "465  17192  5ec944cb0e043327906acce8d1b61f6e32d8db1c   \n",
      "466  17192  da39a3ee5e6b4b0d3255bfef95601890afd80709   \n",
      "467  17192  5ac23d20bcce7b4518ebaa098b6034f7e85e5fc3   \n",
      "468  17192  da39a3ee5e6b4b0d3255bfef95601890afd80709   \n",
      "469  17192  0b72e3ecd8f9071d311fd78bc78b4696fbbd35e5   \n",
      "470  17192  5ec944cb0e043327906acce8d1b61f6e32d8db1c   \n",
      "471  17192  da39a3ee5e6b4b0d3255bfef95601890afd80709   \n",
      "472  17192  0b72e3ecd8f9071d311fd78bc78b4696fbbd35e5   \n",
      "473  17192  d17bb082e04f08a5f47e5f92f26b8d0ba2b800de   \n",
      "474  17192  5ec944cb0e043327906acce8d1b61f6e32d8db1c   \n",
      "475  17192  4c08229a506af77c768d6639b28c093daa7524d7   \n",
      "\n",
      "                                        bssid  rssi  is5G  delay  \n",
      "418  c8c7344794549cbc1d31d86fcd0da0e6a907a8a2 -71.0     0   1207  \n",
      "419  6fda41b51e6f55375fe5e8754f2bdbdd064686e8 -72.0     0   3718  \n",
      "420  2152a505d9ec2789786d8facd9a83ed23ca11760 -74.0     0   9333  \n",
      "421  b2d25f9600fd0808148824e1fe60943187be302f -75.0     0   1611  \n",
      "422  e4ef2fa211079ed4b3902c70f84c6d93cc192b30 -75.0     0   3414  \n",
      "423  927bbaabb59044005dade9de79a24354a228cc57 -75.0     0   9334  \n",
      "424  83cb96ce13be23a36a67008c2c01007cc69e3f15 -76.0     0   1199  \n",
      "425  b4172b29db8744f9a82b44c18c7363db7de0f842 -79.0     0   1514  \n",
      "426  9eee160370e4f91793a5bb2e7d9ebe7ab2fb0d4d -79.0     0  13103  \n",
      "427  a23c41782a597c0df798ea73397722597d6aeb42 -80.0     0   3501  \n",
      "428  aee99173454f318e965db97288d328b046cbe770 -81.0     0  13124  \n",
      "429  0c1d0e78754bec27b6e8a76e03814dcb86a53b06 -81.0     0   1687  \n",
      "430  de33538717402e0af21be1d3daf313bf45110878 -81.0     0  13125  \n",
      "431  877572b4f619e85b4bf2ab6ca4a92bfe00154895 -81.0     0  13104  \n",
      "432  d1c4f53ed5a68027f9dda82e822bb85e387cb88a -82.0     0   1683  \n",
      "433  19b9c8ea8ef7d65da7a0a09c345ab04a270f98a2 -82.0     0   7442  \n",
      "434  74d8d612882e1862353eb63db6afdacc61f4075d -82.0     0   7441  \n",
      "435  74c4223b84ce4be9e73f0159a7cdc1b984bf7ec4 -82.0     0   5183  \n",
      "436  e2dbdaad6a215ca96790c141137f27e9f3f70241 -83.0     0  10828  \n",
      "437  450c1174a580472b87646ce300b8b1e660ada2ae -83.0     0   1675  \n",
      "438  79ae85aea19fe634f6440c5b8dfd5aea16fe4e08 -83.0     0   8978  \n",
      "439  eb30c579efc3fc36ccd2f86aabbacadd4affc535 -84.0     0  10810  \n",
      "440  1ebadbae75ade98cea05d43a421e60c3c95607a8 -84.0     1   6618  \n",
      "441  2cee40332c25fdb1537c2ed82f9fce1e583640ca -84.0     1   3943  \n",
      "442  c775bdd340ccacd6833eeced28da8d0f02d0df55 -84.0     0  13101  \n",
      "443  d3443299f930925f300a2d493b60bc435d88bae4 -84.0     1   3942  \n",
      "444  ecd301f39fc4034ff98eadf779ee0cdd40d72456 -84.0     1   3942  \n",
      "445  957fd0f7d069479b3bba667b752cd43e4f8b47dd -84.0     1   3942  \n",
      "446  095cf20cb8fd01c1e75c8648d4d1edbbea41b9ca -85.0     0  10809  \n",
      "447  5046c60d9493bd5a31a650223623ff331b5414b2 -85.0     1   3943  \n",
      "448  1bd7a48558873cb4db54482477d9c602b179c651 -85.0     0   3725  \n",
      "449  2b2368bbe33e6a439c96b8d05dc3d1cda7bac78e -85.0     0   1164  \n",
      "450  f33378c1c0b340a2bdd8c2fe51fc55ecf1671f7c -86.0     0  15201  \n",
      "451  d166271362a4dacb52c9ae795f13a3a9192d612a -86.0     1   6618  \n",
      "452  bd9680cb31bf1b534acb9e989c8b9fb604a22e1e -86.0     1   6617  \n",
      "453  57880ed6036ff7070ad1d13006780bec65829186 -86.0     0  10823  \n",
      "454  b75183a411d0e02cf5299bd2d9663f83376b83be -86.0     1   6618  \n",
      "455  492fdeeb4a9ee216fa710b1615abfd6740448d02 -86.0     0   9191  \n",
      "456  f55c4ea0e50cfb152da31670849490bcb6a5af3e -86.0     0   5155  \n",
      "457  fb0d38228a3eefd2dd07aaa47c37b91b582447e9 -87.0     0  10817  \n",
      "458  a2e40b9acb6d0842497c141d97e1baaf106224be -87.0     0  15206  \n",
      "459  259b4c4b0ae21662f149a90333b5d415bdb2bdbc -87.0     1   4427  \n",
      "460  97d8eeeaadc98ea615bb9001866a24c495537c63 -87.0     0   9495  \n",
      "461  af80ae5f9da470c855d6a99a4f11d53d1a08ccff -87.0     0   8930  \n",
      "462  fef4d47cc0513cf42286a5a4ab947cb8cfc0e5e2 -88.0     0  15205  \n",
      "463  3f2461d54f653717db4728deeb54c1a7a7b7bd29 -88.0     1   4429  \n",
      "464  59fcf279bdbcab1448805c30f1246a4e2a88fa6c -88.0     1   4429  \n",
      "465  dcc4874b820f8962e6732fb52f30afdb7a6a178f -88.0     1   4428  \n",
      "466  b6d47755a83dc069a5933de78765cf9517dd00c7 -88.0     1   4428  \n",
      "467  ee8eddc4c3265c4076407164655211c85c9a11c2 -88.0     0  10793  \n",
      "468  873122eb1e56a9f7eb69cac12f8cce647d5b32a8 -89.0     0  15202  \n",
      "469  91afd916b337e9db04e5b5b1366c750aa7bdb79f -89.0     1   2907  \n",
      "470  b295032acf5d6b5c4318e197ebc9a4f1a1a05322 -89.0     1   2907  \n",
      "471  476da5b3c350760cccf830c3ef84e433534f8a3d -90.0     1  10586  \n",
      "472  79f9a5845c4c9f0c1d5ef11e02e840865b934091 -90.0     1   4671  \n",
      "473  0ef970150b669951b4ee467234ef16bc8fe84ad9 -91.0     0   3687  \n",
      "474  0c424525f56f17014875dedc4fd0a7d6499ceb85 -91.0     0  15202  \n",
      "475  c6ee11e271e4a8c37fcbe162d443add390501e17 -91.0     0  16792  \n",
      "________________________________________\n",
      "      time                                      ssid  \\\n",
      "476  19076  3f2c15f34befeab48e04a706071dd12f20bcbf75   \n",
      "477  19076  8b11efe31eeb88209290065632b99739c4a57f11   \n",
      "478  19076  da39a3ee5e6b4b0d3255bfef95601890afd80709   \n",
      "479  19076  7123b8a309997c3fc78a7897089a478e1efc33c7   \n",
      "480  19076  da39a3ee5e6b4b0d3255bfef95601890afd80709   \n",
      "..     ...                                       ...   \n",
      "534  19076  0b72e3ecd8f9071d311fd78bc78b4696fbbd35e5   \n",
      "535  19076  da39a3ee5e6b4b0d3255bfef95601890afd80709   \n",
      "536  19076  5ec944cb0e043327906acce8d1b61f6e32d8db1c   \n",
      "537  19076  4c08229a506af77c768d6639b28c093daa7524d7   \n",
      "538  19076  6b0cae39648d52203ca39b7deee80bb39dd7a69b   \n",
      "\n",
      "                                        bssid  rssi  is5G  delay  \n",
      "476  83cb96ce13be23a36a67008c2c01007cc69e3f15 -68.0     0   1193  \n",
      "477  c8c7344794549cbc1d31d86fcd0da0e6a907a8a2 -72.0     0   1189  \n",
      "478  2152a505d9ec2789786d8facd9a83ed23ca11760 -74.0     0  11217  \n",
      "479  b2d25f9600fd0808148824e1fe60943187be302f -75.0     0   1561  \n",
      "480  927bbaabb59044005dade9de79a24354a228cc57 -75.0     0  11218  \n",
      "..                                        ...   ...   ...    ...  \n",
      "534  79f9a5845c4c9f0c1d5ef11e02e840865b934091 -90.0     1   6555  \n",
      "535  259b4c4b0ae21662f149a90333b5d415bdb2bdbc -90.0     1    577  \n",
      "536  0c424525f56f17014875dedc4fd0a7d6499ceb85 -91.0     0  17086  \n",
      "537  c6ee11e271e4a8c37fcbe162d443add390501e17 -91.0     0  18676  \n",
      "538  bfc8fcbb3540dbec2a30b73206ab9eb9b233bd75 -93.0     0   1805  \n",
      "\n",
      "[63 rows x 6 columns]\n",
      "________________________________________\n",
      "      time                                      ssid  \\\n",
      "539  20979  3f2c15f34befeab48e04a706071dd12f20bcbf75   \n",
      "540  20979  8b11efe31eeb88209290065632b99739c4a57f11   \n",
      "541  20979  da39a3ee5e6b4b0d3255bfef95601890afd80709   \n",
      "542  20979  da39a3ee5e6b4b0d3255bfef95601890afd80709   \n",
      "543  20979  372308ce2a04b1ca088d269fec6966c697b02619   \n",
      "..     ...                                       ...   \n",
      "598  20979  0b72e3ecd8f9071d311fd78bc78b4696fbbd35e5   \n",
      "599  20979  da39a3ee5e6b4b0d3255bfef95601890afd80709   \n",
      "600  20979  5ec944cb0e043327906acce8d1b61f6e32d8db1c   \n",
      "601  20979  4c08229a506af77c768d6639b28c093daa7524d7   \n",
      "602  20979  6b0cae39648d52203ca39b7deee80bb39dd7a69b   \n",
      "\n",
      "                                        bssid  rssi  is5G  delay  \n",
      "539  83cb96ce13be23a36a67008c2c01007cc69e3f15 -70.0     0   1208  \n",
      "540  c8c7344794549cbc1d31d86fcd0da0e6a907a8a2 -72.0     0   3092  \n",
      "541  2152a505d9ec2789786d8facd9a83ed23ca11760 -74.0     0  13120  \n",
      "542  927bbaabb59044005dade9de79a24354a228cc57 -75.0     0  13121  \n",
      "543  e4ef2fa211079ed4b3902c70f84c6d93cc192b30 -77.0     0   1524  \n",
      "..                                        ...   ...   ...    ...  \n",
      "598  79f9a5845c4c9f0c1d5ef11e02e840865b934091 -90.0     1   8457  \n",
      "599  259b4c4b0ae21662f149a90333b5d415bdb2bdbc -90.0     1   2479  \n",
      "600  0c424525f56f17014875dedc4fd0a7d6499ceb85 -91.0     0  18988  \n",
      "601  c6ee11e271e4a8c37fcbe162d443add390501e17 -91.0     0  20578  \n",
      "602  bfc8fcbb3540dbec2a30b73206ab9eb9b233bd75 -93.0     0   3707  \n",
      "\n",
      "[64 rows x 6 columns]\n",
      "________________________________________\n",
      "      time                                      ssid  \\\n",
      "603  22863  3f2c15f34befeab48e04a706071dd12f20bcbf75   \n",
      "604  22863  7123b8a309997c3fc78a7897089a478e1efc33c7   \n",
      "605  22863  d17bb082e04f08a5f47e5f92f26b8d0ba2b800de   \n",
      "606  22863  da39a3ee5e6b4b0d3255bfef95601890afd80709   \n",
      "607  22863  da39a3ee5e6b4b0d3255bfef95601890afd80709   \n",
      "..     ...                                       ...   \n",
      "664  22863  5ec944cb0e043327906acce8d1b61f6e32d8db1c   \n",
      "665  22863  da39a3ee5e6b4b0d3255bfef95601890afd80709   \n",
      "666  22863  da39a3ee5e6b4b0d3255bfef95601890afd80709   \n",
      "667  22863  4c08229a506af77c768d6639b28c093daa7524d7   \n",
      "668  22863  6b0cae39648d52203ca39b7deee80bb39dd7a69b   \n",
      "\n",
      "                                        bssid  rssi  is5G  delay  \n",
      "603  83cb96ce13be23a36a67008c2c01007cc69e3f15 -63.0     0   1194  \n",
      "604  b2d25f9600fd0808148824e1fe60943187be302f -65.0     0   1575  \n",
      "605  0ef970150b669951b4ee467234ef16bc8fe84ad9 -71.0     0   1819  \n",
      "606  2152a505d9ec2789786d8facd9a83ed23ca11760 -74.0     0  15004  \n",
      "607  927bbaabb59044005dade9de79a24354a228cc57 -75.0     0  15005  \n",
      "..                                        ...   ...   ...    ...  \n",
      "664  dcc4874b820f8962e6732fb52f30afdb7a6a178f -90.0     1    576  \n",
      "665  b6d47755a83dc069a5933de78765cf9517dd00c7 -90.0     1    575  \n",
      "666  259b4c4b0ae21662f149a90333b5d415bdb2bdbc -90.0     1    575  \n",
      "667  c6ee11e271e4a8c37fcbe162d443add390501e17 -91.0     0  22463  \n",
      "668  bfc8fcbb3540dbec2a30b73206ab9eb9b233bd75 -93.0     0   5592  \n",
      "\n",
      "[66 rows x 6 columns]\n",
      "________________________________________\n",
      "      time                                      ssid  \\\n",
      "669  24768  7123b8a309997c3fc78a7897089a478e1efc33c7   \n",
      "670  24768  b1d1fcff9e11e902572c14f4cb35457afd025596   \n",
      "671  24768  3f2c15f34befeab48e04a706071dd12f20bcbf75   \n",
      "672  24768  d17bb082e04f08a5f47e5f92f26b8d0ba2b800de   \n",
      "673  24768  da39a3ee5e6b4b0d3255bfef95601890afd80709   \n",
      "..     ...                                       ...   \n",
      "734  24768  5ec944cb0e043327906acce8d1b61f6e32d8db1c   \n",
      "735  24768  da39a3ee5e6b4b0d3255bfef95601890afd80709   \n",
      "736  24768  da39a3ee5e6b4b0d3255bfef95601890afd80709   \n",
      "737  24768  4c08229a506af77c768d6639b28c093daa7524d7   \n",
      "738  24768  6b0cae39648d52203ca39b7deee80bb39dd7a69b   \n",
      "\n",
      "                                        bssid  rssi  is5G  delay  \n",
      "669  b2d25f9600fd0808148824e1fe60943187be302f -62.0     0   1573  \n",
      "670  7de9bbe1abbde379d2803c4503bf0b36403ed20a -69.0     1    783  \n",
      "671  83cb96ce13be23a36a67008c2c01007cc69e3f15 -71.0     0   1208  \n",
      "672  0ef970150b669951b4ee467234ef16bc8fe84ad9 -74.0     0   1828  \n",
      "673  2152a505d9ec2789786d8facd9a83ed23ca11760 -74.0     0  16909  \n",
      "..                                        ...   ...   ...    ...  \n",
      "734  dcc4874b820f8962e6732fb52f30afdb7a6a178f -90.0     1   2481  \n",
      "735  b6d47755a83dc069a5933de78765cf9517dd00c7 -90.0     1   2480  \n",
      "736  259b4c4b0ae21662f149a90333b5d415bdb2bdbc -90.0     1   2480  \n",
      "737  c6ee11e271e4a8c37fcbe162d443add390501e17 -91.0     0  24368  \n",
      "738  bfc8fcbb3540dbec2a30b73206ab9eb9b233bd75 -93.0     0   7497  \n",
      "\n",
      "[70 rows x 6 columns]\n",
      "________________________________________\n",
      "      time                                      ssid  \\\n",
      "739  26658  3f2c15f34befeab48e04a706071dd12f20bcbf75   \n",
      "740  26658  7123b8a309997c3fc78a7897089a478e1efc33c7   \n",
      "741  26658  b1d1fcff9e11e902572c14f4cb35457afd025596   \n",
      "742  26658  d17bb082e04f08a5f47e5f92f26b8d0ba2b800de   \n",
      "743  26658  d17bb082e04f08a5f47e5f92f26b8d0ba2b800de   \n",
      "..     ...                                       ...   \n",
      "816  26658  da39a3ee5e6b4b0d3255bfef95601890afd80709   \n",
      "817  26658  4c08229a506af77c768d6639b28c093daa7524d7   \n",
      "818  26658  f2e42bb2f45080947624c1e91b40d24f876efffb   \n",
      "819  26658  6b0cae39648d52203ca39b7deee80bb39dd7a69b   \n",
      "820  26658  8afcbe97160df73c66ff09f4b682b94318632626   \n",
      "\n",
      "                                        bssid  rssi  is5G  delay  \n",
      "739  83cb96ce13be23a36a67008c2c01007cc69e3f15 -65.0     0   1204  \n",
      "740  b2d25f9600fd0808148824e1fe60943187be302f -66.0     0   1557  \n",
      "741  7de9bbe1abbde379d2803c4503bf0b36403ed20a -71.0     1    768  \n",
      "742  bc19a412694ec305f271721b3dacb4884bb2fda6 -71.0     1    768  \n",
      "743  0ef970150b669951b4ee467234ef16bc8fe84ad9 -73.0     0   1824  \n",
      "..                                        ...   ...   ...    ...  \n",
      "816  259b4c4b0ae21662f149a90333b5d415bdb2bdbc -90.0     1   4370  \n",
      "817  c6ee11e271e4a8c37fcbe162d443add390501e17 -91.0     0  26258  \n",
      "818  b7b19afd0bafbd862815731a03ecf6b71f015a14 -91.0     0   1542  \n",
      "819  bfc8fcbb3540dbec2a30b73206ab9eb9b233bd75 -93.0     0   9387  \n",
      "820  8f500530906314632dd008f1f34e7d558afe40b4 -93.0     0   1531  \n",
      "\n",
      "[82 rows x 6 columns]\n",
      "________________________________________\n",
      "      time                                      ssid  \\\n",
      "821  28576  b1d1fcff9e11e902572c14f4cb35457afd025596   \n",
      "822  28576  3f2c15f34befeab48e04a706071dd12f20bcbf75   \n",
      "823  28576  7123b8a309997c3fc78a7897089a478e1efc33c7   \n",
      "824  28576  d17bb082e04f08a5f47e5f92f26b8d0ba2b800de   \n",
      "825  28576  da39a3ee5e6b4b0d3255bfef95601890afd80709   \n",
      "..     ...                                       ...   \n",
      "911  28576  f2e42bb2f45080947624c1e91b40d24f876efffb   \n",
      "912  28576  e806a892d09f78ccac6191a0a532c63fcd0fbc79   \n",
      "913  28576  9149875ce3edaf468ef3564e295d7f684ad96e4b   \n",
      "914  28576  6b0cae39648d52203ca39b7deee80bb39dd7a69b   \n",
      "915  28576  8afcbe97160df73c66ff09f4b682b94318632626   \n",
      "\n",
      "                                        bssid  rssi  is5G  delay  \n",
      "821  7de9bbe1abbde379d2803c4503bf0b36403ed20a -64.0     1    777  \n",
      "822  83cb96ce13be23a36a67008c2c01007cc69e3f15 -65.0     0   1224  \n",
      "823  b2d25f9600fd0808148824e1fe60943187be302f -66.0     0   3475  \n",
      "824  0ef970150b669951b4ee467234ef16bc8fe84ad9 -73.0     0   1845  \n",
      "825  2152a505d9ec2789786d8facd9a83ed23ca11760 -74.0     0  20717  \n",
      "..                                        ...   ...   ...    ...  \n",
      "911  b7b19afd0bafbd862815731a03ecf6b71f015a14 -91.0     0   3460  \n",
      "912  e66ab6be64ab3d6e1be35311c56a63a87ecde79c -91.0     0   1557  \n",
      "913  b442b30ff9b285e3ed142e82dbcacf589822d7d9 -92.0     0   1458  \n",
      "914  bfc8fcbb3540dbec2a30b73206ab9eb9b233bd75 -93.0     0  11305  \n",
      "915  8f500530906314632dd008f1f34e7d558afe40b4 -93.0     0   3449  \n",
      "\n",
      "[95 rows x 6 columns]\n",
      "________________________________________\n",
      "       time                                      ssid  \\\n",
      "916   30529  7123b8a309997c3fc78a7897089a478e1efc33c7   \n",
      "917   30529  da39a3ee5e6b4b0d3255bfef95601890afd80709   \n",
      "918   30529  da39a3ee5e6b4b0d3255bfef95601890afd80709   \n",
      "919   30529  da39a3ee5e6b4b0d3255bfef95601890afd80709   \n",
      "920   30529  3f2c15f34befeab48e04a706071dd12f20bcbf75   \n",
      "...     ...                                       ...   \n",
      "1005  30529  5ec944cb0e043327906acce8d1b61f6e32d8db1c   \n",
      "1006  30529  f2e42bb2f45080947624c1e91b40d24f876efffb   \n",
      "1007  30529  e806a892d09f78ccac6191a0a532c63fcd0fbc79   \n",
      "1008  30529  9149875ce3edaf468ef3564e295d7f684ad96e4b   \n",
      "1009  30529  8afcbe97160df73c66ff09f4b682b94318632626   \n",
      "\n",
      "                                         bssid  rssi  is5G  delay  \n",
      "916   b2d25f9600fd0808148824e1fe60943187be302f -70.0     0   1615  \n",
      "917   2152a505d9ec2789786d8facd9a83ed23ca11760 -74.0     0  22670  \n",
      "918   1bd7a48558873cb4db54482477d9c602b179c651 -74.0     0   1908  \n",
      "919   927bbaabb59044005dade9de79a24354a228cc57 -75.0     0  22671  \n",
      "920   83cb96ce13be23a36a67008c2c01007cc69e3f15 -76.0     0   1232  \n",
      "...                                        ...   ...   ...    ...  \n",
      "1005  5f261c3ebe3f8b26512189f20ec90f7b78e677b5 -90.0     1   3020  \n",
      "1006  b7b19afd0bafbd862815731a03ecf6b71f015a14 -91.0     0   5413  \n",
      "1007  e66ab6be64ab3d6e1be35311c56a63a87ecde79c -91.0     0   3510  \n",
      "1008  b442b30ff9b285e3ed142e82dbcacf589822d7d9 -92.0     0   3411  \n",
      "1009  8f500530906314632dd008f1f34e7d558afe40b4 -93.0     0   5402  \n",
      "\n",
      "[94 rows x 6 columns]\n",
      "________________________________________\n",
      "       time                                      ssid  \\\n",
      "1010  32441  7123b8a309997c3fc78a7897089a478e1efc33c7   \n",
      "1011  32441  da39a3ee5e6b4b0d3255bfef95601890afd80709   \n",
      "1012  32441  da39a3ee5e6b4b0d3255bfef95601890afd80709   \n",
      "1013  32441  da39a3ee5e6b4b0d3255bfef95601890afd80709   \n",
      "1014  32441  372308ce2a04b1ca088d269fec6966c697b02619   \n",
      "...     ...                                       ...   \n",
      "1103  32441  0fa36db77af713808449ff54868815dc26f88e45   \n",
      "1104  32441  f2e42bb2f45080947624c1e91b40d24f876efffb   \n",
      "1105  32441  e806a892d09f78ccac6191a0a532c63fcd0fbc79   \n",
      "1106  32441  9149875ce3edaf468ef3564e295d7f684ad96e4b   \n",
      "1107  32441  8afcbe97160df73c66ff09f4b682b94318632626   \n",
      "\n",
      "                                         bssid  rssi  is5G  delay  \n",
      "1010  b2d25f9600fd0808148824e1fe60943187be302f -70.0     0   3527  \n",
      "1011  2152a505d9ec2789786d8facd9a83ed23ca11760 -74.0     0  24582  \n",
      "1012  1bd7a48558873cb4db54482477d9c602b179c651 -74.0     0   3820  \n",
      "1013  927bbaabb59044005dade9de79a24354a228cc57 -75.0     0  24583  \n",
      "1014  e4ef2fa211079ed4b3902c70f84c6d93cc192b30 -77.0     0  12986  \n",
      "...                                        ...   ...   ...    ...  \n",
      "1103  fef4d47cc0513cf42286a5a4ab947cb8cfc0e5e2 -91.0     0   1868  \n",
      "1104  b7b19afd0bafbd862815731a03ecf6b71f015a14 -91.0     0   7325  \n",
      "1105  e66ab6be64ab3d6e1be35311c56a63a87ecde79c -91.0     0   5422  \n",
      "1106  b442b30ff9b285e3ed142e82dbcacf589822d7d9 -92.0     0   5323  \n",
      "1107  8f500530906314632dd008f1f34e7d558afe40b4 -93.0     0   7314  \n",
      "\n",
      "[98 rows x 6 columns]\n",
      "________________________________________\n",
      "       time                                      ssid  \\\n",
      "1108  34444  7123b8a309997c3fc78a7897089a478e1efc33c7   \n",
      "1109  34444  da39a3ee5e6b4b0d3255bfef95601890afd80709   \n",
      "1110  34444  da39a3ee5e6b4b0d3255bfef95601890afd80709   \n",
      "1111  34444  372308ce2a04b1ca088d269fec6966c697b02619   \n",
      "1112  34444  3f2c15f34befeab48e04a706071dd12f20bcbf75   \n",
      "...     ...                                       ...   \n",
      "1196  34444  f2e42bb2f45080947624c1e91b40d24f876efffb   \n",
      "1197  34444  e806a892d09f78ccac6191a0a532c63fcd0fbc79   \n",
      "1198  34444  0b72e3ecd8f9071d311fd78bc78b4696fbbd35e5   \n",
      "1199  34444  9149875ce3edaf468ef3564e295d7f684ad96e4b   \n",
      "1200  34444  8afcbe97160df73c66ff09f4b682b94318632626   \n",
      "\n",
      "                                         bssid  rssi  is5G  delay  \n",
      "1108  b2d25f9600fd0808148824e1fe60943187be302f -70.0     0   5529  \n",
      "1109  2152a505d9ec2789786d8facd9a83ed23ca11760 -74.0     0  26585  \n",
      "1110  927bbaabb59044005dade9de79a24354a228cc57 -75.0     0  26586  \n",
      "1111  e4ef2fa211079ed4b3902c70f84c6d93cc192b30 -77.0     0  14989  \n",
      "1112  83cb96ce13be23a36a67008c2c01007cc69e3f15 -78.0     0   1311  \n",
      "...                                        ...   ...   ...    ...  \n",
      "1196  b7b19afd0bafbd862815731a03ecf6b71f015a14 -91.0     0   9328  \n",
      "1197  e66ab6be64ab3d6e1be35311c56a63a87ecde79c -91.0     0   7425  \n",
      "1198  e2dbdaad6a215ca96790c141137f27e9f3f70241 -92.0     0   1356  \n",
      "1199  b442b30ff9b285e3ed142e82dbcacf589822d7d9 -92.0     0   7326  \n",
      "1200  8f500530906314632dd008f1f34e7d558afe40b4 -93.0     0   9317  \n",
      "\n",
      "[93 rows x 6 columns]\n",
      "________________________________________\n",
      "       time                                      ssid  \\\n",
      "1201  36351  da39a3ee5e6b4b0d3255bfef95601890afd80709   \n",
      "1202  36351  da39a3ee5e6b4b0d3255bfef95601890afd80709   \n",
      "1203  36351  372308ce2a04b1ca088d269fec6966c697b02619   \n",
      "1204  36351  3f2c15f34befeab48e04a706071dd12f20bcbf75   \n",
      "1205  36351  5ffa847468dad3532105c43548066cd4ef24baa6   \n",
      "...     ...                                       ...   \n",
      "1289  36351  f2e42bb2f45080947624c1e91b40d24f876efffb   \n",
      "1290  36351  e806a892d09f78ccac6191a0a532c63fcd0fbc79   \n",
      "1291  36351  0b72e3ecd8f9071d311fd78bc78b4696fbbd35e5   \n",
      "1292  36351  9149875ce3edaf468ef3564e295d7f684ad96e4b   \n",
      "1293  36351  8afcbe97160df73c66ff09f4b682b94318632626   \n",
      "\n",
      "                                         bssid  rssi  is5G  delay  \n",
      "1201  2152a505d9ec2789786d8facd9a83ed23ca11760 -74.0     0  28492  \n",
      "1202  927bbaabb59044005dade9de79a24354a228cc57 -75.0     0  28493  \n",
      "1203  e4ef2fa211079ed4b3902c70f84c6d93cc192b30 -77.0     0  16896  \n",
      "1204  83cb96ce13be23a36a67008c2c01007cc69e3f15 -78.0     0   3218  \n",
      "1205  f7830078c6eb39e73bac058eefc0986448dd68a0 -79.0     0   5614  \n",
      "...                                        ...   ...   ...    ...  \n",
      "1289  b7b19afd0bafbd862815731a03ecf6b71f015a14 -91.0     0  11235  \n",
      "1290  e66ab6be64ab3d6e1be35311c56a63a87ecde79c -91.0     0   9332  \n",
      "1291  e2dbdaad6a215ca96790c141137f27e9f3f70241 -92.0     0   3263  \n",
      "1292  b442b30ff9b285e3ed142e82dbcacf589822d7d9 -92.0     0   9233  \n",
      "1293  8f500530906314632dd008f1f34e7d558afe40b4 -93.0     0  11224  \n",
      "\n",
      "[93 rows x 6 columns]\n",
      "________________________________________\n",
      "       time                                      ssid  \\\n",
      "1294  38331  372308ce2a04b1ca088d269fec6966c697b02619   \n",
      "1295  38331  3f2c15f34befeab48e04a706071dd12f20bcbf75   \n",
      "1296  38331  5ffa847468dad3532105c43548066cd4ef24baa6   \n",
      "1297  38331  0b72e3ecd8f9071d311fd78bc78b4696fbbd35e5   \n",
      "1298  38331  da39a3ee5e6b4b0d3255bfef95601890afd80709   \n",
      "...     ...                                       ...   \n",
      "1386  38331  f2e42bb2f45080947624c1e91b40d24f876efffb   \n",
      "1387  38331  e806a892d09f78ccac6191a0a532c63fcd0fbc79   \n",
      "1388  38331  0b72e3ecd8f9071d311fd78bc78b4696fbbd35e5   \n",
      "1389  38331  9149875ce3edaf468ef3564e295d7f684ad96e4b   \n",
      "1390  38331  8afcbe97160df73c66ff09f4b682b94318632626   \n",
      "\n",
      "                                         bssid  rssi  is5G  delay  \n",
      "1294  e4ef2fa211079ed4b3902c70f84c6d93cc192b30 -77.0     0  18876  \n",
      "1295  83cb96ce13be23a36a67008c2c01007cc69e3f15 -78.0     0   5198  \n",
      "1296  f7830078c6eb39e73bac058eefc0986448dd68a0 -79.0     0   7594  \n",
      "1297  a23c41782a597c0df798ea73397722597d6aeb42 -80.0     0  24640  \n",
      "1298  1bd7a48558873cb4db54482477d9c602b179c651 -80.0     0   5819  \n",
      "...                                        ...   ...   ...    ...  \n",
      "1386  b7b19afd0bafbd862815731a03ecf6b71f015a14 -91.0     0  13215  \n",
      "1387  e66ab6be64ab3d6e1be35311c56a63a87ecde79c -91.0     0  11312  \n",
      "1388  e2dbdaad6a215ca96790c141137f27e9f3f70241 -92.0     0   5243  \n",
      "1389  b442b30ff9b285e3ed142e82dbcacf589822d7d9 -92.0     0  11213  \n",
      "1390  8f500530906314632dd008f1f34e7d558afe40b4 -93.0     0  13204  \n",
      "\n",
      "[97 rows x 6 columns]\n",
      "________________________________________\n",
      "       time                                      ssid  \\\n",
      "1391  40282  372308ce2a04b1ca088d269fec6966c697b02619   \n",
      "1392  40282  3f2c15f34befeab48e04a706071dd12f20bcbf75   \n",
      "1393  40282  5ffa847468dad3532105c43548066cd4ef24baa6   \n",
      "1394  40282  0b72e3ecd8f9071d311fd78bc78b4696fbbd35e5   \n",
      "1395  40282  da39a3ee5e6b4b0d3255bfef95601890afd80709   \n",
      "...     ...                                       ...   \n",
      "1494  40282  0b72e3ecd8f9071d311fd78bc78b4696fbbd35e5   \n",
      "1495  40282  9149875ce3edaf468ef3564e295d7f684ad96e4b   \n",
      "1496  40282  0b72e3ecd8f9071d311fd78bc78b4696fbbd35e5   \n",
      "1497  40282  8afcbe97160df73c66ff09f4b682b94318632626   \n",
      "1498  40282  5ec944cb0e043327906acce8d1b61f6e32d8db1c   \n",
      "\n",
      "                                         bssid  rssi  is5G  delay  \n",
      "1391  e4ef2fa211079ed4b3902c70f84c6d93cc192b30 -77.0     0  20827  \n",
      "1392  83cb96ce13be23a36a67008c2c01007cc69e3f15 -78.0     0   7149  \n",
      "1393  f7830078c6eb39e73bac058eefc0986448dd68a0 -79.0     0   9545  \n",
      "1394  a23c41782a597c0df798ea73397722597d6aeb42 -80.0     0  26591  \n",
      "1395  1bd7a48558873cb4db54482477d9c602b179c651 -80.0     0   7770  \n",
      "...                                        ...   ...   ...    ...  \n",
      "1494  e2dbdaad6a215ca96790c141137f27e9f3f70241 -92.0     0   7194  \n",
      "1495  b442b30ff9b285e3ed142e82dbcacf589822d7d9 -92.0     0  13164  \n",
      "1496  9cd70857e322216fa170ac01ef84aa08d541fb65 -92.0     0   1264  \n",
      "1497  8f500530906314632dd008f1f34e7d558afe40b4 -93.0     0  15155  \n",
      "1498  4236e7874111327a60a6c411715509739698e3d4 -93.0     0   1262  \n",
      "\n",
      "[108 rows x 6 columns]\n",
      "________________________________________\n",
      "       time                                      ssid  \\\n",
      "1499  42207  0fa36db77af713808449ff54868815dc26f88e45   \n",
      "1500  42207  5ec944cb0e043327906acce8d1b61f6e32d8db1c   \n",
      "1501  42207  0b72e3ecd8f9071d311fd78bc78b4696fbbd35e5   \n",
      "1502  42207  da39a3ee5e6b4b0d3255bfef95601890afd80709   \n",
      "1503  42207  5ec944cb0e043327906acce8d1b61f6e32d8db1c   \n",
      "...     ...                                       ...   \n",
      "1607  42207  f2e42bb2f45080947624c1e91b40d24f876efffb   \n",
      "1608  42207  e806a892d09f78ccac6191a0a532c63fcd0fbc79   \n",
      "1609  42207  0b72e3ecd8f9071d311fd78bc78b4696fbbd35e5   \n",
      "1610  42207  9149875ce3edaf468ef3564e295d7f684ad96e4b   \n",
      "1611  42207  8afcbe97160df73c66ff09f4b682b94318632626   \n",
      "\n",
      "                                         bssid  rssi  is5G  delay  \n",
      "1499  cd208fff540c3c67e294ff07674b51ba3e85b348 -67.0     0   1597  \n",
      "1500  26ab6f4da9838dca18d8a1601d3cf2addbe88836 -67.0     0   1596  \n",
      "1501  2ad264a7aad3be1ffc4be0d1b0aff65c99084fc9 -68.0     0   1599  \n",
      "1502  3e69de2275db715638429b5cca11ba87fc7f237c -70.0     0   1239  \n",
      "1503  4236e7874111327a60a6c411715509739698e3d4 -71.0     0   1224  \n",
      "...                                        ...   ...   ...    ...  \n",
      "1607  b7b19afd0bafbd862815731a03ecf6b71f015a14 -91.0     0  17091  \n",
      "1608  e66ab6be64ab3d6e1be35311c56a63a87ecde79c -91.0     0  15188  \n",
      "1609  e2dbdaad6a215ca96790c141137f27e9f3f70241 -92.0     0   9119  \n",
      "1610  b442b30ff9b285e3ed142e82dbcacf589822d7d9 -92.0     0  15089  \n",
      "1611  8f500530906314632dd008f1f34e7d558afe40b4 -93.0     0  17080  \n",
      "\n",
      "[113 rows x 6 columns]\n",
      "________________________________________\n",
      "       time                                      ssid  \\\n",
      "1612  44121  0fa36db77af713808449ff54868815dc26f88e45   \n",
      "1613  44121  0b72e3ecd8f9071d311fd78bc78b4696fbbd35e5   \n",
      "1614  44121  5ec944cb0e043327906acce8d1b61f6e32d8db1c   \n",
      "1615  44121  da39a3ee5e6b4b0d3255bfef95601890afd80709   \n",
      "1616  44121  da39a3ee5e6b4b0d3255bfef95601890afd80709   \n",
      "...     ...                                       ...   \n",
      "1715  44121  f2e42bb2f45080947624c1e91b40d24f876efffb   \n",
      "1716  44121  e806a892d09f78ccac6191a0a532c63fcd0fbc79   \n",
      "1717  44121  0b72e3ecd8f9071d311fd78bc78b4696fbbd35e5   \n",
      "1718  44121  9149875ce3edaf468ef3564e295d7f684ad96e4b   \n",
      "1719  44121  8afcbe97160df73c66ff09f4b682b94318632626   \n",
      "\n",
      "                                         bssid  rssi  is5G  delay  \n",
      "1612  cd208fff540c3c67e294ff07674b51ba3e85b348 -56.0     0   1599  \n",
      "1613  2ad264a7aad3be1ffc4be0d1b0aff65c99084fc9 -57.0     0   1600  \n",
      "1614  26ab6f4da9838dca18d8a1601d3cf2addbe88836 -57.0     0   1598  \n",
      "1615  687de2c0828e73bab3a04da6a5259348062e2530 -57.0     0   1605  \n",
      "1616  d7833d65a36aefe47110c63aa468daa076936d1f -57.0     0   1603  \n",
      "...                                        ...   ...   ...    ...  \n",
      "1715  b7b19afd0bafbd862815731a03ecf6b71f015a14 -91.0     0  19005  \n",
      "1716  e66ab6be64ab3d6e1be35311c56a63a87ecde79c -91.0     0  17102  \n",
      "1717  e2dbdaad6a215ca96790c141137f27e9f3f70241 -92.0     0  11033  \n",
      "1718  b442b30ff9b285e3ed142e82dbcacf589822d7d9 -92.0     0  17003  \n",
      "1719  8f500530906314632dd008f1f34e7d558afe40b4 -93.0     0  18994  \n",
      "\n",
      "[108 rows x 6 columns]\n",
      "________________________________________\n",
      "       time                                      ssid  \\\n",
      "1720  46029  da39a3ee5e6b4b0d3255bfef95601890afd80709   \n",
      "1721  46029  da39a3ee5e6b4b0d3255bfef95601890afd80709   \n",
      "1722  46029  0b72e3ecd8f9071d311fd78bc78b4696fbbd35e5   \n",
      "1723  46029  0fa36db77af713808449ff54868815dc26f88e45   \n",
      "1724  46029  5ec944cb0e043327906acce8d1b61f6e32d8db1c   \n",
      "...     ...                                       ...   \n",
      "1822  46029  f2e42bb2f45080947624c1e91b40d24f876efffb   \n",
      "1823  46029  e806a892d09f78ccac6191a0a532c63fcd0fbc79   \n",
      "1824  46029  0b72e3ecd8f9071d311fd78bc78b4696fbbd35e5   \n",
      "1825  46029  9149875ce3edaf468ef3564e295d7f684ad96e4b   \n",
      "1826  46029  8afcbe97160df73c66ff09f4b682b94318632626   \n",
      "\n",
      "                                         bssid  rssi  is5G  delay  \n",
      "1720  687de2c0828e73bab3a04da6a5259348062e2530 -57.0     0   3513  \n",
      "1721  d7833d65a36aefe47110c63aa468daa076936d1f -57.0     0   3511  \n",
      "1722  2ad264a7aad3be1ffc4be0d1b0aff65c99084fc9 -62.0     0   1570  \n",
      "1723  cd208fff540c3c67e294ff07674b51ba3e85b348 -62.0     0   1568  \n",
      "1724  26ab6f4da9838dca18d8a1601d3cf2addbe88836 -62.0     0   1566  \n",
      "...                                        ...   ...   ...    ...  \n",
      "1822  b7b19afd0bafbd862815731a03ecf6b71f015a14 -91.0     0  20913  \n",
      "1823  e66ab6be64ab3d6e1be35311c56a63a87ecde79c -91.0     0  19010  \n",
      "1824  e2dbdaad6a215ca96790c141137f27e9f3f70241 -92.0     0  12941  \n",
      "1825  b442b30ff9b285e3ed142e82dbcacf589822d7d9 -92.0     0  18911  \n",
      "1826  8f500530906314632dd008f1f34e7d558afe40b4 -93.0     0  20902  \n",
      "\n",
      "[107 rows x 6 columns]\n",
      "________________________________________\n",
      "       time                                      ssid  \\\n",
      "1827  47930  da39a3ee5e6b4b0d3255bfef95601890afd80709   \n",
      "1828  47930  da39a3ee5e6b4b0d3255bfef95601890afd80709   \n",
      "1829  47930  0fa36db77af713808449ff54868815dc26f88e45   \n",
      "1830  47930  5ec944cb0e043327906acce8d1b61f6e32d8db1c   \n",
      "1831  47930  0b72e3ecd8f9071d311fd78bc78b4696fbbd35e5   \n",
      "...     ...                                       ...   \n",
      "1928  47930  f2e42bb2f45080947624c1e91b40d24f876efffb   \n",
      "1929  47930  e806a892d09f78ccac6191a0a532c63fcd0fbc79   \n",
      "1930  47930  0b72e3ecd8f9071d311fd78bc78b4696fbbd35e5   \n",
      "1931  47930  9149875ce3edaf468ef3564e295d7f684ad96e4b   \n",
      "1932  47930  8afcbe97160df73c66ff09f4b682b94318632626   \n",
      "\n",
      "                                         bssid  rssi  is5G  delay  \n",
      "1827  687de2c0828e73bab3a04da6a5259348062e2530 -57.0     0   5414  \n",
      "1828  d7833d65a36aefe47110c63aa468daa076936d1f -57.0     0   5412  \n",
      "1829  cd208fff540c3c67e294ff07674b51ba3e85b348 -65.0     0   1571  \n",
      "1830  26ab6f4da9838dca18d8a1601d3cf2addbe88836 -66.0     0   1570  \n",
      "1831  280a82fb71b2380266819dda689fc7c9ccdd6e5a -66.0     0   1820  \n",
      "...                                        ...   ...   ...    ...  \n",
      "1928  b7b19afd0bafbd862815731a03ecf6b71f015a14 -91.0     0  22814  \n",
      "1929  e66ab6be64ab3d6e1be35311c56a63a87ecde79c -91.0     0  20911  \n",
      "1930  e2dbdaad6a215ca96790c141137f27e9f3f70241 -92.0     0  14842  \n",
      "1931  b442b30ff9b285e3ed142e82dbcacf589822d7d9 -92.0     0  20812  \n",
      "1932  8f500530906314632dd008f1f34e7d558afe40b4 -93.0     0  22803  \n",
      "\n",
      "[106 rows x 6 columns]\n",
      "________________________________________\n",
      "       time                                      ssid  \\\n",
      "1933  49839  0b72e3ecd8f9071d311fd78bc78b4696fbbd35e5   \n",
      "1934  49839  0fa36db77af713808449ff54868815dc26f88e45   \n",
      "1935  49839  5ec944cb0e043327906acce8d1b61f6e32d8db1c   \n",
      "1936  49839  da39a3ee5e6b4b0d3255bfef95601890afd80709   \n",
      "1937  49839  da39a3ee5e6b4b0d3255bfef95601890afd80709   \n",
      "...     ...                                       ...   \n",
      "2033  49839  f2e42bb2f45080947624c1e91b40d24f876efffb   \n",
      "2034  49839  e806a892d09f78ccac6191a0a532c63fcd0fbc79   \n",
      "2035  49839  0b72e3ecd8f9071d311fd78bc78b4696fbbd35e5   \n",
      "2036  49839  9149875ce3edaf468ef3564e295d7f684ad96e4b   \n",
      "2037  49839  8afcbe97160df73c66ff09f4b682b94318632626   \n",
      "\n",
      "                                         bssid  rssi  is5G  delay  \n",
      "1933  2ad264a7aad3be1ffc4be0d1b0aff65c99084fc9 -66.0     0   1581  \n",
      "1934  cd208fff540c3c67e294ff07674b51ba3e85b348 -67.0     0   1581  \n",
      "1935  26ab6f4da9838dca18d8a1601d3cf2addbe88836 -67.0     0   1581  \n",
      "1936  d7833d65a36aefe47110c63aa468daa076936d1f -67.0     0   1581  \n",
      "1937  687de2c0828e73bab3a04da6a5259348062e2530 -68.0     0   1581  \n",
      "...                                        ...   ...   ...    ...  \n",
      "2033  b7b19afd0bafbd862815731a03ecf6b71f015a14 -91.0     0  24723  \n",
      "2034  e66ab6be64ab3d6e1be35311c56a63a87ecde79c -91.0     0  22820  \n",
      "2035  e2dbdaad6a215ca96790c141137f27e9f3f70241 -92.0     0  16751  \n",
      "2036  b442b30ff9b285e3ed142e82dbcacf589822d7d9 -92.0     0  22721  \n",
      "2037  8f500530906314632dd008f1f34e7d558afe40b4 -93.0     0  24712  \n",
      "\n",
      "[105 rows x 6 columns]\n",
      "________________________________________\n",
      "       time                                      ssid  \\\n",
      "2038  51763  da39a3ee5e6b4b0d3255bfef95601890afd80709   \n",
      "2039  51763  da39a3ee5e6b4b0d3255bfef95601890afd80709   \n",
      "2040  51763  5ec944cb0e043327906acce8d1b61f6e32d8db1c   \n",
      "2041  51763  da39a3ee5e6b4b0d3255bfef95601890afd80709   \n",
      "2042  51763  da39a3ee5e6b4b0d3255bfef95601890afd80709   \n",
      "...     ...                                       ...   \n",
      "2136  51763  0b72e3ecd8f9071d311fd78bc78b4696fbbd35e5   \n",
      "2137  51763  9149875ce3edaf468ef3564e295d7f684ad96e4b   \n",
      "2138  51763  da39a3ee5e6b4b0d3255bfef95601890afd80709   \n",
      "2139  51763  8afcbe97160df73c66ff09f4b682b94318632626   \n",
      "2140  51763  e806a892d09f78ccac6191a0a532c63fcd0fbc79   \n",
      "\n",
      "                                         bssid  rssi  is5G  delay  \n",
      "2038  d7833d65a36aefe47110c63aa468daa076936d1f -67.0     0   3504  \n",
      "2039  687de2c0828e73bab3a04da6a5259348062e2530 -68.0     0   3505  \n",
      "2040  5c1c8c54fef7132915a56f9373d39f206da4d32e -68.0     0   3753  \n",
      "2041  2038007e7d49f9d69c2d8a8aa8110acecedfe5ba -69.0     0   3755  \n",
      "2042  0b1de3122c8e0609f811432531711541c21dffde -69.0     0   3754  \n",
      "...                                        ...   ...   ...    ...  \n",
      "2136  e2dbdaad6a215ca96790c141137f27e9f3f70241 -92.0     0  18675  \n",
      "2137  b442b30ff9b285e3ed142e82dbcacf589822d7d9 -92.0     0  24645  \n",
      "2138  a1f67a7bd87430717bce33954057e14530634a2c -92.0     0   1872  \n",
      "2139  8f500530906314632dd008f1f34e7d558afe40b4 -93.0     0  26636  \n",
      "2140  e66ab6be64ab3d6e1be35311c56a63a87ecde79c -93.0     0   1512  \n",
      "\n",
      "[103 rows x 6 columns]\n",
      "________________________________________\n",
      "       time                                      ssid  \\\n",
      "2141  53680  0b72e3ecd8f9071d311fd78bc78b4696fbbd35e5   \n",
      "2142  53680  0fa36db77af713808449ff54868815dc26f88e45   \n",
      "2143  53680  5ec944cb0e043327906acce8d1b61f6e32d8db1c   \n",
      "2144  53680  da39a3ee5e6b4b0d3255bfef95601890afd80709   \n",
      "2145  53680  da39a3ee5e6b4b0d3255bfef95601890afd80709   \n",
      "...     ...                                       ...   \n",
      "2236  53680  9149875ce3edaf468ef3564e295d7f684ad96e4b   \n",
      "2237  53680  da39a3ee5e6b4b0d3255bfef95601890afd80709   \n",
      "2238  53680  2715c3e174a8563902c0f1501b254228d09f79c7   \n",
      "2239  53680  8afcbe97160df73c66ff09f4b682b94318632626   \n",
      "2240  53680  e806a892d09f78ccac6191a0a532c63fcd0fbc79   \n",
      "\n",
      "                                         bssid  rssi  is5G  delay  \n",
      "2141  350e08e0aadb6b6498880c57e498ec35447a0617 -55.0     1    792  \n",
      "2142  356cffce5ee8f602adc21ab40c1f8bfd17adb46e -55.0     1    792  \n",
      "2143  db0aaffa6649b1fef291940784b93a85f07a5961 -55.0     1    792  \n",
      "2144  79e27633905b9a5517734793147199d175147bf9 -56.0     1    816  \n",
      "2145  ba236f71592605cc4a13d41aa110252f44517de9 -56.0     1    816  \n",
      "...                                        ...   ...   ...    ...  \n",
      "2236  b442b30ff9b285e3ed142e82dbcacf589822d7d9 -92.0     0  26562  \n",
      "2237  a1f67a7bd87430717bce33954057e14530634a2c -92.0     0   3789  \n",
      "2238  75f6bd54a7d1006203c46daec2e662f400cd58c8 -92.0     0   1822  \n",
      "2239  8f500530906314632dd008f1f34e7d558afe40b4 -93.0     0  28553  \n",
      "2240  e66ab6be64ab3d6e1be35311c56a63a87ecde79c -93.0     0   3429  \n",
      "\n",
      "[100 rows x 6 columns]\n",
      "________________________________________\n",
      "       time                                      ssid  \\\n",
      "2241  55586  0b72e3ecd8f9071d311fd78bc78b4696fbbd35e5   \n",
      "2242  55586  da39a3ee5e6b4b0d3255bfef95601890afd80709   \n",
      "2243  55586  da39a3ee5e6b4b0d3255bfef95601890afd80709   \n",
      "2244  55586  0fa36db77af713808449ff54868815dc26f88e45   \n",
      "2245  55586  5ec944cb0e043327906acce8d1b61f6e32d8db1c   \n",
      "...     ...                                       ...   \n",
      "2334  55586  bdf8d7783ad6bade868ce138ec87789301014e11   \n",
      "2335  55586  0b72e3ecd8f9071d311fd78bc78b4696fbbd35e5   \n",
      "2336  55586  9149875ce3edaf468ef3564e295d7f684ad96e4b   \n",
      "2337  55586  da39a3ee5e6b4b0d3255bfef95601890afd80709   \n",
      "2338  55586  e806a892d09f78ccac6191a0a532c63fcd0fbc79   \n",
      "\n",
      "                                         bssid  rssi  is5G  delay  \n",
      "2241  280a82fb71b2380266819dda689fc7c9ccdd6e5a -55.0     0   1840  \n",
      "2242  2038007e7d49f9d69c2d8a8aa8110acecedfe5ba -55.0     0   1844  \n",
      "2243  0b1de3122c8e0609f811432531711541c21dffde -55.0     0   1843  \n",
      "2244  10b633d06c927209b12d82a8c1ddee72c94c2b27 -56.0     0   1839  \n",
      "2245  5c1c8c54fef7132915a56f9373d39f206da4d32e -57.0     0   1837  \n",
      "...                                        ...   ...   ...    ...  \n",
      "2334  cb69b26a913ea07762925197c0c5ecdc3d8e5066 -91.0     0   3761  \n",
      "2335  e2dbdaad6a215ca96790c141137f27e9f3f70241 -92.0     0  22498  \n",
      "2336  b442b30ff9b285e3ed142e82dbcacf589822d7d9 -92.0     0  28468  \n",
      "2337  a1f67a7bd87430717bce33954057e14530634a2c -92.0     0   5695  \n",
      "2338  e66ab6be64ab3d6e1be35311c56a63a87ecde79c -93.0     0   5335  \n",
      "\n",
      "[98 rows x 6 columns]\n",
      "________________________________________\n",
      "       time                                      ssid  \\\n",
      "2339  57487  0fa36db77af713808449ff54868815dc26f88e45   \n",
      "2340  57487  5ec944cb0e043327906acce8d1b61f6e32d8db1c   \n",
      "2341  57487  0b72e3ecd8f9071d311fd78bc78b4696fbbd35e5   \n",
      "2342  57487  0b72e3ecd8f9071d311fd78bc78b4696fbbd35e5   \n",
      "2343  57487  0fa36db77af713808449ff54868815dc26f88e45   \n",
      "...     ...                                       ...   \n",
      "2424  57487  0fa36db77af713808449ff54868815dc26f88e45   \n",
      "2425  57487  bdf8d7783ad6bade868ce138ec87789301014e11   \n",
      "2426  57487  0b72e3ecd8f9071d311fd78bc78b4696fbbd35e5   \n",
      "2427  57487  da39a3ee5e6b4b0d3255bfef95601890afd80709   \n",
      "2428  57487  f9610a82f1cc87bd8be1c3e518c8504b6e8c8e64   \n",
      "\n",
      "                                         bssid  rssi  is5G  delay  \n",
      "2339  356cffce5ee8f602adc21ab40c1f8bfd17adb46e -50.0     1    777  \n",
      "2340  db0aaffa6649b1fef291940784b93a85f07a5961 -50.0     1    777  \n",
      "2341  350e08e0aadb6b6498880c57e498ec35447a0617 -51.0     1    778  \n",
      "2342  280a82fb71b2380266819dda689fc7c9ccdd6e5a -55.0     0   1831  \n",
      "2343  10b633d06c927209b12d82a8c1ddee72c94c2b27 -55.0     0   1830  \n",
      "...                                        ...   ...   ...    ...  \n",
      "2424  fef4d47cc0513cf42286a5a4ab947cb8cfc0e5e2 -91.0     0  26914  \n",
      "2425  cb69b26a913ea07762925197c0c5ecdc3d8e5066 -91.0     0   5662  \n",
      "2426  e2dbdaad6a215ca96790c141137f27e9f3f70241 -92.0     0  24399  \n",
      "2427  a1f67a7bd87430717bce33954057e14530634a2c -92.0     0   7596  \n",
      "2428  3f9180d534fcc8e4b4c90c32563b82a6dd5b5508 -92.0     0   1511  \n",
      "\n",
      "[90 rows x 6 columns]\n",
      "________________________________________\n",
      "       time                                      ssid  \\\n",
      "2429  59425  da39a3ee5e6b4b0d3255bfef95601890afd80709   \n",
      "2430  59425  da39a3ee5e6b4b0d3255bfef95601890afd80709   \n",
      "2431  59425  0b72e3ecd8f9071d311fd78bc78b4696fbbd35e5   \n",
      "2432  59425  0fa36db77af713808449ff54868815dc26f88e45   \n",
      "2433  59425  5ec944cb0e043327906acce8d1b61f6e32d8db1c   \n",
      "...     ...                                       ...   \n",
      "2498  59425  0fa36db77af713808449ff54868815dc26f88e45   \n",
      "2499  59425  bdf8d7783ad6bade868ce138ec87789301014e11   \n",
      "2500  59425  0b72e3ecd8f9071d311fd78bc78b4696fbbd35e5   \n",
      "2501  59425  da39a3ee5e6b4b0d3255bfef95601890afd80709   \n",
      "2502  59425  f9610a82f1cc87bd8be1c3e518c8504b6e8c8e64   \n",
      "\n",
      "                                         bssid  rssi  is5G  delay  \n",
      "2429  2038007e7d49f9d69c2d8a8aa8110acecedfe5ba -47.0     0   1893  \n",
      "2430  0b1de3122c8e0609f811432531711541c21dffde -47.0     0   1892  \n",
      "2431  350e08e0aadb6b6498880c57e498ec35447a0617 -47.0     1    807  \n",
      "2432  356cffce5ee8f602adc21ab40c1f8bfd17adb46e -47.0     1    806  \n",
      "2433  db0aaffa6649b1fef291940784b93a85f07a5961 -47.0     1    806  \n",
      "...                                        ...   ...   ...    ...  \n",
      "2498  fef4d47cc0513cf42286a5a4ab947cb8cfc0e5e2 -91.0     0  28852  \n",
      "2499  cb69b26a913ea07762925197c0c5ecdc3d8e5066 -91.0     0   7600  \n",
      "2500  e2dbdaad6a215ca96790c141137f27e9f3f70241 -92.0     0  26337  \n",
      "2501  a1f67a7bd87430717bce33954057e14530634a2c -92.0     0   9534  \n",
      "2502  3f9180d534fcc8e4b4c90c32563b82a6dd5b5508 -92.0     0   3449  \n",
      "\n",
      "[74 rows x 6 columns]\n",
      "________________________________________\n",
      "       time                                      ssid  \\\n",
      "2503  61340  0b72e3ecd8f9071d311fd78bc78b4696fbbd35e5   \n",
      "2504  61340  0fa36db77af713808449ff54868815dc26f88e45   \n",
      "2505  61340  5ec944cb0e043327906acce8d1b61f6e32d8db1c   \n",
      "2506  61340  da39a3ee5e6b4b0d3255bfef95601890afd80709   \n",
      "2507  61340  da39a3ee5e6b4b0d3255bfef95601890afd80709   \n",
      "...     ...                                       ...   \n",
      "2562  61340  bdf8d7783ad6bade868ce138ec87789301014e11   \n",
      "2563  61340  0b72e3ecd8f9071d311fd78bc78b4696fbbd35e5   \n",
      "2564  61340  da39a3ee5e6b4b0d3255bfef95601890afd80709   \n",
      "2565  61340  f9610a82f1cc87bd8be1c3e518c8504b6e8c8e64   \n",
      "2566  61340  4f005240c994285a7fce5248b25ffa39aeb693b5   \n",
      "\n",
      "                                         bssid  rssi  is5G  delay  \n",
      "2503  350e08e0aadb6b6498880c57e498ec35447a0617 -46.0     1    785  \n",
      "2504  356cffce5ee8f602adc21ab40c1f8bfd17adb46e -46.0     1    784  \n",
      "2505  db0aaffa6649b1fef291940784b93a85f07a5961 -46.0     1    784  \n",
      "2506  79e27633905b9a5517734793147199d175147bf9 -47.0     1    796  \n",
      "2507  ba236f71592605cc4a13d41aa110252f44517de9 -48.0     1    796  \n",
      "...                                        ...   ...   ...    ...  \n",
      "2562  cb69b26a913ea07762925197c0c5ecdc3d8e5066 -91.0     0   9514  \n",
      "2563  e2dbdaad6a215ca96790c141137f27e9f3f70241 -92.0     0  28251  \n",
      "2564  a1f67a7bd87430717bce33954057e14530634a2c -92.0     0  11448  \n",
      "2565  3f9180d534fcc8e4b4c90c32563b82a6dd5b5508 -92.0     0   5363  \n",
      "2566  046f8c45f2368cd5a78a110f1cd19464de7b330b -92.0     0   1857  \n",
      "\n",
      "[64 rows x 6 columns]\n",
      "________________________________________\n",
      "       time                                      ssid  \\\n",
      "2567  63237  0b72e3ecd8f9071d311fd78bc78b4696fbbd35e5   \n",
      "2568  63237  da39a3ee5e6b4b0d3255bfef95601890afd80709   \n",
      "2569  63237  0fa36db77af713808449ff54868815dc26f88e45   \n",
      "2570  63237  5ec944cb0e043327906acce8d1b61f6e32d8db1c   \n",
      "2571  63237  da39a3ee5e6b4b0d3255bfef95601890afd80709   \n",
      "2572  63237  da39a3ee5e6b4b0d3255bfef95601890afd80709   \n",
      "2573  63237  0b72e3ecd8f9071d311fd78bc78b4696fbbd35e5   \n",
      "2574  63237  0fa36db77af713808449ff54868815dc26f88e45   \n",
      "2575  63237  5ec944cb0e043327906acce8d1b61f6e32d8db1c   \n",
      "2576  63237  da39a3ee5e6b4b0d3255bfef95601890afd80709   \n",
      "2577  63237  0b72e3ecd8f9071d311fd78bc78b4696fbbd35e5   \n",
      "2578  63237  0fa36db77af713808449ff54868815dc26f88e45   \n",
      "2579  63237  5ec944cb0e043327906acce8d1b61f6e32d8db1c   \n",
      "2580  63237  5ec944cb0e043327906acce8d1b61f6e32d8db1c   \n",
      "2581  63237  da39a3ee5e6b4b0d3255bfef95601890afd80709   \n",
      "2582  63237  da39a3ee5e6b4b0d3255bfef95601890afd80709   \n",
      "2583  63237  0b72e3ecd8f9071d311fd78bc78b4696fbbd35e5   \n",
      "2584  63237  0fa36db77af713808449ff54868815dc26f88e45   \n",
      "2585  63237  da39a3ee5e6b4b0d3255bfef95601890afd80709   \n",
      "2586  63237  da39a3ee5e6b4b0d3255bfef95601890afd80709   \n",
      "2587  63237  5ec944cb0e043327906acce8d1b61f6e32d8db1c   \n",
      "2588  63237  0b72e3ecd8f9071d311fd78bc78b4696fbbd35e5   \n",
      "2589  63237  0fa36db77af713808449ff54868815dc26f88e45   \n",
      "2590  63237  da39a3ee5e6b4b0d3255bfef95601890afd80709   \n",
      "2591  63237  da39a3ee5e6b4b0d3255bfef95601890afd80709   \n",
      "2592  63237  53f9b352e8cb461c44705d58bc6704fdd0d10794   \n",
      "2593  63237  e806a892d09f78ccac6191a0a532c63fcd0fbc79   \n",
      "2594  63237  205e97a9d7c5ac5e4ae3cf8bed275f42db29bfc0   \n",
      "2595  63237  93fcdcc50cc2bd9c004ce8e8b3d7a87f28faf92f   \n",
      "2596  63237  8afcbe97160df73c66ff09f4b682b94318632626   \n",
      "2597  63237  0b72e3ecd8f9071d311fd78bc78b4696fbbd35e5   \n",
      "2598  63237  0fa36db77af713808449ff54868815dc26f88e45   \n",
      "2599  63237  5ec944cb0e043327906acce8d1b61f6e32d8db1c   \n",
      "2600  63237  da39a3ee5e6b4b0d3255bfef95601890afd80709   \n",
      "2601  63237  da39a3ee5e6b4b0d3255bfef95601890afd80709   \n",
      "2602  63237  2715c3e174a8563902c0f1501b254228d09f79c7   \n",
      "2603  63237  e017f80f8e1ca95b55a6106e4a40cf44f95eef6f   \n",
      "2604  63237  da39a3ee5e6b4b0d3255bfef95601890afd80709   \n",
      "2605  63237  a505cafce4b1e44f7fc575e92757a7b9d7d078e5   \n",
      "2606  63237  a505cafce4b1e44f7fc575e92757a7b9d7d078e5   \n",
      "2607  63237  93fcdcc50cc2bd9c004ce8e8b3d7a87f28faf92f   \n",
      "2608  63237  264bb3273d03cef72b6fbd7618bce7349989fa94   \n",
      "2609  63237  ccbdd51b6036f94d765273d900b0555e84cf32ec   \n",
      "2610  63237  7123b8a309997c3fc78a7897089a478e1efc33c7   \n",
      "2611  63237  f5354c576bb89b67972d7fe269df256a54fef036   \n",
      "2612  63237  da39a3ee5e6b4b0d3255bfef95601890afd80709   \n",
      "2613  63237  41d3e601eb3012f15c30302f5af812f1f91c1017   \n",
      "2614  63237  0d99b829d366089f3b74e994e3ae140519adcfba   \n",
      "2615  63237  d17bb082e04f08a5f47e5f92f26b8d0ba2b800de   \n",
      "2616  63237  bdf8d7783ad6bade868ce138ec87789301014e11   \n",
      "2617  63237  da39a3ee5e6b4b0d3255bfef95601890afd80709   \n",
      "2618  63237  f9610a82f1cc87bd8be1c3e518c8504b6e8c8e64   \n",
      "2619  63237  4f005240c994285a7fce5248b25ffa39aeb693b5   \n",
      "\n",
      "                                         bssid  rssi  is5G  delay  \n",
      "2567  350e08e0aadb6b6498880c57e498ec35447a0617 -44.0     1    749  \n",
      "2568  79e27633905b9a5517734793147199d175147bf9 -44.0     1    748  \n",
      "2569  356cffce5ee8f602adc21ab40c1f8bfd17adb46e -45.0     1    748  \n",
      "2570  db0aaffa6649b1fef291940784b93a85f07a5961 -45.0     1    748  \n",
      "2571  0b1de3122c8e0609f811432531711541c21dffde -46.0     0   1814  \n",
      "2572  ba236f71592605cc4a13d41aa110252f44517de9 -46.0     1    747  \n",
      "2573  280a82fb71b2380266819dda689fc7c9ccdd6e5a -47.0     0   1818  \n",
      "2574  10b633d06c927209b12d82a8c1ddee72c94c2b27 -47.0     0   1817  \n",
      "2575  5c1c8c54fef7132915a56f9373d39f206da4d32e -47.0     0   1816  \n",
      "2576  2038007e7d49f9d69c2d8a8aa8110acecedfe5ba -47.0     0   1815  \n",
      "2577  9cd70857e322216fa170ac01ef84aa08d541fb65 -61.0     0   1179  \n",
      "2578  32938488790e97403d31c948034a8c87f6918159 -61.0     0   1178  \n",
      "2579  4236e7874111327a60a6c411715509739698e3d4 -62.0     0   1177  \n",
      "2580  26ab6f4da9838dca18d8a1601d3cf2addbe88836 -69.0     0   1573  \n",
      "2581  d7833d65a36aefe47110c63aa468daa076936d1f -70.0     0   1571  \n",
      "2582  3e69de2275db715638429b5cca11ba87fc7f237c -70.0     0   3120  \n",
      "2583  2ad264a7aad3be1ffc4be0d1b0aff65c99084fc9 -71.0     0   1575  \n",
      "2584  cd208fff540c3c67e294ff07674b51ba3e85b348 -71.0     0   1574  \n",
      "2585  687de2c0828e73bab3a04da6a5259348062e2530 -71.0     0   1572  \n",
      "2586  90f526e1aaad5ddc2d86eda4136d76675fcc5f1a -71.0     0   3122  \n",
      "2587  9f449d462f8a0168447a8e6975179ce8d9739c34 -73.0     1   1016  \n",
      "2588  3102e0bce7bd71b912d29d2d985cf369fa7845fb -74.0     1   1017  \n",
      "2589  c090ea2e1640b3e73b12a153df484f216adfd156 -74.0     1   1017  \n",
      "2590  50c892e9e14c893da3fdcbe768a579aef9ac6ae5 -75.0     1   1019  \n",
      "2591  f24889e7ccdec18957fdee270ee0fc029737bb21 -75.0     1   1019  \n",
      "2592  2a1b90445c4b64f3147f8722a26bfa78f934cac8 -78.0     0   8870  \n",
      "2593  e66ab6be64ab3d6e1be35311c56a63a87ecde79c -80.0     0   1527  \n",
      "2594  69b0c5f068288a18d6fd1c2694c42a11154731a0 -80.0     0   8740  \n",
      "2595  9ed5faee74cc50622aaab46efcbd7d5f41be9688 -80.0     0   5159  \n",
      "2596  8f500530906314632dd008f1f34e7d558afe40b4 -80.0     0   3420  \n",
      "2597  7080f1ecaaac0c6b5f204d96e16d69244594f351 -81.0     1    927  \n",
      "2598  3e69ac743ccbbdf1d0d2c3c24989f6761a9bf773 -81.0     1    927  \n",
      "2599  f8c71b3d6da5d61b43985c70a244a8b9f72689c5 -82.0     1    926  \n",
      "2600  95a1ad3b815de7e9b5d9da0f5f26a3769ae17e14 -83.0     0   1070  \n",
      "2601  e2aecd7a6f67f2e931ecf60ccfeda545cb5298e9 -83.0     1    924  \n",
      "2602  75f6bd54a7d1006203c46daec2e662f400cd58c8 -83.0     0   9482  \n",
      "2603  e05d0d0e6ddcaf1e98174ccf4eba54fc6834c18b -83.0     0   6845  \n",
      "2604  90d4b4bbb5f7e214e61500866ad5a19ead3fa273 -83.0     0   1071  \n",
      "2605  f69104c1057664bdd50317009328144df9dfa12a -84.0     0  13344  \n",
      "2606  d99923db2df39d0207926beb3d75fca7bbc09408 -84.0     0  15245  \n",
      "2607  6d5322a15f8da2d5f51f6775210e1f7c1131b92c -85.0     0   8937  \n",
      "2608  1cbd05715118ac6e507b852a6f5e2a111d85ea08 -86.0     0   9186  \n",
      "2609  4d6706ce5ed347087f8274beca3af8fecfbd54f7 -87.0     0  26854  \n",
      "2610  b2d25f9600fd0808148824e1fe60943187be302f -89.0     0  24587  \n",
      "2611  d2ce205e9ed155d92a2c58ede8a671d8782869e9 -89.0     0  11072  \n",
      "2612  fa994c560a75959600bd19bb3cf65802d12e206e -90.0     1   2871  \n",
      "2613  ad5581c0ea850c2d1a2f5046730e00e9645d5cc4 -90.0     0  11016  \n",
      "2614  7f5476ededef185ec67d6a09340a765bee7847a9 -90.0     0   9183  \n",
      "2615  0ef970150b669951b4ee467234ef16bc8fe84ad9 -91.0     0  24835  \n",
      "2616  cb69b26a913ea07762925197c0c5ecdc3d8e5066 -91.0     0  11412  \n",
      "2617  a1f67a7bd87430717bce33954057e14530634a2c -92.0     0  13346  \n",
      "2618  3f9180d534fcc8e4b4c90c32563b82a6dd5b5508 -92.0     0   7261  \n",
      "2619  046f8c45f2368cd5a78a110f1cd19464de7b330b -92.0     0   3755  \n",
      "________________________________________\n",
      "       time                                      ssid  \\\n",
      "2620  65127  0b72e3ecd8f9071d311fd78bc78b4696fbbd35e5   \n",
      "2621  65127  0fa36db77af713808449ff54868815dc26f88e45   \n",
      "2622  65127  5ec944cb0e043327906acce8d1b61f6e32d8db1c   \n",
      "2623  65127  da39a3ee5e6b4b0d3255bfef95601890afd80709   \n",
      "2624  65127  da39a3ee5e6b4b0d3255bfef95601890afd80709   \n",
      "...     ...                                       ...   \n",
      "2676  65127  bdf8d7783ad6bade868ce138ec87789301014e11   \n",
      "2677  65127  0b72e3ecd8f9071d311fd78bc78b4696fbbd35e5   \n",
      "2678  65127  da39a3ee5e6b4b0d3255bfef95601890afd80709   \n",
      "2679  65127  f9610a82f1cc87bd8be1c3e518c8504b6e8c8e64   \n",
      "2680  65127  4f005240c994285a7fce5248b25ffa39aeb693b5   \n",
      "\n",
      "                                         bssid  rssi  is5G  delay  \n",
      "2620  280a82fb71b2380266819dda689fc7c9ccdd6e5a -42.0     0   1830  \n",
      "2621  10b633d06c927209b12d82a8c1ddee72c94c2b27 -42.0     0   1829  \n",
      "2622  5c1c8c54fef7132915a56f9373d39f206da4d32e -42.0     0   1827  \n",
      "2623  2038007e7d49f9d69c2d8a8aa8110acecedfe5ba -42.0     0   1862  \n",
      "2624  0b1de3122c8e0609f811432531711541c21dffde -44.0     0   1859  \n",
      "...                                        ...   ...   ...    ...  \n",
      "2676  cb69b26a913ea07762925197c0c5ecdc3d8e5066 -91.0     0  13302  \n",
      "2677  325468ea75716b47d65088ade5f2d56decacfc80 -91.0     0   1203  \n",
      "2678  a1f67a7bd87430717bce33954057e14530634a2c -92.0     0  15236  \n",
      "2679  3f9180d534fcc8e4b4c90c32563b82a6dd5b5508 -92.0     0   9151  \n",
      "2680  046f8c45f2368cd5a78a110f1cd19464de7b330b -92.0     0   5645  \n",
      "\n",
      "[61 rows x 6 columns]\n",
      "________________________________________\n",
      "       time                                      ssid  \\\n",
      "2681  67027  da39a3ee5e6b4b0d3255bfef95601890afd80709   \n",
      "2682  67027  da39a3ee5e6b4b0d3255bfef95601890afd80709   \n",
      "2683  67027  0b72e3ecd8f9071d311fd78bc78b4696fbbd35e5   \n",
      "2684  67027  0fa36db77af713808449ff54868815dc26f88e45   \n",
      "2685  67027  5ec944cb0e043327906acce8d1b61f6e32d8db1c   \n",
      "...     ...                                       ...   \n",
      "2750  67027  da39a3ee5e6b4b0d3255bfef95601890afd80709   \n",
      "2751  67027  f9610a82f1cc87bd8be1c3e518c8504b6e8c8e64   \n",
      "2752  67027  da39a3ee5e6b4b0d3255bfef95601890afd80709   \n",
      "2753  67027  4f005240c994285a7fce5248b25ffa39aeb693b5   \n",
      "2754  67027  da39a3ee5e6b4b0d3255bfef95601890afd80709   \n",
      "\n",
      "                                         bssid  rssi  is5G  delay  \n",
      "2681  79e27633905b9a5517734793147199d175147bf9 -44.0     1   2693  \n",
      "2682  ba236f71592605cc4a13d41aa110252f44517de9 -44.0     1   2693  \n",
      "2683  280a82fb71b2380266819dda689fc7c9ccdd6e5a -45.0     0   1819  \n",
      "2684  10b633d06c927209b12d82a8c1ddee72c94c2b27 -45.0     0   1818  \n",
      "2685  5c1c8c54fef7132915a56f9373d39f206da4d32e -46.0     0   1817  \n",
      "...                                        ...   ...   ...    ...  \n",
      "2750  a1f67a7bd87430717bce33954057e14530634a2c -92.0     0  17136  \n",
      "2751  3f9180d534fcc8e4b4c90c32563b82a6dd5b5508 -92.0     0  11051  \n",
      "2752  b6d47755a83dc069a5933de78765cf9517dd00c7 -92.0     1    603  \n",
      "2753  8d3a33ed69147b575f0c0e7a9df5e0647da1be59 -93.0     0   1218  \n",
      "2754  259b4c4b0ae21662f149a90333b5d415bdb2bdbc -93.0     1    603  \n",
      "\n",
      "[74 rows x 6 columns]\n",
      "________________________________________\n",
      "       time                                      ssid  \\\n",
      "2755  68940  0b72e3ecd8f9071d311fd78bc78b4696fbbd35e5   \n",
      "2756  68940  0fa36db77af713808449ff54868815dc26f88e45   \n",
      "2757  68940  5ec944cb0e043327906acce8d1b61f6e32d8db1c   \n",
      "2758  68940  da39a3ee5e6b4b0d3255bfef95601890afd80709   \n",
      "2759  68940  da39a3ee5e6b4b0d3255bfef95601890afd80709   \n",
      "...     ...                                       ...   \n",
      "2823  68940  da39a3ee5e6b4b0d3255bfef95601890afd80709   \n",
      "2824  68940  f9610a82f1cc87bd8be1c3e518c8504b6e8c8e64   \n",
      "2825  68940  da39a3ee5e6b4b0d3255bfef95601890afd80709   \n",
      "2826  68940  4f005240c994285a7fce5248b25ffa39aeb693b5   \n",
      "2827  68940  da39a3ee5e6b4b0d3255bfef95601890afd80709   \n",
      "\n",
      "                                         bssid  rssi  is5G  delay  \n",
      "2755  350e08e0aadb6b6498880c57e498ec35447a0617 -42.0     1    793  \n",
      "2756  356cffce5ee8f602adc21ab40c1f8bfd17adb46e -42.0     1    792  \n",
      "2757  db0aaffa6649b1fef291940784b93a85f07a5961 -42.0     1    792  \n",
      "2758  2038007e7d49f9d69c2d8a8aa8110acecedfe5ba -46.0     0   3729  \n",
      "2759  0b1de3122c8e0609f811432531711541c21dffde -46.0     0   3728  \n",
      "...                                        ...   ...   ...    ...  \n",
      "2823  a1f67a7bd87430717bce33954057e14530634a2c -92.0     0  19048  \n",
      "2824  3f9180d534fcc8e4b4c90c32563b82a6dd5b5508 -92.0     0  12963  \n",
      "2825  b6d47755a83dc069a5933de78765cf9517dd00c7 -92.0     1   2515  \n",
      "2826  8d3a33ed69147b575f0c0e7a9df5e0647da1be59 -93.0     0   3131  \n",
      "2827  259b4c4b0ae21662f149a90333b5d415bdb2bdbc -93.0     1   2516  \n",
      "\n",
      "[73 rows x 6 columns]\n",
      "________________________________________\n",
      "       time                                      ssid  \\\n",
      "2828  70862  0fa36db77af713808449ff54868815dc26f88e45   \n",
      "2829  70862  5ec944cb0e043327906acce8d1b61f6e32d8db1c   \n",
      "2830  70862  da39a3ee5e6b4b0d3255bfef95601890afd80709   \n",
      "2831  70862  da39a3ee5e6b4b0d3255bfef95601890afd80709   \n",
      "2832  70862  0b72e3ecd8f9071d311fd78bc78b4696fbbd35e5   \n",
      "...     ...                                       ...   \n",
      "2914  70862  f9610a82f1cc87bd8be1c3e518c8504b6e8c8e64   \n",
      "2915  70862  da39a3ee5e6b4b0d3255bfef95601890afd80709   \n",
      "2916  70862  26a59e17ad3bb10dbd286ca06492875606fdecd7   \n",
      "2917  70862  4f005240c994285a7fce5248b25ffa39aeb693b5   \n",
      "2918  70862  da39a3ee5e6b4b0d3255bfef95601890afd80709   \n",
      "\n",
      "                                         bssid  rssi  is5G  delay  \n",
      "2828  10b633d06c927209b12d82a8c1ddee72c94c2b27 -43.0     0   1854  \n",
      "2829  5c1c8c54fef7132915a56f9373d39f206da4d32e -43.0     0   1853  \n",
      "2830  2038007e7d49f9d69c2d8a8aa8110acecedfe5ba -43.0     0   1862  \n",
      "2831  0b1de3122c8e0609f811432531711541c21dffde -43.0     0   1858  \n",
      "2832  280a82fb71b2380266819dda689fc7c9ccdd6e5a -44.0     0   1855  \n",
      "...                                        ...   ...   ...    ...  \n",
      "2914  3f9180d534fcc8e4b4c90c32563b82a6dd5b5508 -92.0     0  14886  \n",
      "2915  b6d47755a83dc069a5933de78765cf9517dd00c7 -92.0     1   4438  \n",
      "2916  38363bdf0e65d439b27e77fed8682fa13659d5ca -92.0     0   1872  \n",
      "2917  8d3a33ed69147b575f0c0e7a9df5e0647da1be59 -93.0     0   5053  \n",
      "2918  259b4c4b0ae21662f149a90333b5d415bdb2bdbc -93.0     1   4438  \n",
      "\n",
      "[91 rows x 6 columns]\n",
      "________________________________________\n",
      "       time                                      ssid  \\\n",
      "2919  72805  0b72e3ecd8f9071d311fd78bc78b4696fbbd35e5   \n",
      "2920  72805  0fa36db77af713808449ff54868815dc26f88e45   \n",
      "2921  72805  5ec944cb0e043327906acce8d1b61f6e32d8db1c   \n",
      "2922  72805  da39a3ee5e6b4b0d3255bfef95601890afd80709   \n",
      "2923  72805  da39a3ee5e6b4b0d3255bfef95601890afd80709   \n",
      "...     ...                                       ...   \n",
      "3011  72805  f9610a82f1cc87bd8be1c3e518c8504b6e8c8e64   \n",
      "3012  72805  da39a3ee5e6b4b0d3255bfef95601890afd80709   \n",
      "3013  72805  26a59e17ad3bb10dbd286ca06492875606fdecd7   \n",
      "3014  72805  4f005240c994285a7fce5248b25ffa39aeb693b5   \n",
      "3015  72805  da39a3ee5e6b4b0d3255bfef95601890afd80709   \n",
      "\n",
      "                                         bssid  rssi  is5G  delay  \n",
      "2919  280a82fb71b2380266819dda689fc7c9ccdd6e5a -43.0     0   1859  \n",
      "2920  10b633d06c927209b12d82a8c1ddee72c94c2b27 -43.0     0   1859  \n",
      "2921  5c1c8c54fef7132915a56f9373d39f206da4d32e -43.0     0   1859  \n",
      "2922  2038007e7d49f9d69c2d8a8aa8110acecedfe5ba -43.0     0   1859  \n",
      "2923  0b1de3122c8e0609f811432531711541c21dffde -43.0     0   1858  \n",
      "...                                        ...   ...   ...    ...  \n",
      "3011  3f9180d534fcc8e4b4c90c32563b82a6dd5b5508 -92.0     0  16829  \n",
      "3012  b6d47755a83dc069a5933de78765cf9517dd00c7 -92.0     1   6381  \n",
      "3013  38363bdf0e65d439b27e77fed8682fa13659d5ca -92.0     0   3815  \n",
      "3014  8d3a33ed69147b575f0c0e7a9df5e0647da1be59 -93.0     0   1262  \n",
      "3015  259b4c4b0ae21662f149a90333b5d415bdb2bdbc -93.0     1   6381  \n",
      "\n",
      "[97 rows x 6 columns]\n",
      "________________________________________\n",
      "       time                                      ssid  \\\n",
      "3016  74702  da39a3ee5e6b4b0d3255bfef95601890afd80709   \n",
      "3017  74702  da39a3ee5e6b4b0d3255bfef95601890afd80709   \n",
      "3018  74702  da39a3ee5e6b4b0d3255bfef95601890afd80709   \n",
      "3019  74702  0b72e3ecd8f9071d311fd78bc78b4696fbbd35e5   \n",
      "3020  74702  0fa36db77af713808449ff54868815dc26f88e45   \n",
      "...     ...                                       ...   \n",
      "3113  74702  da39a3ee5e6b4b0d3255bfef95601890afd80709   \n",
      "3114  74702  26a59e17ad3bb10dbd286ca06492875606fdecd7   \n",
      "3115  74702  4f005240c994285a7fce5248b25ffa39aeb693b5   \n",
      "3116  74702  da39a3ee5e6b4b0d3255bfef95601890afd80709   \n",
      "3117  74702  4f005240c994285a7fce5248b25ffa39aeb693b5   \n",
      "\n",
      "                                         bssid  rssi  is5G  delay  \n",
      "3016  2038007e7d49f9d69c2d8a8aa8110acecedfe5ba -43.0     0   3756  \n",
      "3017  79e27633905b9a5517734793147199d175147bf9 -43.0     1   2681  \n",
      "3018  ba236f71592605cc4a13d41aa110252f44517de9 -43.0     1   2681  \n",
      "3019  280a82fb71b2380266819dda689fc7c9ccdd6e5a -48.0     0   1814  \n",
      "3020  10b633d06c927209b12d82a8c1ddee72c94c2b27 -48.0     0   1813  \n",
      "...                                        ...   ...   ...    ...  \n",
      "3113  b6d47755a83dc069a5933de78765cf9517dd00c7 -92.0     1   8278  \n",
      "3114  38363bdf0e65d439b27e77fed8682fa13659d5ca -92.0     0   5712  \n",
      "3115  8d3a33ed69147b575f0c0e7a9df5e0647da1be59 -93.0     0   3159  \n",
      "3116  259b4c4b0ae21662f149a90333b5d415bdb2bdbc -93.0     1   8278  \n",
      "3117  fafdacca7bc0c6d972d31eef98e8e32299ca35b3 -93.0     0   1507  \n",
      "\n",
      "[102 rows x 6 columns]\n",
      "________________________________________\n",
      "       time                                      ssid  \\\n",
      "3118  76691  da39a3ee5e6b4b0d3255bfef95601890afd80709   \n",
      "3119  76691  0b72e3ecd8f9071d311fd78bc78b4696fbbd35e5   \n",
      "3120  76691  0fa36db77af713808449ff54868815dc26f88e45   \n",
      "3121  76691  da39a3ee5e6b4b0d3255bfef95601890afd80709   \n",
      "3122  76691  da39a3ee5e6b4b0d3255bfef95601890afd80709   \n",
      "...     ...                                       ...   \n",
      "3222  76691  26a59e17ad3bb10dbd286ca06492875606fdecd7   \n",
      "3223  76691  4f005240c994285a7fce5248b25ffa39aeb693b5   \n",
      "3224  76691  da39a3ee5e6b4b0d3255bfef95601890afd80709   \n",
      "3225  76691  4f005240c994285a7fce5248b25ffa39aeb693b5   \n",
      "3226  76691  e806a892d09f78ccac6191a0a532c63fcd0fbc79   \n",
      "\n",
      "                                         bssid  rssi  is5G  delay  \n",
      "3118  2038007e7d49f9d69c2d8a8aa8110acecedfe5ba -43.0     0   5745  \n",
      "3119  280a82fb71b2380266819dda689fc7c9ccdd6e5a -46.0     0   1914  \n",
      "3120  10b633d06c927209b12d82a8c1ddee72c94c2b27 -46.0     0   1913  \n",
      "3121  79e27633905b9a5517734793147199d175147bf9 -46.0     1    889  \n",
      "3122  ba236f71592605cc4a13d41aa110252f44517de9 -46.0     1    889  \n",
      "...                                        ...   ...   ...    ...  \n",
      "3222  38363bdf0e65d439b27e77fed8682fa13659d5ca -92.0     0   7701  \n",
      "3223  8d3a33ed69147b575f0c0e7a9df5e0647da1be59 -93.0     0   5148  \n",
      "3224  259b4c4b0ae21662f149a90333b5d415bdb2bdbc -93.0     1  10267  \n",
      "3225  fafdacca7bc0c6d972d31eef98e8e32299ca35b3 -93.0     0   3496  \n",
      "3226  f134a37ab058111bef2bc18c2ae61973e36f3869 -93.0     0   1303  \n",
      "\n",
      "[109 rows x 6 columns]\n",
      "________________________________________\n",
      "       time                                      ssid  \\\n",
      "3227  78603  0b72e3ecd8f9071d311fd78bc78b4696fbbd35e5   \n",
      "3228  78603  0fa36db77af713808449ff54868815dc26f88e45   \n",
      "3229  78603  5ec944cb0e043327906acce8d1b61f6e32d8db1c   \n",
      "3230  78603  da39a3ee5e6b4b0d3255bfef95601890afd80709   \n",
      "3231  78603  da39a3ee5e6b4b0d3255bfef95601890afd80709   \n",
      "...     ...                                       ...   \n",
      "3336  78603  26a59e17ad3bb10dbd286ca06492875606fdecd7   \n",
      "3337  78603  4f005240c994285a7fce5248b25ffa39aeb693b5   \n",
      "3338  78603  da39a3ee5e6b4b0d3255bfef95601890afd80709   \n",
      "3339  78603  4f005240c994285a7fce5248b25ffa39aeb693b5   \n",
      "3340  78603  e806a892d09f78ccac6191a0a532c63fcd0fbc79   \n",
      "\n",
      "                                         bssid  rssi  is5G  delay  \n",
      "3227  350e08e0aadb6b6498880c57e498ec35447a0617 -36.0     1    784  \n",
      "3228  356cffce5ee8f602adc21ab40c1f8bfd17adb46e -36.0     1    784  \n",
      "3229  db0aaffa6649b1fef291940784b93a85f07a5961 -37.0     1    783  \n",
      "3230  79e27633905b9a5517734793147199d175147bf9 -46.0     1   2801  \n",
      "3231  ba236f71592605cc4a13d41aa110252f44517de9 -46.0     1   2801  \n",
      "...                                        ...   ...   ...    ...  \n",
      "3336  38363bdf0e65d439b27e77fed8682fa13659d5ca -92.0     0   9613  \n",
      "3337  8d3a33ed69147b575f0c0e7a9df5e0647da1be59 -93.0     0   7060  \n",
      "3338  259b4c4b0ae21662f149a90333b5d415bdb2bdbc -93.0     1  12179  \n",
      "3339  fafdacca7bc0c6d972d31eef98e8e32299ca35b3 -93.0     0   5408  \n",
      "3340  f134a37ab058111bef2bc18c2ae61973e36f3869 -93.0     0   3215  \n",
      "\n",
      "[114 rows x 6 columns]\n",
      "________________________________________\n",
      "       time                                      ssid  \\\n",
      "3341  80537  0b72e3ecd8f9071d311fd78bc78b4696fbbd35e5   \n",
      "3342  80537  0fa36db77af713808449ff54868815dc26f88e45   \n",
      "3343  80537  5ec944cb0e043327906acce8d1b61f6e32d8db1c   \n",
      "3344  80537  0b72e3ecd8f9071d311fd78bc78b4696fbbd35e5   \n",
      "3345  80537  0fa36db77af713808449ff54868815dc26f88e45   \n",
      "...     ...                                       ...   \n",
      "3453  80537  f9610a82f1cc87bd8be1c3e518c8504b6e8c8e64   \n",
      "3454  80537  26a59e17ad3bb10dbd286ca06492875606fdecd7   \n",
      "3455  80537  4f005240c994285a7fce5248b25ffa39aeb693b5   \n",
      "3456  80537  4f005240c994285a7fce5248b25ffa39aeb693b5   \n",
      "3457  80537  e806a892d09f78ccac6191a0a532c63fcd0fbc79   \n",
      "\n",
      "                                         bssid  rssi  is5G  delay  \n",
      "3341  280a82fb71b2380266819dda689fc7c9ccdd6e5a -41.0     0   1850  \n",
      "3342  10b633d06c927209b12d82a8c1ddee72c94c2b27 -41.0     0   1850  \n",
      "3343  5c1c8c54fef7132915a56f9373d39f206da4d32e -41.0     0   1850  \n",
      "3344  350e08e0aadb6b6498880c57e498ec35447a0617 -43.0     1    802  \n",
      "3345  356cffce5ee8f602adc21ab40c1f8bfd17adb46e -43.0     1    802  \n",
      "...                                        ...   ...   ...    ...  \n",
      "3453  3f9180d534fcc8e4b4c90c32563b82a6dd5b5508 -92.0     0  24561  \n",
      "3454  38363bdf0e65d439b27e77fed8682fa13659d5ca -92.0     0  11547  \n",
      "3455  8d3a33ed69147b575f0c0e7a9df5e0647da1be59 -93.0     0   8994  \n",
      "3456  fafdacca7bc0c6d972d31eef98e8e32299ca35b3 -93.0     0   7342  \n",
      "3457  f134a37ab058111bef2bc18c2ae61973e36f3869 -93.0     0   5149  \n",
      "\n",
      "[117 rows x 6 columns]\n",
      "________________________________________\n",
      "       time                                      ssid  \\\n",
      "3458  82597  0b72e3ecd8f9071d311fd78bc78b4696fbbd35e5   \n",
      "3459  82597  5ec944cb0e043327906acce8d1b61f6e32d8db1c   \n",
      "3460  82597  0fa36db77af713808449ff54868815dc26f88e45   \n",
      "3461  82597  0b72e3ecd8f9071d311fd78bc78b4696fbbd35e5   \n",
      "3462  82597  0fa36db77af713808449ff54868815dc26f88e45   \n",
      "...     ...                                       ...   \n",
      "3571  82597  da39a3ee5e6b4b0d3255bfef95601890afd80709   \n",
      "3572  82597  f9610a82f1cc87bd8be1c3e518c8504b6e8c8e64   \n",
      "3573  82597  26a59e17ad3bb10dbd286ca06492875606fdecd7   \n",
      "3574  82597  4f005240c994285a7fce5248b25ffa39aeb693b5   \n",
      "3575  82597  4f005240c994285a7fce5248b25ffa39aeb693b5   \n",
      "\n",
      "                                         bssid  rssi  is5G  delay  \n",
      "3458  280a82fb71b2380266819dda689fc7c9ccdd6e5a -43.0     0   1983  \n",
      "3459  5c1c8c54fef7132915a56f9373d39f206da4d32e -43.0     0   1981  \n",
      "3460  10b633d06c927209b12d82a8c1ddee72c94c2b27 -44.0     0   1982  \n",
      "3461  350e08e0aadb6b6498880c57e498ec35447a0617 -44.0     1    932  \n",
      "3462  356cffce5ee8f602adc21ab40c1f8bfd17adb46e -44.0     1    932  \n",
      "...                                        ...   ...   ...    ...  \n",
      "3571  f33378c1c0b340a2bdd8c2fe51fc55ecf1671f7c -91.0     0   3893  \n",
      "3572  3f9180d534fcc8e4b4c90c32563b82a6dd5b5508 -92.0     0  26621  \n",
      "3573  38363bdf0e65d439b27e77fed8682fa13659d5ca -92.0     0  13607  \n",
      "3574  8d3a33ed69147b575f0c0e7a9df5e0647da1be59 -93.0     0  11054  \n",
      "3575  fafdacca7bc0c6d972d31eef98e8e32299ca35b3 -93.0     0   9402  \n",
      "\n",
      "[118 rows x 6 columns]\n",
      "________________________________________\n",
      "       time                                      ssid  \\\n",
      "3576  84559  0b72e3ecd8f9071d311fd78bc78b4696fbbd35e5   \n",
      "3577  84559  0fa36db77af713808449ff54868815dc26f88e45   \n",
      "3578  84559  5ec944cb0e043327906acce8d1b61f6e32d8db1c   \n",
      "3579  84559  da39a3ee5e6b4b0d3255bfef95601890afd80709   \n",
      "3580  84559  da39a3ee5e6b4b0d3255bfef95601890afd80709   \n",
      "...     ...                                       ...   \n",
      "3684  84559  da39a3ee5e6b4b0d3255bfef95601890afd80709   \n",
      "3685  84559  f9610a82f1cc87bd8be1c3e518c8504b6e8c8e64   \n",
      "3686  84559  26a59e17ad3bb10dbd286ca06492875606fdecd7   \n",
      "3687  84559  4f005240c994285a7fce5248b25ffa39aeb693b5   \n",
      "3688  84559  4f005240c994285a7fce5248b25ffa39aeb693b5   \n",
      "\n",
      "                                         bssid  rssi  is5G  delay  \n",
      "3576  280a82fb71b2380266819dda689fc7c9ccdd6e5a -38.0     0   1877  \n",
      "3577  10b633d06c927209b12d82a8c1ddee72c94c2b27 -38.0     0   1872  \n",
      "3578  5c1c8c54fef7132915a56f9373d39f206da4d32e -39.0     0   1872  \n",
      "3579  79e27633905b9a5517734793147199d175147bf9 -44.0     1   2920  \n",
      "3580  ba236f71592605cc4a13d41aa110252f44517de9 -44.0     1   2920  \n",
      "...                                        ...   ...   ...    ...  \n",
      "3684  f33378c1c0b340a2bdd8c2fe51fc55ecf1671f7c -91.0     0   5855  \n",
      "3685  3f9180d534fcc8e4b4c90c32563b82a6dd5b5508 -92.0     0  28583  \n",
      "3686  38363bdf0e65d439b27e77fed8682fa13659d5ca -92.0     0  15569  \n",
      "3687  8d3a33ed69147b575f0c0e7a9df5e0647da1be59 -93.0     0  13016  \n",
      "3688  fafdacca7bc0c6d972d31eef98e8e32299ca35b3 -93.0     0  11364  \n",
      "\n",
      "[113 rows x 6 columns]\n",
      "________________________________________\n",
      "       time                                      ssid  \\\n",
      "3689  86477  0b72e3ecd8f9071d311fd78bc78b4696fbbd35e5   \n",
      "3690  86477  0fa36db77af713808449ff54868815dc26f88e45   \n",
      "3691  86477  5ec944cb0e043327906acce8d1b61f6e32d8db1c   \n",
      "3692  86477  da39a3ee5e6b4b0d3255bfef95601890afd80709   \n",
      "3693  86477  da39a3ee5e6b4b0d3255bfef95601890afd80709   \n",
      "...     ...                                       ...   \n",
      "3797  86477  da39a3ee5e6b4b0d3255bfef95601890afd80709   \n",
      "3798  86477  26a59e17ad3bb10dbd286ca06492875606fdecd7   \n",
      "3799  86477  9149875ce3edaf468ef3564e295d7f684ad96e4b   \n",
      "3800  86477  4f005240c994285a7fce5248b25ffa39aeb693b5   \n",
      "3801  86477  4f005240c994285a7fce5248b25ffa39aeb693b5   \n",
      "\n",
      "                                         bssid  rssi  is5G  delay  \n",
      "3689  350e08e0aadb6b6498880c57e498ec35447a0617 -39.0     1    797  \n",
      "3690  356cffce5ee8f602adc21ab40c1f8bfd17adb46e -41.0     1    797  \n",
      "3691  db0aaffa6649b1fef291940784b93a85f07a5961 -41.0     1    796  \n",
      "3692  79e27633905b9a5517734793147199d175147bf9 -44.0     1   4838  \n",
      "3693  ba236f71592605cc4a13d41aa110252f44517de9 -44.0     1   4838  \n",
      "...                                        ...   ...   ...    ...  \n",
      "3797  f33378c1c0b340a2bdd8c2fe51fc55ecf1671f7c -91.0     0   7773  \n",
      "3798  38363bdf0e65d439b27e77fed8682fa13659d5ca -92.0     0  17487  \n",
      "3799  b442b30ff9b285e3ed142e82dbcacf589822d7d9 -92.0     0   1503  \n",
      "3800  8d3a33ed69147b575f0c0e7a9df5e0647da1be59 -93.0     0  14934  \n",
      "3801  fafdacca7bc0c6d972d31eef98e8e32299ca35b3 -93.0     0  13282  \n",
      "\n",
      "[113 rows x 6 columns]\n",
      "________________________________________\n",
      "       time                                      ssid  \\\n",
      "3802  88412  0fa36db77af713808449ff54868815dc26f88e45   \n",
      "3803  88412  0b72e3ecd8f9071d311fd78bc78b4696fbbd35e5   \n",
      "3804  88412  0fa36db77af713808449ff54868815dc26f88e45   \n",
      "3805  88412  5ec944cb0e043327906acce8d1b61f6e32d8db1c   \n",
      "3806  88412  0b72e3ecd8f9071d311fd78bc78b4696fbbd35e5   \n",
      "...     ...                                       ...   \n",
      "3910  88412  0b72e3ecd8f9071d311fd78bc78b4696fbbd35e5   \n",
      "3911  88412  26a59e17ad3bb10dbd286ca06492875606fdecd7   \n",
      "3912  88412  9149875ce3edaf468ef3564e295d7f684ad96e4b   \n",
      "3913  88412  4f005240c994285a7fce5248b25ffa39aeb693b5   \n",
      "3914  88412  4f005240c994285a7fce5248b25ffa39aeb693b5   \n",
      "\n",
      "                                         bssid  rssi  is5G  delay  \n",
      "3802  356cffce5ee8f602adc21ab40c1f8bfd17adb46e -47.0     1    815  \n",
      "3803  280a82fb71b2380266819dda689fc7c9ccdd6e5a -48.0     0   1868  \n",
      "3804  10b633d06c927209b12d82a8c1ddee72c94c2b27 -48.0     0   1867  \n",
      "3805  5c1c8c54fef7132915a56f9373d39f206da4d32e -48.0     0   1866  \n",
      "3806  350e08e0aadb6b6498880c57e498ec35447a0617 -48.0     1    816  \n",
      "...                                        ...   ...   ...    ...  \n",
      "3910  325468ea75716b47d65088ade5f2d56decacfc80 -92.0     0   1227  \n",
      "3911  38363bdf0e65d439b27e77fed8682fa13659d5ca -92.0     0  19422  \n",
      "3912  b442b30ff9b285e3ed142e82dbcacf589822d7d9 -92.0     0   3438  \n",
      "3913  8d3a33ed69147b575f0c0e7a9df5e0647da1be59 -93.0     0  16869  \n",
      "3914  fafdacca7bc0c6d972d31eef98e8e32299ca35b3 -93.0     0  15217  \n",
      "\n",
      "[113 rows x 6 columns]\n",
      "________________________________________\n",
      "       time                                      ssid  \\\n",
      "3915  90359  da39a3ee5e6b4b0d3255bfef95601890afd80709   \n",
      "3916  90359  da39a3ee5e6b4b0d3255bfef95601890afd80709   \n",
      "3917  90359  0fa36db77af713808449ff54868815dc26f88e45   \n",
      "3918  90359  0b72e3ecd8f9071d311fd78bc78b4696fbbd35e5   \n",
      "3919  90359  5ec944cb0e043327906acce8d1b61f6e32d8db1c   \n",
      "...     ...                                       ...   \n",
      "4033  90359  0b72e3ecd8f9071d311fd78bc78b4696fbbd35e5   \n",
      "4034  90359  26a59e17ad3bb10dbd286ca06492875606fdecd7   \n",
      "4035  90359  9149875ce3edaf468ef3564e295d7f684ad96e4b   \n",
      "4036  90359  4f005240c994285a7fce5248b25ffa39aeb693b5   \n",
      "4037  90359  4f005240c994285a7fce5248b25ffa39aeb693b5   \n",
      "\n",
      "                                         bssid  rssi  is5G  delay  \n",
      "3915  2038007e7d49f9d69c2d8a8aa8110acecedfe5ba -49.0     0   3823  \n",
      "3916  0b1de3122c8e0609f811432531711541c21dffde -50.0     0   3821  \n",
      "3917  10b633d06c927209b12d82a8c1ddee72c94c2b27 -52.0     0   1866  \n",
      "3918  280a82fb71b2380266819dda689fc7c9ccdd6e5a -53.0     0   1868  \n",
      "3919  5c1c8c54fef7132915a56f9373d39f206da4d32e -53.0     0   1866  \n",
      "...                                        ...   ...   ...    ...  \n",
      "4033  325468ea75716b47d65088ade5f2d56decacfc80 -92.0     0   3174  \n",
      "4034  38363bdf0e65d439b27e77fed8682fa13659d5ca -92.0     0  21369  \n",
      "4035  b442b30ff9b285e3ed142e82dbcacf589822d7d9 -92.0     0   5385  \n",
      "4036  8d3a33ed69147b575f0c0e7a9df5e0647da1be59 -93.0     0  18816  \n",
      "4037  fafdacca7bc0c6d972d31eef98e8e32299ca35b3 -93.0     0  17164  \n",
      "\n",
      "[123 rows x 6 columns]\n",
      "________________________________________\n",
      "       time                                      ssid  \\\n",
      "4038  92312  0b72e3ecd8f9071d311fd78bc78b4696fbbd35e5   \n",
      "4039  92312  5ec944cb0e043327906acce8d1b61f6e32d8db1c   \n",
      "4040  92312  0fa36db77af713808449ff54868815dc26f88e45   \n",
      "4041  92312  da39a3ee5e6b4b0d3255bfef95601890afd80709   \n",
      "4042  92312  da39a3ee5e6b4b0d3255bfef95601890afd80709   \n",
      "...     ...                                       ...   \n",
      "4160  92312  0b72e3ecd8f9071d311fd78bc78b4696fbbd35e5   \n",
      "4161  92312  26a59e17ad3bb10dbd286ca06492875606fdecd7   \n",
      "4162  92312  9149875ce3edaf468ef3564e295d7f684ad96e4b   \n",
      "4163  92312  4f005240c994285a7fce5248b25ffa39aeb693b5   \n",
      "4164  92312  4f005240c994285a7fce5248b25ffa39aeb693b5   \n",
      "\n",
      "                                         bssid  rssi  is5G  delay  \n",
      "4038  280a82fb71b2380266819dda689fc7c9ccdd6e5a -54.0     0   1880  \n",
      "4039  5c1c8c54fef7132915a56f9373d39f206da4d32e -54.0     0   1877  \n",
      "4040  10b633d06c927209b12d82a8c1ddee72c94c2b27 -55.0     0   1879  \n",
      "4041  2038007e7d49f9d69c2d8a8aa8110acecedfe5ba -56.0     0   1909  \n",
      "4042  0b1de3122c8e0609f811432531711541c21dffde -56.0     0   1908  \n",
      "...                                        ...   ...   ...    ...  \n",
      "4160  325468ea75716b47d65088ade5f2d56decacfc80 -92.0     0   5127  \n",
      "4161  38363bdf0e65d439b27e77fed8682fa13659d5ca -92.0     0  23322  \n",
      "4162  b442b30ff9b285e3ed142e82dbcacf589822d7d9 -92.0     0   7338  \n",
      "4163  8d3a33ed69147b575f0c0e7a9df5e0647da1be59 -93.0     0  20769  \n",
      "4164  fafdacca7bc0c6d972d31eef98e8e32299ca35b3 -93.0     0  19117  \n",
      "\n",
      "[127 rows x 6 columns]\n",
      "________________________________________\n",
      "       time                                      ssid  \\\n",
      "4165  94279  da39a3ee5e6b4b0d3255bfef95601890afd80709   \n",
      "4166  94279  da39a3ee5e6b4b0d3255bfef95601890afd80709   \n",
      "4167  94279  0fa36db77af713808449ff54868815dc26f88e45   \n",
      "4168  94279  0b72e3ecd8f9071d311fd78bc78b4696fbbd35e5   \n",
      "4169  94279  5ec944cb0e043327906acce8d1b61f6e32d8db1c   \n",
      "...     ...                                       ...   \n",
      "4295  94279  0b72e3ecd8f9071d311fd78bc78b4696fbbd35e5   \n",
      "4296  94279  26a59e17ad3bb10dbd286ca06492875606fdecd7   \n",
      "4297  94279  9149875ce3edaf468ef3564e295d7f684ad96e4b   \n",
      "4298  94279  4f005240c994285a7fce5248b25ffa39aeb693b5   \n",
      "4299  94279  4f005240c994285a7fce5248b25ffa39aeb693b5   \n",
      "\n",
      "                                         bssid  rssi  is5G  delay  \n",
      "4165  2038007e7d49f9d69c2d8a8aa8110acecedfe5ba -56.0     0   3876  \n",
      "4166  0b1de3122c8e0609f811432531711541c21dffde -56.0     0   3875  \n",
      "4167  10b633d06c927209b12d82a8c1ddee72c94c2b27 -57.0     0   1864  \n",
      "4168  280a82fb71b2380266819dda689fc7c9ccdd6e5a -58.0     0   1865  \n",
      "4169  5c1c8c54fef7132915a56f9373d39f206da4d32e -58.0     0   1862  \n",
      "...                                        ...   ...   ...    ...  \n",
      "4295  325468ea75716b47d65088ade5f2d56decacfc80 -92.0     0   7094  \n",
      "4296  38363bdf0e65d439b27e77fed8682fa13659d5ca -92.0     0  25289  \n",
      "4297  b442b30ff9b285e3ed142e82dbcacf589822d7d9 -92.0     0   9305  \n",
      "4298  8d3a33ed69147b575f0c0e7a9df5e0647da1be59 -93.0     0  22736  \n",
      "4299  fafdacca7bc0c6d972d31eef98e8e32299ca35b3 -93.0     0  21084  \n",
      "\n",
      "[135 rows x 6 columns]\n",
      "________________________________________\n",
      "       time                                      ssid  \\\n",
      "4300  96263  da39a3ee5e6b4b0d3255bfef95601890afd80709   \n",
      "4301  96263  da39a3ee5e6b4b0d3255bfef95601890afd80709   \n",
      "4302  96263  0b72e3ecd8f9071d311fd78bc78b4696fbbd35e5   \n",
      "4303  96263  0fa36db77af713808449ff54868815dc26f88e45   \n",
      "4304  96263  5ec944cb0e043327906acce8d1b61f6e32d8db1c   \n",
      "...     ...                                       ...   \n",
      "4458  96263  0b72e3ecd8f9071d311fd78bc78b4696fbbd35e5   \n",
      "4459  96263  26a59e17ad3bb10dbd286ca06492875606fdecd7   \n",
      "4460  96263  9149875ce3edaf468ef3564e295d7f684ad96e4b   \n",
      "4461  96263  4f005240c994285a7fce5248b25ffa39aeb693b5   \n",
      "4462  96263  4f005240c994285a7fce5248b25ffa39aeb693b5   \n",
      "\n",
      "                                         bssid  rssi  is5G  delay  \n",
      "4300  2038007e7d49f9d69c2d8a8aa8110acecedfe5ba -56.0     0   5860  \n",
      "4301  0b1de3122c8e0609f811432531711541c21dffde -56.0     0   5859  \n",
      "4302  280a82fb71b2380266819dda689fc7c9ccdd6e5a -59.0     0   1910  \n",
      "4303  10b633d06c927209b12d82a8c1ddee72c94c2b27 -59.0     0   1908  \n",
      "4304  5c1c8c54fef7132915a56f9373d39f206da4d32e -59.0     0   1907  \n",
      "...                                        ...   ...   ...    ...  \n",
      "4458  325468ea75716b47d65088ade5f2d56decacfc80 -92.0     0   9078  \n",
      "4459  38363bdf0e65d439b27e77fed8682fa13659d5ca -92.0     0  27273  \n",
      "4460  b442b30ff9b285e3ed142e82dbcacf589822d7d9 -92.0     0  11289  \n",
      "4461  8d3a33ed69147b575f0c0e7a9df5e0647da1be59 -93.0     0  24720  \n",
      "4462  fafdacca7bc0c6d972d31eef98e8e32299ca35b3 -93.0     0  23068  \n",
      "\n",
      "[163 rows x 6 columns]\n",
      "________________________________________\n",
      "       time                                      ssid  \\\n",
      "4463  98244  0b72e3ecd8f9071d311fd78bc78b4696fbbd35e5   \n",
      "4464  98244  0fa36db77af713808449ff54868815dc26f88e45   \n",
      "4465  98244  5ec944cb0e043327906acce8d1b61f6e32d8db1c   \n",
      "4466  98244  da39a3ee5e6b4b0d3255bfef95601890afd80709   \n",
      "4467  98244  da39a3ee5e6b4b0d3255bfef95601890afd80709   \n",
      "...     ...                                       ...   \n",
      "4644  98244  0b72e3ecd8f9071d311fd78bc78b4696fbbd35e5   \n",
      "4645  98244  26a59e17ad3bb10dbd286ca06492875606fdecd7   \n",
      "4646  98244  9149875ce3edaf468ef3564e295d7f684ad96e4b   \n",
      "4647  98244  4f005240c994285a7fce5248b25ffa39aeb693b5   \n",
      "4648  98244  4f005240c994285a7fce5248b25ffa39aeb693b5   \n",
      "\n",
      "                                         bssid  rssi  is5G  delay  \n",
      "4463  3a6bfb7c96db5007bd90f98aa50da6bd55c4918b -54.0     0   1146  \n",
      "4464  4038c46610c17d192cbb5bc4542ac5f72a78956c -54.0     0   1145  \n",
      "4465  7607d3c989dffdbb49c27120c685d26b27ae5e25 -54.0     0   1143  \n",
      "4466  95a1ad3b815de7e9b5d9da0f5f26a3769ae17e14 -55.0     0   1158  \n",
      "4467  90d4b4bbb5f7e214e61500866ad5a19ead3fa273 -55.0     0   1159  \n",
      "...                                        ...   ...   ...    ...  \n",
      "4644  325468ea75716b47d65088ade5f2d56decacfc80 -92.0     0  11059  \n",
      "4645  38363bdf0e65d439b27e77fed8682fa13659d5ca -92.0     0  29254  \n",
      "4646  b442b30ff9b285e3ed142e82dbcacf589822d7d9 -92.0     0  13270  \n",
      "4647  8d3a33ed69147b575f0c0e7a9df5e0647da1be59 -93.0     0  26701  \n",
      "4648  fafdacca7bc0c6d972d31eef98e8e32299ca35b3 -93.0     0  25049  \n",
      "\n",
      "[186 rows x 6 columns]\n",
      "________________________________________\n",
      "        time                                      ssid  \\\n",
      "4649  100389  0b72e3ecd8f9071d311fd78bc78b4696fbbd35e5   \n",
      "4650  100389  0fa36db77af713808449ff54868815dc26f88e45   \n",
      "4651  100389  5ec944cb0e043327906acce8d1b61f6e32d8db1c   \n",
      "4652  100389  0b72e3ecd8f9071d311fd78bc78b4696fbbd35e5   \n",
      "4653  100389  0fa36db77af713808449ff54868815dc26f88e45   \n",
      "...      ...                                       ...   \n",
      "4858  100389  c2c1e7eb342b715bb914f7163a39f8100fc6193e   \n",
      "4859  100389  0b72e3ecd8f9071d311fd78bc78b4696fbbd35e5   \n",
      "4860  100389  9149875ce3edaf468ef3564e295d7f684ad96e4b   \n",
      "4861  100389  4f005240c994285a7fce5248b25ffa39aeb693b5   \n",
      "4862  100389  4f005240c994285a7fce5248b25ffa39aeb693b5   \n",
      "\n",
      "                                         bssid  rssi  is5G  delay  \n",
      "4649  6d4d361176ac08aef781e60754dfda7755b12dcf -48.0     1    999  \n",
      "4650  89298ada428433077213965c00a536e5556c9aee -48.0     1    999  \n",
      "4651  2dedea842096d5bea8ca40bd3b8c958a4ff7a086 -48.0     1    999  \n",
      "4652  3a6bfb7c96db5007bd90f98aa50da6bd55c4918b -52.0     0   1312  \n",
      "4653  4038c46610c17d192cbb5bc4542ac5f72a78956c -52.0     0   1310  \n",
      "...                                        ...   ...   ...    ...  \n",
      "4858  c6843b20e570e3f1bc0cfe78f88fde5f7a2b10ec -91.0     1    703  \n",
      "4859  325468ea75716b47d65088ade5f2d56decacfc80 -92.0     0  13204  \n",
      "4860  b442b30ff9b285e3ed142e82dbcacf589822d7d9 -92.0     0  15415  \n",
      "4861  8d3a33ed69147b575f0c0e7a9df5e0647da1be59 -93.0     0  28846  \n",
      "4862  fafdacca7bc0c6d972d31eef98e8e32299ca35b3 -93.0     0  27194  \n",
      "\n",
      "[214 rows x 6 columns]\n",
      "________________________________________\n",
      "        time                                      ssid  \\\n",
      "4863  102472  0b72e3ecd8f9071d311fd78bc78b4696fbbd35e5   \n",
      "4864  102472  5ec944cb0e043327906acce8d1b61f6e32d8db1c   \n",
      "4865  102472  0fa36db77af713808449ff54868815dc26f88e45   \n",
      "4866  102472  da39a3ee5e6b4b0d3255bfef95601890afd80709   \n",
      "4867  102472  da39a3ee5e6b4b0d3255bfef95601890afd80709   \n",
      "...      ...                                       ...   \n",
      "5116  102472  d816f2efeae048879d632e66221483a3d3dd9076   \n",
      "5117  102472  a39f7616b9bb60d3c3fd2bcdcc6e09f4ce6a8cb1   \n",
      "5118  102472  0b72e3ecd8f9071d311fd78bc78b4696fbbd35e5   \n",
      "5119  102472  9149875ce3edaf468ef3564e295d7f684ad96e4b   \n",
      "5120  102472  4f005240c994285a7fce5248b25ffa39aeb693b5   \n",
      "\n",
      "                                         bssid  rssi  is5G  delay  \n",
      "4863  3a6bfb7c96db5007bd90f98aa50da6bd55c4918b -50.0     0   1250  \n",
      "4864  7607d3c989dffdbb49c27120c685d26b27ae5e25 -50.0     0   1247  \n",
      "4865  4038c46610c17d192cbb5bc4542ac5f72a78956c -51.0     0   1248  \n",
      "4866  95a1ad3b815de7e9b5d9da0f5f26a3769ae17e14 -55.0     0   5386  \n",
      "4867  90d4b4bbb5f7e214e61500866ad5a19ead3fa273 -55.0     0   5387  \n",
      "...                                        ...   ...   ...    ...  \n",
      "5116  68b08abf34b9ae382c0a1d706003d1b2ec1a80eb -91.0     0  11709  \n",
      "5117  29fcba82087f12046689eda26b5b76b6c5ba2fe2 -91.0     1   1075  \n",
      "5118  325468ea75716b47d65088ade5f2d56decacfc80 -92.0     0  15287  \n",
      "5119  b442b30ff9b285e3ed142e82dbcacf589822d7d9 -92.0     0  17498  \n",
      "5120  fafdacca7bc0c6d972d31eef98e8e32299ca35b3 -93.0     0  29277  \n",
      "\n",
      "[258 rows x 6 columns]\n",
      "________________________________________\n"
     ]
    }
   ],
   "source": [
    "parsed_test_data = {}\n",
    "num_s = 0\n",
    "\n",
    "for site_id in bssid.keys():  # over sites\n",
    "    num_s += 1\n",
    "    print(f\"Processing #{num_s}: Site-{site_id} with {len(test_data[site_id])} traces and {len(bssid[site_id])} bssids\")\n",
    "    \n",
    "    parsed_test_data[site_id] = {}\n",
    "    \n",
    "    col_names = []\n",
    "    for feature_bssid in bssid[site_id]:  # create features-columns list\n",
    "        col_names.append(feature_bssid)\n",
    "        col_names.append(feature_bssid+\"_D\")\n",
    "    \n",
    "    \n",
    "    for trace_id in tqdm(test_data[site_id]):  # over traces\n",
    "        \n",
    "        wifi_record = test_data[site_id][trace_id].wifi.copy(deep=True)\n",
    "        \n",
    "        time_stamps = wifi_record.time.unique().tolist()\n",
    "        #trace_record_wifi = pd.DataFrame(index=time_stamps).reset_index().drop(\"index\", axis = 1)            \n",
    "        trace_record_wifi = np.zeros((len(time_stamps), len(col_names)))\n",
    "\n",
    "        for col_id, _ in enumerate(col_names):\n",
    "            if col_id%2 == 0:\n",
    "                trace_record_wifi[:, col_id] = int(train_bssid[\"min_rssi\"][site_id])\n",
    "            else:\n",
    "                trace_record_wifi[:, col_id] = int(train_bssid[\"max_delay\"][site_id])\n",
    "\n",
    "        trace_record_wifi = pd.DataFrame(trace_record_wifi, columns=col_names)\n",
    "        \n",
    "        trace_record_wifi[\"time\"] = time_stamps\n",
    "        trace_record_wifi[\"trace\"] = trace_id\n",
    "                   \n",
    "        # Take wifi data the nearest to each waypoint\n",
    "        for j, t0 in enumerate(trace_record_wifi.time):  # over times in trace/for each waypoint\n",
    "\n",
    "            wifi_min = wifi_record[wifi_record.time == t0]\n",
    "            wifi_min_bssid_list = wifi_min.bssid.tolist()\n",
    "            wifi_min_delay_list = [col+\"_D\" for col in wifi_min_bssid_list]\n",
    "            \n",
    "            trace_record_wifi.loc[j, wifi_min_bssid_list] = wifi_min.rssi.to_numpy()\n",
    "            trace_record_wifi.loc[j, wifi_min_delay_list] = wifi_min.delay.to_numpy().astype(int)\n",
    "\n",
    "        parsed_test_data[site_id][trace_id] = trace_record_wifi\n",
    "   \n",
    "        #break  # only fist trace\n",
    "\n",
    "    #break  # only first site"
   ]
  },
  {
   "cell_type": "code",
   "execution_count": 28,
   "id": "a1147e48",
   "metadata": {},
   "outputs": [],
   "source": [
    "fr = str(fraction_bssid).replace(\".\",\"\")\n",
    "with open(f\"./data_out/test/mode-{bssid_mode}_fraction-{fr}_{group_mode}-bssid.pkl\", \"wb\") as f:\n",
    "    pickle.dump(parsed_test_data, f)"
   ]
  },
  {
   "cell_type": "code",
   "execution_count": 4,
   "id": "ccc79564",
   "metadata": {},
   "outputs": [
    {
     "name": "stderr",
     "output_type": "stream",
     "text": [
      "  0%|                                                                                           | 0/13 [00:00<?, ?it/s]"
     ]
    },
    {
     "name": "stdout",
     "output_type": "stream",
     "text": [
      "Processing Site-5da1389e4db8ce0c98bd0547 with 13 traces and 106 bssids\n"
     ]
    },
    {
     "name": "stderr",
     "output_type": "stream",
     "text": [
      "100%|██████████████████████████████████████████████████████████████████████████████████| 13/13 [00:26<00:00,  2.02s/it]\n",
      "  0%|                                                                                           | 0/29 [00:00<?, ?it/s]"
     ]
    },
    {
     "name": "stdout",
     "output_type": "stream",
     "text": [
      "Processing Site-5da138b74db8ce0c98bd4774 with 29 traces and 111 bssids\n"
     ]
    },
    {
     "name": "stderr",
     "output_type": "stream",
     "text": [
      "100%|██████████████████████████████████████████████████████████████████████████████████| 29/29 [01:13<00:00,  2.53s/it]\n",
      "  0%|                                                                                           | 0/36 [00:00<?, ?it/s]"
     ]
    },
    {
     "name": "stdout",
     "output_type": "stream",
     "text": [
      "Processing Site-5da138764db8ce0c98bcaa46 with 36 traces and 132 bssids\n"
     ]
    },
    {
     "name": "stderr",
     "output_type": "stream",
     "text": [
      "100%|██████████████████████████████████████████████████████████████████████████████████| 36/36 [01:01<00:00,  1.72s/it]\n",
      "  0%|                                                                                           | 0/50 [00:00<?, ?it/s]"
     ]
    },
    {
     "name": "stdout",
     "output_type": "stream",
     "text": [
      "Processing Site-5dbc1d84c1eb61796cf7c010 with 50 traces and 120 bssids\n"
     ]
    },
    {
     "name": "stderr",
     "output_type": "stream",
     "text": [
      "100%|██████████████████████████████████████████████████████████████████████████████████| 50/50 [01:26<00:00,  1.73s/it]\n",
      "  0%|                                                                                           | 0/26 [00:00<?, ?it/s]"
     ]
    },
    {
     "name": "stdout",
     "output_type": "stream",
     "text": [
      "Processing Site-5da1383b4db8ce0c98bc11ab with 26 traces and 146 bssids\n"
     ]
    },
    {
     "name": "stderr",
     "output_type": "stream",
     "text": [
      "100%|██████████████████████████████████████████████████████████████████████████████████| 26/26 [00:57<00:00,  2.20s/it]\n",
      "  0%|                                                                                           | 0/20 [00:00<?, ?it/s]"
     ]
    },
    {
     "name": "stdout",
     "output_type": "stream",
     "text": [
      "Processing Site-5d2709a003f801723c3251bf with 20 traces and 139 bssids\n"
     ]
    },
    {
     "name": "stderr",
     "output_type": "stream",
     "text": [
      "100%|██████████████████████████████████████████████████████████████████████████████████| 20/20 [00:50<00:00,  2.52s/it]\n",
      "  0%|                                                                                           | 0/29 [00:00<?, ?it/s]"
     ]
    },
    {
     "name": "stdout",
     "output_type": "stream",
     "text": [
      "Processing Site-5a0546857ecc773753327266 with 29 traces and 134 bssids\n"
     ]
    },
    {
     "name": "stderr",
     "output_type": "stream",
     "text": [
      "100%|██████████████████████████████████████████████████████████████████████████████████| 29/29 [01:04<00:00,  2.21s/it]\n",
      "  0%|                                                                                            | 0/8 [00:00<?, ?it/s]"
     ]
    },
    {
     "name": "stdout",
     "output_type": "stream",
     "text": [
      "Processing Site-5da138274db8ce0c98bbd3d2 with 8 traces and 139 bssids\n"
     ]
    },
    {
     "name": "stderr",
     "output_type": "stream",
     "text": [
      "100%|████████████████████████████████████████████████████████████████████████████████████| 8/8 [00:14<00:00,  1.87s/it]\n",
      "  0%|                                                                                           | 0/31 [00:00<?, ?it/s]"
     ]
    },
    {
     "name": "stdout",
     "output_type": "stream",
     "text": [
      "Processing Site-5d2709b303f801723c327472 with 31 traces and 135 bssids\n"
     ]
    },
    {
     "name": "stderr",
     "output_type": "stream",
     "text": [
      "100%|██████████████████████████████████████████████████████████████████████████████████| 31/31 [02:36<00:00,  5.05s/it]\n",
      "  0%|                                                                                           | 0/51 [00:00<?, ?it/s]"
     ]
    },
    {
     "name": "stdout",
     "output_type": "stream",
     "text": [
      "Processing Site-5da958dd46f8266d0737457b with 51 traces and 142 bssids\n"
     ]
    },
    {
     "name": "stderr",
     "output_type": "stream",
     "text": [
      "100%|██████████████████████████████████████████████████████████████████████████████████| 51/51 [03:13<00:00,  3.79s/it]\n",
      "  0%|                                                                                           | 0/34 [00:00<?, ?it/s]"
     ]
    },
    {
     "name": "stdout",
     "output_type": "stream",
     "text": [
      "Processing Site-5d2709bb03f801723c32852c with 34 traces and 109 bssids\n"
     ]
    },
    {
     "name": "stderr",
     "output_type": "stream",
     "text": [
      "100%|██████████████████████████████████████████████████████████████████████████████████| 34/34 [03:11<00:00,  5.65s/it]\n",
      "  0%|                                                                                           | 0/51 [00:00<?, ?it/s]"
     ]
    },
    {
     "name": "stdout",
     "output_type": "stream",
     "text": [
      "Processing Site-5d2709d403f801723c32bd39 with 51 traces and 139 bssids\n"
     ]
    },
    {
     "name": "stderr",
     "output_type": "stream",
     "text": [
      "100%|██████████████████████████████████████████████████████████████████████████████████| 51/51 [02:15<00:00,  2.66s/it]\n",
      "  0%|                                                                                           | 0/35 [00:00<?, ?it/s]"
     ]
    },
    {
     "name": "stdout",
     "output_type": "stream",
     "text": [
      "Processing Site-5dc8cea7659e181adb076a3f with 35 traces and 132 bssids\n"
     ]
    },
    {
     "name": "stderr",
     "output_type": "stream",
     "text": [
      "100%|██████████████████████████████████████████████████████████████████████████████████| 35/35 [01:08<00:00,  1.95s/it]\n",
      "  0%|                                                                                           | 0/60 [00:00<?, ?it/s]"
     ]
    },
    {
     "name": "stdout",
     "output_type": "stream",
     "text": [
      "Processing Site-5d27096c03f801723c31e5e0 with 60 traces and 114 bssids\n"
     ]
    },
    {
     "name": "stderr",
     "output_type": "stream",
     "text": [
      "100%|██████████████████████████████████████████████████████████████████████████████████| 60/60 [03:06<00:00,  3.11s/it]\n",
      "  0%|                                                                                           | 0/31 [00:00<?, ?it/s]"
     ]
    },
    {
     "name": "stdout",
     "output_type": "stream",
     "text": [
      "Processing Site-5d2709c303f801723c3299ee with 31 traces and 181 bssids\n"
     ]
    },
    {
     "name": "stderr",
     "output_type": "stream",
     "text": [
      "100%|██████████████████████████████████████████████████████████████████████████████████| 31/31 [00:49<00:00,  1.61s/it]\n",
      "  0%|                                                                                           | 0/17 [00:00<?, ?it/s]"
     ]
    },
    {
     "name": "stdout",
     "output_type": "stream",
     "text": [
      "Processing Site-5da138314db8ce0c98bbf3a0 with 17 traces and 116 bssids\n"
     ]
    },
    {
     "name": "stderr",
     "output_type": "stream",
     "text": [
      "100%|██████████████████████████████████████████████████████████████████████████████████| 17/17 [01:01<00:00,  3.61s/it]\n",
      "  0%|                                                                                           | 0/11 [00:00<?, ?it/s]"
     ]
    },
    {
     "name": "stdout",
     "output_type": "stream",
     "text": [
      "Processing Site-5da1382d4db8ce0c98bbe92e with 11 traces and 120 bssids\n"
     ]
    },
    {
     "name": "stderr",
     "output_type": "stream",
     "text": [
      "100%|██████████████████████████████████████████████████████████████████████████████████| 11/11 [01:29<00:00,  8.16s/it]\n",
      "  0%|                                                                                            | 0/5 [00:00<?, ?it/s]"
     ]
    },
    {
     "name": "stdout",
     "output_type": "stream",
     "text": [
      "Processing Site-5d27075f03f801723c2e360f with 5 traces and 199 bssids\n"
     ]
    },
    {
     "name": "stderr",
     "output_type": "stream",
     "text": [
      "100%|████████████████████████████████████████████████████████████████████████████████████| 5/5 [00:16<00:00,  3.27s/it]\n",
      "  0%|                                                                                           | 0/23 [00:00<?, ?it/s]"
     ]
    },
    {
     "name": "stdout",
     "output_type": "stream",
     "text": [
      "Processing Site-5da138754db8ce0c98bca82f with 23 traces and 148 bssids\n"
     ]
    },
    {
     "name": "stderr",
     "output_type": "stream",
     "text": [
      "100%|██████████████████████████████████████████████████████████████████████████████████| 23/23 [01:38<00:00,  4.28s/it]\n",
      "  0%|                                                                                           | 0/31 [00:00<?, ?it/s]"
     ]
    },
    {
     "name": "stdout",
     "output_type": "stream",
     "text": [
      "Processing Site-5d2709e003f801723c32d896 with 31 traces and 133 bssids\n"
     ]
    },
    {
     "name": "stderr",
     "output_type": "stream",
     "text": [
      "100%|██████████████████████████████████████████████████████████████████████████████████| 31/31 [01:41<00:00,  3.27s/it]\n",
      "  0%|                                                                                           | 0/17 [00:00<?, ?it/s]"
     ]
    },
    {
     "name": "stdout",
     "output_type": "stream",
     "text": [
      "Processing Site-5d27097f03f801723c320d97 with 17 traces and 136 bssids\n"
     ]
    },
    {
     "name": "stderr",
     "output_type": "stream",
     "text": [
      "100%|██████████████████████████████████████████████████████████████████████████████████| 17/17 [00:50<00:00,  2.99s/it]\n",
      "  0%|                                                                                           | 0/10 [00:00<?, ?it/s]"
     ]
    },
    {
     "name": "stdout",
     "output_type": "stream",
     "text": [
      "Processing Site-5da138364db8ce0c98bc00f1 with 10 traces and 135 bssids\n"
     ]
    },
    {
     "name": "stderr",
     "output_type": "stream",
     "text": [
      "100%|██████████████████████████████████████████████████████████████████████████████████| 10/10 [00:43<00:00,  4.33s/it]\n",
      "  0%|                                                                                            | 0/3 [00:00<?, ?it/s]"
     ]
    },
    {
     "name": "stdout",
     "output_type": "stream",
     "text": [
      "Processing Site-5c3c44b80379370013e0fd2b with 3 traces and 163 bssids\n"
     ]
    },
    {
     "name": "stderr",
     "output_type": "stream",
     "text": [
      "100%|████████████████████████████████████████████████████████████████████████████████████| 3/3 [00:16<00:00,  5.57s/it]\n",
      "  0%|                                                                                            | 0/5 [00:00<?, ?it/s]"
     ]
    },
    {
     "name": "stdout",
     "output_type": "stream",
     "text": [
      "Processing Site-5d27099f03f801723c32511d with 5 traces and 125 bssids\n"
     ]
    },
    {
     "name": "stderr",
     "output_type": "stream",
     "text": [
      "100%|████████████████████████████████████████████████████████████████████████████████████| 5/5 [00:20<00:00,  4.13s/it]\n"
     ]
    }
   ],
   "source": [
    "parsed_data = {}\n",
    "num_s = 0\n",
    "\n",
    "for site_id in test_data.keys():  # over sites\n",
    "    num_s += 1\n",
    "    print(f\"Processing #{num_s}: Site-{site_id} with {len(test_data[site_id])} traces and {len(bssid[site_id])} bssids\")\n",
    "    \n",
    "    parsed_data[site_id] = {}\n",
    "    \n",
    "    for trace_id in tqdm(test_data[site_id]):  # over traces\n",
    "        \n",
    "        wifi_record = test_data[site_id][trace_id].wifi.copy(deep=True)\n",
    "        \n",
    "        time_stamps = wifi_record.time.unique().tolist()\n",
    "        trace_record_wifi = pd.DataFrame(index=time_stamps).reset_index().drop(\"index\", axis = 1)\n",
    "        \n",
    "        trace_record_wifi[\"time\"] = time_stamps\n",
    "        trace_record_wifi[\"trace\"] = trace_id\n",
    "        \n",
    "        for feature_bssid in bssid[site_id]:  # create feature-column/fill default values over best bssids\n",
    "            trace_record_wifi[feature_bssid] = train_bssid[\"min_rssi\"][site_id]\n",
    "            trace_record_wifi[feature_bssid+\"_D\"] = train_bssid[\"max_delay\"][site_id]\n",
    "            \n",
    "        # Take wifi data the nearest to each waypoint\n",
    "        for j, t0 in enumerate(trace_record_wifi.time):  # over times in trace/for each waypoint\n",
    "\n",
    "            wifi_min = wifi_record[wifi_record.time == t0]\n",
    "            \n",
    "            for feature_bssid in wifi_min.bssid.tolist():  # over bssids at given time\n",
    "                if feature_bssid in bssid[site_id]:\n",
    "                    trace_record_wifi.loc[j, feature_bssid] = wifi_min.rssi[wifi_min.index[wifi_min.bssid == feature_bssid]].tolist()[0]\n",
    "                    trace_record_wifi.loc[j, feature_bssid+\"_D\"] = wifi_min.delay[wifi_min.index[wifi_min.bssid == feature_bssid]].tolist()[0]\n",
    "                \n",
    "            #break  # only first feature-bssid         \n",
    "                    \n",
    "        parsed_data[site_id][trace_id] = trace_record_wifi\n",
    "   \n",
    "        #break  # only fist trace\n",
    "\n",
    "    #break  # only first site\n",
    "    "
   ]
  },
  {
   "cell_type": "markdown",
   "id": "69427f77",
   "metadata": {},
   "source": [
    "Create np.array of steps ([x,y]) per site(dict) per floor (dict)"
   ]
  },
  {
   "cell_type": "code",
   "execution_count": 15,
   "id": "8b42d674",
   "metadata": {},
   "outputs": [
    {
     "name": "stderr",
     "output_type": "stream",
     "text": [
      "100%|██████████████████████████████████████████████████████████████████████████████████| 24/24 [00:06<00:00,  3.54it/s]\n"
     ]
    }
   ],
   "source": [
    "spatial_data = pickle.load(open(\"./data_out/train_24IDs_standardF_steps.pkl\", \"rb\"))\n",
    "\n",
    "floor_convert = {'5a0546857ecc773753327266': {-1: 'B1', 0: 'F1', 1: 'F2', 2: 'F3', 3: 'F4'},\n",
    "                 '5c3c44b80379370013e0fd2b': {-1: 'B1', 0: 'F1', 1: 'F2', 2: 'F3', 3: 'F4', 4: 'F5'},\n",
    "                 '5d27075f03f801723c2e360f': {-1: 'B1', 0: 'F1', 1: 'F2', 2: 'F3', 3: 'F4', 4: 'F5', 5: 'F6', 6: 'F7'},\n",
    "                 '5d27096c03f801723c31e5e0': {-1: 'B1', 0: 'F1', 1: 'F2', 2: 'F3', 3: 'F4', 4: 'F5', 5: 'F6'},\n",
    "                 '5d27097f03f801723c320d97': {-2: 'B2', -1: 'B1', 0: 'F1', 1: 'F2', 2: 'F3', 3: 'F4', 4: 'F5'},\n",
    "                 '5d27099f03f801723c32511d': {-1: 'B1', 0: 'F1', 1: 'F2', 2: 'F3', 3: 'F4'},\n",
    "                 '5d2709a003f801723c3251bf': {0: '1F', 1: '2F', 2: '3F', 3: '4F'},\n",
    "                 '5d2709b303f801723c327472': {-1: 'B1', 0: '1F', 1: '2F', 2: '3F', 3: '4F'},\n",
    "                 '5d2709bb03f801723c32852c': {-1: 'B1', 0: 'F1', 1: 'F2', 2: 'F3', 3: 'F4'},\n",
    "                 '5d2709c303f801723c3299ee': {-1: 'B1', 0: '1F', 1: '2F', 2: '3F', 3: '4F', 4: '5F', 5: '6F', 6: '7F', 7: '8F', 8: '9F'},\n",
    "                 '5d2709d403f801723c32bd39': {-1: 'B1', 0: '1F', 1: '2F', 2: '3F'},\n",
    "                 '5d2709e003f801723c32d896': {-1: 'B1', 0: 'F1', 1: 'F2', 2: 'F3', 3: 'F4', 4: 'F5'},\n",
    "                 '5da138274db8ce0c98bbd3d2': {0: 'F1', 1: 'F2', 2: 'F3'},\n",
    "                 '5da1382d4db8ce0c98bbe92e': {-1: 'B1', 0: 'F1', 1: 'F2', 2: 'F3', 3: 'F4', 4: 'F5'},\n",
    "                 '5da138314db8ce0c98bbf3a0': {-2: 'B2', -1: 'B1', 0: 'F1', 1: 'F2', 2: 'F3'},\n",
    "                 '5da138364db8ce0c98bc00f1': {0: 'F1', 1: 'F2', 2: 'F3'},\n",
    "                 '5da1383b4db8ce0c98bc11ab': {0: 'F1', 1: 'F2', 2: 'F3'},\n",
    "                 '5da138754db8ce0c98bca82f': {0: 'F1', 1: 'F2', 2: 'F3', 3: 'F4'},\n",
    "                 '5da138764db8ce0c98bcaa46': {-1: 'B1', 0: 'F1', 1: 'F2', 2: 'F3', 3: 'F4', 4: 'F5'},\n",
    "                 '5da1389e4db8ce0c98bd0547': {-2: 'B2', -1: 'B1', 0: 'F1', 1: 'F2', 2: 'F3', 3: 'F4'},\n",
    "                 '5da138b74db8ce0c98bd4774': {-2: 'B2', -1: 'B1', 0: 'F1', 1: 'F2', 2: 'F3', 3: 'F4', 4: 'F5'},\n",
    "                 '5da958dd46f8266d0737457b': {-1: 'B1', 0: 'F1', 1: 'F2', 2: 'F3', 3: 'F4', 4: 'F5', 5: 'F6', 6: 'F7'},\n",
    "                 '5dbc1d84c1eb61796cf7c010': {-1: 'B1', 1: 'F2', 2: 'F3', 3: 'F4', 4: 'F5', 5: 'F6', 6: 'F7', 7: 'F8'},\n",
    "                 '5dc8cea7659e181adb076a3f': {-1: 'B1', 0: 'F1', 1: 'F2', 2: 'F3', 3: 'F4', 4: 'F5', 5: 'F6', 6: 'F7'}}\n",
    "\n",
    "steps_siteid_floorid = {}\n",
    "\n",
    "num_s = 0\n",
    "\n",
    "for site_id in tqdm(floor_convert.keys()):\n",
    "    num_s += 1\n",
    "    #print(f\"Processing #{num_s}: Site-{site_id}\")\n",
    "    \n",
    "    steps_siteid_floorid[site_id] = {}\n",
    "    for floor_id in floor_convert[site_id].keys():\n",
    "        \n",
    "        steps_siteid_floorid[site_id][floor_id] = []\n",
    "        for trace_id in spatial_data[site_id].keys():\n",
    "            \n",
    "            trace_record = spatial_data[site_id][trace_id] \n",
    "            if trace_record[0].FloorName[0] == floor_id:\n",
    "                steps_siteid_floorid[site_id][floor_id].append(trace_record[1][[\"x\", \"y\"]].to_numpy())\n",
    "        \n",
    "        steps_siteid_floorid[site_id][floor_id] = np.concatenate(steps_siteid_floorid[site_id][floor_id], axis=0) \n",
    "\n",
    "with open(f\"./data_out/steps_siteid_floorid.pkl\", \"wb\") as f:\n",
    "    pickle.dump(steps_siteid_floorid, f)"
   ]
  },
  {
   "cell_type": "markdown",
   "id": "f5d8d681",
   "metadata": {},
   "source": [
    "Create np.array of waypoints ([x,y]) per site(dict) per floor (dict)"
   ]
  },
  {
   "cell_type": "code",
   "execution_count": 3,
   "id": "27985044",
   "metadata": {},
   "outputs": [
    {
     "name": "stderr",
     "output_type": "stream",
     "text": [
      "100%|██████████████████████████████████████████████████████████████████████████████████| 24/24 [00:05<00:00,  4.49it/s]\n"
     ]
    }
   ],
   "source": [
    "spatial_data = pickle.load(open(\"./data_out/train_24IDs_standardF_waypoints.pkl\", \"rb\"))\n",
    "\n",
    "floor_convert = {'5a0546857ecc773753327266': {-1: 'B1', 0: 'F1', 1: 'F2', 2: 'F3', 3: 'F4'},\n",
    "                 '5c3c44b80379370013e0fd2b': {-1: 'B1', 0: 'F1', 1: 'F2', 2: 'F3', 3: 'F4', 4: 'F5'},\n",
    "                 '5d27075f03f801723c2e360f': {-1: 'B1', 0: 'F1', 1: 'F2', 2: 'F3', 3: 'F4', 4: 'F5', 5: 'F6', 6: 'F7'},\n",
    "                 '5d27096c03f801723c31e5e0': {-1: 'B1', 0: 'F1', 1: 'F2', 2: 'F3', 3: 'F4', 4: 'F5', 5: 'F6'},\n",
    "                 '5d27097f03f801723c320d97': {-2: 'B2', -1: 'B1', 0: 'F1', 1: 'F2', 2: 'F3', 3: 'F4', 4: 'F5'},\n",
    "                 '5d27099f03f801723c32511d': {-1: 'B1', 0: 'F1', 1: 'F2', 2: 'F3', 3: 'F4'},\n",
    "                 '5d2709a003f801723c3251bf': {0: '1F', 1: '2F', 2: '3F', 3: '4F'},\n",
    "                 '5d2709b303f801723c327472': {-1: 'B1', 0: '1F', 1: '2F', 2: '3F', 3: '4F'},\n",
    "                 '5d2709bb03f801723c32852c': {-1: 'B1', 0: 'F1', 1: 'F2', 2: 'F3', 3: 'F4'},\n",
    "                 '5d2709c303f801723c3299ee': {-1: 'B1', 0: '1F', 1: '2F', 2: '3F', 3: '4F', 4: '5F', 5: '6F', 6: '7F', 7: '8F', 8: '9F'},\n",
    "                 '5d2709d403f801723c32bd39': {-1: 'B1', 0: '1F', 1: '2F', 2: '3F'},\n",
    "                 '5d2709e003f801723c32d896': {-1: 'B1', 0: 'F1', 1: 'F2', 2: 'F3', 3: 'F4', 4: 'F5'},\n",
    "                 '5da138274db8ce0c98bbd3d2': {0: 'F1', 1: 'F2', 2: 'F3'},\n",
    "                 '5da1382d4db8ce0c98bbe92e': {-1: 'B1', 0: 'F1', 1: 'F2', 2: 'F3', 3: 'F4', 4: 'F5'},\n",
    "                 '5da138314db8ce0c98bbf3a0': {-2: 'B2', -1: 'B1', 0: 'F1', 1: 'F2', 2: 'F3'},\n",
    "                 '5da138364db8ce0c98bc00f1': {0: 'F1', 1: 'F2', 2: 'F3'},\n",
    "                 '5da1383b4db8ce0c98bc11ab': {0: 'F1', 1: 'F2', 2: 'F3'},\n",
    "                 '5da138754db8ce0c98bca82f': {0: 'F1', 1: 'F2', 2: 'F3', 3: 'F4'},\n",
    "                 '5da138764db8ce0c98bcaa46': {-1: 'B1', 0: 'F1', 1: 'F2', 2: 'F3', 3: 'F4', 4: 'F5'},\n",
    "                 '5da1389e4db8ce0c98bd0547': {-2: 'B2', -1: 'B1', 0: 'F1', 1: 'F2', 2: 'F3', 3: 'F4'},\n",
    "                 '5da138b74db8ce0c98bd4774': {-2: 'B2', -1: 'B1', 0: 'F1', 1: 'F2', 2: 'F3', 3: 'F4', 4: 'F5'},\n",
    "                 '5da958dd46f8266d0737457b': {-1: 'B1', 0: 'F1', 1: 'F2', 2: 'F3', 3: 'F4', 4: 'F5', 5: 'F6', 6: 'F7'},\n",
    "                 '5dbc1d84c1eb61796cf7c010': {-1: 'B1', 1: 'F2', 2: 'F3', 3: 'F4', 4: 'F5', 5: 'F6', 6: 'F7', 7: 'F8'},\n",
    "                 '5dc8cea7659e181adb076a3f': {-1: 'B1', 0: 'F1', 1: 'F2', 2: 'F3', 3: 'F4', 4: 'F5', 5: 'F6', 6: 'F7'}}\n",
    "\n",
    "steps_siteid_floorid = {}\n",
    "\n",
    "num_s = 0\n",
    "\n",
    "for site_id in tqdm(floor_convert.keys()):\n",
    "    num_s += 1\n",
    "    #print(f\"Processing #{num_s}: Site-{site_id}\")\n",
    "    \n",
    "    steps_siteid_floorid[site_id] = {}\n",
    "    for floor_id in floor_convert[site_id].keys():\n",
    "        \n",
    "        steps_siteid_floorid[site_id][floor_id] = []\n",
    "        for trace_id in spatial_data[site_id].keys():\n",
    "            \n",
    "            trace_record = spatial_data[site_id][trace_id] \n",
    "            if trace_record[0].FloorName[0] == floor_id:\n",
    "                steps_siteid_floorid[site_id][floor_id].append(trace_record[1][[\"x\", \"y\"]].to_numpy())\n",
    "        \n",
    "        steps_siteid_floorid[site_id][floor_id] = np.concatenate(steps_siteid_floorid[site_id][floor_id], axis=0) \n",
    "\n",
    "with open(f\"./data_out/waypoints_siteid_floorid.pkl\", \"wb\") as f:\n",
    "    pickle.dump(steps_siteid_floorid, f)"
   ]
  },
  {
   "cell_type": "markdown",
   "id": "bdf6880a",
   "metadata": {},
   "source": [
    "Create np.array of contours ([x,y]) per site(dict) per floor (dict)"
   ]
  },
  {
   "cell_type": "code",
   "execution_count": 64,
   "id": "187352f4",
   "metadata": {},
   "outputs": [
    {
     "name": "stderr",
     "output_type": "stream",
     "text": [
      "100%|██████████████████████████████████████████████████████████████████████████████████| 24/24 [00:04<00:00,  5.25it/s]\n"
     ]
    }
   ],
   "source": [
    "import alphashape as alsp\n",
    "\n",
    "steps_siteid_floorid = pickle.load(open(\"./data_out/steps_siteid_floorid.pkl\", \"rb\"))\n",
    "\n",
    "contours_siteid_floorid_a0 = {}  # alpha=0, i.e. convex hull\n",
    "\n",
    "num_s = 0\n",
    "for site_id in tqdm(steps_siteid_floorid.keys()):\n",
    "    num_s += 1\n",
    "    #print(f\"Processing #{num_s}: Site-{site_id}\")\n",
    "    \n",
    "    contours_siteid_floorid_a0[site_id] = {}\n",
    "    \n",
    "    for floor_id in steps_siteid_floorid[site_id].keys():\n",
    "        # todo check conversions, i.e. lists vs np.array\n",
    "        contours_siteid_floorid_a0[site_id][floor_id] = np.array(alsp.alphashape(steps_siteid_floorid[site_id][floor_id], 0.).exterior.coords) \n",
    "        #aa = 2.#1.#alsp.optimizealpha(steps_siteid_floorid[site_id][floor_id])  \n",
    "        #contours_siteid_floorid_a0[site_id][floor_id] = alsp.alphashape(steps_siteid_floorid[site_id][floor_id], aa)\n",
    "        \n",
    "        #break\n",
    "    #break\n",
    "\n",
    "with open(f\"./data_out/contours_siteid_floorid_a0.pkl\", \"wb\") as f:\n",
    "    pickle.dump(contours_siteid_floorid_a0, f)\n",
    "    \n",
    "#with open(f\"./data_out/contours_siteid_floorid_aa.pkl\", \"wb\") as f:\n",
    " #   pickle.dump(contours_siteid_floorid_aa, f)"
   ]
  },
  {
   "cell_type": "markdown",
   "id": "0269b72d",
   "metadata": {},
   "source": [
    "CONVERT FLOOR99 model to dict(site_id) of dict(trace)"
   ]
  },
  {
   "cell_type": "code",
   "execution_count": 73,
   "id": "fbf55fe5",
   "metadata": {},
   "outputs": [],
   "source": [
    "floor99_submit = pd.read_csv(\"./submit/submission_floor99.csv\")\n",
    "floor99_submit[[\"site\",\"path\", \"stamp\"]] = pd.DataFrame(floor99_submit.site_path_timestamp.str.split(\"_\").to_list())\n",
    "gr_site = floor99_submit.groupby([\"site\"])\n",
    "\n",
    "gr_trace = {}\n",
    "for el in gr_site:\n",
    "    gr_trace[el[0]] = el[1].groupby([\"path\"])\n",
    "    \n",
    "for site_id in gr_trace.keys():\n",
    "    gr_trace[site_id] = dict(gr_trace[site_id].floor.mean())\n",
    "    \n",
    "with open(\"./data_out/floor99_siteid_traceid.pkl\", \"wb\") as f:\n",
    "    pickle.dump(gr_trace, f)"
   ]
  },
  {
   "cell_type": "markdown",
   "id": "6cf2026d",
   "metadata": {},
   "source": [
    "CONVERT Model4p7 model to dict(site_id) of dict(trace) of DataFrame(x,y,time)"
   ]
  },
  {
   "cell_type": "code",
   "execution_count": 72,
   "id": "2be5928a",
   "metadata": {
    "tags": []
   },
   "outputs": [],
   "source": [
    "mode4p7_submit = pd.read_csv(\"./submit/submission_4p7.csv\")\n",
    "mode4p7_submit[[\"site\",\"path\", \"stamp\"]] = pd.DataFrame(mode4p7_submit.site_path_timestamp.str.split(\"_\").to_list())\n",
    "mode4p7_submit.drop([\"site_path_timestamp\"], axis=1, inplace=True)\n",
    "mode4p7_submit.stamp = mode4p7_submit.stamp.astype(int)\n",
    "floor100 = pickle.load(open(f\"./data_out/floor100_siteid_traceid.pkl\", \"rb\"))\n",
    "\n",
    "gr_site = mode4p7_submit.groupby([\"site\"])\n",
    "\n",
    "gr_trace = {}\n",
    "for el in gr_site:\n",
    "    gr_trace[el[0]] = el[1].groupby([\"path\"])\n",
    "\n",
    "gr_site_trace = {}\n",
    "for site_id in gr_trace.keys():\n",
    "    \n",
    "    gr_site_trace[site_id] = {}\n",
    "    for trace_id in gr_trace[site_id]:\n",
    "        gr_site_trace[site_id][trace_id[0]] = trace_id[1].reset_index()#.drop(\"index\", axis=1, inplace=True)\n",
    "        gr_site_trace[site_id][trace_id[0]].drop([\"index\", \"floor\", \"site\", \"path\"], axis=1, inplace=True)\n",
    "        gr_site_trace[site_id][trace_id[0]].rename(columns={\"stamp\": \"time\"}, inplace=True)\n",
    "        gr_site_trace[site_id][trace_id[0]][\"floor\"] = floor100[site_id][trace_id[0]]\n",
    "        gr_site_trace[site_id][trace_id[0]] = gr_site_trace[site_id][trace_id[0]][[\"x\",\"y\",\"floor\",\"time\"]]\n",
    "    \n",
    "with open(\"./data_out/mode4p7_waypoints_siteid_traceid.pkl\", \"wb\") as f:\n",
    "    pickle.dump(gr_site_trace, f)"
   ]
  },
  {
   "cell_type": "code",
   "execution_count": null,
   "id": "0915ec08",
   "metadata": {},
   "outputs": [],
   "source": []
  }
 ],
 "metadata": {
  "kernelspec": {
   "display_name": "Python 3",
   "language": "python",
   "name": "python3"
  },
  "language_info": {
   "codemirror_mode": {
    "name": "ipython",
    "version": 3
   },
   "file_extension": ".py",
   "mimetype": "text/x-python",
   "name": "python",
   "nbconvert_exporter": "python",
   "pygments_lexer": "ipython3",
   "version": "3.8.3"
  }
 },
 "nbformat": 4,
 "nbformat_minor": 5
}
